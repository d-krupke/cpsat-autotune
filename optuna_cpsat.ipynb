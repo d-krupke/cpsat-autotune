{
 "cells": [
  {
   "cell_type": "code",
   "execution_count": 1,
   "metadata": {},
   "outputs": [],
   "source": [
    "from cpsat_autotune import (\n",
    "    tune_for_quality_within_timelimit,\n",
    "    import_model,\n",
    "    tune_time_to_optimal,\n",
    ")"
   ]
  },
  {
   "cell_type": "code",
   "execution_count": 2,
   "metadata": {},
   "outputs": [],
   "source": [
    "model = import_model(\"models/model_proto_-1368620059351071685.pb\")"
   ]
  },
  {
   "cell_type": "code",
   "execution_count": 3,
   "metadata": {},
   "outputs": [
    {
     "name": "stderr",
     "output_type": "stream",
     "text": [
      "[I 2024-08-16 16:34:13,119] A new study created in memory with name: no-name-cc74cad2-5e61-4bd3-a630-21d8a72b0ccd\n"
     ]
    },
    {
     "name": "stdout",
     "output_type": "stream",
     "text": [
      "Baseline: min=1.224106, mean=1.5621019999999999, max=1.997483\n"
     ]
    },
    {
     "name": "stderr",
     "output_type": "stream",
     "text": [
      "[I 2024-08-16 16:34:20,817] Trial 0 finished with value: 1.5389596 and parameters: {'preferred_variable_order': 0, 'use_erwa_heuristic': False, 'also_bump_variables_in_conflict_reasons': False, 'binary_minimization_algorithm': 1, 'clause_cleanup_protection': 0, 'presolve_bve_threshold': 1, 'max_presolve_iterations': 2, 'cp_model_probing_level': 2, 'presolve_probing_deterministic_time_limit': 4, 'encode_complex_linear_constraint_with_integer': False, 'ignore_subsolvers:default_lp': False, 'ignore_subsolvers:fixed': False, 'ignore_subsolvers:no_lp': False, 'ignore_subsolvers:max_lp': False, 'ignore_subsolvers:pseudo_costs': False, 'ignore_subsolvers:reduced_costs': False, 'ignore_subsolvers:quick_restart': False, 'ignore_subsolvers:quick_restart_no_lp': False, 'ignore_subsolvers:lb_tree_search': False, 'ignore_subsolvers:probing': False, 'search_branching': 0, 'repair_hint': False, 'use_lb_relax_lns': False, 'use_objective_lb_search': False, 'use_objective_shaving_search': False, 'optimize_with_core': False, 'feasibility_jump_linearization_level': 2, 'fp_rounding': 2, 'diversify_lns_params': False, 'polish_lp_solution': False, 'linearization_level': 1, 'add_objective_cut': False, 'cut_level': 1, 'max_all_diff_cut_size': 1, 'symmetry_level': 2}. Best is trial 0 with value: 1.5389596.\n",
      "[I 2024-08-16 16:34:23,840] Trial 1 finished with value: 30.0 and parameters: {'preferred_variable_order': 1, 'use_erwa_heuristic': False, 'also_bump_variables_in_conflict_reasons': False, 'binary_minimization_algorithm': 2, 'clause_cleanup_protection': 1, 'presolve_bve_threshold': 2, 'max_presolve_iterations': 3, 'cp_model_probing_level': 0, 'presolve_probing_deterministic_time_limit': 4, 'encode_complex_linear_constraint_with_integer': False, 'ignore_subsolvers:default_lp': False, 'ignore_subsolvers:fixed': True, 'ignore_subsolvers:no_lp': True, 'ignore_subsolvers:max_lp': True, 'ignore_subsolvers:pseudo_costs': True, 'ignore_subsolvers:reduced_costs': False, 'ignore_subsolvers:quick_restart': False, 'ignore_subsolvers:quick_restart_no_lp': True, 'ignore_subsolvers:lb_tree_search': False, 'ignore_subsolvers:probing': False, 'search_branching': 6, 'repair_hint': False, 'use_lb_relax_lns': True, 'use_objective_lb_search': True, 'use_objective_shaving_search': True, 'optimize_with_core': True, 'feasibility_jump_linearization_level': 1, 'fp_rounding': 2, 'diversify_lns_params': True, 'polish_lp_solution': False, 'linearization_level': 0, 'add_objective_cut': False, 'cut_level': 0, 'max_all_diff_cut_size': 2, 'symmetry_level': 2}. Best is trial 0 with value: 1.5389596.\n"
     ]
    },
    {
     "name": "stdout",
     "output_type": "stream",
     "text": [
      "Returning knockout result\n"
     ]
    },
    {
     "name": "stderr",
     "output_type": "stream",
     "text": [
      "[I 2024-08-16 16:34:26,858] Trial 2 finished with value: 30.0 and parameters: {'preferred_variable_order': 2, 'use_erwa_heuristic': False, 'also_bump_variables_in_conflict_reasons': False, 'binary_minimization_algorithm': 2, 'clause_cleanup_protection': 0, 'presolve_bve_threshold': 0, 'max_presolve_iterations': 3, 'cp_model_probing_level': 1, 'presolve_probing_deterministic_time_limit': 3, 'encode_complex_linear_constraint_with_integer': True, 'ignore_subsolvers:default_lp': False, 'ignore_subsolvers:fixed': True, 'ignore_subsolvers:no_lp': True, 'ignore_subsolvers:max_lp': False, 'ignore_subsolvers:pseudo_costs': False, 'ignore_subsolvers:reduced_costs': False, 'ignore_subsolvers:quick_restart': True, 'ignore_subsolvers:quick_restart_no_lp': True, 'ignore_subsolvers:lb_tree_search': False, 'ignore_subsolvers:probing': False, 'search_branching': 5, 'repair_hint': False, 'use_lb_relax_lns': False, 'use_objective_lb_search': False, 'use_objective_shaving_search': True, 'optimize_with_core': True, 'feasibility_jump_linearization_level': 1, 'fp_rounding': 3, 'diversify_lns_params': True, 'polish_lp_solution': True, 'linearization_level': 1, 'add_objective_cut': False, 'cut_level': 1, 'max_all_diff_cut_size': 2, 'symmetry_level': 1}. Best is trial 0 with value: 1.5389596.\n"
     ]
    },
    {
     "name": "stdout",
     "output_type": "stream",
     "text": [
      "Returning knockout result\n"
     ]
    },
    {
     "name": "stderr",
     "output_type": "stream",
     "text": [
      "[I 2024-08-16 16:34:29,876] Trial 3 finished with value: 30.0 and parameters: {'preferred_variable_order': 0, 'use_erwa_heuristic': False, 'also_bump_variables_in_conflict_reasons': False, 'binary_minimization_algorithm': 4, 'clause_cleanup_protection': 2, 'presolve_bve_threshold': 0, 'max_presolve_iterations': 0, 'cp_model_probing_level': 2, 'presolve_probing_deterministic_time_limit': 0, 'encode_complex_linear_constraint_with_integer': True, 'ignore_subsolvers:default_lp': False, 'ignore_subsolvers:fixed': True, 'ignore_subsolvers:no_lp': False, 'ignore_subsolvers:max_lp': False, 'ignore_subsolvers:pseudo_costs': False, 'ignore_subsolvers:reduced_costs': True, 'ignore_subsolvers:quick_restart': False, 'ignore_subsolvers:quick_restart_no_lp': False, 'ignore_subsolvers:lb_tree_search': True, 'ignore_subsolvers:probing': False, 'search_branching': 4, 'repair_hint': True, 'use_lb_relax_lns': False, 'use_objective_lb_search': False, 'use_objective_shaving_search': True, 'optimize_with_core': False, 'feasibility_jump_linearization_level': 1, 'fp_rounding': 2, 'diversify_lns_params': False, 'polish_lp_solution': False, 'linearization_level': 0, 'add_objective_cut': False, 'cut_level': 0, 'max_all_diff_cut_size': 1, 'symmetry_level': 1}. Best is trial 0 with value: 1.5389596.\n"
     ]
    },
    {
     "name": "stdout",
     "output_type": "stream",
     "text": [
      "Returning knockout result\n"
     ]
    },
    {
     "name": "stderr",
     "output_type": "stream",
     "text": [
      "[I 2024-08-16 16:34:32,903] Trial 4 finished with value: 30.0 and parameters: {'preferred_variable_order': 2, 'use_erwa_heuristic': False, 'also_bump_variables_in_conflict_reasons': True, 'binary_minimization_algorithm': 2, 'clause_cleanup_protection': 0, 'presolve_bve_threshold': 2, 'max_presolve_iterations': 0, 'cp_model_probing_level': 0, 'presolve_probing_deterministic_time_limit': 3, 'encode_complex_linear_constraint_with_integer': True, 'ignore_subsolvers:default_lp': False, 'ignore_subsolvers:fixed': True, 'ignore_subsolvers:no_lp': False, 'ignore_subsolvers:max_lp': True, 'ignore_subsolvers:pseudo_costs': False, 'ignore_subsolvers:reduced_costs': False, 'ignore_subsolvers:quick_restart': True, 'ignore_subsolvers:quick_restart_no_lp': True, 'ignore_subsolvers:lb_tree_search': False, 'ignore_subsolvers:probing': False, 'search_branching': 2, 'repair_hint': False, 'use_lb_relax_lns': True, 'use_objective_lb_search': True, 'use_objective_shaving_search': False, 'optimize_with_core': True, 'feasibility_jump_linearization_level': 0, 'fp_rounding': 0, 'diversify_lns_params': False, 'polish_lp_solution': False, 'linearization_level': 1, 'add_objective_cut': False, 'cut_level': 1, 'max_all_diff_cut_size': 0, 'symmetry_level': 2}. Best is trial 0 with value: 1.5389596.\n"
     ]
    },
    {
     "name": "stdout",
     "output_type": "stream",
     "text": [
      "Returning knockout result\n"
     ]
    },
    {
     "name": "stderr",
     "output_type": "stream",
     "text": [
      "[I 2024-08-16 16:34:35,236] Trial 5 finished with value: 2.329231 and parameters: {'preferred_variable_order': 2, 'use_erwa_heuristic': False, 'also_bump_variables_in_conflict_reasons': False, 'binary_minimization_algorithm': 4, 'clause_cleanup_protection': 1, 'presolve_bve_threshold': 1, 'max_presolve_iterations': 3, 'cp_model_probing_level': 2, 'presolve_probing_deterministic_time_limit': 0, 'encode_complex_linear_constraint_with_integer': False, 'ignore_subsolvers:default_lp': True, 'ignore_subsolvers:fixed': False, 'ignore_subsolvers:no_lp': True, 'ignore_subsolvers:max_lp': False, 'ignore_subsolvers:pseudo_costs': False, 'ignore_subsolvers:reduced_costs': True, 'ignore_subsolvers:quick_restart': False, 'ignore_subsolvers:quick_restart_no_lp': False, 'ignore_subsolvers:lb_tree_search': True, 'ignore_subsolvers:probing': False, 'search_branching': 3, 'repair_hint': True, 'use_lb_relax_lns': True, 'use_objective_lb_search': False, 'use_objective_shaving_search': False, 'optimize_with_core': False, 'feasibility_jump_linearization_level': 1, 'fp_rounding': 0, 'diversify_lns_params': False, 'polish_lp_solution': False, 'linearization_level': 0, 'add_objective_cut': True, 'cut_level': 2, 'max_all_diff_cut_size': 1, 'symmetry_level': 0}. Best is trial 0 with value: 1.5389596.\n"
     ]
    },
    {
     "name": "stdout",
     "output_type": "stream",
     "text": [
      "Returning knockout result\n"
     ]
    },
    {
     "name": "stderr",
     "output_type": "stream",
     "text": [
      "[I 2024-08-16 16:34:43,107] Trial 6 finished with value: 1.5731454 and parameters: {'preferred_variable_order': 2, 'use_erwa_heuristic': True, 'also_bump_variables_in_conflict_reasons': False, 'binary_minimization_algorithm': 0, 'clause_cleanup_protection': 2, 'presolve_bve_threshold': 2, 'max_presolve_iterations': 1, 'cp_model_probing_level': 2, 'presolve_probing_deterministic_time_limit': 3, 'encode_complex_linear_constraint_with_integer': True, 'ignore_subsolvers:default_lp': False, 'ignore_subsolvers:fixed': False, 'ignore_subsolvers:no_lp': False, 'ignore_subsolvers:max_lp': False, 'ignore_subsolvers:pseudo_costs': False, 'ignore_subsolvers:reduced_costs': True, 'ignore_subsolvers:quick_restart': False, 'ignore_subsolvers:quick_restart_no_lp': False, 'ignore_subsolvers:lb_tree_search': False, 'ignore_subsolvers:probing': True, 'search_branching': 1, 'repair_hint': True, 'use_lb_relax_lns': False, 'use_objective_lb_search': False, 'use_objective_shaving_search': False, 'optimize_with_core': False, 'feasibility_jump_linearization_level': 0, 'fp_rounding': 2, 'diversify_lns_params': True, 'polish_lp_solution': False, 'linearization_level': 1, 'add_objective_cut': False, 'cut_level': 0, 'max_all_diff_cut_size': 2, 'symmetry_level': 1}. Best is trial 0 with value: 1.5389596.\n",
      "[I 2024-08-16 16:34:46,127] Trial 7 finished with value: 30.0 and parameters: {'preferred_variable_order': 2, 'use_erwa_heuristic': True, 'also_bump_variables_in_conflict_reasons': False, 'binary_minimization_algorithm': 3, 'clause_cleanup_protection': 1, 'presolve_bve_threshold': 2, 'max_presolve_iterations': 1, 'cp_model_probing_level': 2, 'presolve_probing_deterministic_time_limit': 0, 'encode_complex_linear_constraint_with_integer': False, 'ignore_subsolvers:default_lp': True, 'ignore_subsolvers:fixed': True, 'ignore_subsolvers:no_lp': False, 'ignore_subsolvers:max_lp': True, 'ignore_subsolvers:pseudo_costs': False, 'ignore_subsolvers:reduced_costs': True, 'ignore_subsolvers:quick_restart': False, 'ignore_subsolvers:quick_restart_no_lp': False, 'ignore_subsolvers:lb_tree_search': False, 'ignore_subsolvers:probing': False, 'search_branching': 5, 'repair_hint': True, 'use_lb_relax_lns': True, 'use_objective_lb_search': False, 'use_objective_shaving_search': True, 'optimize_with_core': False, 'feasibility_jump_linearization_level': 0, 'fp_rounding': 3, 'diversify_lns_params': True, 'polish_lp_solution': False, 'linearization_level': 2, 'add_objective_cut': True, 'cut_level': 1, 'max_all_diff_cut_size': 0, 'symmetry_level': 0}. Best is trial 0 with value: 1.5389596.\n"
     ]
    },
    {
     "name": "stdout",
     "output_type": "stream",
     "text": [
      "Returning knockout result\n"
     ]
    },
    {
     "name": "stderr",
     "output_type": "stream",
     "text": [
      "[I 2024-08-16 16:34:49,145] Trial 8 finished with value: 30.0 and parameters: {'preferred_variable_order': 0, 'use_erwa_heuristic': True, 'also_bump_variables_in_conflict_reasons': False, 'binary_minimization_algorithm': 4, 'clause_cleanup_protection': 0, 'presolve_bve_threshold': 0, 'max_presolve_iterations': 0, 'cp_model_probing_level': 1, 'presolve_probing_deterministic_time_limit': 3, 'encode_complex_linear_constraint_with_integer': True, 'ignore_subsolvers:default_lp': True, 'ignore_subsolvers:fixed': True, 'ignore_subsolvers:no_lp': True, 'ignore_subsolvers:max_lp': False, 'ignore_subsolvers:pseudo_costs': True, 'ignore_subsolvers:reduced_costs': True, 'ignore_subsolvers:quick_restart': True, 'ignore_subsolvers:quick_restart_no_lp': True, 'ignore_subsolvers:lb_tree_search': False, 'ignore_subsolvers:probing': True, 'search_branching': 1, 'repair_hint': False, 'use_lb_relax_lns': True, 'use_objective_lb_search': True, 'use_objective_shaving_search': True, 'optimize_with_core': True, 'feasibility_jump_linearization_level': 0, 'fp_rounding': 3, 'diversify_lns_params': True, 'polish_lp_solution': False, 'linearization_level': 0, 'add_objective_cut': False, 'cut_level': 1, 'max_all_diff_cut_size': 2, 'symmetry_level': 1}. Best is trial 0 with value: 1.5389596.\n"
     ]
    },
    {
     "name": "stdout",
     "output_type": "stream",
     "text": [
      "Returning knockout result\n"
     ]
    },
    {
     "name": "stderr",
     "output_type": "stream",
     "text": [
      "[I 2024-08-16 16:34:52,164] Trial 9 finished with value: 30.0 and parameters: {'preferred_variable_order': 0, 'use_erwa_heuristic': False, 'also_bump_variables_in_conflict_reasons': True, 'binary_minimization_algorithm': 3, 'clause_cleanup_protection': 0, 'presolve_bve_threshold': 2, 'max_presolve_iterations': 1, 'cp_model_probing_level': 2, 'presolve_probing_deterministic_time_limit': 3, 'encode_complex_linear_constraint_with_integer': False, 'ignore_subsolvers:default_lp': False, 'ignore_subsolvers:fixed': False, 'ignore_subsolvers:no_lp': False, 'ignore_subsolvers:max_lp': True, 'ignore_subsolvers:pseudo_costs': True, 'ignore_subsolvers:reduced_costs': True, 'ignore_subsolvers:quick_restart': True, 'ignore_subsolvers:quick_restart_no_lp': True, 'ignore_subsolvers:lb_tree_search': False, 'ignore_subsolvers:probing': False, 'search_branching': 6, 'repair_hint': True, 'use_lb_relax_lns': True, 'use_objective_lb_search': True, 'use_objective_shaving_search': True, 'optimize_with_core': True, 'feasibility_jump_linearization_level': 0, 'fp_rounding': 3, 'diversify_lns_params': True, 'polish_lp_solution': False, 'linearization_level': 0, 'add_objective_cut': True, 'cut_level': 1, 'max_all_diff_cut_size': 0, 'symmetry_level': 2}. Best is trial 0 with value: 1.5389596.\n"
     ]
    },
    {
     "name": "stdout",
     "output_type": "stream",
     "text": [
      "Returning knockout result\n"
     ]
    },
    {
     "name": "stderr",
     "output_type": "stream",
     "text": [
      "[I 2024-08-16 16:34:54,891] Trial 10 finished with value: 2.683495 and parameters: {'preferred_variable_order': 1, 'use_erwa_heuristic': True, 'also_bump_variables_in_conflict_reasons': True, 'binary_minimization_algorithm': 1, 'clause_cleanup_protection': 0, 'presolve_bve_threshold': 1, 'max_presolve_iterations': 4, 'cp_model_probing_level': 1, 'presolve_probing_deterministic_time_limit': 1, 'encode_complex_linear_constraint_with_integer': False, 'ignore_subsolvers:default_lp': True, 'ignore_subsolvers:fixed': False, 'ignore_subsolvers:no_lp': False, 'ignore_subsolvers:max_lp': False, 'ignore_subsolvers:pseudo_costs': True, 'ignore_subsolvers:reduced_costs': False, 'ignore_subsolvers:quick_restart': False, 'ignore_subsolvers:quick_restart_no_lp': False, 'ignore_subsolvers:lb_tree_search': True, 'ignore_subsolvers:probing': True, 'search_branching': 0, 'repair_hint': False, 'use_lb_relax_lns': False, 'use_objective_lb_search': False, 'use_objective_shaving_search': False, 'optimize_with_core': False, 'feasibility_jump_linearization_level': 2, 'fp_rounding': 1, 'diversify_lns_params': False, 'polish_lp_solution': True, 'linearization_level': 2, 'add_objective_cut': True, 'cut_level': 2, 'max_all_diff_cut_size': 1, 'symmetry_level': 2}. Best is trial 0 with value: 1.5389596.\n"
     ]
    },
    {
     "name": "stdout",
     "output_type": "stream",
     "text": [
      "Returning knockout result\n"
     ]
    },
    {
     "name": "stderr",
     "output_type": "stream",
     "text": [
      "[I 2024-08-16 16:35:02,343] Trial 11 finished with value: 1.4811668 and parameters: {'preferred_variable_order': 1, 'use_erwa_heuristic': True, 'also_bump_variables_in_conflict_reasons': False, 'binary_minimization_algorithm': 0, 'clause_cleanup_protection': 2, 'presolve_bve_threshold': 1, 'max_presolve_iterations': 2, 'cp_model_probing_level': 2, 'presolve_probing_deterministic_time_limit': 4, 'encode_complex_linear_constraint_with_integer': True, 'ignore_subsolvers:default_lp': False, 'ignore_subsolvers:fixed': False, 'ignore_subsolvers:no_lp': False, 'ignore_subsolvers:max_lp': False, 'ignore_subsolvers:pseudo_costs': False, 'ignore_subsolvers:reduced_costs': False, 'ignore_subsolvers:quick_restart': False, 'ignore_subsolvers:quick_restart_no_lp': False, 'ignore_subsolvers:lb_tree_search': False, 'ignore_subsolvers:probing': True, 'search_branching': 0, 'repair_hint': True, 'use_lb_relax_lns': False, 'use_objective_lb_search': False, 'use_objective_shaving_search': False, 'optimize_with_core': False, 'feasibility_jump_linearization_level': 2, 'fp_rounding': 2, 'diversify_lns_params': False, 'polish_lp_solution': True, 'linearization_level': 1, 'add_objective_cut': False, 'cut_level': 0, 'max_all_diff_cut_size': 1, 'symmetry_level': 1}. Best is trial 11 with value: 1.4811668.\n",
      "[I 2024-08-16 16:35:08,754] Trial 12 finished with value: 1.2729708 and parameters: {'preferred_variable_order': 1, 'use_erwa_heuristic': True, 'also_bump_variables_in_conflict_reasons': False, 'binary_minimization_algorithm': 0, 'clause_cleanup_protection': 2, 'presolve_bve_threshold': 1, 'max_presolve_iterations': 2, 'cp_model_probing_level': 2, 'presolve_probing_deterministic_time_limit': 4, 'encode_complex_linear_constraint_with_integer': False, 'ignore_subsolvers:default_lp': False, 'ignore_subsolvers:fixed': False, 'ignore_subsolvers:no_lp': False, 'ignore_subsolvers:max_lp': False, 'ignore_subsolvers:pseudo_costs': False, 'ignore_subsolvers:reduced_costs': False, 'ignore_subsolvers:quick_restart': False, 'ignore_subsolvers:quick_restart_no_lp': False, 'ignore_subsolvers:lb_tree_search': False, 'ignore_subsolvers:probing': True, 'search_branching': 0, 'repair_hint': False, 'use_lb_relax_lns': False, 'use_objective_lb_search': False, 'use_objective_shaving_search': False, 'optimize_with_core': False, 'feasibility_jump_linearization_level': 2, 'fp_rounding': 2, 'diversify_lns_params': False, 'polish_lp_solution': True, 'linearization_level': 1, 'add_objective_cut': False, 'cut_level': 0, 'max_all_diff_cut_size': 1, 'symmetry_level': 0}. Best is trial 12 with value: 1.2729708.\n",
      "[I 2024-08-16 16:35:17,036] Trial 13 finished with value: 1.6467666 and parameters: {'preferred_variable_order': 1, 'use_erwa_heuristic': True, 'also_bump_variables_in_conflict_reasons': False, 'binary_minimization_algorithm': 0, 'clause_cleanup_protection': 2, 'presolve_bve_threshold': 1, 'max_presolve_iterations': 2, 'cp_model_probing_level': 1, 'presolve_probing_deterministic_time_limit': 4, 'encode_complex_linear_constraint_with_integer': True, 'ignore_subsolvers:default_lp': False, 'ignore_subsolvers:fixed': False, 'ignore_subsolvers:no_lp': False, 'ignore_subsolvers:max_lp': False, 'ignore_subsolvers:pseudo_costs': False, 'ignore_subsolvers:reduced_costs': False, 'ignore_subsolvers:quick_restart': False, 'ignore_subsolvers:quick_restart_no_lp': False, 'ignore_subsolvers:lb_tree_search': False, 'ignore_subsolvers:probing': True, 'search_branching': 0, 'repair_hint': True, 'use_lb_relax_lns': False, 'use_objective_lb_search': False, 'use_objective_shaving_search': False, 'optimize_with_core': False, 'feasibility_jump_linearization_level': 2, 'fp_rounding': 2, 'diversify_lns_params': False, 'polish_lp_solution': True, 'linearization_level': 2, 'add_objective_cut': False, 'cut_level': 0, 'max_all_diff_cut_size': 1, 'symmetry_level': 0}. Best is trial 12 with value: 1.2729708.\n",
      "[I 2024-08-16 16:35:23,578] Trial 14 finished with value: 1.2994954 and parameters: {'preferred_variable_order': 1, 'use_erwa_heuristic': True, 'also_bump_variables_in_conflict_reasons': True, 'binary_minimization_algorithm': 0, 'clause_cleanup_protection': 2, 'presolve_bve_threshold': 1, 'max_presolve_iterations': 2, 'cp_model_probing_level': 2, 'presolve_probing_deterministic_time_limit': 2, 'encode_complex_linear_constraint_with_integer': True, 'ignore_subsolvers:default_lp': False, 'ignore_subsolvers:fixed': False, 'ignore_subsolvers:no_lp': False, 'ignore_subsolvers:max_lp': False, 'ignore_subsolvers:pseudo_costs': False, 'ignore_subsolvers:reduced_costs': False, 'ignore_subsolvers:quick_restart': False, 'ignore_subsolvers:quick_restart_no_lp': False, 'ignore_subsolvers:lb_tree_search': True, 'ignore_subsolvers:probing': True, 'search_branching': 8, 'repair_hint': False, 'use_lb_relax_lns': False, 'use_objective_lb_search': False, 'use_objective_shaving_search': False, 'optimize_with_core': False, 'feasibility_jump_linearization_level': 2, 'fp_rounding': 1, 'diversify_lns_params': False, 'polish_lp_solution': True, 'linearization_level': 1, 'add_objective_cut': False, 'cut_level': 0, 'max_all_diff_cut_size': 1, 'symmetry_level': 0}. Best is trial 12 with value: 1.2729708.\n",
      "[I 2024-08-16 16:35:31,702] Trial 15 finished with value: 1.6156416 and parameters: {'preferred_variable_order': 1, 'use_erwa_heuristic': True, 'also_bump_variables_in_conflict_reasons': True, 'binary_minimization_algorithm': 0, 'clause_cleanup_protection': 2, 'presolve_bve_threshold': 1, 'max_presolve_iterations': 4, 'cp_model_probing_level': 1, 'presolve_probing_deterministic_time_limit': 2, 'encode_complex_linear_constraint_with_integer': False, 'ignore_subsolvers:default_lp': False, 'ignore_subsolvers:fixed': False, 'ignore_subsolvers:no_lp': False, 'ignore_subsolvers:max_lp': False, 'ignore_subsolvers:pseudo_costs': False, 'ignore_subsolvers:reduced_costs': False, 'ignore_subsolvers:quick_restart': False, 'ignore_subsolvers:quick_restart_no_lp': False, 'ignore_subsolvers:lb_tree_search': True, 'ignore_subsolvers:probing': True, 'search_branching': 8, 'repair_hint': False, 'use_lb_relax_lns': False, 'use_objective_lb_search': False, 'use_objective_shaving_search': False, 'optimize_with_core': False, 'feasibility_jump_linearization_level': 2, 'fp_rounding': 1, 'diversify_lns_params': False, 'polish_lp_solution': True, 'linearization_level': 1, 'add_objective_cut': False, 'cut_level': 0, 'max_all_diff_cut_size': 0, 'symmetry_level': 0}. Best is trial 12 with value: 1.2729708.\n",
      "[I 2024-08-16 16:35:34,296] Trial 16 finished with value: 2.549265 and parameters: {'preferred_variable_order': 1, 'use_erwa_heuristic': True, 'also_bump_variables_in_conflict_reasons': True, 'binary_minimization_algorithm': 0, 'clause_cleanup_protection': 2, 'presolve_bve_threshold': 0, 'max_presolve_iterations': 3, 'cp_model_probing_level': 2, 'presolve_probing_deterministic_time_limit': 2, 'encode_complex_linear_constraint_with_integer': False, 'ignore_subsolvers:default_lp': False, 'ignore_subsolvers:fixed': False, 'ignore_subsolvers:no_lp': False, 'ignore_subsolvers:max_lp': False, 'ignore_subsolvers:pseudo_costs': False, 'ignore_subsolvers:reduced_costs': False, 'ignore_subsolvers:quick_restart': False, 'ignore_subsolvers:quick_restart_no_lp': False, 'ignore_subsolvers:lb_tree_search': True, 'ignore_subsolvers:probing': True, 'search_branching': 7, 'repair_hint': False, 'use_lb_relax_lns': False, 'use_objective_lb_search': False, 'use_objective_shaving_search': False, 'optimize_with_core': False, 'feasibility_jump_linearization_level': 2, 'fp_rounding': 1, 'diversify_lns_params': False, 'polish_lp_solution': True, 'linearization_level': 2, 'add_objective_cut': False, 'cut_level': 0, 'max_all_diff_cut_size': 1, 'symmetry_level': 0}. Best is trial 12 with value: 1.2729708.\n"
     ]
    },
    {
     "name": "stdout",
     "output_type": "stream",
     "text": [
      "Returning knockout result\n"
     ]
    },
    {
     "name": "stderr",
     "output_type": "stream",
     "text": [
      "[I 2024-08-16 16:35:37,305] Trial 17 finished with value: 0.592391 and parameters: {'preferred_variable_order': 1, 'use_erwa_heuristic': True, 'also_bump_variables_in_conflict_reasons': True, 'binary_minimization_algorithm': 0, 'clause_cleanup_protection': 2, 'presolve_bve_threshold': 1, 'max_presolve_iterations': 1, 'cp_model_probing_level': 0, 'presolve_probing_deterministic_time_limit': 1, 'encode_complex_linear_constraint_with_integer': True, 'ignore_subsolvers:default_lp': False, 'ignore_subsolvers:fixed': False, 'ignore_subsolvers:no_lp': False, 'ignore_subsolvers:max_lp': False, 'ignore_subsolvers:pseudo_costs': False, 'ignore_subsolvers:reduced_costs': False, 'ignore_subsolvers:quick_restart': False, 'ignore_subsolvers:quick_restart_no_lp': False, 'ignore_subsolvers:lb_tree_search': True, 'ignore_subsolvers:probing': True, 'search_branching': 8, 'repair_hint': False, 'use_lb_relax_lns': False, 'use_objective_lb_search': False, 'use_objective_shaving_search': False, 'optimize_with_core': False, 'feasibility_jump_linearization_level': 2, 'fp_rounding': 1, 'diversify_lns_params': False, 'polish_lp_solution': True, 'linearization_level': 1, 'add_objective_cut': False, 'cut_level': 0, 'max_all_diff_cut_size': 0, 'symmetry_level': 0}. Best is trial 17 with value: 0.592391.\n",
      "[I 2024-08-16 16:35:44,646] Trial 18 finished with value: 1.4586112 and parameters: {'preferred_variable_order': 0, 'use_erwa_heuristic': True, 'also_bump_variables_in_conflict_reasons': True, 'binary_minimization_algorithm': 0, 'clause_cleanup_protection': 2, 'presolve_bve_threshold': 0, 'max_presolve_iterations': 1, 'cp_model_probing_level': 0, 'presolve_probing_deterministic_time_limit': 1, 'encode_complex_linear_constraint_with_integer': True, 'ignore_subsolvers:default_lp': True, 'ignore_subsolvers:fixed': False, 'ignore_subsolvers:no_lp': True, 'ignore_subsolvers:max_lp': True, 'ignore_subsolvers:pseudo_costs': True, 'ignore_subsolvers:reduced_costs': False, 'ignore_subsolvers:quick_restart': True, 'ignore_subsolvers:quick_restart_no_lp': False, 'ignore_subsolvers:lb_tree_search': True, 'ignore_subsolvers:probing': True, 'search_branching': 8, 'repair_hint': False, 'use_lb_relax_lns': False, 'use_objective_lb_search': True, 'use_objective_shaving_search': False, 'optimize_with_core': False, 'feasibility_jump_linearization_level': 1, 'fp_rounding': 1, 'diversify_lns_params': False, 'polish_lp_solution': True, 'linearization_level': 2, 'add_objective_cut': True, 'cut_level': 2, 'max_all_diff_cut_size': 0, 'symmetry_level': 0}. Best is trial 17 with value: 0.592391.\n",
      "[I 2024-08-16 16:35:47,627] Trial 19 finished with value: 0.5870768 and parameters: {'preferred_variable_order': 1, 'use_erwa_heuristic': True, 'also_bump_variables_in_conflict_reasons': True, 'binary_minimization_algorithm': 0, 'clause_cleanup_protection': 2, 'presolve_bve_threshold': 1, 'max_presolve_iterations': 1, 'cp_model_probing_level': 0, 'presolve_probing_deterministic_time_limit': 1, 'encode_complex_linear_constraint_with_integer': False, 'ignore_subsolvers:default_lp': False, 'ignore_subsolvers:fixed': False, 'ignore_subsolvers:no_lp': False, 'ignore_subsolvers:max_lp': False, 'ignore_subsolvers:pseudo_costs': False, 'ignore_subsolvers:reduced_costs': False, 'ignore_subsolvers:quick_restart': False, 'ignore_subsolvers:quick_restart_no_lp': False, 'ignore_subsolvers:lb_tree_search': True, 'ignore_subsolvers:probing': True, 'search_branching': 2, 'repair_hint': False, 'use_lb_relax_lns': False, 'use_objective_lb_search': False, 'use_objective_shaving_search': False, 'optimize_with_core': False, 'feasibility_jump_linearization_level': 2, 'fp_rounding': 0, 'diversify_lns_params': False, 'polish_lp_solution': True, 'linearization_level': 1, 'add_objective_cut': False, 'cut_level': 0, 'max_all_diff_cut_size': 0, 'symmetry_level': 0}. Best is trial 19 with value: 0.5870768.\n",
      "[I 2024-08-16 16:35:50,640] Trial 20 finished with value: 0.593259 and parameters: {'preferred_variable_order': 1, 'use_erwa_heuristic': True, 'also_bump_variables_in_conflict_reasons': True, 'binary_minimization_algorithm': 3, 'clause_cleanup_protection': 2, 'presolve_bve_threshold': 1, 'max_presolve_iterations': 1, 'cp_model_probing_level': 0, 'presolve_probing_deterministic_time_limit': 1, 'encode_complex_linear_constraint_with_integer': True, 'ignore_subsolvers:default_lp': False, 'ignore_subsolvers:fixed': False, 'ignore_subsolvers:no_lp': False, 'ignore_subsolvers:max_lp': False, 'ignore_subsolvers:pseudo_costs': False, 'ignore_subsolvers:reduced_costs': False, 'ignore_subsolvers:quick_restart': False, 'ignore_subsolvers:quick_restart_no_lp': False, 'ignore_subsolvers:lb_tree_search': True, 'ignore_subsolvers:probing': True, 'search_branching': 2, 'repair_hint': False, 'use_lb_relax_lns': False, 'use_objective_lb_search': False, 'use_objective_shaving_search': False, 'optimize_with_core': False, 'feasibility_jump_linearization_level': 1, 'fp_rounding': 0, 'diversify_lns_params': False, 'polish_lp_solution': True, 'linearization_level': 1, 'add_objective_cut': False, 'cut_level': 0, 'max_all_diff_cut_size': 0, 'symmetry_level': 0}. Best is trial 19 with value: 0.5870768.\n",
      "[I 2024-08-16 16:35:50,686] Trial 21 finished with value: 0.593259 and parameters: {'preferred_variable_order': 1, 'use_erwa_heuristic': True, 'also_bump_variables_in_conflict_reasons': True, 'binary_minimization_algorithm': 3, 'clause_cleanup_protection': 2, 'presolve_bve_threshold': 1, 'max_presolve_iterations': 1, 'cp_model_probing_level': 0, 'presolve_probing_deterministic_time_limit': 1, 'encode_complex_linear_constraint_with_integer': True, 'ignore_subsolvers:default_lp': False, 'ignore_subsolvers:fixed': False, 'ignore_subsolvers:no_lp': False, 'ignore_subsolvers:max_lp': False, 'ignore_subsolvers:pseudo_costs': False, 'ignore_subsolvers:reduced_costs': False, 'ignore_subsolvers:quick_restart': False, 'ignore_subsolvers:quick_restart_no_lp': False, 'ignore_subsolvers:lb_tree_search': True, 'ignore_subsolvers:probing': True, 'search_branching': 2, 'repair_hint': False, 'use_lb_relax_lns': False, 'use_objective_lb_search': False, 'use_objective_shaving_search': False, 'optimize_with_core': False, 'feasibility_jump_linearization_level': 1, 'fp_rounding': 0, 'diversify_lns_params': False, 'polish_lp_solution': True, 'linearization_level': 1, 'add_objective_cut': False, 'cut_level': 0, 'max_all_diff_cut_size': 0, 'symmetry_level': 0}. Best is trial 19 with value: 0.5870768.\n",
      "[I 2024-08-16 16:35:50,732] Trial 22 finished with value: 0.593259 and parameters: {'preferred_variable_order': 1, 'use_erwa_heuristic': True, 'also_bump_variables_in_conflict_reasons': True, 'binary_minimization_algorithm': 3, 'clause_cleanup_protection': 2, 'presolve_bve_threshold': 1, 'max_presolve_iterations': 1, 'cp_model_probing_level': 0, 'presolve_probing_deterministic_time_limit': 1, 'encode_complex_linear_constraint_with_integer': True, 'ignore_subsolvers:default_lp': False, 'ignore_subsolvers:fixed': False, 'ignore_subsolvers:no_lp': False, 'ignore_subsolvers:max_lp': False, 'ignore_subsolvers:pseudo_costs': False, 'ignore_subsolvers:reduced_costs': False, 'ignore_subsolvers:quick_restart': False, 'ignore_subsolvers:quick_restart_no_lp': False, 'ignore_subsolvers:lb_tree_search': True, 'ignore_subsolvers:probing': True, 'search_branching': 2, 'repair_hint': False, 'use_lb_relax_lns': False, 'use_objective_lb_search': False, 'use_objective_shaving_search': False, 'optimize_with_core': False, 'feasibility_jump_linearization_level': 1, 'fp_rounding': 0, 'diversify_lns_params': False, 'polish_lp_solution': True, 'linearization_level': 1, 'add_objective_cut': False, 'cut_level': 0, 'max_all_diff_cut_size': 0, 'symmetry_level': 0}. Best is trial 19 with value: 0.5870768.\n",
      "[I 2024-08-16 16:35:53,806] Trial 23 finished with value: 0.6056104 and parameters: {'preferred_variable_order': 1, 'use_erwa_heuristic': True, 'also_bump_variables_in_conflict_reasons': True, 'binary_minimization_algorithm': 3, 'clause_cleanup_protection': 2, 'presolve_bve_threshold': 1, 'max_presolve_iterations': 0, 'cp_model_probing_level': 0, 'presolve_probing_deterministic_time_limit': 1, 'encode_complex_linear_constraint_with_integer': True, 'ignore_subsolvers:default_lp': False, 'ignore_subsolvers:fixed': False, 'ignore_subsolvers:no_lp': False, 'ignore_subsolvers:max_lp': False, 'ignore_subsolvers:pseudo_costs': False, 'ignore_subsolvers:reduced_costs': False, 'ignore_subsolvers:quick_restart': False, 'ignore_subsolvers:quick_restart_no_lp': False, 'ignore_subsolvers:lb_tree_search': True, 'ignore_subsolvers:probing': True, 'search_branching': 2, 'repair_hint': False, 'use_lb_relax_lns': False, 'use_objective_lb_search': False, 'use_objective_shaving_search': False, 'optimize_with_core': False, 'feasibility_jump_linearization_level': 2, 'fp_rounding': 0, 'diversify_lns_params': False, 'polish_lp_solution': True, 'linearization_level': 1, 'add_objective_cut': False, 'cut_level': 0, 'max_all_diff_cut_size': 0, 'symmetry_level': 0}. Best is trial 19 with value: 0.5870768.\n",
      "[I 2024-08-16 16:36:00,462] Trial 24 finished with value: 1.3217348 and parameters: {'preferred_variable_order': 1, 'use_erwa_heuristic': True, 'also_bump_variables_in_conflict_reasons': True, 'binary_minimization_algorithm': 1, 'clause_cleanup_protection': 2, 'presolve_bve_threshold': 1, 'max_presolve_iterations': 1, 'cp_model_probing_level': 0, 'presolve_probing_deterministic_time_limit': 1, 'encode_complex_linear_constraint_with_integer': True, 'ignore_subsolvers:default_lp': False, 'ignore_subsolvers:fixed': False, 'ignore_subsolvers:no_lp': False, 'ignore_subsolvers:max_lp': False, 'ignore_subsolvers:pseudo_costs': False, 'ignore_subsolvers:reduced_costs': False, 'ignore_subsolvers:quick_restart': False, 'ignore_subsolvers:quick_restart_no_lp': False, 'ignore_subsolvers:lb_tree_search': True, 'ignore_subsolvers:probing': True, 'search_branching': 2, 'repair_hint': False, 'use_lb_relax_lns': False, 'use_objective_lb_search': False, 'use_objective_shaving_search': False, 'optimize_with_core': False, 'feasibility_jump_linearization_level': 1, 'fp_rounding': 0, 'diversify_lns_params': False, 'polish_lp_solution': True, 'linearization_level': 1, 'add_objective_cut': False, 'cut_level': 1, 'max_all_diff_cut_size': 0, 'symmetry_level': 1}. Best is trial 19 with value: 0.5870768.\n",
      "[I 2024-08-16 16:36:03,333] Trial 25 finished with value: 0.5643817999999999 and parameters: {'preferred_variable_order': 2, 'use_erwa_heuristic': True, 'also_bump_variables_in_conflict_reasons': True, 'binary_minimization_algorithm': 3, 'clause_cleanup_protection': 1, 'presolve_bve_threshold': 0, 'max_presolve_iterations': 0, 'cp_model_probing_level': 0, 'presolve_probing_deterministic_time_limit': 2, 'encode_complex_linear_constraint_with_integer': True, 'ignore_subsolvers:default_lp': False, 'ignore_subsolvers:fixed': False, 'ignore_subsolvers:no_lp': False, 'ignore_subsolvers:max_lp': False, 'ignore_subsolvers:pseudo_costs': False, 'ignore_subsolvers:reduced_costs': False, 'ignore_subsolvers:quick_restart': False, 'ignore_subsolvers:quick_restart_no_lp': False, 'ignore_subsolvers:lb_tree_search': True, 'ignore_subsolvers:probing': True, 'search_branching': 4, 'repair_hint': False, 'use_lb_relax_lns': False, 'use_objective_lb_search': False, 'use_objective_shaving_search': False, 'optimize_with_core': False, 'feasibility_jump_linearization_level': 2, 'fp_rounding': 0, 'diversify_lns_params': False, 'polish_lp_solution': True, 'linearization_level': 0, 'add_objective_cut': False, 'cut_level': 0, 'max_all_diff_cut_size': 0, 'symmetry_level': 0}. Best is trial 25 with value: 0.5643817999999999.\n",
      "[I 2024-08-16 16:36:06,400] Trial 26 finished with value: 30.0 and parameters: {'preferred_variable_order': 2, 'use_erwa_heuristic': True, 'also_bump_variables_in_conflict_reasons': True, 'binary_minimization_algorithm': 0, 'clause_cleanup_protection': 1, 'presolve_bve_threshold': 0, 'max_presolve_iterations': 0, 'cp_model_probing_level': 0, 'presolve_probing_deterministic_time_limit': 2, 'encode_complex_linear_constraint_with_integer': False, 'ignore_subsolvers:default_lp': True, 'ignore_subsolvers:fixed': False, 'ignore_subsolvers:no_lp': True, 'ignore_subsolvers:max_lp': True, 'ignore_subsolvers:pseudo_costs': True, 'ignore_subsolvers:reduced_costs': False, 'ignore_subsolvers:quick_restart': True, 'ignore_subsolvers:quick_restart_no_lp': True, 'ignore_subsolvers:lb_tree_search': True, 'ignore_subsolvers:probing': True, 'search_branching': 4, 'repair_hint': False, 'use_lb_relax_lns': False, 'use_objective_lb_search': True, 'use_objective_shaving_search': False, 'optimize_with_core': True, 'feasibility_jump_linearization_level': 2, 'fp_rounding': 0, 'diversify_lns_params': False, 'polish_lp_solution': True, 'linearization_level': 0, 'add_objective_cut': True, 'cut_level': 0, 'max_all_diff_cut_size': 0, 'symmetry_level': 1}. Best is trial 25 with value: 0.5643817999999999.\n"
     ]
    },
    {
     "name": "stdout",
     "output_type": "stream",
     "text": [
      "Returning knockout result\n"
     ]
    },
    {
     "name": "stderr",
     "output_type": "stream",
     "text": [
      "[I 2024-08-16 16:36:09,566] Trial 27 finished with value: 0.6224866 and parameters: {'preferred_variable_order': 2, 'use_erwa_heuristic': True, 'also_bump_variables_in_conflict_reasons': True, 'binary_minimization_algorithm': 0, 'clause_cleanup_protection': 1, 'presolve_bve_threshold': 0, 'max_presolve_iterations': 0, 'cp_model_probing_level': 0, 'presolve_probing_deterministic_time_limit': 2, 'encode_complex_linear_constraint_with_integer': True, 'ignore_subsolvers:default_lp': False, 'ignore_subsolvers:fixed': False, 'ignore_subsolvers:no_lp': False, 'ignore_subsolvers:max_lp': False, 'ignore_subsolvers:pseudo_costs': False, 'ignore_subsolvers:reduced_costs': False, 'ignore_subsolvers:quick_restart': False, 'ignore_subsolvers:quick_restart_no_lp': False, 'ignore_subsolvers:lb_tree_search': True, 'ignore_subsolvers:probing': True, 'search_branching': 4, 'repair_hint': False, 'use_lb_relax_lns': False, 'use_objective_lb_search': False, 'use_objective_shaving_search': False, 'optimize_with_core': False, 'feasibility_jump_linearization_level': 2, 'fp_rounding': 1, 'diversify_lns_params': False, 'polish_lp_solution': True, 'linearization_level': 0, 'add_objective_cut': False, 'cut_level': 0, 'max_all_diff_cut_size': 0, 'symmetry_level': 0}. Best is trial 25 with value: 0.5643817999999999.\n",
      "[I 2024-08-16 16:36:16,221] Trial 28 finished with value: 1.3203822 and parameters: {'preferred_variable_order': 2, 'use_erwa_heuristic': True, 'also_bump_variables_in_conflict_reasons': True, 'binary_minimization_algorithm': 3, 'clause_cleanup_protection': 1, 'presolve_bve_threshold': 0, 'max_presolve_iterations': 0, 'cp_model_probing_level': 0, 'presolve_probing_deterministic_time_limit': 0, 'encode_complex_linear_constraint_with_integer': False, 'ignore_subsolvers:default_lp': False, 'ignore_subsolvers:fixed': False, 'ignore_subsolvers:no_lp': False, 'ignore_subsolvers:max_lp': False, 'ignore_subsolvers:pseudo_costs': False, 'ignore_subsolvers:reduced_costs': False, 'ignore_subsolvers:quick_restart': False, 'ignore_subsolvers:quick_restart_no_lp': False, 'ignore_subsolvers:lb_tree_search': True, 'ignore_subsolvers:probing': True, 'search_branching': 3, 'repair_hint': False, 'use_lb_relax_lns': False, 'use_objective_lb_search': False, 'use_objective_shaving_search': False, 'optimize_with_core': False, 'feasibility_jump_linearization_level': 2, 'fp_rounding': 0, 'diversify_lns_params': False, 'polish_lp_solution': True, 'linearization_level': 0, 'add_objective_cut': False, 'cut_level': 1, 'max_all_diff_cut_size': 0, 'symmetry_level': 0}. Best is trial 25 with value: 0.5643817999999999.\n",
      "[I 2024-08-16 16:36:20,239] Trial 29 finished with value: 2.160178 and parameters: {'preferred_variable_order': 0, 'use_erwa_heuristic': True, 'also_bump_variables_in_conflict_reasons': True, 'binary_minimization_algorithm': 1, 'clause_cleanup_protection': 1, 'presolve_bve_threshold': 2, 'max_presolve_iterations': 1, 'cp_model_probing_level': 1, 'presolve_probing_deterministic_time_limit': 2, 'encode_complex_linear_constraint_with_integer': False, 'ignore_subsolvers:default_lp': False, 'ignore_subsolvers:fixed': False, 'ignore_subsolvers:no_lp': False, 'ignore_subsolvers:max_lp': False, 'ignore_subsolvers:pseudo_costs': False, 'ignore_subsolvers:reduced_costs': False, 'ignore_subsolvers:quick_restart': False, 'ignore_subsolvers:quick_restart_no_lp': False, 'ignore_subsolvers:lb_tree_search': True, 'ignore_subsolvers:probing': True, 'search_branching': 7, 'repair_hint': False, 'use_lb_relax_lns': False, 'use_objective_lb_search': False, 'use_objective_shaving_search': False, 'optimize_with_core': False, 'feasibility_jump_linearization_level': 2, 'fp_rounding': 0, 'diversify_lns_params': False, 'polish_lp_solution': True, 'linearization_level': 2, 'add_objective_cut': False, 'cut_level': 1, 'max_all_diff_cut_size': 0, 'symmetry_level': 1}. Best is trial 25 with value: 0.5643817999999999.\n"
     ]
    },
    {
     "name": "stdout",
     "output_type": "stream",
     "text": [
      "Returning knockout result\n"
     ]
    },
    {
     "name": "stderr",
     "output_type": "stream",
     "text": [
      "[I 2024-08-16 16:36:24,246] Trial 30 finished with value: 0.7908082000000001 and parameters: {'preferred_variable_order': 2, 'use_erwa_heuristic': True, 'also_bump_variables_in_conflict_reasons': True, 'binary_minimization_algorithm': 2, 'clause_cleanup_protection': 1, 'presolve_bve_threshold': 0, 'max_presolve_iterations': 0, 'cp_model_probing_level': 0, 'presolve_probing_deterministic_time_limit': 2, 'encode_complex_linear_constraint_with_integer': True, 'ignore_subsolvers:default_lp': False, 'ignore_subsolvers:fixed': False, 'ignore_subsolvers:no_lp': False, 'ignore_subsolvers:max_lp': False, 'ignore_subsolvers:pseudo_costs': False, 'ignore_subsolvers:reduced_costs': False, 'ignore_subsolvers:quick_restart': False, 'ignore_subsolvers:quick_restart_no_lp': False, 'ignore_subsolvers:lb_tree_search': True, 'ignore_subsolvers:probing': True, 'search_branching': 8, 'repair_hint': False, 'use_lb_relax_lns': False, 'use_objective_lb_search': False, 'use_objective_shaving_search': False, 'optimize_with_core': False, 'feasibility_jump_linearization_level': 2, 'fp_rounding': 1, 'diversify_lns_params': False, 'polish_lp_solution': True, 'linearization_level': 0, 'add_objective_cut': False, 'cut_level': 0, 'max_all_diff_cut_size': 0, 'symmetry_level': 0}. Best is trial 25 with value: 0.5643817999999999.\n",
      "[I 2024-08-16 16:36:27,427] Trial 31 finished with value: 0.6254725999999999 and parameters: {'preferred_variable_order': 1, 'use_erwa_heuristic': True, 'also_bump_variables_in_conflict_reasons': True, 'binary_minimization_algorithm': 3, 'clause_cleanup_protection': 2, 'presolve_bve_threshold': 1, 'max_presolve_iterations': 1, 'cp_model_probing_level': 0, 'presolve_probing_deterministic_time_limit': 1, 'encode_complex_linear_constraint_with_integer': True, 'ignore_subsolvers:default_lp': False, 'ignore_subsolvers:fixed': False, 'ignore_subsolvers:no_lp': False, 'ignore_subsolvers:max_lp': False, 'ignore_subsolvers:pseudo_costs': False, 'ignore_subsolvers:reduced_costs': False, 'ignore_subsolvers:quick_restart': False, 'ignore_subsolvers:quick_restart_no_lp': False, 'ignore_subsolvers:lb_tree_search': True, 'ignore_subsolvers:probing': True, 'search_branching': 4, 'repair_hint': False, 'use_lb_relax_lns': False, 'use_objective_lb_search': False, 'use_objective_shaving_search': False, 'optimize_with_core': False, 'feasibility_jump_linearization_level': 1, 'fp_rounding': 0, 'diversify_lns_params': False, 'polish_lp_solution': True, 'linearization_level': 1, 'add_objective_cut': False, 'cut_level': 0, 'max_all_diff_cut_size': 0, 'symmetry_level': 0}. Best is trial 25 with value: 0.5643817999999999.\n",
      "[I 2024-08-16 16:36:27,477] Trial 32 finished with value: 0.593259 and parameters: {'preferred_variable_order': 1, 'use_erwa_heuristic': True, 'also_bump_variables_in_conflict_reasons': True, 'binary_minimization_algorithm': 3, 'clause_cleanup_protection': 2, 'presolve_bve_threshold': 1, 'max_presolve_iterations': 1, 'cp_model_probing_level': 0, 'presolve_probing_deterministic_time_limit': 1, 'encode_complex_linear_constraint_with_integer': True, 'ignore_subsolvers:default_lp': False, 'ignore_subsolvers:fixed': False, 'ignore_subsolvers:no_lp': False, 'ignore_subsolvers:max_lp': False, 'ignore_subsolvers:pseudo_costs': False, 'ignore_subsolvers:reduced_costs': False, 'ignore_subsolvers:quick_restart': False, 'ignore_subsolvers:quick_restart_no_lp': False, 'ignore_subsolvers:lb_tree_search': True, 'ignore_subsolvers:probing': True, 'search_branching': 2, 'repair_hint': False, 'use_lb_relax_lns': False, 'use_objective_lb_search': False, 'use_objective_shaving_search': False, 'optimize_with_core': False, 'feasibility_jump_linearization_level': 1, 'fp_rounding': 0, 'diversify_lns_params': False, 'polish_lp_solution': True, 'linearization_level': 1, 'add_objective_cut': False, 'cut_level': 0, 'max_all_diff_cut_size': 0, 'symmetry_level': 0}. Best is trial 25 with value: 0.5643817999999999.\n",
      "[I 2024-08-16 16:36:31,289] Trial 33 finished with value: 0.750896 and parameters: {'preferred_variable_order': 1, 'use_erwa_heuristic': True, 'also_bump_variables_in_conflict_reasons': True, 'binary_minimization_algorithm': 3, 'clause_cleanup_protection': 1, 'presolve_bve_threshold': 2, 'max_presolve_iterations': 2, 'cp_model_probing_level': 0, 'presolve_probing_deterministic_time_limit': 0, 'encode_complex_linear_constraint_with_integer': True, 'ignore_subsolvers:default_lp': False, 'ignore_subsolvers:fixed': False, 'ignore_subsolvers:no_lp': False, 'ignore_subsolvers:max_lp': False, 'ignore_subsolvers:pseudo_costs': False, 'ignore_subsolvers:reduced_costs': False, 'ignore_subsolvers:quick_restart': False, 'ignore_subsolvers:quick_restart_no_lp': False, 'ignore_subsolvers:lb_tree_search': True, 'ignore_subsolvers:probing': True, 'search_branching': 6, 'repair_hint': False, 'use_lb_relax_lns': False, 'use_objective_lb_search': False, 'use_objective_shaving_search': False, 'optimize_with_core': False, 'feasibility_jump_linearization_level': 2, 'fp_rounding': 0, 'diversify_lns_params': False, 'polish_lp_solution': True, 'linearization_level': 1, 'add_objective_cut': False, 'cut_level': 0, 'max_all_diff_cut_size': 0, 'symmetry_level': 0}. Best is trial 25 with value: 0.5643817999999999.\n",
      "[I 2024-08-16 16:36:34,352] Trial 34 finished with value: 30.0 and parameters: {'preferred_variable_order': 1, 'use_erwa_heuristic': False, 'also_bump_variables_in_conflict_reasons': True, 'binary_minimization_algorithm': 3, 'clause_cleanup_protection': 2, 'presolve_bve_threshold': 0, 'max_presolve_iterations': 1, 'cp_model_probing_level': 0, 'presolve_probing_deterministic_time_limit': 1, 'encode_complex_linear_constraint_with_integer': True, 'ignore_subsolvers:default_lp': False, 'ignore_subsolvers:fixed': True, 'ignore_subsolvers:no_lp': True, 'ignore_subsolvers:max_lp': False, 'ignore_subsolvers:pseudo_costs': False, 'ignore_subsolvers:reduced_costs': False, 'ignore_subsolvers:quick_restart': False, 'ignore_subsolvers:quick_restart_no_lp': True, 'ignore_subsolvers:lb_tree_search': True, 'ignore_subsolvers:probing': True, 'search_branching': 2, 'repair_hint': False, 'use_lb_relax_lns': False, 'use_objective_lb_search': False, 'use_objective_shaving_search': True, 'optimize_with_core': True, 'feasibility_jump_linearization_level': 1, 'fp_rounding': 0, 'diversify_lns_params': True, 'polish_lp_solution': True, 'linearization_level': 0, 'add_objective_cut': False, 'cut_level': 0, 'max_all_diff_cut_size': 0, 'symmetry_level': 0}. Best is trial 25 with value: 0.5643817999999999.\n"
     ]
    },
    {
     "name": "stdout",
     "output_type": "stream",
     "text": [
      "Returning knockout result\n"
     ]
    },
    {
     "name": "stderr",
     "output_type": "stream",
     "text": [
      "[I 2024-08-16 16:36:37,618] Trial 35 finished with value: 0.6426845999999999 and parameters: {'preferred_variable_order': 0, 'use_erwa_heuristic': False, 'also_bump_variables_in_conflict_reasons': True, 'binary_minimization_algorithm': 2, 'clause_cleanup_protection': 2, 'presolve_bve_threshold': 1, 'max_presolve_iterations': 2, 'cp_model_probing_level': 1, 'presolve_probing_deterministic_time_limit': 0, 'encode_complex_linear_constraint_with_integer': True, 'ignore_subsolvers:default_lp': False, 'ignore_subsolvers:fixed': True, 'ignore_subsolvers:no_lp': False, 'ignore_subsolvers:max_lp': True, 'ignore_subsolvers:pseudo_costs': False, 'ignore_subsolvers:reduced_costs': False, 'ignore_subsolvers:quick_restart': False, 'ignore_subsolvers:quick_restart_no_lp': False, 'ignore_subsolvers:lb_tree_search': True, 'ignore_subsolvers:probing': False, 'search_branching': 4, 'repair_hint': False, 'use_lb_relax_lns': True, 'use_objective_lb_search': True, 'use_objective_shaving_search': False, 'optimize_with_core': False, 'feasibility_jump_linearization_level': 2, 'fp_rounding': 0, 'diversify_lns_params': False, 'polish_lp_solution': True, 'linearization_level': 1, 'add_objective_cut': False, 'cut_level': 0, 'max_all_diff_cut_size': 0, 'symmetry_level': 1}. Best is trial 25 with value: 0.5643817999999999.\n",
      "[I 2024-08-16 16:36:40,691] Trial 36 finished with value: 30.0 and parameters: {'preferred_variable_order': 1, 'use_erwa_heuristic': True, 'also_bump_variables_in_conflict_reasons': True, 'binary_minimization_algorithm': 4, 'clause_cleanup_protection': 1, 'presolve_bve_threshold': 1, 'max_presolve_iterations': 0, 'cp_model_probing_level': 0, 'presolve_probing_deterministic_time_limit': 1, 'encode_complex_linear_constraint_with_integer': True, 'ignore_subsolvers:default_lp': False, 'ignore_subsolvers:fixed': False, 'ignore_subsolvers:no_lp': False, 'ignore_subsolvers:max_lp': False, 'ignore_subsolvers:pseudo_costs': True, 'ignore_subsolvers:reduced_costs': False, 'ignore_subsolvers:quick_restart': True, 'ignore_subsolvers:quick_restart_no_lp': True, 'ignore_subsolvers:lb_tree_search': True, 'ignore_subsolvers:probing': True, 'search_branching': 5, 'repair_hint': False, 'use_lb_relax_lns': False, 'use_objective_lb_search': False, 'use_objective_shaving_search': True, 'optimize_with_core': True, 'feasibility_jump_linearization_level': 1, 'fp_rounding': 0, 'diversify_lns_params': False, 'polish_lp_solution': True, 'linearization_level': 1, 'add_objective_cut': False, 'cut_level': 0, 'max_all_diff_cut_size': 0, 'symmetry_level': 0}. Best is trial 25 with value: 0.5643817999999999.\n"
     ]
    },
    {
     "name": "stdout",
     "output_type": "stream",
     "text": [
      "Returning knockout result\n"
     ]
    },
    {
     "name": "stderr",
     "output_type": "stream",
     "text": [
      "[I 2024-08-16 16:36:46,831] Trial 37 finished with value: 1.2171654 and parameters: {'preferred_variable_order': 1, 'use_erwa_heuristic': False, 'also_bump_variables_in_conflict_reasons': True, 'binary_minimization_algorithm': 0, 'clause_cleanup_protection': 2, 'presolve_bve_threshold': 2, 'max_presolve_iterations': 0, 'cp_model_probing_level': 0, 'presolve_probing_deterministic_time_limit': 2, 'encode_complex_linear_constraint_with_integer': False, 'ignore_subsolvers:default_lp': False, 'ignore_subsolvers:fixed': False, 'ignore_subsolvers:no_lp': True, 'ignore_subsolvers:max_lp': False, 'ignore_subsolvers:pseudo_costs': False, 'ignore_subsolvers:reduced_costs': True, 'ignore_subsolvers:quick_restart': False, 'ignore_subsolvers:quick_restart_no_lp': False, 'ignore_subsolvers:lb_tree_search': True, 'ignore_subsolvers:probing': False, 'search_branching': 8, 'repair_hint': False, 'use_lb_relax_lns': False, 'use_objective_lb_search': False, 'use_objective_shaving_search': False, 'optimize_with_core': False, 'feasibility_jump_linearization_level': 2, 'fp_rounding': 3, 'diversify_lns_params': True, 'polish_lp_solution': True, 'linearization_level': 1, 'add_objective_cut': False, 'cut_level': 1, 'max_all_diff_cut_size': 2, 'symmetry_level': 0}. Best is trial 25 with value: 0.5643817999999999.\n",
      "[I 2024-08-16 16:36:50,876] Trial 38 finished with value: 0.7983203999999999 and parameters: {'preferred_variable_order': 2, 'use_erwa_heuristic': True, 'also_bump_variables_in_conflict_reasons': True, 'binary_minimization_algorithm': 2, 'clause_cleanup_protection': 0, 'presolve_bve_threshold': 1, 'max_presolve_iterations': 3, 'cp_model_probing_level': 0, 'presolve_probing_deterministic_time_limit': 0, 'encode_complex_linear_constraint_with_integer': True, 'ignore_subsolvers:default_lp': True, 'ignore_subsolvers:fixed': True, 'ignore_subsolvers:no_lp': False, 'ignore_subsolvers:max_lp': True, 'ignore_subsolvers:pseudo_costs': False, 'ignore_subsolvers:reduced_costs': False, 'ignore_subsolvers:quick_restart': False, 'ignore_subsolvers:quick_restart_no_lp': False, 'ignore_subsolvers:lb_tree_search': True, 'ignore_subsolvers:probing': True, 'search_branching': 3, 'repair_hint': False, 'use_lb_relax_lns': True, 'use_objective_lb_search': False, 'use_objective_shaving_search': False, 'optimize_with_core': False, 'feasibility_jump_linearization_level': 1, 'fp_rounding': 0, 'diversify_lns_params': False, 'polish_lp_solution': False, 'linearization_level': 0, 'add_objective_cut': True, 'cut_level': 0, 'max_all_diff_cut_size': 0, 'symmetry_level': 1}. Best is trial 25 with value: 0.5643817999999999.\n",
      "[I 2024-08-16 16:36:53,943] Trial 39 finished with value: 30.0 and parameters: {'preferred_variable_order': 1, 'use_erwa_heuristic': True, 'also_bump_variables_in_conflict_reasons': True, 'binary_minimization_algorithm': 4, 'clause_cleanup_protection': 1, 'presolve_bve_threshold': 1, 'max_presolve_iterations': 1, 'cp_model_probing_level': 0, 'presolve_probing_deterministic_time_limit': 1, 'encode_complex_linear_constraint_with_integer': True, 'ignore_subsolvers:default_lp': False, 'ignore_subsolvers:fixed': False, 'ignore_subsolvers:no_lp': False, 'ignore_subsolvers:max_lp': False, 'ignore_subsolvers:pseudo_costs': False, 'ignore_subsolvers:reduced_costs': True, 'ignore_subsolvers:quick_restart': True, 'ignore_subsolvers:quick_restart_no_lp': False, 'ignore_subsolvers:lb_tree_search': True, 'ignore_subsolvers:probing': False, 'search_branching': 1, 'repair_hint': True, 'use_lb_relax_lns': False, 'use_objective_lb_search': True, 'use_objective_shaving_search': True, 'optimize_with_core': False, 'feasibility_jump_linearization_level': 1, 'fp_rounding': 1, 'diversify_lns_params': False, 'polish_lp_solution': True, 'linearization_level': 1, 'add_objective_cut': False, 'cut_level': 0, 'max_all_diff_cut_size': 0, 'symmetry_level': 0}. Best is trial 25 with value: 0.5643817999999999.\n"
     ]
    },
    {
     "name": "stdout",
     "output_type": "stream",
     "text": [
      "Returning knockout result\n"
     ]
    },
    {
     "name": "stderr",
     "output_type": "stream",
     "text": [
      "[I 2024-08-16 16:36:56,734] Trial 40 finished with value: 2.738794 and parameters: {'preferred_variable_order': 2, 'use_erwa_heuristic': False, 'also_bump_variables_in_conflict_reasons': True, 'binary_minimization_algorithm': 3, 'clause_cleanup_protection': 0, 'presolve_bve_threshold': 0, 'max_presolve_iterations': 0, 'cp_model_probing_level': 1, 'presolve_probing_deterministic_time_limit': 0, 'encode_complex_linear_constraint_with_integer': False, 'ignore_subsolvers:default_lp': False, 'ignore_subsolvers:fixed': True, 'ignore_subsolvers:no_lp': True, 'ignore_subsolvers:max_lp': False, 'ignore_subsolvers:pseudo_costs': False, 'ignore_subsolvers:reduced_costs': False, 'ignore_subsolvers:quick_restart': False, 'ignore_subsolvers:quick_restart_no_lp': True, 'ignore_subsolvers:lb_tree_search': True, 'ignore_subsolvers:probing': True, 'search_branching': 2, 'repair_hint': False, 'use_lb_relax_lns': True, 'use_objective_lb_search': False, 'use_objective_shaving_search': False, 'optimize_with_core': True, 'feasibility_jump_linearization_level': 2, 'fp_rounding': 0, 'diversify_lns_params': True, 'polish_lp_solution': False, 'linearization_level': 2, 'add_objective_cut': False, 'cut_level': 1, 'max_all_diff_cut_size': 1, 'symmetry_level': 0}. Best is trial 25 with value: 0.5643817999999999.\n",
      "[I 2024-08-16 16:36:56,789] Trial 41 finished with value: 0.593259 and parameters: {'preferred_variable_order': 1, 'use_erwa_heuristic': True, 'also_bump_variables_in_conflict_reasons': True, 'binary_minimization_algorithm': 3, 'clause_cleanup_protection': 2, 'presolve_bve_threshold': 1, 'max_presolve_iterations': 1, 'cp_model_probing_level': 0, 'presolve_probing_deterministic_time_limit': 1, 'encode_complex_linear_constraint_with_integer': True, 'ignore_subsolvers:default_lp': False, 'ignore_subsolvers:fixed': False, 'ignore_subsolvers:no_lp': False, 'ignore_subsolvers:max_lp': False, 'ignore_subsolvers:pseudo_costs': False, 'ignore_subsolvers:reduced_costs': False, 'ignore_subsolvers:quick_restart': False, 'ignore_subsolvers:quick_restart_no_lp': False, 'ignore_subsolvers:lb_tree_search': True, 'ignore_subsolvers:probing': True, 'search_branching': 2, 'repair_hint': False, 'use_lb_relax_lns': False, 'use_objective_lb_search': False, 'use_objective_shaving_search': False, 'optimize_with_core': False, 'feasibility_jump_linearization_level': 1, 'fp_rounding': 0, 'diversify_lns_params': False, 'polish_lp_solution': True, 'linearization_level': 1, 'add_objective_cut': False, 'cut_level': 0, 'max_all_diff_cut_size': 0, 'symmetry_level': 0}. Best is trial 25 with value: 0.5643817999999999.\n",
      "[I 2024-08-16 16:36:56,841] Trial 42 finished with value: 0.593259 and parameters: {'preferred_variable_order': 1, 'use_erwa_heuristic': True, 'also_bump_variables_in_conflict_reasons': True, 'binary_minimization_algorithm': 3, 'clause_cleanup_protection': 2, 'presolve_bve_threshold': 1, 'max_presolve_iterations': 1, 'cp_model_probing_level': 0, 'presolve_probing_deterministic_time_limit': 1, 'encode_complex_linear_constraint_with_integer': True, 'ignore_subsolvers:default_lp': False, 'ignore_subsolvers:fixed': False, 'ignore_subsolvers:no_lp': False, 'ignore_subsolvers:max_lp': False, 'ignore_subsolvers:pseudo_costs': False, 'ignore_subsolvers:reduced_costs': False, 'ignore_subsolvers:quick_restart': False, 'ignore_subsolvers:quick_restart_no_lp': False, 'ignore_subsolvers:lb_tree_search': True, 'ignore_subsolvers:probing': True, 'search_branching': 2, 'repair_hint': False, 'use_lb_relax_lns': False, 'use_objective_lb_search': False, 'use_objective_shaving_search': False, 'optimize_with_core': False, 'feasibility_jump_linearization_level': 1, 'fp_rounding': 0, 'diversify_lns_params': False, 'polish_lp_solution': True, 'linearization_level': 1, 'add_objective_cut': False, 'cut_level': 0, 'max_all_diff_cut_size': 0, 'symmetry_level': 0}. Best is trial 25 with value: 0.5643817999999999.\n"
     ]
    },
    {
     "name": "stdout",
     "output_type": "stream",
     "text": [
      "Returning knockout result\n"
     ]
    },
    {
     "name": "stderr",
     "output_type": "stream",
     "text": [
      "[I 2024-08-16 16:36:59,932] Trial 43 finished with value: 0.6075687999999999 and parameters: {'preferred_variable_order': 1, 'use_erwa_heuristic': True, 'also_bump_variables_in_conflict_reasons': True, 'binary_minimization_algorithm': 3, 'clause_cleanup_protection': 2, 'presolve_bve_threshold': 2, 'max_presolve_iterations': 1, 'cp_model_probing_level': 0, 'presolve_probing_deterministic_time_limit': 1, 'encode_complex_linear_constraint_with_integer': True, 'ignore_subsolvers:default_lp': False, 'ignore_subsolvers:fixed': False, 'ignore_subsolvers:no_lp': False, 'ignore_subsolvers:max_lp': False, 'ignore_subsolvers:pseudo_costs': False, 'ignore_subsolvers:reduced_costs': False, 'ignore_subsolvers:quick_restart': False, 'ignore_subsolvers:quick_restart_no_lp': False, 'ignore_subsolvers:lb_tree_search': True, 'ignore_subsolvers:probing': True, 'search_branching': 2, 'repair_hint': False, 'use_lb_relax_lns': False, 'use_objective_lb_search': False, 'use_objective_shaving_search': False, 'optimize_with_core': False, 'feasibility_jump_linearization_level': 0, 'fp_rounding': 0, 'diversify_lns_params': False, 'polish_lp_solution': True, 'linearization_level': 1, 'add_objective_cut': False, 'cut_level': 0, 'max_all_diff_cut_size': 0, 'symmetry_level': 0}. Best is trial 25 with value: 0.5643817999999999.\n",
      "[I 2024-08-16 16:37:03,042] Trial 44 finished with value: 0.6107156 and parameters: {'preferred_variable_order': 0, 'use_erwa_heuristic': True, 'also_bump_variables_in_conflict_reasons': True, 'binary_minimization_algorithm': 3, 'clause_cleanup_protection': 2, 'presolve_bve_threshold': 1, 'max_presolve_iterations': 1, 'cp_model_probing_level': 0, 'presolve_probing_deterministic_time_limit': 2, 'encode_complex_linear_constraint_with_integer': True, 'ignore_subsolvers:default_lp': False, 'ignore_subsolvers:fixed': False, 'ignore_subsolvers:no_lp': False, 'ignore_subsolvers:max_lp': False, 'ignore_subsolvers:pseudo_costs': True, 'ignore_subsolvers:reduced_costs': True, 'ignore_subsolvers:quick_restart': False, 'ignore_subsolvers:quick_restart_no_lp': False, 'ignore_subsolvers:lb_tree_search': True, 'ignore_subsolvers:probing': True, 'search_branching': 5, 'repair_hint': False, 'use_lb_relax_lns': False, 'use_objective_lb_search': False, 'use_objective_shaving_search': False, 'optimize_with_core': False, 'feasibility_jump_linearization_level': 1, 'fp_rounding': 3, 'diversify_lns_params': False, 'polish_lp_solution': True, 'linearization_level': 1, 'add_objective_cut': False, 'cut_level': 0, 'max_all_diff_cut_size': 0, 'symmetry_level': 0}. Best is trial 25 with value: 0.5643817999999999.\n",
      "[I 2024-08-16 16:37:06,115] Trial 45 finished with value: 30.0 and parameters: {'preferred_variable_order': 1, 'use_erwa_heuristic': True, 'also_bump_variables_in_conflict_reasons': False, 'binary_minimization_algorithm': 1, 'clause_cleanup_protection': 2, 'presolve_bve_threshold': 1, 'max_presolve_iterations': 2, 'cp_model_probing_level': 0, 'presolve_probing_deterministic_time_limit': 3, 'encode_complex_linear_constraint_with_integer': True, 'ignore_subsolvers:default_lp': True, 'ignore_subsolvers:fixed': False, 'ignore_subsolvers:no_lp': False, 'ignore_subsolvers:max_lp': False, 'ignore_subsolvers:pseudo_costs': False, 'ignore_subsolvers:reduced_costs': False, 'ignore_subsolvers:quick_restart': False, 'ignore_subsolvers:quick_restart_no_lp': False, 'ignore_subsolvers:lb_tree_search': True, 'ignore_subsolvers:probing': True, 'search_branching': 6, 'repair_hint': True, 'use_lb_relax_lns': False, 'use_objective_lb_search': False, 'use_objective_shaving_search': True, 'optimize_with_core': False, 'feasibility_jump_linearization_level': 1, 'fp_rounding': 2, 'diversify_lns_params': False, 'polish_lp_solution': False, 'linearization_level': 1, 'add_objective_cut': True, 'cut_level': 0, 'max_all_diff_cut_size': 0, 'symmetry_level': 0}. Best is trial 25 with value: 0.5643817999999999.\n"
     ]
    },
    {
     "name": "stdout",
     "output_type": "stream",
     "text": [
      "Returning knockout result\n"
     ]
    },
    {
     "name": "stderr",
     "output_type": "stream",
     "text": [
      "[I 2024-08-16 16:37:12,761] Trial 46 finished with value: 1.3181314 and parameters: {'preferred_variable_order': 1, 'use_erwa_heuristic': True, 'also_bump_variables_in_conflict_reasons': True, 'binary_minimization_algorithm': 3, 'clause_cleanup_protection': 2, 'presolve_bve_threshold': 1, 'max_presolve_iterations': 1, 'cp_model_probing_level': 1, 'presolve_probing_deterministic_time_limit': 1, 'encode_complex_linear_constraint_with_integer': True, 'ignore_subsolvers:default_lp': False, 'ignore_subsolvers:fixed': False, 'ignore_subsolvers:no_lp': False, 'ignore_subsolvers:max_lp': False, 'ignore_subsolvers:pseudo_costs': False, 'ignore_subsolvers:reduced_costs': False, 'ignore_subsolvers:quick_restart': False, 'ignore_subsolvers:quick_restart_no_lp': False, 'ignore_subsolvers:lb_tree_search': False, 'ignore_subsolvers:probing': False, 'search_branching': 4, 'repair_hint': False, 'use_lb_relax_lns': True, 'use_objective_lb_search': False, 'use_objective_shaving_search': False, 'optimize_with_core': False, 'feasibility_jump_linearization_level': 1, 'fp_rounding': 0, 'diversify_lns_params': True, 'polish_lp_solution': True, 'linearization_level': 1, 'add_objective_cut': False, 'cut_level': 0, 'max_all_diff_cut_size': 1, 'symmetry_level': 1}. Best is trial 25 with value: 0.5643817999999999.\n",
      "[I 2024-08-16 16:37:17,308] Trial 47 finished with value: 30.0 and parameters: {'preferred_variable_order': 1, 'use_erwa_heuristic': True, 'also_bump_variables_in_conflict_reasons': False, 'binary_minimization_algorithm': 0, 'clause_cleanup_protection': 0, 'presolve_bve_threshold': 1, 'max_presolve_iterations': 2, 'cp_model_probing_level': 0, 'presolve_probing_deterministic_time_limit': 0, 'encode_complex_linear_constraint_with_integer': False, 'ignore_subsolvers:default_lp': False, 'ignore_subsolvers:fixed': False, 'ignore_subsolvers:no_lp': False, 'ignore_subsolvers:max_lp': True, 'ignore_subsolvers:pseudo_costs': False, 'ignore_subsolvers:reduced_costs': True, 'ignore_subsolvers:quick_restart': True, 'ignore_subsolvers:quick_restart_no_lp': False, 'ignore_subsolvers:lb_tree_search': True, 'ignore_subsolvers:probing': True, 'search_branching': 2, 'repair_hint': True, 'use_lb_relax_lns': False, 'use_objective_lb_search': True, 'use_objective_shaving_search': False, 'optimize_with_core': False, 'feasibility_jump_linearization_level': 0, 'fp_rounding': 0, 'diversify_lns_params': False, 'polish_lp_solution': True, 'linearization_level': 0, 'add_objective_cut': False, 'cut_level': 2, 'max_all_diff_cut_size': 0, 'symmetry_level': 2}. Best is trial 25 with value: 0.5643817999999999.\n"
     ]
    },
    {
     "name": "stdout",
     "output_type": "stream",
     "text": [
      "Returning knockout result\n"
     ]
    },
    {
     "name": "stderr",
     "output_type": "stream",
     "text": [
      "[I 2024-08-16 16:37:20,378] Trial 48 finished with value: 30.0 and parameters: {'preferred_variable_order': 1, 'use_erwa_heuristic': False, 'also_bump_variables_in_conflict_reasons': True, 'binary_minimization_algorithm': 4, 'clause_cleanup_protection': 2, 'presolve_bve_threshold': 2, 'max_presolve_iterations': 0, 'cp_model_probing_level': 0, 'presolve_probing_deterministic_time_limit': 1, 'encode_complex_linear_constraint_with_integer': True, 'ignore_subsolvers:default_lp': False, 'ignore_subsolvers:fixed': True, 'ignore_subsolvers:no_lp': False, 'ignore_subsolvers:max_lp': False, 'ignore_subsolvers:pseudo_costs': False, 'ignore_subsolvers:reduced_costs': False, 'ignore_subsolvers:quick_restart': False, 'ignore_subsolvers:quick_restart_no_lp': True, 'ignore_subsolvers:lb_tree_search': False, 'ignore_subsolvers:probing': True, 'search_branching': 1, 'repair_hint': False, 'use_lb_relax_lns': False, 'use_objective_lb_search': False, 'use_objective_shaving_search': False, 'optimize_with_core': True, 'feasibility_jump_linearization_level': 2, 'fp_rounding': 1, 'diversify_lns_params': False, 'polish_lp_solution': True, 'linearization_level': 2, 'add_objective_cut': False, 'cut_level': 0, 'max_all_diff_cut_size': 2, 'symmetry_level': 0}. Best is trial 25 with value: 0.5643817999999999.\n"
     ]
    },
    {
     "name": "stdout",
     "output_type": "stream",
     "text": [
      "Returning knockout result\n"
     ]
    },
    {
     "name": "stderr",
     "output_type": "stream",
     "text": [
      "[I 2024-08-16 16:37:24,324] Trial 49 finished with value: 2.354393 and parameters: {'preferred_variable_order': 2, 'use_erwa_heuristic': True, 'also_bump_variables_in_conflict_reasons': True, 'binary_minimization_algorithm': 0, 'clause_cleanup_protection': 2, 'presolve_bve_threshold': 1, 'max_presolve_iterations': 2, 'cp_model_probing_level': 1, 'presolve_probing_deterministic_time_limit': 2, 'encode_complex_linear_constraint_with_integer': False, 'ignore_subsolvers:default_lp': True, 'ignore_subsolvers:fixed': False, 'ignore_subsolvers:no_lp': False, 'ignore_subsolvers:max_lp': False, 'ignore_subsolvers:pseudo_costs': True, 'ignore_subsolvers:reduced_costs': False, 'ignore_subsolvers:quick_restart': False, 'ignore_subsolvers:quick_restart_no_lp': False, 'ignore_subsolvers:lb_tree_search': True, 'ignore_subsolvers:probing': True, 'search_branching': 7, 'repair_hint': False, 'use_lb_relax_lns': False, 'use_objective_lb_search': False, 'use_objective_shaving_search': False, 'optimize_with_core': False, 'feasibility_jump_linearization_level': 2, 'fp_rounding': 3, 'diversify_lns_params': False, 'polish_lp_solution': False, 'linearization_level': 1, 'add_objective_cut': False, 'cut_level': 1, 'max_all_diff_cut_size': 1, 'symmetry_level': 0}. Best is trial 25 with value: 0.5643817999999999.\n"
     ]
    },
    {
     "name": "stdout",
     "output_type": "stream",
     "text": [
      "Returning knockout result\n",
      "Best parameters: {'preferred_variable_order': 2, 'use_erwa_heuristic': True, 'also_bump_variables_in_conflict_reasons': True, 'binary_minimization_algorithm': 3, 'clause_cleanup_protection': 1, 'presolve_bve_threshold': 100, 'max_presolve_iterations': 1, 'cp_model_probing_level': 0, 'presolve_probing_deterministic_time_limit': 5.0, 'encode_complex_linear_constraint_with_integer': True, 'ignore_subsolvers': ['lb_tree_search', 'probing'], 'search_branching': 4, 'fp_rounding': 0, 'polish_lp_solution': True, 'linearization_level': 0, 'cut_level': 0, 'max_all_diff_cut_size': 32, 'symmetry_level': 0}. Score: 0.5643817999999999\n",
      "Checking which parameter changes obtained by the hyperparameter optimization are essential...\n",
      "optuna_baseline MultiResult(scores=[0.623938, 0.463613, 0.531145, 0.55004, 0.653173, 0.514668, 0.508088, 0.544313, 0.690781, 0.712102], params={'preferred_variable_order': 2, 'use_erwa_heuristic': True, 'also_bump_variables_in_conflict_reasons': True, 'binary_minimization_algorithm': 3, 'clause_cleanup_protection': 1, 'presolve_bve_threshold': 100, 'max_presolve_iterations': 1, 'cp_model_probing_level': 0, 'presolve_probing_deterministic_time_limit': 5.0, 'encode_complex_linear_constraint_with_integer': True, 'ignore_subsolvers': ['lb_tree_search', 'probing'], 'search_branching': 4, 'fp_rounding': 0, 'polish_lp_solution': True, 'linearization_level': 0, 'cut_level': 0, 'max_all_diff_cut_size': 32, 'symmetry_level': 0})\n",
      "Evaluating resetting parameter 'preferred_variable_order' to default...\n",
      "score MultiResult(scores=[0.603092], params={'use_erwa_heuristic': True, 'also_bump_variables_in_conflict_reasons': True, 'binary_minimization_algorithm': 3, 'clause_cleanup_protection': 1, 'presolve_bve_threshold': 100, 'max_presolve_iterations': 1, 'cp_model_probing_level': 0, 'presolve_probing_deterministic_time_limit': 5.0, 'encode_complex_linear_constraint_with_integer': True, 'ignore_subsolvers': ['lb_tree_search', 'probing'], 'search_branching': 4, 'fp_rounding': 0, 'polish_lp_solution': True, 'linearization_level': 0, 'cut_level': 0, 'max_all_diff_cut_size': 32, 'symmetry_level': 0})\n",
      "Seems like we can drop parameter 'preferred_variable_order' from the optimized parameters.\n",
      "Evaluating resetting parameter 'use_erwa_heuristic' to default...\n",
      "score MultiResult(scores=[0.501949], params={'preferred_variable_order': 2, 'also_bump_variables_in_conflict_reasons': True, 'binary_minimization_algorithm': 3, 'clause_cleanup_protection': 1, 'presolve_bve_threshold': 100, 'max_presolve_iterations': 1, 'cp_model_probing_level': 0, 'presolve_probing_deterministic_time_limit': 5.0, 'encode_complex_linear_constraint_with_integer': True, 'ignore_subsolvers': ['lb_tree_search', 'probing'], 'search_branching': 4, 'fp_rounding': 0, 'polish_lp_solution': True, 'linearization_level': 0, 'cut_level': 0, 'max_all_diff_cut_size': 32, 'symmetry_level': 0})\n",
      "Seems like we can drop parameter 'use_erwa_heuristic' from the optimized parameters.\n",
      "Evaluating resetting parameter 'also_bump_variables_in_conflict_reasons' to default...\n",
      "score MultiResult(scores=[0.516379], params={'preferred_variable_order': 2, 'use_erwa_heuristic': True, 'binary_minimization_algorithm': 3, 'clause_cleanup_protection': 1, 'presolve_bve_threshold': 100, 'max_presolve_iterations': 1, 'cp_model_probing_level': 0, 'presolve_probing_deterministic_time_limit': 5.0, 'encode_complex_linear_constraint_with_integer': True, 'ignore_subsolvers': ['lb_tree_search', 'probing'], 'search_branching': 4, 'fp_rounding': 0, 'polish_lp_solution': True, 'linearization_level': 0, 'cut_level': 0, 'max_all_diff_cut_size': 32, 'symmetry_level': 0})\n",
      "Seems like we can drop parameter 'also_bump_variables_in_conflict_reasons' from the optimized parameters.\n",
      "Evaluating resetting parameter 'binary_minimization_algorithm' to default...\n",
      "score MultiResult(scores=[0.677062], params={'preferred_variable_order': 2, 'use_erwa_heuristic': True, 'also_bump_variables_in_conflict_reasons': True, 'clause_cleanup_protection': 1, 'presolve_bve_threshold': 100, 'max_presolve_iterations': 1, 'cp_model_probing_level': 0, 'presolve_probing_deterministic_time_limit': 5.0, 'encode_complex_linear_constraint_with_integer': True, 'ignore_subsolvers': ['lb_tree_search', 'probing'], 'search_branching': 4, 'fp_rounding': 0, 'polish_lp_solution': True, 'linearization_level': 0, 'cut_level': 0, 'max_all_diff_cut_size': 32, 'symmetry_level': 0})\n",
      "Seems like we can drop parameter 'binary_minimization_algorithm' from the optimized parameters.\n",
      "Evaluating resetting parameter 'clause_cleanup_protection' to default...\n",
      "score MultiResult(scores=[0.564183], params={'preferred_variable_order': 2, 'use_erwa_heuristic': True, 'also_bump_variables_in_conflict_reasons': True, 'binary_minimization_algorithm': 3, 'presolve_bve_threshold': 100, 'max_presolve_iterations': 1, 'cp_model_probing_level': 0, 'presolve_probing_deterministic_time_limit': 5.0, 'encode_complex_linear_constraint_with_integer': True, 'ignore_subsolvers': ['lb_tree_search', 'probing'], 'search_branching': 4, 'fp_rounding': 0, 'polish_lp_solution': True, 'linearization_level': 0, 'cut_level': 0, 'max_all_diff_cut_size': 32, 'symmetry_level': 0})\n",
      "Seems like we can drop parameter 'clause_cleanup_protection' from the optimized parameters.\n",
      "Evaluating resetting parameter 'presolve_bve_threshold' to default...\n",
      "score MultiResult(scores=[0.661452], params={'preferred_variable_order': 2, 'use_erwa_heuristic': True, 'also_bump_variables_in_conflict_reasons': True, 'binary_minimization_algorithm': 3, 'clause_cleanup_protection': 1, 'max_presolve_iterations': 1, 'cp_model_probing_level': 0, 'presolve_probing_deterministic_time_limit': 5.0, 'encode_complex_linear_constraint_with_integer': True, 'ignore_subsolvers': ['lb_tree_search', 'probing'], 'search_branching': 4, 'fp_rounding': 0, 'polish_lp_solution': True, 'linearization_level': 0, 'cut_level': 0, 'max_all_diff_cut_size': 32, 'symmetry_level': 0})\n",
      "Seems like we can drop parameter 'presolve_bve_threshold' from the optimized parameters.\n",
      "Evaluating resetting parameter 'max_presolve_iterations' to default...\n",
      "score MultiResult(scores=[0.688497], params={'preferred_variable_order': 2, 'use_erwa_heuristic': True, 'also_bump_variables_in_conflict_reasons': True, 'binary_minimization_algorithm': 3, 'clause_cleanup_protection': 1, 'presolve_bve_threshold': 100, 'cp_model_probing_level': 0, 'presolve_probing_deterministic_time_limit': 5.0, 'encode_complex_linear_constraint_with_integer': True, 'ignore_subsolvers': ['lb_tree_search', 'probing'], 'search_branching': 4, 'fp_rounding': 0, 'polish_lp_solution': True, 'linearization_level': 0, 'cut_level': 0, 'max_all_diff_cut_size': 32, 'symmetry_level': 0})\n",
      "Seems like we can drop parameter 'max_presolve_iterations' from the optimized parameters.\n",
      "Evaluating resetting parameter 'cp_model_probing_level' to default...\n",
      "Returning knockout result\n",
      "score MultiResult(scores=[1.075931], params={'preferred_variable_order': 2, 'use_erwa_heuristic': True, 'also_bump_variables_in_conflict_reasons': True, 'binary_minimization_algorithm': 3, 'clause_cleanup_protection': 1, 'presolve_bve_threshold': 100, 'max_presolve_iterations': 1, 'presolve_probing_deterministic_time_limit': 5.0, 'encode_complex_linear_constraint_with_integer': True, 'ignore_subsolvers': ['lb_tree_search', 'probing'], 'search_branching': 4, 'fp_rounding': 0, 'polish_lp_solution': True, 'linearization_level': 0, 'cut_level': 0, 'max_all_diff_cut_size': 32, 'symmetry_level': 0})\n",
      "The parameter 'cp_model_probing_level' seems to be essential for the performance.\n",
      "Evaluating resetting parameter 'presolve_probing_deterministic_time_limit' to default...\n",
      "score MultiResult(scores=[0.506897], params={'preferred_variable_order': 2, 'use_erwa_heuristic': True, 'also_bump_variables_in_conflict_reasons': True, 'binary_minimization_algorithm': 3, 'clause_cleanup_protection': 1, 'presolve_bve_threshold': 100, 'max_presolve_iterations': 1, 'cp_model_probing_level': 0, 'encode_complex_linear_constraint_with_integer': True, 'ignore_subsolvers': ['lb_tree_search', 'probing'], 'search_branching': 4, 'fp_rounding': 0, 'polish_lp_solution': True, 'linearization_level': 0, 'cut_level': 0, 'max_all_diff_cut_size': 32, 'symmetry_level': 0})\n",
      "Seems like we can drop parameter 'presolve_probing_deterministic_time_limit' from the optimized parameters.\n",
      "Evaluating resetting parameter 'encode_complex_linear_constraint_with_integer' to default...\n",
      "Returning knockout result\n",
      "score MultiResult(scores=[0.737417], params={'preferred_variable_order': 2, 'use_erwa_heuristic': True, 'also_bump_variables_in_conflict_reasons': True, 'binary_minimization_algorithm': 3, 'clause_cleanup_protection': 1, 'presolve_bve_threshold': 100, 'max_presolve_iterations': 1, 'cp_model_probing_level': 0, 'presolve_probing_deterministic_time_limit': 5.0, 'ignore_subsolvers': ['lb_tree_search', 'probing'], 'search_branching': 4, 'fp_rounding': 0, 'polish_lp_solution': True, 'linearization_level': 0, 'cut_level': 0, 'max_all_diff_cut_size': 32, 'symmetry_level': 0})\n",
      "The parameter 'encode_complex_linear_constraint_with_integer' seems to be essential for the performance.\n",
      "Evaluating resetting parameter 'ignore_subsolvers' to default...\n",
      "Returning knockout result\n",
      "score MultiResult(scores=[0.740071], params={'preferred_variable_order': 2, 'use_erwa_heuristic': True, 'also_bump_variables_in_conflict_reasons': True, 'binary_minimization_algorithm': 3, 'clause_cleanup_protection': 1, 'presolve_bve_threshold': 100, 'max_presolve_iterations': 1, 'cp_model_probing_level': 0, 'presolve_probing_deterministic_time_limit': 5.0, 'encode_complex_linear_constraint_with_integer': True, 'search_branching': 4, 'fp_rounding': 0, 'polish_lp_solution': True, 'linearization_level': 0, 'cut_level': 0, 'max_all_diff_cut_size': 32, 'symmetry_level': 0})\n",
      "The parameter 'ignore_subsolvers' seems to be essential for the performance.\n",
      "Evaluating resetting parameter 'search_branching' to default...\n",
      "score MultiResult(scores=[0.704424], params={'preferred_variable_order': 2, 'use_erwa_heuristic': True, 'also_bump_variables_in_conflict_reasons': True, 'binary_minimization_algorithm': 3, 'clause_cleanup_protection': 1, 'presolve_bve_threshold': 100, 'max_presolve_iterations': 1, 'cp_model_probing_level': 0, 'presolve_probing_deterministic_time_limit': 5.0, 'encode_complex_linear_constraint_with_integer': True, 'ignore_subsolvers': ['lb_tree_search', 'probing'], 'fp_rounding': 0, 'polish_lp_solution': True, 'linearization_level': 0, 'cut_level': 0, 'max_all_diff_cut_size': 32, 'symmetry_level': 0})\n",
      "Seems like we can drop parameter 'search_branching' from the optimized parameters.\n",
      "Evaluating resetting parameter 'fp_rounding' to default...\n",
      "score MultiResult(scores=[0.674257], params={'preferred_variable_order': 2, 'use_erwa_heuristic': True, 'also_bump_variables_in_conflict_reasons': True, 'binary_minimization_algorithm': 3, 'clause_cleanup_protection': 1, 'presolve_bve_threshold': 100, 'max_presolve_iterations': 1, 'cp_model_probing_level': 0, 'presolve_probing_deterministic_time_limit': 5.0, 'encode_complex_linear_constraint_with_integer': True, 'ignore_subsolvers': ['lb_tree_search', 'probing'], 'search_branching': 4, 'polish_lp_solution': True, 'linearization_level': 0, 'cut_level': 0, 'max_all_diff_cut_size': 32, 'symmetry_level': 0})\n",
      "Seems like we can drop parameter 'fp_rounding' from the optimized parameters.\n",
      "Evaluating resetting parameter 'polish_lp_solution' to default...\n",
      "score MultiResult(scores=[0.613344], params={'preferred_variable_order': 2, 'use_erwa_heuristic': True, 'also_bump_variables_in_conflict_reasons': True, 'binary_minimization_algorithm': 3, 'clause_cleanup_protection': 1, 'presolve_bve_threshold': 100, 'max_presolve_iterations': 1, 'cp_model_probing_level': 0, 'presolve_probing_deterministic_time_limit': 5.0, 'encode_complex_linear_constraint_with_integer': True, 'ignore_subsolvers': ['lb_tree_search', 'probing'], 'search_branching': 4, 'fp_rounding': 0, 'linearization_level': 0, 'cut_level': 0, 'max_all_diff_cut_size': 32, 'symmetry_level': 0})\n",
      "Seems like we can drop parameter 'polish_lp_solution' from the optimized parameters.\n",
      "Evaluating resetting parameter 'linearization_level' to default...\n",
      "score MultiResult(scores=[0.58344], params={'preferred_variable_order': 2, 'use_erwa_heuristic': True, 'also_bump_variables_in_conflict_reasons': True, 'binary_minimization_algorithm': 3, 'clause_cleanup_protection': 1, 'presolve_bve_threshold': 100, 'max_presolve_iterations': 1, 'cp_model_probing_level': 0, 'presolve_probing_deterministic_time_limit': 5.0, 'encode_complex_linear_constraint_with_integer': True, 'ignore_subsolvers': ['lb_tree_search', 'probing'], 'search_branching': 4, 'fp_rounding': 0, 'polish_lp_solution': True, 'cut_level': 0, 'max_all_diff_cut_size': 32, 'symmetry_level': 0})\n",
      "Seems like we can drop parameter 'linearization_level' from the optimized parameters.\n",
      "Evaluating resetting parameter 'cut_level' to default...\n",
      "Returning knockout result\n",
      "score MultiResult(scores=[0.998556], params={'preferred_variable_order': 2, 'use_erwa_heuristic': True, 'also_bump_variables_in_conflict_reasons': True, 'binary_minimization_algorithm': 3, 'clause_cleanup_protection': 1, 'presolve_bve_threshold': 100, 'max_presolve_iterations': 1, 'cp_model_probing_level': 0, 'presolve_probing_deterministic_time_limit': 5.0, 'encode_complex_linear_constraint_with_integer': True, 'ignore_subsolvers': ['lb_tree_search', 'probing'], 'search_branching': 4, 'fp_rounding': 0, 'polish_lp_solution': True, 'linearization_level': 0, 'max_all_diff_cut_size': 32, 'symmetry_level': 0})\n",
      "The parameter 'cut_level' seems to be essential for the performance.\n",
      "Evaluating resetting parameter 'max_all_diff_cut_size' to default...\n",
      "score MultiResult(scores=[0.486643], params={'preferred_variable_order': 2, 'use_erwa_heuristic': True, 'also_bump_variables_in_conflict_reasons': True, 'binary_minimization_algorithm': 3, 'clause_cleanup_protection': 1, 'presolve_bve_threshold': 100, 'max_presolve_iterations': 1, 'cp_model_probing_level': 0, 'presolve_probing_deterministic_time_limit': 5.0, 'encode_complex_linear_constraint_with_integer': True, 'ignore_subsolvers': ['lb_tree_search', 'probing'], 'search_branching': 4, 'fp_rounding': 0, 'polish_lp_solution': True, 'linearization_level': 0, 'cut_level': 0, 'symmetry_level': 0})\n",
      "Seems like we can drop parameter 'max_all_diff_cut_size' from the optimized parameters.\n",
      "Evaluating resetting parameter 'symmetry_level' to default...\n",
      "score MultiResult(scores=[0.647361], params={'preferred_variable_order': 2, 'use_erwa_heuristic': True, 'also_bump_variables_in_conflict_reasons': True, 'binary_minimization_algorithm': 3, 'clause_cleanup_protection': 1, 'presolve_bve_threshold': 100, 'max_presolve_iterations': 1, 'cp_model_probing_level': 0, 'presolve_probing_deterministic_time_limit': 5.0, 'encode_complex_linear_constraint_with_integer': True, 'ignore_subsolvers': ['lb_tree_search', 'probing'], 'search_branching': 4, 'fp_rounding': 0, 'polish_lp_solution': True, 'linearization_level': 0, 'cut_level': 0, 'max_all_diff_cut_size': 32})\n",
      "Seems like we can drop parameter 'symmetry_level' from the optimized parameters.\n",
      "optimized_score MultiResult(scores=[0.44666, 0.434566, 0.653155, 0.636564, 0.531589, 0.981276, 0.400971, 0.432381, 0.48325, 0.482348], params={'cp_model_probing_level': 0, 'encode_complex_linear_constraint_with_integer': True, 'ignore_subsolvers': ['lb_tree_search', 'probing'], 'cut_level': 0})\n",
      "============================================================\n",
      "                 OPTIMIZED PARAMETERS\n",
      "============================================================\n",
      "\n",
      "1. cp_model_probing_level: 0\n",
      "\tContribution: 40.21%\n",
      "\tDefault Value: 2\n",
      "\tDescription:\n",
      "\t\tDefines the intensity of probing during presolve, where variables are temporarily fixed to infer more information about the problem.\n",
      "\t\t        Higher levels of probing can result in a more simplified problem but require more computation time during presolve.\n",
      "\n",
      "2. encode_complex_linear_constraint_with_integer: True\n",
      "\tContribution: 12.81%\n",
      "\tDefault Value: False\n",
      "\tDescription:\n",
      "\t\tIntroduces a slack variable with a domain equal to the right hand side for complex linear constraints.\n",
      "\t\t        https://github.com/google/or-tools/blob/2c333f58a37d7c75d29a58fd772c9b3f94e2ca1c/ortools/sat/cp_model_expand.cc#L1872\n",
      "\n",
      "3. ignore_subsolvers: ['lb_tree_search', 'probing']\n",
      "\tContribution: 13.02%\n",
      "\tDefault Value: ()\n",
      "\tDescription:\n",
      "\t\tSpecifies a list of subsolvers to exclude from use during the search.\n",
      "\t\t        Removing certain subsolvers can free up resources and potentially speed up the search. However, excluding subsolvers can be risky as it might eliminate strategies that are useful for solving difficult instances.\n",
      "\t\t\n",
      "\t\t        From the OR-Tools documentation:\n",
      "\t\t\n",
      "\t\t        - `default_lp`           (linearization_level:1)\n",
      "\t\t        - `fixed`                (only if fixed search specified or scheduling)\n",
      "\t\t        - `no_lp`                (linearization_level:0)\n",
      "\t\t        - `max_lp`               (linearization_level:2)\n",
      "\t\t        - `pseudo_costs`         (only if objective, change search heuristic)\n",
      "\t\t        - `reduced_costs`        (only if objective, change search heuristic)\n",
      "\t\t        - `quick_restart`        (kind of probing)\n",
      "\t\t        - `quick_restart_no_lp`  (kind of probing with linearization_level:0)\n",
      "\t\t        - `lb_tree_search`       (to improve lower bound, MIP like tree search)\n",
      "\t\t        - `probing`              (continuous probing and shaving)\n",
      "\n",
      "4. cut_level: 0\n",
      "\tContribution: 33.95%\n",
      "\tDefault Value: 1\n",
      "\tDescription:\n",
      "\t\tSets the level of effort the solver will invest in generating cutting planes, which are linear constraints added to remove infeasible regions.\n",
      "\t\t        Properly applied, cuts can significantly reduce the search space and help the solver find an optimal solution more quickly.\n",
      "------------------------------------------------------------\n",
      "Default Metric Value: 1.5621019999999999\n",
      "Optimized Metric Value: 0.548276\n",
      "------------------------------------------------------------\n",
      "\n",
      "============================================================\n",
      "*** WARNING ***\n",
      "============================================================\n",
      "The optimized parameters listed above were obtained based on a sampling approach and may not fully capture the complexities of the entire problem space. While statistical reasoning has been applied, these results should be considered as a suggestion for further evaluation rather than definitive settings.\n",
      "It is strongly recommended to validate these parameters in larger, more comprehensive experiments before adopting them in critical applications.\n",
      "============================================================\n"
     ]
    }
   ],
   "source": [
    "# tune_for_quality_within_timelimit(models[0], 3, 10, \"minimize\", n_samples_per_param=2, max_samples_per_param=5, n_trials=100)\n",
    "best = tune_time_to_optimal(\n",
    "    model,\n",
    "    timelimit_in_s=3,  # Enter a time limit slightly above what the solver with default parameters needs\n",
    "    n_samples_per_param=5,  # The higher the number, the more accurate the tuning, but the longer it takes\n",
    "    max_samples_per_param=10,  # After this number of samples for a parameter set, we just take the average from the history\n",
    "    n_trials=50,  # Number of trials to run with Optuna\n",
    ")"
   ]
  },
  {
   "cell_type": "code",
   "execution_count": 4,
   "metadata": {},
   "outputs": [
    {
     "name": "stderr",
     "output_type": "stream",
     "text": [
      "[I 2024-08-16 16:37:49,970] A new study created in memory with name: no-name-f304121f-bde4-4d06-8911-935b2e1579a4\n"
     ]
    },
    {
     "name": "stdout",
     "output_type": "stream",
     "text": [
      "Baseline: min=130730.0, mean=132101.8, max=132805.0\n"
     ]
    },
    {
     "name": "stderr",
     "output_type": "stream",
     "text": [
      "[I 2024-08-16 16:37:52,556] Trial 0 finished with value: 132265.2 and parameters: {'preferred_variable_order': 0, 'use_erwa_heuristic': False, 'also_bump_variables_in_conflict_reasons': False, 'binary_minimization_algorithm': 1, 'clause_cleanup_protection': 0, 'presolve_bve_threshold': 1, 'max_presolve_iterations': 2, 'cp_model_probing_level': 2, 'presolve_probing_deterministic_time_limit': 4, 'encode_complex_linear_constraint_with_integer': False, 'ignore_subsolvers:default_lp': False, 'ignore_subsolvers:fixed': False, 'ignore_subsolvers:no_lp': False, 'ignore_subsolvers:max_lp': False, 'ignore_subsolvers:pseudo_costs': False, 'ignore_subsolvers:reduced_costs': False, 'ignore_subsolvers:quick_restart': False, 'ignore_subsolvers:quick_restart_no_lp': False, 'ignore_subsolvers:lb_tree_search': False, 'ignore_subsolvers:probing': False, 'search_branching': 0, 'repair_hint': False, 'use_lns_only': False, 'use_lb_relax_lns': False, 'use_objective_lb_search': False, 'use_objective_shaving_search': False, 'optimize_with_core': False, 'feasibility_jump_linearization_level': 2, 'fp_rounding': 2, 'diversify_lns_params': False, 'polish_lp_solution': False, 'linearization_level': 1, 'add_objective_cut': False, 'cut_level': 1, 'max_all_diff_cut_size': 1, 'symmetry_level': 2}. Best is trial 0 with value: 132265.2.\n",
      "[I 2024-08-16 16:37:53,074] Trial 1 finished with value: 77315.0 and parameters: {'preferred_variable_order': 0, 'use_erwa_heuristic': False, 'also_bump_variables_in_conflict_reasons': True, 'binary_minimization_algorithm': 4, 'clause_cleanup_protection': 1, 'presolve_bve_threshold': 1, 'max_presolve_iterations': 4, 'cp_model_probing_level': 2, 'presolve_probing_deterministic_time_limit': 1, 'encode_complex_linear_constraint_with_integer': False, 'ignore_subsolvers:default_lp': True, 'ignore_subsolvers:fixed': True, 'ignore_subsolvers:no_lp': True, 'ignore_subsolvers:max_lp': True, 'ignore_subsolvers:pseudo_costs': True, 'ignore_subsolvers:reduced_costs': False, 'ignore_subsolvers:quick_restart': True, 'ignore_subsolvers:quick_restart_no_lp': False, 'ignore_subsolvers:lb_tree_search': True, 'ignore_subsolvers:probing': False, 'search_branching': 6, 'repair_hint': False, 'use_lns_only': False, 'use_lb_relax_lns': False, 'use_objective_lb_search': True, 'use_objective_shaving_search': True, 'optimize_with_core': False, 'feasibility_jump_linearization_level': 2, 'fp_rounding': 1, 'diversify_lns_params': False, 'polish_lp_solution': False, 'linearization_level': 1, 'add_objective_cut': True, 'cut_level': 0, 'max_all_diff_cut_size': 0, 'symmetry_level': 2}. Best is trial 0 with value: 132265.2.\n"
     ]
    },
    {
     "name": "stdout",
     "output_type": "stream",
     "text": [
      "Returning knockout result\n"
     ]
    },
    {
     "name": "stderr",
     "output_type": "stream",
     "text": [
      "[I 2024-08-16 16:37:53,589] Trial 2 finished with value: 124348.0 and parameters: {'preferred_variable_order': 2, 'use_erwa_heuristic': True, 'also_bump_variables_in_conflict_reasons': False, 'binary_minimization_algorithm': 3, 'clause_cleanup_protection': 1, 'presolve_bve_threshold': 2, 'max_presolve_iterations': 1, 'cp_model_probing_level': 0, 'presolve_probing_deterministic_time_limit': 3, 'encode_complex_linear_constraint_with_integer': True, 'ignore_subsolvers:default_lp': True, 'ignore_subsolvers:fixed': True, 'ignore_subsolvers:no_lp': True, 'ignore_subsolvers:max_lp': True, 'ignore_subsolvers:pseudo_costs': True, 'ignore_subsolvers:reduced_costs': True, 'ignore_subsolvers:quick_restart': False, 'ignore_subsolvers:quick_restart_no_lp': False, 'ignore_subsolvers:lb_tree_search': False, 'ignore_subsolvers:probing': True, 'search_branching': 8, 'repair_hint': False, 'use_lns_only': True, 'use_lb_relax_lns': True, 'use_objective_lb_search': False, 'use_objective_shaving_search': True, 'optimize_with_core': True, 'feasibility_jump_linearization_level': 0, 'fp_rounding': 3, 'diversify_lns_params': True, 'polish_lp_solution': True, 'linearization_level': 1, 'add_objective_cut': False, 'cut_level': 1, 'max_all_diff_cut_size': 1, 'symmetry_level': 1}. Best is trial 0 with value: 132265.2.\n"
     ]
    },
    {
     "name": "stdout",
     "output_type": "stream",
     "text": [
      "Returning knockout result\n"
     ]
    },
    {
     "name": "stderr",
     "output_type": "stream",
     "text": [
      "[I 2024-08-16 16:37:55,649] Trial 3 finished with value: 129539.0 and parameters: {'preferred_variable_order': 0, 'use_erwa_heuristic': False, 'also_bump_variables_in_conflict_reasons': True, 'binary_minimization_algorithm': 3, 'clause_cleanup_protection': 2, 'presolve_bve_threshold': 2, 'max_presolve_iterations': 3, 'cp_model_probing_level': 2, 'presolve_probing_deterministic_time_limit': 1, 'encode_complex_linear_constraint_with_integer': False, 'ignore_subsolvers:default_lp': False, 'ignore_subsolvers:fixed': True, 'ignore_subsolvers:no_lp': True, 'ignore_subsolvers:max_lp': True, 'ignore_subsolvers:pseudo_costs': True, 'ignore_subsolvers:reduced_costs': True, 'ignore_subsolvers:quick_restart': False, 'ignore_subsolvers:quick_restart_no_lp': False, 'ignore_subsolvers:lb_tree_search': True, 'ignore_subsolvers:probing': True, 'search_branching': 5, 'repair_hint': True, 'use_lns_only': False, 'use_lb_relax_lns': False, 'use_objective_lb_search': True, 'use_objective_shaving_search': False, 'optimize_with_core': False, 'feasibility_jump_linearization_level': 0, 'fp_rounding': 1, 'diversify_lns_params': True, 'polish_lp_solution': False, 'linearization_level': 0, 'add_objective_cut': False, 'cut_level': 0, 'max_all_diff_cut_size': 0, 'symmetry_level': 0}. Best is trial 0 with value: 132265.2.\n"
     ]
    },
    {
     "name": "stdout",
     "output_type": "stream",
     "text": [
      "Returning knockout result\n"
     ]
    },
    {
     "name": "stderr",
     "output_type": "stream",
     "text": [
      "[I 2024-08-16 16:37:58,268] Trial 4 finished with value: 132805.0 and parameters: {'preferred_variable_order': 1, 'use_erwa_heuristic': True, 'also_bump_variables_in_conflict_reasons': False, 'binary_minimization_algorithm': 4, 'clause_cleanup_protection': 2, 'presolve_bve_threshold': 1, 'max_presolve_iterations': 2, 'cp_model_probing_level': 2, 'presolve_probing_deterministic_time_limit': 3, 'encode_complex_linear_constraint_with_integer': True, 'ignore_subsolvers:default_lp': True, 'ignore_subsolvers:fixed': False, 'ignore_subsolvers:no_lp': False, 'ignore_subsolvers:max_lp': True, 'ignore_subsolvers:pseudo_costs': False, 'ignore_subsolvers:reduced_costs': False, 'ignore_subsolvers:quick_restart': True, 'ignore_subsolvers:quick_restart_no_lp': True, 'ignore_subsolvers:lb_tree_search': True, 'ignore_subsolvers:probing': False, 'search_branching': 6, 'repair_hint': True, 'use_lns_only': False, 'use_lb_relax_lns': True, 'use_objective_lb_search': True, 'use_objective_shaving_search': False, 'optimize_with_core': False, 'feasibility_jump_linearization_level': 0, 'fp_rounding': 3, 'diversify_lns_params': True, 'polish_lp_solution': False, 'linearization_level': 0, 'add_objective_cut': True, 'cut_level': 0, 'max_all_diff_cut_size': 2, 'symmetry_level': 0}. Best is trial 4 with value: 132805.0.\n",
      "[I 2024-08-16 16:38:00,843] Trial 5 finished with value: 132805.0 and parameters: {'preferred_variable_order': 0, 'use_erwa_heuristic': False, 'also_bump_variables_in_conflict_reasons': False, 'binary_minimization_algorithm': 0, 'clause_cleanup_protection': 2, 'presolve_bve_threshold': 0, 'max_presolve_iterations': 1, 'cp_model_probing_level': 1, 'presolve_probing_deterministic_time_limit': 3, 'encode_complex_linear_constraint_with_integer': False, 'ignore_subsolvers:default_lp': True, 'ignore_subsolvers:fixed': False, 'ignore_subsolvers:no_lp': False, 'ignore_subsolvers:max_lp': False, 'ignore_subsolvers:pseudo_costs': False, 'ignore_subsolvers:reduced_costs': True, 'ignore_subsolvers:quick_restart': True, 'ignore_subsolvers:quick_restart_no_lp': False, 'ignore_subsolvers:lb_tree_search': False, 'ignore_subsolvers:probing': False, 'search_branching': 4, 'repair_hint': False, 'use_lns_only': False, 'use_lb_relax_lns': True, 'use_objective_lb_search': True, 'use_objective_shaving_search': False, 'optimize_with_core': False, 'feasibility_jump_linearization_level': 0, 'fp_rounding': 2, 'diversify_lns_params': False, 'polish_lp_solution': True, 'linearization_level': 0, 'add_objective_cut': False, 'cut_level': 1, 'max_all_diff_cut_size': 0, 'symmetry_level': 0}. Best is trial 4 with value: 132805.0.\n",
      "[I 2024-08-16 16:38:03,431] Trial 6 finished with value: 132805.0 and parameters: {'preferred_variable_order': 1, 'use_erwa_heuristic': False, 'also_bump_variables_in_conflict_reasons': False, 'binary_minimization_algorithm': 3, 'clause_cleanup_protection': 1, 'presolve_bve_threshold': 1, 'max_presolve_iterations': 1, 'cp_model_probing_level': 2, 'presolve_probing_deterministic_time_limit': 3, 'encode_complex_linear_constraint_with_integer': False, 'ignore_subsolvers:default_lp': True, 'ignore_subsolvers:fixed': False, 'ignore_subsolvers:no_lp': False, 'ignore_subsolvers:max_lp': True, 'ignore_subsolvers:pseudo_costs': False, 'ignore_subsolvers:reduced_costs': True, 'ignore_subsolvers:quick_restart': True, 'ignore_subsolvers:quick_restart_no_lp': False, 'ignore_subsolvers:lb_tree_search': True, 'ignore_subsolvers:probing': True, 'search_branching': 3, 'repair_hint': False, 'use_lns_only': False, 'use_lb_relax_lns': True, 'use_objective_lb_search': False, 'use_objective_shaving_search': False, 'optimize_with_core': False, 'feasibility_jump_linearization_level': 1, 'fp_rounding': 1, 'diversify_lns_params': True, 'polish_lp_solution': False, 'linearization_level': 0, 'add_objective_cut': True, 'cut_level': 0, 'max_all_diff_cut_size': 1, 'symmetry_level': 1}. Best is trial 4 with value: 132805.0.\n",
      "[I 2024-08-16 16:38:05,996] Trial 7 finished with value: 132205.4 and parameters: {'preferred_variable_order': 1, 'use_erwa_heuristic': True, 'also_bump_variables_in_conflict_reasons': True, 'binary_minimization_algorithm': 4, 'clause_cleanup_protection': 1, 'presolve_bve_threshold': 1, 'max_presolve_iterations': 2, 'cp_model_probing_level': 1, 'presolve_probing_deterministic_time_limit': 4, 'encode_complex_linear_constraint_with_integer': True, 'ignore_subsolvers:default_lp': False, 'ignore_subsolvers:fixed': True, 'ignore_subsolvers:no_lp': False, 'ignore_subsolvers:max_lp': False, 'ignore_subsolvers:pseudo_costs': False, 'ignore_subsolvers:reduced_costs': True, 'ignore_subsolvers:quick_restart': False, 'ignore_subsolvers:quick_restart_no_lp': True, 'ignore_subsolvers:lb_tree_search': False, 'ignore_subsolvers:probing': True, 'search_branching': 6, 'repair_hint': True, 'use_lns_only': True, 'use_lb_relax_lns': True, 'use_objective_lb_search': False, 'use_objective_shaving_search': True, 'optimize_with_core': True, 'feasibility_jump_linearization_level': 1, 'fp_rounding': 2, 'diversify_lns_params': False, 'polish_lp_solution': False, 'linearization_level': 1, 'add_objective_cut': True, 'cut_level': 1, 'max_all_diff_cut_size': 2, 'symmetry_level': 2}. Best is trial 4 with value: 132805.0.\n",
      "[I 2024-08-16 16:38:06,515] Trial 8 finished with value: 127549.0 and parameters: {'preferred_variable_order': 1, 'use_erwa_heuristic': False, 'also_bump_variables_in_conflict_reasons': False, 'binary_minimization_algorithm': 4, 'clause_cleanup_protection': 1, 'presolve_bve_threshold': 1, 'max_presolve_iterations': 3, 'cp_model_probing_level': 1, 'presolve_probing_deterministic_time_limit': 4, 'encode_complex_linear_constraint_with_integer': False, 'ignore_subsolvers:default_lp': True, 'ignore_subsolvers:fixed': True, 'ignore_subsolvers:no_lp': True, 'ignore_subsolvers:max_lp': False, 'ignore_subsolvers:pseudo_costs': False, 'ignore_subsolvers:reduced_costs': True, 'ignore_subsolvers:quick_restart': True, 'ignore_subsolvers:quick_restart_no_lp': False, 'ignore_subsolvers:lb_tree_search': True, 'ignore_subsolvers:probing': True, 'search_branching': 8, 'repair_hint': True, 'use_lns_only': True, 'use_lb_relax_lns': False, 'use_objective_lb_search': False, 'use_objective_shaving_search': False, 'optimize_with_core': False, 'feasibility_jump_linearization_level': 2, 'fp_rounding': 0, 'diversify_lns_params': False, 'polish_lp_solution': True, 'linearization_level': 2, 'add_objective_cut': True, 'cut_level': 2, 'max_all_diff_cut_size': 1, 'symmetry_level': 1}. Best is trial 4 with value: 132805.0.\n"
     ]
    },
    {
     "name": "stdout",
     "output_type": "stream",
     "text": [
      "Returning knockout result\n"
     ]
    },
    {
     "name": "stderr",
     "output_type": "stream",
     "text": [
      "[I 2024-08-16 16:38:09,084] Trial 9 finished with value: 128364.0 and parameters: {'preferred_variable_order': 1, 'use_erwa_heuristic': True, 'also_bump_variables_in_conflict_reasons': True, 'binary_minimization_algorithm': 0, 'clause_cleanup_protection': 2, 'presolve_bve_threshold': 0, 'max_presolve_iterations': 4, 'cp_model_probing_level': 2, 'presolve_probing_deterministic_time_limit': 2, 'encode_complex_linear_constraint_with_integer': False, 'ignore_subsolvers:default_lp': True, 'ignore_subsolvers:fixed': True, 'ignore_subsolvers:no_lp': True, 'ignore_subsolvers:max_lp': False, 'ignore_subsolvers:pseudo_costs': False, 'ignore_subsolvers:reduced_costs': True, 'ignore_subsolvers:quick_restart': False, 'ignore_subsolvers:quick_restart_no_lp': False, 'ignore_subsolvers:lb_tree_search': False, 'ignore_subsolvers:probing': False, 'search_branching': 3, 'repair_hint': True, 'use_lns_only': False, 'use_lb_relax_lns': False, 'use_objective_lb_search': True, 'use_objective_shaving_search': True, 'optimize_with_core': True, 'feasibility_jump_linearization_level': 0, 'fp_rounding': 2, 'diversify_lns_params': False, 'polish_lp_solution': False, 'linearization_level': 2, 'add_objective_cut': False, 'cut_level': 2, 'max_all_diff_cut_size': 2, 'symmetry_level': 2}. Best is trial 4 with value: 132805.0.\n"
     ]
    },
    {
     "name": "stdout",
     "output_type": "stream",
     "text": [
      "Returning knockout result\n"
     ]
    },
    {
     "name": "stderr",
     "output_type": "stream",
     "text": [
      "[I 2024-08-16 16:38:11,690] Trial 10 finished with value: 132279.4 and parameters: {'preferred_variable_order': 2, 'use_erwa_heuristic': True, 'also_bump_variables_in_conflict_reasons': False, 'binary_minimization_algorithm': 2, 'clause_cleanup_protection': 0, 'presolve_bve_threshold': 2, 'max_presolve_iterations': 0, 'cp_model_probing_level': 0, 'presolve_probing_deterministic_time_limit': 0, 'encode_complex_linear_constraint_with_integer': True, 'ignore_subsolvers:default_lp': False, 'ignore_subsolvers:fixed': False, 'ignore_subsolvers:no_lp': False, 'ignore_subsolvers:max_lp': True, 'ignore_subsolvers:pseudo_costs': True, 'ignore_subsolvers:reduced_costs': False, 'ignore_subsolvers:quick_restart': True, 'ignore_subsolvers:quick_restart_no_lp': True, 'ignore_subsolvers:lb_tree_search': True, 'ignore_subsolvers:probing': False, 'search_branching': 2, 'repair_hint': True, 'use_lns_only': True, 'use_lb_relax_lns': True, 'use_objective_lb_search': True, 'use_objective_shaving_search': False, 'optimize_with_core': True, 'feasibility_jump_linearization_level': 1, 'fp_rounding': 3, 'diversify_lns_params': True, 'polish_lp_solution': True, 'linearization_level': 0, 'add_objective_cut': True, 'cut_level': 0, 'max_all_diff_cut_size': 2, 'symmetry_level': 0}. Best is trial 4 with value: 132805.0.\n",
      "[I 2024-08-16 16:38:14,334] Trial 11 finished with value: 132211.8 and parameters: {'preferred_variable_order': 0, 'use_erwa_heuristic': True, 'also_bump_variables_in_conflict_reasons': False, 'binary_minimization_algorithm': 0, 'clause_cleanup_protection': 2, 'presolve_bve_threshold': 0, 'max_presolve_iterations': 1, 'cp_model_probing_level': 1, 'presolve_probing_deterministic_time_limit': 3, 'encode_complex_linear_constraint_with_integer': True, 'ignore_subsolvers:default_lp': True, 'ignore_subsolvers:fixed': False, 'ignore_subsolvers:no_lp': False, 'ignore_subsolvers:max_lp': False, 'ignore_subsolvers:pseudo_costs': False, 'ignore_subsolvers:reduced_costs': False, 'ignore_subsolvers:quick_restart': True, 'ignore_subsolvers:quick_restart_no_lp': True, 'ignore_subsolvers:lb_tree_search': False, 'ignore_subsolvers:probing': False, 'search_branching': 4, 'repair_hint': False, 'use_lns_only': False, 'use_lb_relax_lns': True, 'use_objective_lb_search': True, 'use_objective_shaving_search': False, 'optimize_with_core': False, 'feasibility_jump_linearization_level': 0, 'fp_rounding': 3, 'diversify_lns_params': True, 'polish_lp_solution': True, 'linearization_level': 0, 'add_objective_cut': False, 'cut_level': 1, 'max_all_diff_cut_size': 0, 'symmetry_level': 0}. Best is trial 4 with value: 132805.0.\n",
      "[I 2024-08-16 16:38:16,975] Trial 12 finished with value: 132539.8 and parameters: {'preferred_variable_order': 0, 'use_erwa_heuristic': False, 'also_bump_variables_in_conflict_reasons': False, 'binary_minimization_algorithm': 0, 'clause_cleanup_protection': 2, 'presolve_bve_threshold': 0, 'max_presolve_iterations': 0, 'cp_model_probing_level': 1, 'presolve_probing_deterministic_time_limit': 2, 'encode_complex_linear_constraint_with_integer': True, 'ignore_subsolvers:default_lp': True, 'ignore_subsolvers:fixed': False, 'ignore_subsolvers:no_lp': False, 'ignore_subsolvers:max_lp': False, 'ignore_subsolvers:pseudo_costs': False, 'ignore_subsolvers:reduced_costs': False, 'ignore_subsolvers:quick_restart': True, 'ignore_subsolvers:quick_restart_no_lp': True, 'ignore_subsolvers:lb_tree_search': True, 'ignore_subsolvers:probing': False, 'search_branching': 4, 'repair_hint': False, 'use_lns_only': False, 'use_lb_relax_lns': True, 'use_objective_lb_search': True, 'use_objective_shaving_search': False, 'optimize_with_core': False, 'feasibility_jump_linearization_level': 0, 'fp_rounding': 0, 'diversify_lns_params': True, 'polish_lp_solution': True, 'linearization_level': 0, 'add_objective_cut': True, 'cut_level': 2, 'max_all_diff_cut_size': 2, 'symmetry_level': 0}. Best is trial 4 with value: 132805.0.\n",
      "[I 2024-08-16 16:38:19,596] Trial 13 finished with value: 132280.4 and parameters: {'preferred_variable_order': 2, 'use_erwa_heuristic': True, 'also_bump_variables_in_conflict_reasons': False, 'binary_minimization_algorithm': 1, 'clause_cleanup_protection': 2, 'presolve_bve_threshold': 0, 'max_presolve_iterations': 2, 'cp_model_probing_level': 0, 'presolve_probing_deterministic_time_limit': 3, 'encode_complex_linear_constraint_with_integer': True, 'ignore_subsolvers:default_lp': True, 'ignore_subsolvers:fixed': False, 'ignore_subsolvers:no_lp': False, 'ignore_subsolvers:max_lp': True, 'ignore_subsolvers:pseudo_costs': False, 'ignore_subsolvers:reduced_costs': False, 'ignore_subsolvers:quick_restart': True, 'ignore_subsolvers:quick_restart_no_lp': True, 'ignore_subsolvers:lb_tree_search': False, 'ignore_subsolvers:probing': False, 'search_branching': 7, 'repair_hint': True, 'use_lns_only': False, 'use_lb_relax_lns': True, 'use_objective_lb_search': True, 'use_objective_shaving_search': False, 'optimize_with_core': False, 'feasibility_jump_linearization_level': 0, 'fp_rounding': 2, 'diversify_lns_params': False, 'polish_lp_solution': True, 'linearization_level': 0, 'add_objective_cut': False, 'cut_level': 0, 'max_all_diff_cut_size': 0, 'symmetry_level': 0}. Best is trial 4 with value: 132805.0.\n",
      "[I 2024-08-16 16:38:22,210] Trial 14 finished with value: 131931.2 and parameters: {'preferred_variable_order': 1, 'use_erwa_heuristic': False, 'also_bump_variables_in_conflict_reasons': False, 'binary_minimization_algorithm': 2, 'clause_cleanup_protection': 2, 'presolve_bve_threshold': 0, 'max_presolve_iterations': 1, 'cp_model_probing_level': 1, 'presolve_probing_deterministic_time_limit': 2, 'encode_complex_linear_constraint_with_integer': False, 'ignore_subsolvers:default_lp': True, 'ignore_subsolvers:fixed': False, 'ignore_subsolvers:no_lp': False, 'ignore_subsolvers:max_lp': True, 'ignore_subsolvers:pseudo_costs': False, 'ignore_subsolvers:reduced_costs': True, 'ignore_subsolvers:quick_restart': True, 'ignore_subsolvers:quick_restart_no_lp': True, 'ignore_subsolvers:lb_tree_search': True, 'ignore_subsolvers:probing': False, 'search_branching': 1, 'repair_hint': True, 'use_lns_only': False, 'use_lb_relax_lns': True, 'use_objective_lb_search': True, 'use_objective_shaving_search': False, 'optimize_with_core': False, 'feasibility_jump_linearization_level': 1, 'fp_rounding': 3, 'diversify_lns_params': False, 'polish_lp_solution': False, 'linearization_level': 0, 'add_objective_cut': False, 'cut_level': 1, 'max_all_diff_cut_size': 1, 'symmetry_level': 0}. Best is trial 4 with value: 132805.0.\n",
      "[I 2024-08-16 16:38:24,845] Trial 15 finished with value: 132805.0 and parameters: {'preferred_variable_order': 0, 'use_erwa_heuristic': True, 'also_bump_variables_in_conflict_reasons': False, 'binary_minimization_algorithm': 4, 'clause_cleanup_protection': 2, 'presolve_bve_threshold': 0, 'max_presolve_iterations': 3, 'cp_model_probing_level': 1, 'presolve_probing_deterministic_time_limit': 3, 'encode_complex_linear_constraint_with_integer': True, 'ignore_subsolvers:default_lp': True, 'ignore_subsolvers:fixed': False, 'ignore_subsolvers:no_lp': False, 'ignore_subsolvers:max_lp': False, 'ignore_subsolvers:pseudo_costs': False, 'ignore_subsolvers:reduced_costs': False, 'ignore_subsolvers:quick_restart': True, 'ignore_subsolvers:quick_restart_no_lp': True, 'ignore_subsolvers:lb_tree_search': False, 'ignore_subsolvers:probing': False, 'search_branching': 4, 'repair_hint': False, 'use_lns_only': False, 'use_lb_relax_lns': True, 'use_objective_lb_search': True, 'use_objective_shaving_search': False, 'optimize_with_core': False, 'feasibility_jump_linearization_level': 0, 'fp_rounding': 2, 'diversify_lns_params': True, 'polish_lp_solution': True, 'linearization_level': 1, 'add_objective_cut': True, 'cut_level': 0, 'max_all_diff_cut_size': 2, 'symmetry_level': 1}. Best is trial 4 with value: 132805.0.\n",
      "[I 2024-08-16 16:38:27,465] Trial 16 finished with value: 132805.0 and parameters: {'preferred_variable_order': 2, 'use_erwa_heuristic': False, 'also_bump_variables_in_conflict_reasons': False, 'binary_minimization_algorithm': 0, 'clause_cleanup_protection': 0, 'presolve_bve_threshold': 2, 'max_presolve_iterations': 0, 'cp_model_probing_level': 2, 'presolve_probing_deterministic_time_limit': 1, 'encode_complex_linear_constraint_with_integer': False, 'ignore_subsolvers:default_lp': True, 'ignore_subsolvers:fixed': False, 'ignore_subsolvers:no_lp': False, 'ignore_subsolvers:max_lp': False, 'ignore_subsolvers:pseudo_costs': False, 'ignore_subsolvers:reduced_costs': False, 'ignore_subsolvers:quick_restart': True, 'ignore_subsolvers:quick_restart_no_lp': True, 'ignore_subsolvers:lb_tree_search': True, 'ignore_subsolvers:probing': False, 'search_branching': 6, 'repair_hint': False, 'use_lns_only': False, 'use_lb_relax_lns': True, 'use_objective_lb_search': True, 'use_objective_shaving_search': False, 'optimize_with_core': False, 'feasibility_jump_linearization_level': 1, 'fp_rounding': 3, 'diversify_lns_params': False, 'polish_lp_solution': False, 'linearization_level': 0, 'add_objective_cut': False, 'cut_level': 2, 'max_all_diff_cut_size': 0, 'symmetry_level': 0}. Best is trial 4 with value: 132805.0.\n",
      "[I 2024-08-16 16:38:29,064] Trial 17 finished with value: 129584.0 and parameters: {'preferred_variable_order': 1, 'use_erwa_heuristic': True, 'also_bump_variables_in_conflict_reasons': False, 'binary_minimization_algorithm': 4, 'clause_cleanup_protection': 2, 'presolve_bve_threshold': 1, 'max_presolve_iterations': 1, 'cp_model_probing_level': 0, 'presolve_probing_deterministic_time_limit': 4, 'encode_complex_linear_constraint_with_integer': True, 'ignore_subsolvers:default_lp': True, 'ignore_subsolvers:fixed': False, 'ignore_subsolvers:no_lp': False, 'ignore_subsolvers:max_lp': True, 'ignore_subsolvers:pseudo_costs': False, 'ignore_subsolvers:reduced_costs': True, 'ignore_subsolvers:quick_restart': True, 'ignore_subsolvers:quick_restart_no_lp': False, 'ignore_subsolvers:lb_tree_search': False, 'ignore_subsolvers:probing': False, 'search_branching': 5, 'repair_hint': True, 'use_lns_only': False, 'use_lb_relax_lns': True, 'use_objective_lb_search': True, 'use_objective_shaving_search': False, 'optimize_with_core': False, 'feasibility_jump_linearization_level': 0, 'fp_rounding': 0, 'diversify_lns_params': True, 'polish_lp_solution': True, 'linearization_level': 2, 'add_objective_cut': True, 'cut_level': 1, 'max_all_diff_cut_size': 1, 'symmetry_level': 1}. Best is trial 4 with value: 132805.0.\n"
     ]
    },
    {
     "name": "stdout",
     "output_type": "stream",
     "text": [
      "Returning knockout result\n"
     ]
    },
    {
     "name": "stderr",
     "output_type": "stream",
     "text": [
      "[I 2024-08-16 16:38:31,666] Trial 18 finished with value: 104966.0 and parameters: {'preferred_variable_order': 1, 'use_erwa_heuristic': False, 'also_bump_variables_in_conflict_reasons': True, 'binary_minimization_algorithm': 0, 'clause_cleanup_protection': 2, 'presolve_bve_threshold': 1, 'max_presolve_iterations': 2, 'cp_model_probing_level': 1, 'presolve_probing_deterministic_time_limit': 3, 'encode_complex_linear_constraint_with_integer': True, 'ignore_subsolvers:default_lp': False, 'ignore_subsolvers:fixed': False, 'ignore_subsolvers:no_lp': False, 'ignore_subsolvers:max_lp': False, 'ignore_subsolvers:pseudo_costs': True, 'ignore_subsolvers:reduced_costs': False, 'ignore_subsolvers:quick_restart': True, 'ignore_subsolvers:quick_restart_no_lp': False, 'ignore_subsolvers:lb_tree_search': False, 'ignore_subsolvers:probing': False, 'search_branching': 2, 'repair_hint': False, 'use_lns_only': True, 'use_lb_relax_lns': True, 'use_objective_lb_search': True, 'use_objective_shaving_search': True, 'optimize_with_core': True, 'feasibility_jump_linearization_level': 1, 'fp_rounding': 3, 'diversify_lns_params': False, 'polish_lp_solution': True, 'linearization_level': 0, 'add_objective_cut': True, 'cut_level': 0, 'max_all_diff_cut_size': 1, 'symmetry_level': 0}. Best is trial 4 with value: 132805.0.\n"
     ]
    },
    {
     "name": "stdout",
     "output_type": "stream",
     "text": [
      "Returning knockout result\n"
     ]
    },
    {
     "name": "stderr",
     "output_type": "stream",
     "text": [
      "[I 2024-08-16 16:38:34,315] Trial 19 finished with value: 131471.0 and parameters: {'preferred_variable_order': 0, 'use_erwa_heuristic': True, 'also_bump_variables_in_conflict_reasons': False, 'binary_minimization_algorithm': 2, 'clause_cleanup_protection': 2, 'presolve_bve_threshold': 0, 'max_presolve_iterations': 3, 'cp_model_probing_level': 1, 'presolve_probing_deterministic_time_limit': 2, 'encode_complex_linear_constraint_with_integer': False, 'ignore_subsolvers:default_lp': True, 'ignore_subsolvers:fixed': False, 'ignore_subsolvers:no_lp': False, 'ignore_subsolvers:max_lp': True, 'ignore_subsolvers:pseudo_costs': False, 'ignore_subsolvers:reduced_costs': True, 'ignore_subsolvers:quick_restart': True, 'ignore_subsolvers:quick_restart_no_lp': True, 'ignore_subsolvers:lb_tree_search': True, 'ignore_subsolvers:probing': False, 'search_branching': 0, 'repair_hint': True, 'use_lns_only': False, 'use_lb_relax_lns': True, 'use_objective_lb_search': True, 'use_objective_shaving_search': False, 'optimize_with_core': False, 'feasibility_jump_linearization_level': 0, 'fp_rounding': 2, 'diversify_lns_params': True, 'polish_lp_solution': False, 'linearization_level': 1, 'add_objective_cut': False, 'cut_level': 1, 'max_all_diff_cut_size': 0, 'symmetry_level': 1}. Best is trial 4 with value: 132805.0.\n",
      "[I 2024-08-16 16:38:34,879] Trial 20 finished with value: 130280.0 and parameters: {'preferred_variable_order': 2, 'use_erwa_heuristic': True, 'also_bump_variables_in_conflict_reasons': False, 'binary_minimization_algorithm': 1, 'clause_cleanup_protection': 0, 'presolve_bve_threshold': 2, 'max_presolve_iterations': 1, 'cp_model_probing_level': 2, 'presolve_probing_deterministic_time_limit': 0, 'encode_complex_linear_constraint_with_integer': False, 'ignore_subsolvers:default_lp': True, 'ignore_subsolvers:fixed': False, 'ignore_subsolvers:no_lp': False, 'ignore_subsolvers:max_lp': True, 'ignore_subsolvers:pseudo_costs': False, 'ignore_subsolvers:reduced_costs': False, 'ignore_subsolvers:quick_restart': True, 'ignore_subsolvers:quick_restart_no_lp': False, 'ignore_subsolvers:lb_tree_search': False, 'ignore_subsolvers:probing': False, 'search_branching': 1, 'repair_hint': False, 'use_lns_only': False, 'use_lb_relax_lns': True, 'use_objective_lb_search': True, 'use_objective_shaving_search': False, 'optimize_with_core': False, 'feasibility_jump_linearization_level': 1, 'fp_rounding': 2, 'diversify_lns_params': True, 'polish_lp_solution': True, 'linearization_level': 0, 'add_objective_cut': True, 'cut_level': 2, 'max_all_diff_cut_size': 2, 'symmetry_level': 0}. Best is trial 4 with value: 132805.0.\n",
      "[I 2024-08-16 16:38:34,927] Trial 21 finished with value: 132805.0 and parameters: {'preferred_variable_order': 1, 'use_erwa_heuristic': False, 'also_bump_variables_in_conflict_reasons': False, 'binary_minimization_algorithm': 3, 'clause_cleanup_protection': 1, 'presolve_bve_threshold': 1, 'max_presolve_iterations': 1, 'cp_model_probing_level': 2, 'presolve_probing_deterministic_time_limit': 3, 'encode_complex_linear_constraint_with_integer': False, 'ignore_subsolvers:default_lp': True, 'ignore_subsolvers:fixed': False, 'ignore_subsolvers:no_lp': False, 'ignore_subsolvers:max_lp': True, 'ignore_subsolvers:pseudo_costs': False, 'ignore_subsolvers:reduced_costs': True, 'ignore_subsolvers:quick_restart': True, 'ignore_subsolvers:quick_restart_no_lp': False, 'ignore_subsolvers:lb_tree_search': True, 'ignore_subsolvers:probing': True, 'search_branching': 3, 'repair_hint': False, 'use_lns_only': False, 'use_lb_relax_lns': True, 'use_objective_lb_search': False, 'use_objective_shaving_search': False, 'optimize_with_core': False, 'feasibility_jump_linearization_level': 1, 'fp_rounding': 1, 'diversify_lns_params': True, 'polish_lp_solution': False, 'linearization_level': 0, 'add_objective_cut': True, 'cut_level': 0, 'max_all_diff_cut_size': 1, 'symmetry_level': 1}. Best is trial 4 with value: 132805.0.\n"
     ]
    },
    {
     "name": "stdout",
     "output_type": "stream",
     "text": [
      "Returning knockout result\n"
     ]
    },
    {
     "name": "stderr",
     "output_type": "stream",
     "text": [
      "[I 2024-08-16 16:38:37,545] Trial 22 finished with value: 132805.0 and parameters: {'preferred_variable_order': 1, 'use_erwa_heuristic': False, 'also_bump_variables_in_conflict_reasons': False, 'binary_minimization_algorithm': 3, 'clause_cleanup_protection': 1, 'presolve_bve_threshold': 1, 'max_presolve_iterations': 2, 'cp_model_probing_level': 2, 'presolve_probing_deterministic_time_limit': 3, 'encode_complex_linear_constraint_with_integer': False, 'ignore_subsolvers:default_lp': True, 'ignore_subsolvers:fixed': False, 'ignore_subsolvers:no_lp': False, 'ignore_subsolvers:max_lp': True, 'ignore_subsolvers:pseudo_costs': False, 'ignore_subsolvers:reduced_costs': True, 'ignore_subsolvers:quick_restart': True, 'ignore_subsolvers:quick_restart_no_lp': False, 'ignore_subsolvers:lb_tree_search': True, 'ignore_subsolvers:probing': True, 'search_branching': 3, 'repair_hint': False, 'use_lns_only': False, 'use_lb_relax_lns': True, 'use_objective_lb_search': False, 'use_objective_shaving_search': False, 'optimize_with_core': False, 'feasibility_jump_linearization_level': 0, 'fp_rounding': 1, 'diversify_lns_params': True, 'polish_lp_solution': False, 'linearization_level': 0, 'add_objective_cut': True, 'cut_level': 0, 'max_all_diff_cut_size': 1, 'symmetry_level': 1}. Best is trial 4 with value: 132805.0.\n",
      "[I 2024-08-16 16:38:40,172] Trial 23 finished with value: 132805.0 and parameters: {'preferred_variable_order': 1, 'use_erwa_heuristic': False, 'also_bump_variables_in_conflict_reasons': False, 'binary_minimization_algorithm': 3, 'clause_cleanup_protection': 1, 'presolve_bve_threshold': 1, 'max_presolve_iterations': 0, 'cp_model_probing_level': 2, 'presolve_probing_deterministic_time_limit': 4, 'encode_complex_linear_constraint_with_integer': False, 'ignore_subsolvers:default_lp': True, 'ignore_subsolvers:fixed': False, 'ignore_subsolvers:no_lp': False, 'ignore_subsolvers:max_lp': True, 'ignore_subsolvers:pseudo_costs': False, 'ignore_subsolvers:reduced_costs': True, 'ignore_subsolvers:quick_restart': True, 'ignore_subsolvers:quick_restart_no_lp': False, 'ignore_subsolvers:lb_tree_search': True, 'ignore_subsolvers:probing': True, 'search_branching': 7, 'repair_hint': False, 'use_lns_only': False, 'use_lb_relax_lns': True, 'use_objective_lb_search': False, 'use_objective_shaving_search': False, 'optimize_with_core': False, 'feasibility_jump_linearization_level': 1, 'fp_rounding': 1, 'diversify_lns_params': True, 'polish_lp_solution': False, 'linearization_level': 0, 'add_objective_cut': True, 'cut_level': 0, 'max_all_diff_cut_size': 0, 'symmetry_level': 0}. Best is trial 4 with value: 132805.0.\n",
      "[I 2024-08-16 16:38:42,809] Trial 24 finished with value: 132805.0 and parameters: {'preferred_variable_order': 1, 'use_erwa_heuristic': False, 'also_bump_variables_in_conflict_reasons': False, 'binary_minimization_algorithm': 3, 'clause_cleanup_protection': 2, 'presolve_bve_threshold': 0, 'max_presolve_iterations': 1, 'cp_model_probing_level': 1, 'presolve_probing_deterministic_time_limit': 3, 'encode_complex_linear_constraint_with_integer': False, 'ignore_subsolvers:default_lp': True, 'ignore_subsolvers:fixed': False, 'ignore_subsolvers:no_lp': False, 'ignore_subsolvers:max_lp': True, 'ignore_subsolvers:pseudo_costs': False, 'ignore_subsolvers:reduced_costs': True, 'ignore_subsolvers:quick_restart': True, 'ignore_subsolvers:quick_restart_no_lp': False, 'ignore_subsolvers:lb_tree_search': True, 'ignore_subsolvers:probing': True, 'search_branching': 3, 'repair_hint': False, 'use_lns_only': False, 'use_lb_relax_lns': True, 'use_objective_lb_search': False, 'use_objective_shaving_search': False, 'optimize_with_core': False, 'feasibility_jump_linearization_level': 2, 'fp_rounding': 1, 'diversify_lns_params': True, 'polish_lp_solution': False, 'linearization_level': 0, 'add_objective_cut': True, 'cut_level': 0, 'max_all_diff_cut_size': 2, 'symmetry_level': 1}. Best is trial 4 with value: 132805.0.\n",
      "[I 2024-08-16 16:38:45,440] Trial 25 finished with value: 132752.8 and parameters: {'preferred_variable_order': 0, 'use_erwa_heuristic': False, 'also_bump_variables_in_conflict_reasons': False, 'binary_minimization_algorithm': 4, 'clause_cleanup_protection': 1, 'presolve_bve_threshold': 1, 'max_presolve_iterations': 2, 'cp_model_probing_level': 2, 'presolve_probing_deterministic_time_limit': 2, 'encode_complex_linear_constraint_with_integer': False, 'ignore_subsolvers:default_lp': True, 'ignore_subsolvers:fixed': False, 'ignore_subsolvers:no_lp': False, 'ignore_subsolvers:max_lp': True, 'ignore_subsolvers:pseudo_costs': False, 'ignore_subsolvers:reduced_costs': True, 'ignore_subsolvers:quick_restart': True, 'ignore_subsolvers:quick_restart_no_lp': False, 'ignore_subsolvers:lb_tree_search': True, 'ignore_subsolvers:probing': True, 'search_branching': 4, 'repair_hint': False, 'use_lns_only': False, 'use_lb_relax_lns': True, 'use_objective_lb_search': False, 'use_objective_shaving_search': False, 'optimize_with_core': False, 'feasibility_jump_linearization_level': 0, 'fp_rounding': 1, 'diversify_lns_params': True, 'polish_lp_solution': False, 'linearization_level': 1, 'add_objective_cut': True, 'cut_level': 0, 'max_all_diff_cut_size': 1, 'symmetry_level': 0}. Best is trial 4 with value: 132805.0.\n",
      "[I 2024-08-16 16:38:46,000] Trial 26 finished with value: 128410.0 and parameters: {'preferred_variable_order': 2, 'use_erwa_heuristic': False, 'also_bump_variables_in_conflict_reasons': True, 'binary_minimization_algorithm': 0, 'clause_cleanup_protection': 2, 'presolve_bve_threshold': 2, 'max_presolve_iterations': 1, 'cp_model_probing_level': 2, 'presolve_probing_deterministic_time_limit': 2, 'encode_complex_linear_constraint_with_integer': True, 'ignore_subsolvers:default_lp': False, 'ignore_subsolvers:fixed': False, 'ignore_subsolvers:no_lp': True, 'ignore_subsolvers:max_lp': False, 'ignore_subsolvers:pseudo_costs': True, 'ignore_subsolvers:reduced_costs': True, 'ignore_subsolvers:quick_restart': False, 'ignore_subsolvers:quick_restart_no_lp': True, 'ignore_subsolvers:lb_tree_search': True, 'ignore_subsolvers:probing': True, 'search_branching': 6, 'repair_hint': True, 'use_lns_only': True, 'use_lb_relax_lns': False, 'use_objective_lb_search': False, 'use_objective_shaving_search': True, 'optimize_with_core': True, 'feasibility_jump_linearization_level': 1, 'fp_rounding': 3, 'diversify_lns_params': False, 'polish_lp_solution': False, 'linearization_level': 0, 'add_objective_cut': False, 'cut_level': 1, 'max_all_diff_cut_size': 0, 'symmetry_level': 1}. Best is trial 4 with value: 132805.0.\n"
     ]
    },
    {
     "name": "stdout",
     "output_type": "stream",
     "text": [
      "Returning knockout result\n"
     ]
    },
    {
     "name": "stderr",
     "output_type": "stream",
     "text": [
      "[I 2024-08-16 16:38:48,648] Trial 27 finished with value: 132805.0 and parameters: {'preferred_variable_order': 1, 'use_erwa_heuristic': False, 'also_bump_variables_in_conflict_reasons': False, 'binary_minimization_algorithm': 4, 'clause_cleanup_protection': 1, 'presolve_bve_threshold': 1, 'max_presolve_iterations': 2, 'cp_model_probing_level': 1, 'presolve_probing_deterministic_time_limit': 3, 'encode_complex_linear_constraint_with_integer': False, 'ignore_subsolvers:default_lp': True, 'ignore_subsolvers:fixed': False, 'ignore_subsolvers:no_lp': False, 'ignore_subsolvers:max_lp': True, 'ignore_subsolvers:pseudo_costs': False, 'ignore_subsolvers:reduced_costs': True, 'ignore_subsolvers:quick_restart': True, 'ignore_subsolvers:quick_restart_no_lp': False, 'ignore_subsolvers:lb_tree_search': True, 'ignore_subsolvers:probing': False, 'search_branching': 3, 'repair_hint': False, 'use_lns_only': False, 'use_lb_relax_lns': True, 'use_objective_lb_search': True, 'use_objective_shaving_search': False, 'optimize_with_core': False, 'feasibility_jump_linearization_level': 0, 'fp_rounding': 0, 'diversify_lns_params': True, 'polish_lp_solution': False, 'linearization_level': 0, 'add_objective_cut': True, 'cut_level': 0, 'max_all_diff_cut_size': 1, 'symmetry_level': 0}. Best is trial 4 with value: 132805.0.\n",
      "[I 2024-08-16 16:38:51,319] Trial 28 finished with value: 132805.0 and parameters: {'preferred_variable_order': 0, 'use_erwa_heuristic': True, 'also_bump_variables_in_conflict_reasons': False, 'binary_minimization_algorithm': 0, 'clause_cleanup_protection': 0, 'presolve_bve_threshold': 0, 'max_presolve_iterations': 0, 'cp_model_probing_level': 2, 'presolve_probing_deterministic_time_limit': 4, 'encode_complex_linear_constraint_with_integer': True, 'ignore_subsolvers:default_lp': True, 'ignore_subsolvers:fixed': False, 'ignore_subsolvers:no_lp': False, 'ignore_subsolvers:max_lp': False, 'ignore_subsolvers:pseudo_costs': False, 'ignore_subsolvers:reduced_costs': False, 'ignore_subsolvers:quick_restart': True, 'ignore_subsolvers:quick_restart_no_lp': True, 'ignore_subsolvers:lb_tree_search': False, 'ignore_subsolvers:probing': True, 'search_branching': 6, 'repair_hint': True, 'use_lns_only': False, 'use_lb_relax_lns': True, 'use_objective_lb_search': False, 'use_objective_shaving_search': False, 'optimize_with_core': False, 'feasibility_jump_linearization_level': 1, 'fp_rounding': 2, 'diversify_lns_params': False, 'polish_lp_solution': True, 'linearization_level': 1, 'add_objective_cut': False, 'cut_level': 1, 'max_all_diff_cut_size': 2, 'symmetry_level': 1}. Best is trial 4 with value: 132805.0.\n",
      "[I 2024-08-16 16:38:53,964] Trial 29 finished with value: 131793.6 and parameters: {'preferred_variable_order': 1, 'use_erwa_heuristic': False, 'also_bump_variables_in_conflict_reasons': False, 'binary_minimization_algorithm': 1, 'clause_cleanup_protection': 2, 'presolve_bve_threshold': 1, 'max_presolve_iterations': 1, 'cp_model_probing_level': 2, 'presolve_probing_deterministic_time_limit': 4, 'encode_complex_linear_constraint_with_integer': False, 'ignore_subsolvers:default_lp': False, 'ignore_subsolvers:fixed': False, 'ignore_subsolvers:no_lp': False, 'ignore_subsolvers:max_lp': False, 'ignore_subsolvers:pseudo_costs': False, 'ignore_subsolvers:reduced_costs': False, 'ignore_subsolvers:quick_restart': False, 'ignore_subsolvers:quick_restart_no_lp': False, 'ignore_subsolvers:lb_tree_search': False, 'ignore_subsolvers:probing': False, 'search_branching': 0, 'repair_hint': False, 'use_lns_only': False, 'use_lb_relax_lns': False, 'use_objective_lb_search': False, 'use_objective_shaving_search': False, 'optimize_with_core': False, 'feasibility_jump_linearization_level': 2, 'fp_rounding': 1, 'diversify_lns_params': False, 'polish_lp_solution': False, 'linearization_level': 1, 'add_objective_cut': False, 'cut_level': 1, 'max_all_diff_cut_size': 1, 'symmetry_level': 2}. Best is trial 4 with value: 132805.0.\n",
      "[I 2024-08-16 16:38:56,584] Trial 30 finished with value: 132725.0 and parameters: {'preferred_variable_order': 0, 'use_erwa_heuristic': False, 'also_bump_variables_in_conflict_reasons': False, 'binary_minimization_algorithm': 3, 'clause_cleanup_protection': 0, 'presolve_bve_threshold': 1, 'max_presolve_iterations': 2, 'cp_model_probing_level': 2, 'presolve_probing_deterministic_time_limit': 3, 'encode_complex_linear_constraint_with_integer': False, 'ignore_subsolvers:default_lp': True, 'ignore_subsolvers:fixed': False, 'ignore_subsolvers:no_lp': False, 'ignore_subsolvers:max_lp': True, 'ignore_subsolvers:pseudo_costs': False, 'ignore_subsolvers:reduced_costs': True, 'ignore_subsolvers:quick_restart': True, 'ignore_subsolvers:quick_restart_no_lp': False, 'ignore_subsolvers:lb_tree_search': True, 'ignore_subsolvers:probing': False, 'search_branching': 4, 'repair_hint': False, 'use_lns_only': False, 'use_lb_relax_lns': True, 'use_objective_lb_search': True, 'use_objective_shaving_search': False, 'optimize_with_core': False, 'feasibility_jump_linearization_level': 2, 'fp_rounding': 3, 'diversify_lns_params': True, 'polish_lp_solution': False, 'linearization_level': 0, 'add_objective_cut': True, 'cut_level': 0, 'max_all_diff_cut_size': 0, 'symmetry_level': 2}. Best is trial 4 with value: 132805.0.\n",
      "[I 2024-08-16 16:38:56,637] Trial 31 finished with value: 132805.0 and parameters: {'preferred_variable_order': 0, 'use_erwa_heuristic': True, 'also_bump_variables_in_conflict_reasons': False, 'binary_minimization_algorithm': 4, 'clause_cleanup_protection': 2, 'presolve_bve_threshold': 0, 'max_presolve_iterations': 3, 'cp_model_probing_level': 1, 'presolve_probing_deterministic_time_limit': 3, 'encode_complex_linear_constraint_with_integer': True, 'ignore_subsolvers:default_lp': True, 'ignore_subsolvers:fixed': False, 'ignore_subsolvers:no_lp': False, 'ignore_subsolvers:max_lp': False, 'ignore_subsolvers:pseudo_costs': False, 'ignore_subsolvers:reduced_costs': False, 'ignore_subsolvers:quick_restart': True, 'ignore_subsolvers:quick_restart_no_lp': True, 'ignore_subsolvers:lb_tree_search': False, 'ignore_subsolvers:probing': False, 'search_branching': 4, 'repair_hint': False, 'use_lns_only': False, 'use_lb_relax_lns': True, 'use_objective_lb_search': True, 'use_objective_shaving_search': False, 'optimize_with_core': False, 'feasibility_jump_linearization_level': 0, 'fp_rounding': 2, 'diversify_lns_params': True, 'polish_lp_solution': True, 'linearization_level': 1, 'add_objective_cut': True, 'cut_level': 0, 'max_all_diff_cut_size': 2, 'symmetry_level': 1}. Best is trial 4 with value: 132805.0.\n",
      "[I 2024-08-16 16:38:59,237] Trial 32 finished with value: 131911.8 and parameters: {'preferred_variable_order': 0, 'use_erwa_heuristic': True, 'also_bump_variables_in_conflict_reasons': False, 'binary_minimization_algorithm': 4, 'clause_cleanup_protection': 2, 'presolve_bve_threshold': 0, 'max_presolve_iterations': 4, 'cp_model_probing_level': 1, 'presolve_probing_deterministic_time_limit': 3, 'encode_complex_linear_constraint_with_integer': True, 'ignore_subsolvers:default_lp': True, 'ignore_subsolvers:fixed': False, 'ignore_subsolvers:no_lp': False, 'ignore_subsolvers:max_lp': False, 'ignore_subsolvers:pseudo_costs': False, 'ignore_subsolvers:reduced_costs': False, 'ignore_subsolvers:quick_restart': True, 'ignore_subsolvers:quick_restart_no_lp': True, 'ignore_subsolvers:lb_tree_search': False, 'ignore_subsolvers:probing': False, 'search_branching': 4, 'repair_hint': False, 'use_lns_only': False, 'use_lb_relax_lns': True, 'use_objective_lb_search': True, 'use_objective_shaving_search': False, 'optimize_with_core': False, 'feasibility_jump_linearization_level': 0, 'fp_rounding': 2, 'diversify_lns_params': True, 'polish_lp_solution': True, 'linearization_level': 2, 'add_objective_cut': True, 'cut_level': 0, 'max_all_diff_cut_size': 2, 'symmetry_level': 1}. Best is trial 4 with value: 132805.0.\n",
      "[I 2024-08-16 16:39:01,856] Trial 33 finished with value: 132533.2 and parameters: {'preferred_variable_order': 0, 'use_erwa_heuristic': True, 'also_bump_variables_in_conflict_reasons': False, 'binary_minimization_algorithm': 4, 'clause_cleanup_protection': 2, 'presolve_bve_threshold': 0, 'max_presolve_iterations': 3, 'cp_model_probing_level': 1, 'presolve_probing_deterministic_time_limit': 2, 'encode_complex_linear_constraint_with_integer': True, 'ignore_subsolvers:default_lp': True, 'ignore_subsolvers:fixed': False, 'ignore_subsolvers:no_lp': False, 'ignore_subsolvers:max_lp': False, 'ignore_subsolvers:pseudo_costs': False, 'ignore_subsolvers:reduced_costs': False, 'ignore_subsolvers:quick_restart': True, 'ignore_subsolvers:quick_restart_no_lp': True, 'ignore_subsolvers:lb_tree_search': False, 'ignore_subsolvers:probing': False, 'search_branching': 4, 'repair_hint': False, 'use_lns_only': False, 'use_lb_relax_lns': True, 'use_objective_lb_search': True, 'use_objective_shaving_search': False, 'optimize_with_core': False, 'feasibility_jump_linearization_level': 0, 'fp_rounding': 2, 'diversify_lns_params': True, 'polish_lp_solution': True, 'linearization_level': 1, 'add_objective_cut': True, 'cut_level': 0, 'max_all_diff_cut_size': 2, 'symmetry_level': 1}. Best is trial 4 with value: 132805.0.\n",
      "[I 2024-08-16 16:39:02,427] Trial 34 finished with value: 76418.0 and parameters: {'preferred_variable_order': 0, 'use_erwa_heuristic': True, 'also_bump_variables_in_conflict_reasons': True, 'binary_minimization_algorithm': 4, 'clause_cleanup_protection': 2, 'presolve_bve_threshold': 0, 'max_presolve_iterations': 3, 'cp_model_probing_level': 1, 'presolve_probing_deterministic_time_limit': 3, 'encode_complex_linear_constraint_with_integer': True, 'ignore_subsolvers:default_lp': True, 'ignore_subsolvers:fixed': True, 'ignore_subsolvers:no_lp': True, 'ignore_subsolvers:max_lp': False, 'ignore_subsolvers:pseudo_costs': True, 'ignore_subsolvers:reduced_costs': False, 'ignore_subsolvers:quick_restart': True, 'ignore_subsolvers:quick_restart_no_lp': True, 'ignore_subsolvers:lb_tree_search': False, 'ignore_subsolvers:probing': False, 'search_branching': 8, 'repair_hint': False, 'use_lns_only': False, 'use_lb_relax_lns': False, 'use_objective_lb_search': True, 'use_objective_shaving_search': True, 'optimize_with_core': False, 'feasibility_jump_linearization_level': 0, 'fp_rounding': 2, 'diversify_lns_params': True, 'polish_lp_solution': True, 'linearization_level': 1, 'add_objective_cut': True, 'cut_level': 0, 'max_all_diff_cut_size': 2, 'symmetry_level': 2}. Best is trial 4 with value: 132805.0.\n"
     ]
    },
    {
     "name": "stdout",
     "output_type": "stream",
     "text": [
      "Returning knockout result\n"
     ]
    },
    {
     "name": "stderr",
     "output_type": "stream",
     "text": [
      "[I 2024-08-16 16:39:05,066] Trial 35 finished with value: 132805.0 and parameters: {'preferred_variable_order': 0, 'use_erwa_heuristic': True, 'also_bump_variables_in_conflict_reasons': False, 'binary_minimization_algorithm': 4, 'clause_cleanup_protection': 1, 'presolve_bve_threshold': 0, 'max_presolve_iterations': 4, 'cp_model_probing_level': 0, 'presolve_probing_deterministic_time_limit': 4, 'encode_complex_linear_constraint_with_integer': True, 'ignore_subsolvers:default_lp': True, 'ignore_subsolvers:fixed': True, 'ignore_subsolvers:no_lp': False, 'ignore_subsolvers:max_lp': False, 'ignore_subsolvers:pseudo_costs': False, 'ignore_subsolvers:reduced_costs': False, 'ignore_subsolvers:quick_restart': False, 'ignore_subsolvers:quick_restart_no_lp': True, 'ignore_subsolvers:lb_tree_search': False, 'ignore_subsolvers:probing': False, 'search_branching': 5, 'repair_hint': False, 'use_lns_only': False, 'use_lb_relax_lns': True, 'use_objective_lb_search': True, 'use_objective_shaving_search': False, 'optimize_with_core': False, 'feasibility_jump_linearization_level': 0, 'fp_rounding': 2, 'diversify_lns_params': True, 'polish_lp_solution': True, 'linearization_level': 0, 'add_objective_cut': True, 'cut_level': 0, 'max_all_diff_cut_size': 2, 'symmetry_level': 1}. Best is trial 4 with value: 132805.0.\n",
      "[I 2024-08-16 16:39:07,173] Trial 36 finished with value: 129630.0 and parameters: {'preferred_variable_order': 1, 'use_erwa_heuristic': True, 'also_bump_variables_in_conflict_reasons': False, 'binary_minimization_algorithm': 3, 'clause_cleanup_protection': 2, 'presolve_bve_threshold': 1, 'max_presolve_iterations': 3, 'cp_model_probing_level': 1, 'presolve_probing_deterministic_time_limit': 3, 'encode_complex_linear_constraint_with_integer': True, 'ignore_subsolvers:default_lp': False, 'ignore_subsolvers:fixed': False, 'ignore_subsolvers:no_lp': True, 'ignore_subsolvers:max_lp': True, 'ignore_subsolvers:pseudo_costs': True, 'ignore_subsolvers:reduced_costs': False, 'ignore_subsolvers:quick_restart': True, 'ignore_subsolvers:quick_restart_no_lp': False, 'ignore_subsolvers:lb_tree_search': False, 'ignore_subsolvers:probing': True, 'search_branching': 6, 'repair_hint': False, 'use_lns_only': True, 'use_lb_relax_lns': True, 'use_objective_lb_search': True, 'use_objective_shaving_search': True, 'optimize_with_core': True, 'feasibility_jump_linearization_level': 0, 'fp_rounding': 1, 'diversify_lns_params': False, 'polish_lp_solution': True, 'linearization_level': 1, 'add_objective_cut': True, 'cut_level': 1, 'max_all_diff_cut_size': 2, 'symmetry_level': 0}. Best is trial 4 with value: 132805.0.\n"
     ]
    },
    {
     "name": "stdout",
     "output_type": "stream",
     "text": [
      "Returning knockout result\n"
     ]
    },
    {
     "name": "stderr",
     "output_type": "stream",
     "text": [
      "[I 2024-08-16 16:39:09,831] Trial 37 finished with value: 132340.4 and parameters: {'preferred_variable_order': 0, 'use_erwa_heuristic': False, 'also_bump_variables_in_conflict_reasons': True, 'binary_minimization_algorithm': 4, 'clause_cleanup_protection': 1, 'presolve_bve_threshold': 1, 'max_presolve_iterations': 2, 'cp_model_probing_level': 2, 'presolve_probing_deterministic_time_limit': 1, 'encode_complex_linear_constraint_with_integer': False, 'ignore_subsolvers:default_lp': True, 'ignore_subsolvers:fixed': True, 'ignore_subsolvers:no_lp': False, 'ignore_subsolvers:max_lp': False, 'ignore_subsolvers:pseudo_costs': False, 'ignore_subsolvers:reduced_costs': True, 'ignore_subsolvers:quick_restart': False, 'ignore_subsolvers:quick_restart_no_lp': False, 'ignore_subsolvers:lb_tree_search': True, 'ignore_subsolvers:probing': False, 'search_branching': 4, 'repair_hint': True, 'use_lns_only': False, 'use_lb_relax_lns': False, 'use_objective_lb_search': False, 'use_objective_shaving_search': False, 'optimize_with_core': False, 'feasibility_jump_linearization_level': 0, 'fp_rounding': 2, 'diversify_lns_params': True, 'polish_lp_solution': False, 'linearization_level': 2, 'add_objective_cut': False, 'cut_level': 0, 'max_all_diff_cut_size': 1, 'symmetry_level': 1}. Best is trial 4 with value: 132805.0.\n",
      "[I 2024-08-16 16:39:12,453] Trial 38 finished with value: 132388.6 and parameters: {'preferred_variable_order': 0, 'use_erwa_heuristic': True, 'also_bump_variables_in_conflict_reasons': False, 'binary_minimization_algorithm': 2, 'clause_cleanup_protection': 2, 'presolve_bve_threshold': 2, 'max_presolve_iterations': 1, 'cp_model_probing_level': 0, 'presolve_probing_deterministic_time_limit': 4, 'encode_complex_linear_constraint_with_integer': True, 'ignore_subsolvers:default_lp': True, 'ignore_subsolvers:fixed': False, 'ignore_subsolvers:no_lp': True, 'ignore_subsolvers:max_lp': True, 'ignore_subsolvers:pseudo_costs': False, 'ignore_subsolvers:reduced_costs': True, 'ignore_subsolvers:quick_restart': True, 'ignore_subsolvers:quick_restart_no_lp': True, 'ignore_subsolvers:lb_tree_search': False, 'ignore_subsolvers:probing': True, 'search_branching': 2, 'repair_hint': True, 'use_lns_only': True, 'use_lb_relax_lns': True, 'use_objective_lb_search': True, 'use_objective_shaving_search': False, 'optimize_with_core': True, 'feasibility_jump_linearization_level': 0, 'fp_rounding': 3, 'diversify_lns_params': False, 'polish_lp_solution': True, 'linearization_level': 0, 'add_objective_cut': True, 'cut_level': 0, 'max_all_diff_cut_size': 2, 'symmetry_level': 2}. Best is trial 4 with value: 132805.0.\n",
      "[I 2024-08-16 16:39:13,026] Trial 39 finished with value: 130120.0 and parameters: {'preferred_variable_order': 1, 'use_erwa_heuristic': True, 'also_bump_variables_in_conflict_reasons': True, 'binary_minimization_algorithm': 1, 'clause_cleanup_protection': 1, 'presolve_bve_threshold': 0, 'max_presolve_iterations': 3, 'cp_model_probing_level': 1, 'presolve_probing_deterministic_time_limit': 3, 'encode_complex_linear_constraint_with_integer': False, 'ignore_subsolvers:default_lp': False, 'ignore_subsolvers:fixed': True, 'ignore_subsolvers:no_lp': False, 'ignore_subsolvers:max_lp': False, 'ignore_subsolvers:pseudo_costs': True, 'ignore_subsolvers:reduced_costs': False, 'ignore_subsolvers:quick_restart': True, 'ignore_subsolvers:quick_restart_no_lp': False, 'ignore_subsolvers:lb_tree_search': True, 'ignore_subsolvers:probing': False, 'search_branching': 8, 'repair_hint': False, 'use_lns_only': False, 'use_lb_relax_lns': True, 'use_objective_lb_search': False, 'use_objective_shaving_search': True, 'optimize_with_core': False, 'feasibility_jump_linearization_level': 2, 'fp_rounding': 0, 'diversify_lns_params': True, 'polish_lp_solution': False, 'linearization_level': 1, 'add_objective_cut': False, 'cut_level': 1, 'max_all_diff_cut_size': 0, 'symmetry_level': 0}. Best is trial 4 with value: 132805.0.\n"
     ]
    },
    {
     "name": "stdout",
     "output_type": "stream",
     "text": [
      "Returning knockout result\n"
     ]
    },
    {
     "name": "stderr",
     "output_type": "stream",
     "text": [
      "[I 2024-08-16 16:39:15,668] Trial 40 finished with value: 132805.0 and parameters: {'preferred_variable_order': 2, 'use_erwa_heuristic': False, 'also_bump_variables_in_conflict_reasons': False, 'binary_minimization_algorithm': 0, 'clause_cleanup_protection': 2, 'presolve_bve_threshold': 1, 'max_presolve_iterations': 2, 'cp_model_probing_level': 1, 'presolve_probing_deterministic_time_limit': 2, 'encode_complex_linear_constraint_with_integer': True, 'ignore_subsolvers:default_lp': True, 'ignore_subsolvers:fixed': False, 'ignore_subsolvers:no_lp': True, 'ignore_subsolvers:max_lp': False, 'ignore_subsolvers:pseudo_costs': False, 'ignore_subsolvers:reduced_costs': True, 'ignore_subsolvers:quick_restart': False, 'ignore_subsolvers:quick_restart_no_lp': True, 'ignore_subsolvers:lb_tree_search': False, 'ignore_subsolvers:probing': True, 'search_branching': 6, 'repair_hint': False, 'use_lns_only': False, 'use_lb_relax_lns': False, 'use_objective_lb_search': True, 'use_objective_shaving_search': False, 'optimize_with_core': False, 'feasibility_jump_linearization_level': 0, 'fp_rounding': 2, 'diversify_lns_params': True, 'polish_lp_solution': True, 'linearization_level': 0, 'add_objective_cut': True, 'cut_level': 2, 'max_all_diff_cut_size': 1, 'symmetry_level': 0}. Best is trial 4 with value: 132805.0.\n",
      "[I 2024-08-16 16:39:15,727] Trial 41 finished with value: 132805.0 and parameters: {'preferred_variable_order': 2, 'use_erwa_heuristic': False, 'also_bump_variables_in_conflict_reasons': False, 'binary_minimization_algorithm': 0, 'clause_cleanup_protection': 0, 'presolve_bve_threshold': 2, 'max_presolve_iterations': 0, 'cp_model_probing_level': 2, 'presolve_probing_deterministic_time_limit': 1, 'encode_complex_linear_constraint_with_integer': False, 'ignore_subsolvers:default_lp': True, 'ignore_subsolvers:fixed': False, 'ignore_subsolvers:no_lp': False, 'ignore_subsolvers:max_lp': False, 'ignore_subsolvers:pseudo_costs': False, 'ignore_subsolvers:reduced_costs': False, 'ignore_subsolvers:quick_restart': True, 'ignore_subsolvers:quick_restart_no_lp': True, 'ignore_subsolvers:lb_tree_search': True, 'ignore_subsolvers:probing': False, 'search_branching': 6, 'repair_hint': False, 'use_lns_only': False, 'use_lb_relax_lns': True, 'use_objective_lb_search': True, 'use_objective_shaving_search': False, 'optimize_with_core': False, 'feasibility_jump_linearization_level': 1, 'fp_rounding': 3, 'diversify_lns_params': False, 'polish_lp_solution': False, 'linearization_level': 0, 'add_objective_cut': False, 'cut_level': 2, 'max_all_diff_cut_size': 0, 'symmetry_level': 0}. Best is trial 4 with value: 132805.0.\n",
      "[I 2024-08-16 16:39:15,783] Trial 42 finished with value: 132805.0 and parameters: {'preferred_variable_order': 2, 'use_erwa_heuristic': False, 'also_bump_variables_in_conflict_reasons': False, 'binary_minimization_algorithm': 0, 'clause_cleanup_protection': 0, 'presolve_bve_threshold': 2, 'max_presolve_iterations': 0, 'cp_model_probing_level': 2, 'presolve_probing_deterministic_time_limit': 1, 'encode_complex_linear_constraint_with_integer': False, 'ignore_subsolvers:default_lp': True, 'ignore_subsolvers:fixed': False, 'ignore_subsolvers:no_lp': False, 'ignore_subsolvers:max_lp': False, 'ignore_subsolvers:pseudo_costs': False, 'ignore_subsolvers:reduced_costs': False, 'ignore_subsolvers:quick_restart': True, 'ignore_subsolvers:quick_restart_no_lp': True, 'ignore_subsolvers:lb_tree_search': True, 'ignore_subsolvers:probing': False, 'search_branching': 6, 'repair_hint': False, 'use_lns_only': False, 'use_lb_relax_lns': True, 'use_objective_lb_search': True, 'use_objective_shaving_search': False, 'optimize_with_core': False, 'feasibility_jump_linearization_level': 1, 'fp_rounding': 3, 'diversify_lns_params': False, 'polish_lp_solution': False, 'linearization_level': 0, 'add_objective_cut': False, 'cut_level': 2, 'max_all_diff_cut_size': 0, 'symmetry_level': 0}. Best is trial 4 with value: 132805.0.\n",
      "[I 2024-08-16 16:39:16,874] Trial 43 finished with value: 130399.0 and parameters: {'preferred_variable_order': 2, 'use_erwa_heuristic': False, 'also_bump_variables_in_conflict_reasons': False, 'binary_minimization_algorithm': 0, 'clause_cleanup_protection': 0, 'presolve_bve_threshold': 2, 'max_presolve_iterations': 0, 'cp_model_probing_level': 2, 'presolve_probing_deterministic_time_limit': 0, 'encode_complex_linear_constraint_with_integer': False, 'ignore_subsolvers:default_lp': True, 'ignore_subsolvers:fixed': False, 'ignore_subsolvers:no_lp': False, 'ignore_subsolvers:max_lp': False, 'ignore_subsolvers:pseudo_costs': False, 'ignore_subsolvers:reduced_costs': False, 'ignore_subsolvers:quick_restart': True, 'ignore_subsolvers:quick_restart_no_lp': True, 'ignore_subsolvers:lb_tree_search': True, 'ignore_subsolvers:probing': False, 'search_branching': 6, 'repair_hint': False, 'use_lns_only': False, 'use_lb_relax_lns': True, 'use_objective_lb_search': True, 'use_objective_shaving_search': False, 'optimize_with_core': False, 'feasibility_jump_linearization_level': 1, 'fp_rounding': 3, 'diversify_lns_params': False, 'polish_lp_solution': False, 'linearization_level': 0, 'add_objective_cut': False, 'cut_level': 2, 'max_all_diff_cut_size': 0, 'symmetry_level': 0}. Best is trial 4 with value: 132805.0.\n"
     ]
    },
    {
     "name": "stdout",
     "output_type": "stream",
     "text": [
      "Returning knockout result\n"
     ]
    },
    {
     "name": "stderr",
     "output_type": "stream",
     "text": [
      "[I 2024-08-16 16:39:17,475] Trial 44 finished with value: 120845.0 and parameters: {'preferred_variable_order': 1, 'use_erwa_heuristic': False, 'also_bump_variables_in_conflict_reasons': False, 'binary_minimization_algorithm': 0, 'clause_cleanup_protection': 0, 'presolve_bve_threshold': 1, 'max_presolve_iterations': 0, 'cp_model_probing_level': 2, 'presolve_probing_deterministic_time_limit': 1, 'encode_complex_linear_constraint_with_integer': False, 'ignore_subsolvers:default_lp': True, 'ignore_subsolvers:fixed': False, 'ignore_subsolvers:no_lp': False, 'ignore_subsolvers:max_lp': False, 'ignore_subsolvers:pseudo_costs': False, 'ignore_subsolvers:reduced_costs': False, 'ignore_subsolvers:quick_restart': True, 'ignore_subsolvers:quick_restart_no_lp': True, 'ignore_subsolvers:lb_tree_search': True, 'ignore_subsolvers:probing': False, 'search_branching': 7, 'repair_hint': True, 'use_lns_only': False, 'use_lb_relax_lns': True, 'use_objective_lb_search': True, 'use_objective_shaving_search': False, 'optimize_with_core': False, 'feasibility_jump_linearization_level': 1, 'fp_rounding': 3, 'diversify_lns_params': False, 'polish_lp_solution': False, 'linearization_level': 0, 'add_objective_cut': False, 'cut_level': 1, 'max_all_diff_cut_size': 0, 'symmetry_level': 0}. Best is trial 4 with value: 132805.0.\n"
     ]
    },
    {
     "name": "stdout",
     "output_type": "stream",
     "text": [
      "Returning knockout result\n"
     ]
    },
    {
     "name": "stderr",
     "output_type": "stream",
     "text": [
      "[I 2024-08-16 16:39:20,093] Trial 45 finished with value: 132189.2 and parameters: {'preferred_variable_order': 1, 'use_erwa_heuristic': False, 'also_bump_variables_in_conflict_reasons': False, 'binary_minimization_algorithm': 0, 'clause_cleanup_protection': 0, 'presolve_bve_threshold': 2, 'max_presolve_iterations': 1, 'cp_model_probing_level': 2, 'presolve_probing_deterministic_time_limit': 2, 'encode_complex_linear_constraint_with_integer': False, 'ignore_subsolvers:default_lp': True, 'ignore_subsolvers:fixed': False, 'ignore_subsolvers:no_lp': False, 'ignore_subsolvers:max_lp': False, 'ignore_subsolvers:pseudo_costs': False, 'ignore_subsolvers:reduced_costs': False, 'ignore_subsolvers:quick_restart': True, 'ignore_subsolvers:quick_restart_no_lp': True, 'ignore_subsolvers:lb_tree_search': True, 'ignore_subsolvers:probing': False, 'search_branching': 3, 'repair_hint': False, 'use_lns_only': True, 'use_lb_relax_lns': True, 'use_objective_lb_search': True, 'use_objective_shaving_search': False, 'optimize_with_core': False, 'feasibility_jump_linearization_level': 1, 'fp_rounding': 3, 'diversify_lns_params': False, 'polish_lp_solution': False, 'linearization_level': 0, 'add_objective_cut': False, 'cut_level': 1, 'max_all_diff_cut_size': 1, 'symmetry_level': 0}. Best is trial 4 with value: 132805.0.\n",
      "[I 2024-08-16 16:39:21,133] Trial 46 finished with value: 102165.0 and parameters: {'preferred_variable_order': 1, 'use_erwa_heuristic': True, 'also_bump_variables_in_conflict_reasons': False, 'binary_minimization_algorithm': 4, 'clause_cleanup_protection': 2, 'presolve_bve_threshold': 1, 'max_presolve_iterations': 4, 'cp_model_probing_level': 1, 'presolve_probing_deterministic_time_limit': 3, 'encode_complex_linear_constraint_with_integer': False, 'ignore_subsolvers:default_lp': True, 'ignore_subsolvers:fixed': False, 'ignore_subsolvers:no_lp': False, 'ignore_subsolvers:max_lp': True, 'ignore_subsolvers:pseudo_costs': False, 'ignore_subsolvers:reduced_costs': False, 'ignore_subsolvers:quick_restart': True, 'ignore_subsolvers:quick_restart_no_lp': True, 'ignore_subsolvers:lb_tree_search': True, 'ignore_subsolvers:probing': False, 'search_branching': 1, 'repair_hint': False, 'use_lns_only': False, 'use_lb_relax_lns': True, 'use_objective_lb_search': True, 'use_objective_shaving_search': False, 'optimize_with_core': True, 'feasibility_jump_linearization_level': 0, 'fp_rounding': 3, 'diversify_lns_params': False, 'polish_lp_solution': False, 'linearization_level': 2, 'add_objective_cut': False, 'cut_level': 2, 'max_all_diff_cut_size': 0, 'symmetry_level': 0}. Best is trial 4 with value: 132805.0.\n"
     ]
    },
    {
     "name": "stdout",
     "output_type": "stream",
     "text": [
      "Returning knockout result\n"
     ]
    },
    {
     "name": "stderr",
     "output_type": "stream",
     "text": [
      "[I 2024-08-16 16:39:23,764] Trial 47 finished with value: 131248.4 and parameters: {'preferred_variable_order': 0, 'use_erwa_heuristic': False, 'also_bump_variables_in_conflict_reasons': False, 'binary_minimization_algorithm': 3, 'clause_cleanup_protection': 2, 'presolve_bve_threshold': 0, 'max_presolve_iterations': 2, 'cp_model_probing_level': 2, 'presolve_probing_deterministic_time_limit': 2, 'encode_complex_linear_constraint_with_integer': True, 'ignore_subsolvers:default_lp': True, 'ignore_subsolvers:fixed': True, 'ignore_subsolvers:no_lp': False, 'ignore_subsolvers:max_lp': False, 'ignore_subsolvers:pseudo_costs': False, 'ignore_subsolvers:reduced_costs': False, 'ignore_subsolvers:quick_restart': True, 'ignore_subsolvers:quick_restart_no_lp': True, 'ignore_subsolvers:lb_tree_search': False, 'ignore_subsolvers:probing': False, 'search_branching': 0, 'repair_hint': True, 'use_lns_only': False, 'use_lb_relax_lns': True, 'use_objective_lb_search': True, 'use_objective_shaving_search': False, 'optimize_with_core': False, 'feasibility_jump_linearization_level': 1, 'fp_rounding': 1, 'diversify_lns_params': False, 'polish_lp_solution': True, 'linearization_level': 0, 'add_objective_cut': False, 'cut_level': 0, 'max_all_diff_cut_size': 0, 'symmetry_level': 0}. Best is trial 4 with value: 132805.0.\n",
      "[I 2024-08-16 16:39:24,850] Trial 48 finished with value: 128213.0 and parameters: {'preferred_variable_order': 2, 'use_erwa_heuristic': True, 'also_bump_variables_in_conflict_reasons': False, 'binary_minimization_algorithm': 2, 'clause_cleanup_protection': 0, 'presolve_bve_threshold': 2, 'max_presolve_iterations': 1, 'cp_model_probing_level': 1, 'presolve_probing_deterministic_time_limit': 0, 'encode_complex_linear_constraint_with_integer': False, 'ignore_subsolvers:default_lp': True, 'ignore_subsolvers:fixed': False, 'ignore_subsolvers:no_lp': False, 'ignore_subsolvers:max_lp': True, 'ignore_subsolvers:pseudo_costs': False, 'ignore_subsolvers:reduced_costs': True, 'ignore_subsolvers:quick_restart': True, 'ignore_subsolvers:quick_restart_no_lp': False, 'ignore_subsolvers:lb_tree_search': True, 'ignore_subsolvers:probing': False, 'search_branching': 5, 'repair_hint': False, 'use_lns_only': False, 'use_lb_relax_lns': True, 'use_objective_lb_search': True, 'use_objective_shaving_search': False, 'optimize_with_core': False, 'feasibility_jump_linearization_level': 0, 'fp_rounding': 0, 'diversify_lns_params': True, 'polish_lp_solution': False, 'linearization_level': 0, 'add_objective_cut': True, 'cut_level': 1, 'max_all_diff_cut_size': 2, 'symmetry_level': 1}. Best is trial 4 with value: 132805.0.\n"
     ]
    },
    {
     "name": "stdout",
     "output_type": "stream",
     "text": [
      "Returning knockout result\n"
     ]
    },
    {
     "name": "stderr",
     "output_type": "stream",
     "text": [
      "[I 2024-08-16 16:39:25,933] Trial 49 finished with value: 101984.0 and parameters: {'preferred_variable_order': 1, 'use_erwa_heuristic': False, 'also_bump_variables_in_conflict_reasons': True, 'binary_minimization_algorithm': 0, 'clause_cleanup_protection': 2, 'presolve_bve_threshold': 1, 'max_presolve_iterations': 0, 'cp_model_probing_level': 2, 'presolve_probing_deterministic_time_limit': 3, 'encode_complex_linear_constraint_with_integer': True, 'ignore_subsolvers:default_lp': False, 'ignore_subsolvers:fixed': False, 'ignore_subsolvers:no_lp': False, 'ignore_subsolvers:max_lp': False, 'ignore_subsolvers:pseudo_costs': True, 'ignore_subsolvers:reduced_costs': False, 'ignore_subsolvers:quick_restart': True, 'ignore_subsolvers:quick_restart_no_lp': True, 'ignore_subsolvers:lb_tree_search': False, 'ignore_subsolvers:probing': False, 'search_branching': 4, 'repair_hint': True, 'use_lns_only': False, 'use_lb_relax_lns': True, 'use_objective_lb_search': True, 'use_objective_shaving_search': True, 'optimize_with_core': False, 'feasibility_jump_linearization_level': 2, 'fp_rounding': 2, 'diversify_lns_params': False, 'polish_lp_solution': True, 'linearization_level': 0, 'add_objective_cut': True, 'cut_level': 0, 'max_all_diff_cut_size': 1, 'symmetry_level': 1}. Best is trial 4 with value: 132805.0.\n"
     ]
    },
    {
     "name": "stdout",
     "output_type": "stream",
     "text": [
      "Returning knockout result\n",
      "Best parameters: {'preferred_variable_order': 1, 'use_erwa_heuristic': True, 'binary_minimization_algorithm': 4, 'clause_cleanup_protection': 2, 'presolve_probing_deterministic_time_limit': 10.0, 'encode_complex_linear_constraint_with_integer': True, 'ignore_subsolvers': ['default_lp', 'max_lp', 'quick_restart', 'quick_restart_no_lp', 'lb_tree_search'], 'search_branching': 6, 'repair_hint': True, 'use_lb_relax_lns': True, 'use_objective_lb_search': True, 'feasibility_jump_linearization_level': 0, 'fp_rounding': 3, 'diversify_lns_params': True, 'linearization_level': 0, 'add_objective_cut': True, 'cut_level': 0, 'max_all_diff_cut_size': 128, 'symmetry_level': 0}. Score: 132805.0\n",
      "Checking which parameter changes obtained by the hyperparameter optimization are essential...\n",
      "optuna_baseline MultiResult(scores=[132805.0, 132805.0, 132805.0, 132805.0, 132805.0, 132805.0, 132805.0, 132805.0, 132805.0, 132805.0], params={'preferred_variable_order': 1, 'use_erwa_heuristic': True, 'binary_minimization_algorithm': 4, 'clause_cleanup_protection': 2, 'presolve_probing_deterministic_time_limit': 10.0, 'encode_complex_linear_constraint_with_integer': True, 'ignore_subsolvers': ['default_lp', 'max_lp', 'quick_restart', 'quick_restart_no_lp', 'lb_tree_search'], 'search_branching': 6, 'repair_hint': True, 'use_lb_relax_lns': True, 'use_objective_lb_search': True, 'feasibility_jump_linearization_level': 0, 'fp_rounding': 3, 'diversify_lns_params': True, 'linearization_level': 0, 'add_objective_cut': True, 'cut_level': 0, 'max_all_diff_cut_size': 128, 'symmetry_level': 0})\n",
      "Evaluating resetting parameter 'preferred_variable_order' to default...\n",
      "Returning knockout result\n",
      "score MultiResult(scores=[132805.0], params={'use_erwa_heuristic': True, 'binary_minimization_algorithm': 4, 'clause_cleanup_protection': 2, 'presolve_probing_deterministic_time_limit': 10.0, 'encode_complex_linear_constraint_with_integer': True, 'ignore_subsolvers': ['default_lp', 'max_lp', 'quick_restart', 'quick_restart_no_lp', 'lb_tree_search'], 'search_branching': 6, 'repair_hint': True, 'use_lb_relax_lns': True, 'use_objective_lb_search': True, 'feasibility_jump_linearization_level': 0, 'fp_rounding': 3, 'diversify_lns_params': True, 'linearization_level': 0, 'add_objective_cut': True, 'cut_level': 0, 'max_all_diff_cut_size': 128, 'symmetry_level': 0})\n",
      "Seems like we can drop parameter 'preferred_variable_order' from the optimized parameters.\n",
      "Evaluating resetting parameter 'use_erwa_heuristic' to default...\n",
      "Returning knockout result\n",
      "score MultiResult(scores=[132805.0], params={'preferred_variable_order': 1, 'binary_minimization_algorithm': 4, 'clause_cleanup_protection': 2, 'presolve_probing_deterministic_time_limit': 10.0, 'encode_complex_linear_constraint_with_integer': True, 'ignore_subsolvers': ['default_lp', 'max_lp', 'quick_restart', 'quick_restart_no_lp', 'lb_tree_search'], 'search_branching': 6, 'repair_hint': True, 'use_lb_relax_lns': True, 'use_objective_lb_search': True, 'feasibility_jump_linearization_level': 0, 'fp_rounding': 3, 'diversify_lns_params': True, 'linearization_level': 0, 'add_objective_cut': True, 'cut_level': 0, 'max_all_diff_cut_size': 128, 'symmetry_level': 0})\n",
      "Seems like we can drop parameter 'use_erwa_heuristic' from the optimized parameters.\n",
      "Evaluating resetting parameter 'binary_minimization_algorithm' to default...\n",
      "Returning knockout result\n",
      "score MultiResult(scores=[132805.0], params={'preferred_variable_order': 1, 'use_erwa_heuristic': True, 'clause_cleanup_protection': 2, 'presolve_probing_deterministic_time_limit': 10.0, 'encode_complex_linear_constraint_with_integer': True, 'ignore_subsolvers': ['default_lp', 'max_lp', 'quick_restart', 'quick_restart_no_lp', 'lb_tree_search'], 'search_branching': 6, 'repair_hint': True, 'use_lb_relax_lns': True, 'use_objective_lb_search': True, 'feasibility_jump_linearization_level': 0, 'fp_rounding': 3, 'diversify_lns_params': True, 'linearization_level': 0, 'add_objective_cut': True, 'cut_level': 0, 'max_all_diff_cut_size': 128, 'symmetry_level': 0})\n",
      "Seems like we can drop parameter 'binary_minimization_algorithm' from the optimized parameters.\n",
      "Evaluating resetting parameter 'clause_cleanup_protection' to default...\n",
      "Returning knockout result\n",
      "score MultiResult(scores=[132805.0], params={'preferred_variable_order': 1, 'use_erwa_heuristic': True, 'binary_minimization_algorithm': 4, 'presolve_probing_deterministic_time_limit': 10.0, 'encode_complex_linear_constraint_with_integer': True, 'ignore_subsolvers': ['default_lp', 'max_lp', 'quick_restart', 'quick_restart_no_lp', 'lb_tree_search'], 'search_branching': 6, 'repair_hint': True, 'use_lb_relax_lns': True, 'use_objective_lb_search': True, 'feasibility_jump_linearization_level': 0, 'fp_rounding': 3, 'diversify_lns_params': True, 'linearization_level': 0, 'add_objective_cut': True, 'cut_level': 0, 'max_all_diff_cut_size': 128, 'symmetry_level': 0})\n",
      "Seems like we can drop parameter 'clause_cleanup_protection' from the optimized parameters.\n",
      "Evaluating resetting parameter 'presolve_probing_deterministic_time_limit' to default...\n",
      "Returning knockout result\n",
      "score MultiResult(scores=[132805.0], params={'preferred_variable_order': 1, 'use_erwa_heuristic': True, 'binary_minimization_algorithm': 4, 'clause_cleanup_protection': 2, 'encode_complex_linear_constraint_with_integer': True, 'ignore_subsolvers': ['default_lp', 'max_lp', 'quick_restart', 'quick_restart_no_lp', 'lb_tree_search'], 'search_branching': 6, 'repair_hint': True, 'use_lb_relax_lns': True, 'use_objective_lb_search': True, 'feasibility_jump_linearization_level': 0, 'fp_rounding': 3, 'diversify_lns_params': True, 'linearization_level': 0, 'add_objective_cut': True, 'cut_level': 0, 'max_all_diff_cut_size': 128, 'symmetry_level': 0})\n",
      "Seems like we can drop parameter 'presolve_probing_deterministic_time_limit' from the optimized parameters.\n",
      "Evaluating resetting parameter 'encode_complex_linear_constraint_with_integer' to default...\n",
      "Returning knockout result\n",
      "score MultiResult(scores=[132805.0], params={'preferred_variable_order': 1, 'use_erwa_heuristic': True, 'binary_minimization_algorithm': 4, 'clause_cleanup_protection': 2, 'presolve_probing_deterministic_time_limit': 10.0, 'ignore_subsolvers': ['default_lp', 'max_lp', 'quick_restart', 'quick_restart_no_lp', 'lb_tree_search'], 'search_branching': 6, 'repair_hint': True, 'use_lb_relax_lns': True, 'use_objective_lb_search': True, 'feasibility_jump_linearization_level': 0, 'fp_rounding': 3, 'diversify_lns_params': True, 'linearization_level': 0, 'add_objective_cut': True, 'cut_level': 0, 'max_all_diff_cut_size': 128, 'symmetry_level': 0})\n",
      "Seems like we can drop parameter 'encode_complex_linear_constraint_with_integer' from the optimized parameters.\n",
      "Evaluating resetting parameter 'ignore_subsolvers' to default...\n",
      "Returning knockout result\n",
      "score MultiResult(scores=[132805.0], params={'preferred_variable_order': 1, 'use_erwa_heuristic': True, 'binary_minimization_algorithm': 4, 'clause_cleanup_protection': 2, 'presolve_probing_deterministic_time_limit': 10.0, 'encode_complex_linear_constraint_with_integer': True, 'search_branching': 6, 'repair_hint': True, 'use_lb_relax_lns': True, 'use_objective_lb_search': True, 'feasibility_jump_linearization_level': 0, 'fp_rounding': 3, 'diversify_lns_params': True, 'linearization_level': 0, 'add_objective_cut': True, 'cut_level': 0, 'max_all_diff_cut_size': 128, 'symmetry_level': 0})\n",
      "Seems like we can drop parameter 'ignore_subsolvers' from the optimized parameters.\n",
      "Evaluating resetting parameter 'search_branching' to default...\n",
      "Returning knockout result\n",
      "score MultiResult(scores=[131725.0], params={'preferred_variable_order': 1, 'use_erwa_heuristic': True, 'binary_minimization_algorithm': 4, 'clause_cleanup_protection': 2, 'presolve_probing_deterministic_time_limit': 10.0, 'encode_complex_linear_constraint_with_integer': True, 'ignore_subsolvers': ['default_lp', 'max_lp', 'quick_restart', 'quick_restart_no_lp', 'lb_tree_search'], 'repair_hint': True, 'use_lb_relax_lns': True, 'use_objective_lb_search': True, 'feasibility_jump_linearization_level': 0, 'fp_rounding': 3, 'diversify_lns_params': True, 'linearization_level': 0, 'add_objective_cut': True, 'cut_level': 0, 'max_all_diff_cut_size': 128, 'symmetry_level': 0})\n",
      "The parameter 'search_branching' seems to be essential for the performance.\n",
      "Evaluating resetting parameter 'repair_hint' to default...\n",
      "Returning knockout result\n",
      "score MultiResult(scores=[132805.0], params={'preferred_variable_order': 1, 'use_erwa_heuristic': True, 'binary_minimization_algorithm': 4, 'clause_cleanup_protection': 2, 'presolve_probing_deterministic_time_limit': 10.0, 'encode_complex_linear_constraint_with_integer': True, 'ignore_subsolvers': ['default_lp', 'max_lp', 'quick_restart', 'quick_restart_no_lp', 'lb_tree_search'], 'search_branching': 6, 'use_lb_relax_lns': True, 'use_objective_lb_search': True, 'feasibility_jump_linearization_level': 0, 'fp_rounding': 3, 'diversify_lns_params': True, 'linearization_level': 0, 'add_objective_cut': True, 'cut_level': 0, 'max_all_diff_cut_size': 128, 'symmetry_level': 0})\n",
      "Seems like we can drop parameter 'repair_hint' from the optimized parameters.\n",
      "Evaluating resetting parameter 'use_lb_relax_lns' to default...\n",
      "Returning knockout result\n",
      "score MultiResult(scores=[132805.0], params={'preferred_variable_order': 1, 'use_erwa_heuristic': True, 'binary_minimization_algorithm': 4, 'clause_cleanup_protection': 2, 'presolve_probing_deterministic_time_limit': 10.0, 'encode_complex_linear_constraint_with_integer': True, 'ignore_subsolvers': ['default_lp', 'max_lp', 'quick_restart', 'quick_restart_no_lp', 'lb_tree_search'], 'search_branching': 6, 'repair_hint': True, 'use_objective_lb_search': True, 'feasibility_jump_linearization_level': 0, 'fp_rounding': 3, 'diversify_lns_params': True, 'linearization_level': 0, 'add_objective_cut': True, 'cut_level': 0, 'max_all_diff_cut_size': 128, 'symmetry_level': 0})\n",
      "Seems like we can drop parameter 'use_lb_relax_lns' from the optimized parameters.\n",
      "Evaluating resetting parameter 'use_objective_lb_search' to default...\n",
      "Returning knockout result\n",
      "score MultiResult(scores=[132805.0], params={'preferred_variable_order': 1, 'use_erwa_heuristic': True, 'binary_minimization_algorithm': 4, 'clause_cleanup_protection': 2, 'presolve_probing_deterministic_time_limit': 10.0, 'encode_complex_linear_constraint_with_integer': True, 'ignore_subsolvers': ['default_lp', 'max_lp', 'quick_restart', 'quick_restart_no_lp', 'lb_tree_search'], 'search_branching': 6, 'repair_hint': True, 'use_lb_relax_lns': True, 'feasibility_jump_linearization_level': 0, 'fp_rounding': 3, 'diversify_lns_params': True, 'linearization_level': 0, 'add_objective_cut': True, 'cut_level': 0, 'max_all_diff_cut_size': 128, 'symmetry_level': 0})\n",
      "Seems like we can drop parameter 'use_objective_lb_search' from the optimized parameters.\n",
      "Evaluating resetting parameter 'feasibility_jump_linearization_level' to default...\n",
      "Returning knockout result\n",
      "score MultiResult(scores=[132805.0], params={'preferred_variable_order': 1, 'use_erwa_heuristic': True, 'binary_minimization_algorithm': 4, 'clause_cleanup_protection': 2, 'presolve_probing_deterministic_time_limit': 10.0, 'encode_complex_linear_constraint_with_integer': True, 'ignore_subsolvers': ['default_lp', 'max_lp', 'quick_restart', 'quick_restart_no_lp', 'lb_tree_search'], 'search_branching': 6, 'repair_hint': True, 'use_lb_relax_lns': True, 'use_objective_lb_search': True, 'fp_rounding': 3, 'diversify_lns_params': True, 'linearization_level': 0, 'add_objective_cut': True, 'cut_level': 0, 'max_all_diff_cut_size': 128, 'symmetry_level': 0})\n",
      "Seems like we can drop parameter 'feasibility_jump_linearization_level' from the optimized parameters.\n",
      "Evaluating resetting parameter 'fp_rounding' to default...\n",
      "Returning knockout result\n",
      "score MultiResult(scores=[132805.0], params={'preferred_variable_order': 1, 'use_erwa_heuristic': True, 'binary_minimization_algorithm': 4, 'clause_cleanup_protection': 2, 'presolve_probing_deterministic_time_limit': 10.0, 'encode_complex_linear_constraint_with_integer': True, 'ignore_subsolvers': ['default_lp', 'max_lp', 'quick_restart', 'quick_restart_no_lp', 'lb_tree_search'], 'search_branching': 6, 'repair_hint': True, 'use_lb_relax_lns': True, 'use_objective_lb_search': True, 'feasibility_jump_linearization_level': 0, 'diversify_lns_params': True, 'linearization_level': 0, 'add_objective_cut': True, 'cut_level': 0, 'max_all_diff_cut_size': 128, 'symmetry_level': 0})\n",
      "Seems like we can drop parameter 'fp_rounding' from the optimized parameters.\n",
      "Evaluating resetting parameter 'diversify_lns_params' to default...\n",
      "Returning knockout result\n",
      "score MultiResult(scores=[132805.0], params={'preferred_variable_order': 1, 'use_erwa_heuristic': True, 'binary_minimization_algorithm': 4, 'clause_cleanup_protection': 2, 'presolve_probing_deterministic_time_limit': 10.0, 'encode_complex_linear_constraint_with_integer': True, 'ignore_subsolvers': ['default_lp', 'max_lp', 'quick_restart', 'quick_restart_no_lp', 'lb_tree_search'], 'search_branching': 6, 'repair_hint': True, 'use_lb_relax_lns': True, 'use_objective_lb_search': True, 'feasibility_jump_linearization_level': 0, 'fp_rounding': 3, 'linearization_level': 0, 'add_objective_cut': True, 'cut_level': 0, 'max_all_diff_cut_size': 128, 'symmetry_level': 0})\n",
      "Seems like we can drop parameter 'diversify_lns_params' from the optimized parameters.\n",
      "Evaluating resetting parameter 'linearization_level' to default...\n",
      "Returning knockout result\n",
      "score MultiResult(scores=[132805.0], params={'preferred_variable_order': 1, 'use_erwa_heuristic': True, 'binary_minimization_algorithm': 4, 'clause_cleanup_protection': 2, 'presolve_probing_deterministic_time_limit': 10.0, 'encode_complex_linear_constraint_with_integer': True, 'ignore_subsolvers': ['default_lp', 'max_lp', 'quick_restart', 'quick_restart_no_lp', 'lb_tree_search'], 'search_branching': 6, 'repair_hint': True, 'use_lb_relax_lns': True, 'use_objective_lb_search': True, 'feasibility_jump_linearization_level': 0, 'fp_rounding': 3, 'diversify_lns_params': True, 'add_objective_cut': True, 'cut_level': 0, 'max_all_diff_cut_size': 128, 'symmetry_level': 0})\n",
      "Seems like we can drop parameter 'linearization_level' from the optimized parameters.\n",
      "Evaluating resetting parameter 'add_objective_cut' to default...\n",
      "Returning knockout result\n",
      "score MultiResult(scores=[132805.0], params={'preferred_variable_order': 1, 'use_erwa_heuristic': True, 'binary_minimization_algorithm': 4, 'clause_cleanup_protection': 2, 'presolve_probing_deterministic_time_limit': 10.0, 'encode_complex_linear_constraint_with_integer': True, 'ignore_subsolvers': ['default_lp', 'max_lp', 'quick_restart', 'quick_restart_no_lp', 'lb_tree_search'], 'search_branching': 6, 'repair_hint': True, 'use_lb_relax_lns': True, 'use_objective_lb_search': True, 'feasibility_jump_linearization_level': 0, 'fp_rounding': 3, 'diversify_lns_params': True, 'linearization_level': 0, 'cut_level': 0, 'max_all_diff_cut_size': 128, 'symmetry_level': 0})\n",
      "Seems like we can drop parameter 'add_objective_cut' from the optimized parameters.\n",
      "Evaluating resetting parameter 'cut_level' to default...\n",
      "Returning knockout result\n",
      "score MultiResult(scores=[125249.0], params={'preferred_variable_order': 1, 'use_erwa_heuristic': True, 'binary_minimization_algorithm': 4, 'clause_cleanup_protection': 2, 'presolve_probing_deterministic_time_limit': 10.0, 'encode_complex_linear_constraint_with_integer': True, 'ignore_subsolvers': ['default_lp', 'max_lp', 'quick_restart', 'quick_restart_no_lp', 'lb_tree_search'], 'search_branching': 6, 'repair_hint': True, 'use_lb_relax_lns': True, 'use_objective_lb_search': True, 'feasibility_jump_linearization_level': 0, 'fp_rounding': 3, 'diversify_lns_params': True, 'linearization_level': 0, 'add_objective_cut': True, 'max_all_diff_cut_size': 128, 'symmetry_level': 0})\n",
      "The parameter 'cut_level' seems to be essential for the performance.\n",
      "Evaluating resetting parameter 'max_all_diff_cut_size' to default...\n",
      "Returning knockout result\n",
      "score MultiResult(scores=[132805.0], params={'preferred_variable_order': 1, 'use_erwa_heuristic': True, 'binary_minimization_algorithm': 4, 'clause_cleanup_protection': 2, 'presolve_probing_deterministic_time_limit': 10.0, 'encode_complex_linear_constraint_with_integer': True, 'ignore_subsolvers': ['default_lp', 'max_lp', 'quick_restart', 'quick_restart_no_lp', 'lb_tree_search'], 'search_branching': 6, 'repair_hint': True, 'use_lb_relax_lns': True, 'use_objective_lb_search': True, 'feasibility_jump_linearization_level': 0, 'fp_rounding': 3, 'diversify_lns_params': True, 'linearization_level': 0, 'add_objective_cut': True, 'cut_level': 0, 'symmetry_level': 0})\n",
      "Seems like we can drop parameter 'max_all_diff_cut_size' from the optimized parameters.\n",
      "Evaluating resetting parameter 'symmetry_level' to default...\n",
      "Returning knockout result\n",
      "score MultiResult(scores=[132805.0], params={'preferred_variable_order': 1, 'use_erwa_heuristic': True, 'binary_minimization_algorithm': 4, 'clause_cleanup_protection': 2, 'presolve_probing_deterministic_time_limit': 10.0, 'encode_complex_linear_constraint_with_integer': True, 'ignore_subsolvers': ['default_lp', 'max_lp', 'quick_restart', 'quick_restart_no_lp', 'lb_tree_search'], 'search_branching': 6, 'repair_hint': True, 'use_lb_relax_lns': True, 'use_objective_lb_search': True, 'feasibility_jump_linearization_level': 0, 'fp_rounding': 3, 'diversify_lns_params': True, 'linearization_level': 0, 'add_objective_cut': True, 'cut_level': 0, 'max_all_diff_cut_size': 128})\n",
      "Seems like we can drop parameter 'symmetry_level' from the optimized parameters.\n",
      "optimized_score MultiResult(scores=[132805.0, 132805.0, 132805.0, 132805.0, 132805.0, 132805.0, 132805.0, 132805.0, 132805.0, 132805.0], params={'search_branching': 6, 'cut_level': 0})\n",
      "============================================================\n",
      "                 OPTIMIZED PARAMETERS\n",
      "============================================================\n",
      "\n",
      "1. search_branching: 6\n",
      "\tContribution: 12.51%\n",
      "\tDefault Value: 0\n",
      "\tDescription:\n",
      "\t\tDefines the branching strategy the solver uses to navigate the search tree. The options are:\n",
      "\t\t        - `0` (AUTOMATIC_SEARCH): The solver automatically selects the most appropriate strategy.\n",
      "\t\t        - `1` (FIXED_SEARCH): Follows a fixed variable order, as specified by the user or the problem model.\n",
      "\t\t        - `2` (PORTFOLIO_SEARCH): Uses a combination of multiple strategies to explore the search space.\n",
      "\t\t        - `3` (LP_SEARCH): Branches based on the LP relaxation of the problem, leveraging the reduced costs of variables.\n",
      "\t\t        - `4` (PSEUDO_COST_SEARCH): Branches using pseudo-costs, which are estimates of the impact of branching decisions based on past experiences.\n",
      "\t\t        - `5` (PORTFOLIO_WITH_QUICK_RESTART_SEARCH): Quickly explores different heuristics with low conflict limits, aiming to find a good initial solution.\n",
      "\t\t        - `6` (HINT_SEARCH): Prioritizes decisions based on hints provided by the user or the problem model.\n",
      "\t\t        - `7` (PARTIAL_FIXED_SEARCH): Begins with a fixed strategy, then switches to automatic search for the remaining decisions.\n",
      "\t\t        - `8` (RANDOMIZED_SEARCH): Introduces randomization into branching decisions to diversify the search.\n",
      "\n",
      "2. cut_level: 0\n",
      "\tContribution: 87.49%\n",
      "\tDefault Value: 1\n",
      "\tDescription:\n",
      "\t\tSets the level of effort the solver will invest in generating cutting planes, which are linear constraints added to remove infeasible regions.\n",
      "\t\t        Properly applied, cuts can significantly reduce the search space and help the solver find an optimal solution more quickly.\n",
      "------------------------------------------------------------\n",
      "Default Metric Value: 132101.8\n",
      "Optimized Metric Value: 132805.0\n",
      "------------------------------------------------------------\n",
      "\n",
      "============================================================\n",
      "*** WARNING ***\n",
      "============================================================\n",
      "The optimized parameters listed above were obtained based on a sampling approach and may not fully capture the complexities of the entire problem space. While statistical reasoning has been applied, these results should be considered as a suggestion for further evaluation rather than definitive settings.\n",
      "It is strongly recommended to validate these parameters in larger, more comprehensive experiments before adopting them in critical applications.\n",
      "============================================================\n"
     ]
    }
   ],
   "source": [
    "best = tune_for_quality_within_timelimit(\n",
    "    model,\n",
    "    timelimit_in_s=0.5,\n",
    "    obj_for_timeout=0,\n",
    "    direction=\"maximize\",\n",
    "    n_samples_per_param=5,\n",
    "    max_samples_per_param=10,\n",
    "    n_trials=50,\n",
    ")"
   ]
  }
 ],
 "metadata": {
  "kernelspec": {
   "display_name": "mo312",
   "language": "python",
   "name": "python3"
  },
  "language_info": {
   "codemirror_mode": {
    "name": "ipython",
    "version": 3
   },
   "file_extension": ".py",
   "mimetype": "text/x-python",
   "name": "python",
   "nbconvert_exporter": "python",
   "pygments_lexer": "ipython3",
   "version": "3.12.2"
  }
 },
 "nbformat": 4,
 "nbformat_minor": 2
}
