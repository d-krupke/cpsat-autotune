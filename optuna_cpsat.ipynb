{
 "cells": [
  {
   "cell_type": "code",
   "execution_count": 1,
   "metadata": {},
   "outputs": [],
   "source": [
    "from cpsat_autotune import (\n",
    "    tune_for_quality_within_timelimit,\n",
    "    import_model,\n",
    "    tune_time_to_optimal,\n",
    ")"
   ]
  },
  {
   "cell_type": "code",
   "execution_count": 2,
   "metadata": {},
   "outputs": [],
   "source": [
    "model = import_model(\"models/model_proto_-1368620059351071685.pb\")"
   ]
  },
  {
   "cell_type": "code",
   "execution_count": 3,
   "metadata": {},
   "outputs": [
    {
     "name": "stderr",
     "output_type": "stream",
     "text": [
      "[I 2024-08-16 18:03:13,951] A new study created in memory with name: no-name-0202c6cf-c3ef-4ca9-b692-641a43db037d\n"
     ]
    },
    {
     "name": "stdout",
     "output_type": "stream",
     "text": [
      "Baseline: min=1.125892, mean=1.6253635, max=2.15166\n"
     ]
    },
    {
     "name": "stderr",
     "output_type": "stream",
     "text": [
      "[I 2024-08-16 18:03:20,855] Trial 0 finished with value: 1.3803072 and parameters: {'preferred_variable_order': 0, 'use_erwa_heuristic': False, 'also_bump_variables_in_conflict_reasons': False, 'binary_minimization_algorithm': 1, 'clause_cleanup_protection': 0, 'presolve_bve_threshold': 1, 'max_presolve_iterations': 2, 'cp_model_probing_level': 2, 'presolve_probing_deterministic_time_limit': 4, 'encode_complex_linear_constraint_with_integer': False, 'ignore_subsolvers:default_lp': False, 'ignore_subsolvers:fixed': False, 'ignore_subsolvers:no_lp': False, 'ignore_subsolvers:max_lp': False, 'ignore_subsolvers:pseudo_costs': False, 'ignore_subsolvers:reduced_costs': False, 'ignore_subsolvers:quick_restart': False, 'ignore_subsolvers:quick_restart_no_lp': False, 'ignore_subsolvers:lb_tree_search': False, 'ignore_subsolvers:probing': False, 'search_branching': 0, 'repair_hint': False, 'use_lb_relax_lns': False, 'use_objective_lb_search': False, 'use_objective_shaving_search': False, 'optimize_with_core': False, 'feasibility_jump_linearization_level': 2, 'fp_rounding': 2, 'diversify_lns_params': False, 'polish_lp_solution': False, 'linearization_level': 1, 'add_objective_cut': False, 'cut_level': 1, 'max_all_diff_cut_size': 1, 'symmetry_level': 2}. Best is trial 0 with value: 1.3803072.\n",
      "[I 2024-08-16 18:03:23,879] Trial 1 finished with value: 30.0 and parameters: {'preferred_variable_order': 2, 'use_erwa_heuristic': True, 'also_bump_variables_in_conflict_reasons': True, 'binary_minimization_algorithm': 1, 'clause_cleanup_protection': 1, 'presolve_bve_threshold': 0, 'max_presolve_iterations': 0, 'cp_model_probing_level': 0, 'presolve_probing_deterministic_time_limit': 0, 'encode_complex_linear_constraint_with_integer': True, 'ignore_subsolvers:default_lp': False, 'ignore_subsolvers:fixed': False, 'ignore_subsolvers:no_lp': False, 'ignore_subsolvers:max_lp': True, 'ignore_subsolvers:pseudo_costs': True, 'ignore_subsolvers:reduced_costs': False, 'ignore_subsolvers:quick_restart': True, 'ignore_subsolvers:quick_restart_no_lp': True, 'ignore_subsolvers:lb_tree_search': True, 'ignore_subsolvers:probing': False, 'search_branching': 7, 'repair_hint': False, 'use_lb_relax_lns': False, 'use_objective_lb_search': True, 'use_objective_shaving_search': True, 'optimize_with_core': False, 'feasibility_jump_linearization_level': 2, 'fp_rounding': 1, 'diversify_lns_params': False, 'polish_lp_solution': False, 'linearization_level': 1, 'add_objective_cut': False, 'cut_level': 1, 'max_all_diff_cut_size': 2, 'symmetry_level': 1}. Best is trial 0 with value: 1.3803072.\n"
     ]
    },
    {
     "name": "stdout",
     "output_type": "stream",
     "text": [
      "Returning knockout result\n"
     ]
    },
    {
     "name": "stderr",
     "output_type": "stream",
     "text": [
      "[I 2024-08-16 18:03:26,907] Trial 2 finished with value: 30.0 and parameters: {'preferred_variable_order': 1, 'use_erwa_heuristic': True, 'also_bump_variables_in_conflict_reasons': False, 'binary_minimization_algorithm': 1, 'clause_cleanup_protection': 0, 'presolve_bve_threshold': 2, 'max_presolve_iterations': 1, 'cp_model_probing_level': 2, 'presolve_probing_deterministic_time_limit': 3, 'encode_complex_linear_constraint_with_integer': True, 'ignore_subsolvers:default_lp': False, 'ignore_subsolvers:fixed': False, 'ignore_subsolvers:no_lp': False, 'ignore_subsolvers:max_lp': False, 'ignore_subsolvers:pseudo_costs': False, 'ignore_subsolvers:reduced_costs': True, 'ignore_subsolvers:quick_restart': False, 'ignore_subsolvers:quick_restart_no_lp': False, 'ignore_subsolvers:lb_tree_search': False, 'ignore_subsolvers:probing': True, 'search_branching': 8, 'repair_hint': True, 'use_lb_relax_lns': True, 'use_objective_lb_search': False, 'use_objective_shaving_search': False, 'optimize_with_core': True, 'feasibility_jump_linearization_level': 0, 'fp_rounding': 3, 'diversify_lns_params': True, 'polish_lp_solution': True, 'linearization_level': 2, 'add_objective_cut': False, 'cut_level': 1, 'max_all_diff_cut_size': 2, 'symmetry_level': 1}. Best is trial 0 with value: 1.3803072.\n"
     ]
    },
    {
     "name": "stdout",
     "output_type": "stream",
     "text": [
      "Returning knockout result\n"
     ]
    },
    {
     "name": "stderr",
     "output_type": "stream",
     "text": [
      "[I 2024-08-16 18:03:29,930] Trial 3 finished with value: 30.0 and parameters: {'preferred_variable_order': 0, 'use_erwa_heuristic': False, 'also_bump_variables_in_conflict_reasons': True, 'binary_minimization_algorithm': 2, 'clause_cleanup_protection': 2, 'presolve_bve_threshold': 1, 'max_presolve_iterations': 2, 'cp_model_probing_level': 2, 'presolve_probing_deterministic_time_limit': 4, 'encode_complex_linear_constraint_with_integer': False, 'ignore_subsolvers:default_lp': False, 'ignore_subsolvers:fixed': True, 'ignore_subsolvers:no_lp': True, 'ignore_subsolvers:max_lp': True, 'ignore_subsolvers:pseudo_costs': True, 'ignore_subsolvers:reduced_costs': True, 'ignore_subsolvers:quick_restart': False, 'ignore_subsolvers:quick_restart_no_lp': False, 'ignore_subsolvers:lb_tree_search': False, 'ignore_subsolvers:probing': True, 'search_branching': 7, 'repair_hint': False, 'use_lb_relax_lns': False, 'use_objective_lb_search': False, 'use_objective_shaving_search': True, 'optimize_with_core': False, 'feasibility_jump_linearization_level': 1, 'fp_rounding': 2, 'diversify_lns_params': False, 'polish_lp_solution': False, 'linearization_level': 1, 'add_objective_cut': False, 'cut_level': 0, 'max_all_diff_cut_size': 1, 'symmetry_level': 2}. Best is trial 0 with value: 1.3803072.\n"
     ]
    },
    {
     "name": "stdout",
     "output_type": "stream",
     "text": [
      "Returning knockout result\n"
     ]
    },
    {
     "name": "stderr",
     "output_type": "stream",
     "text": [
      "[I 2024-08-16 18:03:32,948] Trial 4 finished with value: 30.0 and parameters: {'preferred_variable_order': 1, 'use_erwa_heuristic': True, 'also_bump_variables_in_conflict_reasons': True, 'binary_minimization_algorithm': 1, 'clause_cleanup_protection': 2, 'presolve_bve_threshold': 2, 'max_presolve_iterations': 2, 'cp_model_probing_level': 1, 'presolve_probing_deterministic_time_limit': 3, 'encode_complex_linear_constraint_with_integer': True, 'ignore_subsolvers:default_lp': True, 'ignore_subsolvers:fixed': True, 'ignore_subsolvers:no_lp': False, 'ignore_subsolvers:max_lp': False, 'ignore_subsolvers:pseudo_costs': False, 'ignore_subsolvers:reduced_costs': False, 'ignore_subsolvers:quick_restart': False, 'ignore_subsolvers:quick_restart_no_lp': True, 'ignore_subsolvers:lb_tree_search': False, 'ignore_subsolvers:probing': True, 'search_branching': 5, 'repair_hint': True, 'use_lb_relax_lns': True, 'use_objective_lb_search': False, 'use_objective_shaving_search': True, 'optimize_with_core': False, 'feasibility_jump_linearization_level': 1, 'fp_rounding': 0, 'diversify_lns_params': False, 'polish_lp_solution': False, 'linearization_level': 1, 'add_objective_cut': True, 'cut_level': 2, 'max_all_diff_cut_size': 2, 'symmetry_level': 0}. Best is trial 0 with value: 1.3803072.\n"
     ]
    },
    {
     "name": "stdout",
     "output_type": "stream",
     "text": [
      "Returning knockout result\n"
     ]
    },
    {
     "name": "stderr",
     "output_type": "stream",
     "text": [
      "[I 2024-08-16 18:03:41,469] Trial 5 finished with value: 2.344331 and parameters: {'preferred_variable_order': 1, 'use_erwa_heuristic': True, 'also_bump_variables_in_conflict_reasons': False, 'binary_minimization_algorithm': 3, 'clause_cleanup_protection': 1, 'presolve_bve_threshold': 1, 'max_presolve_iterations': 2, 'cp_model_probing_level': 2, 'presolve_probing_deterministic_time_limit': 0, 'encode_complex_linear_constraint_with_integer': True, 'ignore_subsolvers:default_lp': True, 'ignore_subsolvers:fixed': False, 'ignore_subsolvers:no_lp': True, 'ignore_subsolvers:max_lp': False, 'ignore_subsolvers:pseudo_costs': True, 'ignore_subsolvers:reduced_costs': True, 'ignore_subsolvers:quick_restart': True, 'ignore_subsolvers:quick_restart_no_lp': True, 'ignore_subsolvers:lb_tree_search': False, 'ignore_subsolvers:probing': True, 'search_branching': 6, 'repair_hint': True, 'use_lb_relax_lns': True, 'use_objective_lb_search': True, 'use_objective_shaving_search': False, 'optimize_with_core': False, 'feasibility_jump_linearization_level': 1, 'fp_rounding': 3, 'diversify_lns_params': True, 'polish_lp_solution': False, 'linearization_level': 2, 'add_objective_cut': False, 'cut_level': 0, 'max_all_diff_cut_size': 0, 'symmetry_level': 0}. Best is trial 0 with value: 1.3803072.\n"
     ]
    },
    {
     "name": "stdout",
     "output_type": "stream",
     "text": [
      "Returning knockout result\n"
     ]
    },
    {
     "name": "stderr",
     "output_type": "stream",
     "text": [
      "[I 2024-08-16 18:03:44,492] Trial 6 finished with value: 30.0 and parameters: {'preferred_variable_order': 0, 'use_erwa_heuristic': False, 'also_bump_variables_in_conflict_reasons': False, 'binary_minimization_algorithm': 1, 'clause_cleanup_protection': 1, 'presolve_bve_threshold': 0, 'max_presolve_iterations': 4, 'cp_model_probing_level': 0, 'presolve_probing_deterministic_time_limit': 2, 'encode_complex_linear_constraint_with_integer': True, 'ignore_subsolvers:default_lp': False, 'ignore_subsolvers:fixed': False, 'ignore_subsolvers:no_lp': False, 'ignore_subsolvers:max_lp': True, 'ignore_subsolvers:pseudo_costs': False, 'ignore_subsolvers:reduced_costs': False, 'ignore_subsolvers:quick_restart': True, 'ignore_subsolvers:quick_restart_no_lp': True, 'ignore_subsolvers:lb_tree_search': True, 'ignore_subsolvers:probing': False, 'search_branching': 1, 'repair_hint': False, 'use_lb_relax_lns': True, 'use_objective_lb_search': True, 'use_objective_shaving_search': True, 'optimize_with_core': False, 'feasibility_jump_linearization_level': 2, 'fp_rounding': 3, 'diversify_lns_params': True, 'polish_lp_solution': False, 'linearization_level': 1, 'add_objective_cut': True, 'cut_level': 2, 'max_all_diff_cut_size': 2, 'symmetry_level': 2}. Best is trial 0 with value: 1.3803072.\n"
     ]
    },
    {
     "name": "stdout",
     "output_type": "stream",
     "text": [
      "Returning knockout result\n"
     ]
    },
    {
     "name": "stderr",
     "output_type": "stream",
     "text": [
      "[I 2024-08-16 18:03:47,513] Trial 7 finished with value: 30.0 and parameters: {'preferred_variable_order': 1, 'use_erwa_heuristic': False, 'also_bump_variables_in_conflict_reasons': True, 'binary_minimization_algorithm': 3, 'clause_cleanup_protection': 0, 'presolve_bve_threshold': 2, 'max_presolve_iterations': 0, 'cp_model_probing_level': 1, 'presolve_probing_deterministic_time_limit': 2, 'encode_complex_linear_constraint_with_integer': False, 'ignore_subsolvers:default_lp': True, 'ignore_subsolvers:fixed': False, 'ignore_subsolvers:no_lp': True, 'ignore_subsolvers:max_lp': True, 'ignore_subsolvers:pseudo_costs': True, 'ignore_subsolvers:reduced_costs': True, 'ignore_subsolvers:quick_restart': False, 'ignore_subsolvers:quick_restart_no_lp': False, 'ignore_subsolvers:lb_tree_search': True, 'ignore_subsolvers:probing': False, 'search_branching': 1, 'repair_hint': False, 'use_lb_relax_lns': False, 'use_objective_lb_search': False, 'use_objective_shaving_search': False, 'optimize_with_core': True, 'feasibility_jump_linearization_level': 2, 'fp_rounding': 1, 'diversify_lns_params': True, 'polish_lp_solution': False, 'linearization_level': 2, 'add_objective_cut': True, 'cut_level': 1, 'max_all_diff_cut_size': 1, 'symmetry_level': 2}. Best is trial 0 with value: 1.3803072.\n"
     ]
    },
    {
     "name": "stdout",
     "output_type": "stream",
     "text": [
      "Returning knockout result\n"
     ]
    },
    {
     "name": "stderr",
     "output_type": "stream",
     "text": [
      "[I 2024-08-16 18:03:53,150] Trial 8 finished with value: 1.1267226000000001 and parameters: {'preferred_variable_order': 1, 'use_erwa_heuristic': False, 'also_bump_variables_in_conflict_reasons': False, 'binary_minimization_algorithm': 4, 'clause_cleanup_protection': 0, 'presolve_bve_threshold': 0, 'max_presolve_iterations': 3, 'cp_model_probing_level': 0, 'presolve_probing_deterministic_time_limit': 2, 'encode_complex_linear_constraint_with_integer': True, 'ignore_subsolvers:default_lp': True, 'ignore_subsolvers:fixed': False, 'ignore_subsolvers:no_lp': True, 'ignore_subsolvers:max_lp': False, 'ignore_subsolvers:pseudo_costs': True, 'ignore_subsolvers:reduced_costs': False, 'ignore_subsolvers:quick_restart': True, 'ignore_subsolvers:quick_restart_no_lp': True, 'ignore_subsolvers:lb_tree_search': False, 'ignore_subsolvers:probing': False, 'search_branching': 8, 'repair_hint': False, 'use_lb_relax_lns': True, 'use_objective_lb_search': True, 'use_objective_shaving_search': False, 'optimize_with_core': False, 'feasibility_jump_linearization_level': 2, 'fp_rounding': 1, 'diversify_lns_params': False, 'polish_lp_solution': False, 'linearization_level': 0, 'add_objective_cut': False, 'cut_level': 1, 'max_all_diff_cut_size': 2, 'symmetry_level': 2}. Best is trial 8 with value: 1.1267226000000001.\n",
      "[I 2024-08-16 18:03:56,175] Trial 9 finished with value: 30.0 and parameters: {'preferred_variable_order': 0, 'use_erwa_heuristic': True, 'also_bump_variables_in_conflict_reasons': False, 'binary_minimization_algorithm': 0, 'clause_cleanup_protection': 0, 'presolve_bve_threshold': 2, 'max_presolve_iterations': 1, 'cp_model_probing_level': 1, 'presolve_probing_deterministic_time_limit': 2, 'encode_complex_linear_constraint_with_integer': True, 'ignore_subsolvers:default_lp': False, 'ignore_subsolvers:fixed': False, 'ignore_subsolvers:no_lp': True, 'ignore_subsolvers:max_lp': True, 'ignore_subsolvers:pseudo_costs': False, 'ignore_subsolvers:reduced_costs': False, 'ignore_subsolvers:quick_restart': False, 'ignore_subsolvers:quick_restart_no_lp': False, 'ignore_subsolvers:lb_tree_search': True, 'ignore_subsolvers:probing': False, 'search_branching': 0, 'repair_hint': True, 'use_lb_relax_lns': False, 'use_objective_lb_search': False, 'use_objective_shaving_search': False, 'optimize_with_core': False, 'feasibility_jump_linearization_level': 0, 'fp_rounding': 0, 'diversify_lns_params': True, 'polish_lp_solution': True, 'linearization_level': 2, 'add_objective_cut': False, 'cut_level': 2, 'max_all_diff_cut_size': 1, 'symmetry_level': 0}. Best is trial 8 with value: 1.1267226000000001.\n"
     ]
    },
    {
     "name": "stdout",
     "output_type": "stream",
     "text": [
      "Returning knockout result\n"
     ]
    },
    {
     "name": "stderr",
     "output_type": "stream",
     "text": [
      "[I 2024-08-16 18:03:58,703] Trial 10 finished with value: 2.48232 and parameters: {'preferred_variable_order': 2, 'use_erwa_heuristic': False, 'also_bump_variables_in_conflict_reasons': False, 'binary_minimization_algorithm': 4, 'clause_cleanup_protection': 0, 'presolve_bve_threshold': 0, 'max_presolve_iterations': 4, 'cp_model_probing_level': 0, 'presolve_probing_deterministic_time_limit': 1, 'encode_complex_linear_constraint_with_integer': False, 'ignore_subsolvers:default_lp': True, 'ignore_subsolvers:fixed': True, 'ignore_subsolvers:no_lp': True, 'ignore_subsolvers:max_lp': False, 'ignore_subsolvers:pseudo_costs': True, 'ignore_subsolvers:reduced_costs': False, 'ignore_subsolvers:quick_restart': True, 'ignore_subsolvers:quick_restart_no_lp': True, 'ignore_subsolvers:lb_tree_search': False, 'ignore_subsolvers:probing': False, 'search_branching': 8, 'repair_hint': False, 'use_lb_relax_lns': True, 'use_objective_lb_search': True, 'use_objective_shaving_search': False, 'optimize_with_core': True, 'feasibility_jump_linearization_level': 2, 'fp_rounding': 1, 'diversify_lns_params': False, 'polish_lp_solution': True, 'linearization_level': 0, 'add_objective_cut': True, 'cut_level': 0, 'max_all_diff_cut_size': 0, 'symmetry_level': 1}. Best is trial 8 with value: 1.1267226000000001.\n"
     ]
    },
    {
     "name": "stdout",
     "output_type": "stream",
     "text": [
      "Returning knockout result\n"
     ]
    },
    {
     "name": "stderr",
     "output_type": "stream",
     "text": [
      "[I 2024-08-16 18:04:01,640] Trial 11 finished with value: 2.890572 and parameters: {'preferred_variable_order': 0, 'use_erwa_heuristic': False, 'also_bump_variables_in_conflict_reasons': False, 'binary_minimization_algorithm': 4, 'clause_cleanup_protection': 0, 'presolve_bve_threshold': 1, 'max_presolve_iterations': 3, 'cp_model_probing_level': 1, 'presolve_probing_deterministic_time_limit': 4, 'encode_complex_linear_constraint_with_integer': False, 'ignore_subsolvers:default_lp': True, 'ignore_subsolvers:fixed': False, 'ignore_subsolvers:no_lp': False, 'ignore_subsolvers:max_lp': False, 'ignore_subsolvers:pseudo_costs': False, 'ignore_subsolvers:reduced_costs': False, 'ignore_subsolvers:quick_restart': True, 'ignore_subsolvers:quick_restart_no_lp': False, 'ignore_subsolvers:lb_tree_search': False, 'ignore_subsolvers:probing': False, 'search_branching': 0, 'repair_hint': False, 'use_lb_relax_lns': False, 'use_objective_lb_search': True, 'use_objective_shaving_search': False, 'optimize_with_core': False, 'feasibility_jump_linearization_level': 2, 'fp_rounding': 2, 'diversify_lns_params': False, 'polish_lp_solution': False, 'linearization_level': 0, 'add_objective_cut': False, 'cut_level': 1, 'max_all_diff_cut_size': 1, 'symmetry_level': 2}. Best is trial 8 with value: 1.1267226000000001.\n"
     ]
    },
    {
     "name": "stdout",
     "output_type": "stream",
     "text": [
      "Returning knockout result\n"
     ]
    },
    {
     "name": "stderr",
     "output_type": "stream",
     "text": [
      "[I 2024-08-16 18:04:07,761] Trial 12 finished with value: 2.293268 and parameters: {'preferred_variable_order': 2, 'use_erwa_heuristic': False, 'also_bump_variables_in_conflict_reasons': False, 'binary_minimization_algorithm': 4, 'clause_cleanup_protection': 0, 'presolve_bve_threshold': 0, 'max_presolve_iterations': 3, 'cp_model_probing_level': 2, 'presolve_probing_deterministic_time_limit': 3, 'encode_complex_linear_constraint_with_integer': False, 'ignore_subsolvers:default_lp': True, 'ignore_subsolvers:fixed': False, 'ignore_subsolvers:no_lp': False, 'ignore_subsolvers:max_lp': False, 'ignore_subsolvers:pseudo_costs': False, 'ignore_subsolvers:reduced_costs': False, 'ignore_subsolvers:quick_restart': True, 'ignore_subsolvers:quick_restart_no_lp': False, 'ignore_subsolvers:lb_tree_search': False, 'ignore_subsolvers:probing': False, 'search_branching': 2, 'repair_hint': False, 'use_lb_relax_lns': False, 'use_objective_lb_search': True, 'use_objective_shaving_search': False, 'optimize_with_core': False, 'feasibility_jump_linearization_level': 2, 'fp_rounding': 2, 'diversify_lns_params': False, 'polish_lp_solution': False, 'linearization_level': 0, 'add_objective_cut': False, 'cut_level': 1, 'max_all_diff_cut_size': 0, 'symmetry_level': 2}. Best is trial 8 with value: 1.1267226000000001.\n"
     ]
    },
    {
     "name": "stdout",
     "output_type": "stream",
     "text": [
      "Returning knockout result\n"
     ]
    },
    {
     "name": "stderr",
     "output_type": "stream",
     "text": [
      "[I 2024-08-16 18:04:11,291] Trial 13 finished with value: 0.6969164 and parameters: {'preferred_variable_order': 0, 'use_erwa_heuristic': False, 'also_bump_variables_in_conflict_reasons': False, 'binary_minimization_algorithm': 2, 'clause_cleanup_protection': 0, 'presolve_bve_threshold': 1, 'max_presolve_iterations': 3, 'cp_model_probing_level': 0, 'presolve_probing_deterministic_time_limit': 1, 'encode_complex_linear_constraint_with_integer': False, 'ignore_subsolvers:default_lp': False, 'ignore_subsolvers:fixed': False, 'ignore_subsolvers:no_lp': True, 'ignore_subsolvers:max_lp': False, 'ignore_subsolvers:pseudo_costs': True, 'ignore_subsolvers:reduced_costs': False, 'ignore_subsolvers:quick_restart': False, 'ignore_subsolvers:quick_restart_no_lp': True, 'ignore_subsolvers:lb_tree_search': False, 'ignore_subsolvers:probing': False, 'search_branching': 4, 'repair_hint': False, 'use_lb_relax_lns': True, 'use_objective_lb_search': False, 'use_objective_shaving_search': False, 'optimize_with_core': False, 'feasibility_jump_linearization_level': 1, 'fp_rounding': 2, 'diversify_lns_params': False, 'polish_lp_solution': False, 'linearization_level': 0, 'add_objective_cut': False, 'cut_level': 1, 'max_all_diff_cut_size': 1, 'symmetry_level': 2}. Best is trial 13 with value: 0.6969164.\n",
      "[I 2024-08-16 18:04:14,351] Trial 14 finished with value: 30.0 and parameters: {'preferred_variable_order': 1, 'use_erwa_heuristic': False, 'also_bump_variables_in_conflict_reasons': False, 'binary_minimization_algorithm': 2, 'clause_cleanup_protection': 0, 'presolve_bve_threshold': 0, 'max_presolve_iterations': 3, 'cp_model_probing_level': 0, 'presolve_probing_deterministic_time_limit': 1, 'encode_complex_linear_constraint_with_integer': True, 'ignore_subsolvers:default_lp': False, 'ignore_subsolvers:fixed': True, 'ignore_subsolvers:no_lp': True, 'ignore_subsolvers:max_lp': False, 'ignore_subsolvers:pseudo_costs': True, 'ignore_subsolvers:reduced_costs': False, 'ignore_subsolvers:quick_restart': False, 'ignore_subsolvers:quick_restart_no_lp': True, 'ignore_subsolvers:lb_tree_search': False, 'ignore_subsolvers:probing': False, 'search_branching': 4, 'repair_hint': False, 'use_lb_relax_lns': True, 'use_objective_lb_search': False, 'use_objective_shaving_search': False, 'optimize_with_core': True, 'feasibility_jump_linearization_level': 1, 'fp_rounding': 1, 'diversify_lns_params': False, 'polish_lp_solution': True, 'linearization_level': 0, 'add_objective_cut': False, 'cut_level': 0, 'max_all_diff_cut_size': 2, 'symmetry_level': 1}. Best is trial 13 with value: 0.6969164.\n"
     ]
    },
    {
     "name": "stdout",
     "output_type": "stream",
     "text": [
      "Returning knockout result\n"
     ]
    },
    {
     "name": "stderr",
     "output_type": "stream",
     "text": [
      "[I 2024-08-16 18:04:18,868] Trial 15 finished with value: 0.8939688 and parameters: {'preferred_variable_order': 0, 'use_erwa_heuristic': False, 'also_bump_variables_in_conflict_reasons': False, 'binary_minimization_algorithm': 2, 'clause_cleanup_protection': 2, 'presolve_bve_threshold': 1, 'max_presolve_iterations': 3, 'cp_model_probing_level': 0, 'presolve_probing_deterministic_time_limit': 1, 'encode_complex_linear_constraint_with_integer': False, 'ignore_subsolvers:default_lp': True, 'ignore_subsolvers:fixed': False, 'ignore_subsolvers:no_lp': True, 'ignore_subsolvers:max_lp': False, 'ignore_subsolvers:pseudo_costs': True, 'ignore_subsolvers:reduced_costs': False, 'ignore_subsolvers:quick_restart': True, 'ignore_subsolvers:quick_restart_no_lp': True, 'ignore_subsolvers:lb_tree_search': False, 'ignore_subsolvers:probing': False, 'search_branching': 4, 'repair_hint': False, 'use_lb_relax_lns': True, 'use_objective_lb_search': True, 'use_objective_shaving_search': False, 'optimize_with_core': False, 'feasibility_jump_linearization_level': 0, 'fp_rounding': 2, 'diversify_lns_params': False, 'polish_lp_solution': False, 'linearization_level': 0, 'add_objective_cut': False, 'cut_level': 2, 'max_all_diff_cut_size': 1, 'symmetry_level': 2}. Best is trial 13 with value: 0.6969164.\n",
      "[I 2024-08-16 18:04:24,325] Trial 16 finished with value: 1.08225 and parameters: {'preferred_variable_order': 0, 'use_erwa_heuristic': False, 'also_bump_variables_in_conflict_reasons': False, 'binary_minimization_algorithm': 2, 'clause_cleanup_protection': 2, 'presolve_bve_threshold': 1, 'max_presolve_iterations': 4, 'cp_model_probing_level': 0, 'presolve_probing_deterministic_time_limit': 1, 'encode_complex_linear_constraint_with_integer': False, 'ignore_subsolvers:default_lp': True, 'ignore_subsolvers:fixed': False, 'ignore_subsolvers:no_lp': True, 'ignore_subsolvers:max_lp': False, 'ignore_subsolvers:pseudo_costs': True, 'ignore_subsolvers:reduced_costs': False, 'ignore_subsolvers:quick_restart': True, 'ignore_subsolvers:quick_restart_no_lp': True, 'ignore_subsolvers:lb_tree_search': False, 'ignore_subsolvers:probing': False, 'search_branching': 4, 'repair_hint': False, 'use_lb_relax_lns': True, 'use_objective_lb_search': True, 'use_objective_shaving_search': False, 'optimize_with_core': False, 'feasibility_jump_linearization_level': 0, 'fp_rounding': 2, 'diversify_lns_params': False, 'polish_lp_solution': False, 'linearization_level': 0, 'add_objective_cut': False, 'cut_level': 2, 'max_all_diff_cut_size': 1, 'symmetry_level': 1}. Best is trial 13 with value: 0.6969164.\n",
      "[I 2024-08-16 18:04:27,860] Trial 17 finished with value: 0.6977485999999999 and parameters: {'preferred_variable_order': 0, 'use_erwa_heuristic': False, 'also_bump_variables_in_conflict_reasons': False, 'binary_minimization_algorithm': 2, 'clause_cleanup_protection': 2, 'presolve_bve_threshold': 1, 'max_presolve_iterations': 3, 'cp_model_probing_level': 0, 'presolve_probing_deterministic_time_limit': 1, 'encode_complex_linear_constraint_with_integer': False, 'ignore_subsolvers:default_lp': False, 'ignore_subsolvers:fixed': False, 'ignore_subsolvers:no_lp': True, 'ignore_subsolvers:max_lp': False, 'ignore_subsolvers:pseudo_costs': True, 'ignore_subsolvers:reduced_costs': False, 'ignore_subsolvers:quick_restart': False, 'ignore_subsolvers:quick_restart_no_lp': True, 'ignore_subsolvers:lb_tree_search': False, 'ignore_subsolvers:probing': False, 'search_branching': 4, 'repair_hint': False, 'use_lb_relax_lns': True, 'use_objective_lb_search': False, 'use_objective_shaving_search': False, 'optimize_with_core': False, 'feasibility_jump_linearization_level': 0, 'fp_rounding': 2, 'diversify_lns_params': False, 'polish_lp_solution': False, 'linearization_level': 0, 'add_objective_cut': False, 'cut_level': 2, 'max_all_diff_cut_size': 0, 'symmetry_level': 2}. Best is trial 13 with value: 0.6969164.\n",
      "[I 2024-08-16 18:04:30,920] Trial 18 finished with value: 30.0 and parameters: {'preferred_variable_order': 0, 'use_erwa_heuristic': False, 'also_bump_variables_in_conflict_reasons': True, 'binary_minimization_algorithm': 2, 'clause_cleanup_protection': 2, 'presolve_bve_threshold': 1, 'max_presolve_iterations': 4, 'cp_model_probing_level': 1, 'presolve_probing_deterministic_time_limit': 0, 'encode_complex_linear_constraint_with_integer': False, 'ignore_subsolvers:default_lp': False, 'ignore_subsolvers:fixed': True, 'ignore_subsolvers:no_lp': True, 'ignore_subsolvers:max_lp': False, 'ignore_subsolvers:pseudo_costs': True, 'ignore_subsolvers:reduced_costs': True, 'ignore_subsolvers:quick_restart': False, 'ignore_subsolvers:quick_restart_no_lp': True, 'ignore_subsolvers:lb_tree_search': True, 'ignore_subsolvers:probing': True, 'search_branching': 3, 'repair_hint': True, 'use_lb_relax_lns': True, 'use_objective_lb_search': False, 'use_objective_shaving_search': True, 'optimize_with_core': True, 'feasibility_jump_linearization_level': 0, 'fp_rounding': 2, 'diversify_lns_params': False, 'polish_lp_solution': True, 'linearization_level': 0, 'add_objective_cut': True, 'cut_level': 2, 'max_all_diff_cut_size': 0, 'symmetry_level': 2}. Best is trial 13 with value: 0.6969164.\n"
     ]
    },
    {
     "name": "stdout",
     "output_type": "stream",
     "text": [
      "Returning knockout result\n"
     ]
    },
    {
     "name": "stderr",
     "output_type": "stream",
     "text": [
      "[I 2024-08-16 18:04:33,768] Trial 19 finished with value: 0.5601694 and parameters: {'preferred_variable_order': 0, 'use_erwa_heuristic': False, 'also_bump_variables_in_conflict_reasons': False, 'binary_minimization_algorithm': 0, 'clause_cleanup_protection': 2, 'presolve_bve_threshold': 2, 'max_presolve_iterations': 1, 'cp_model_probing_level': 0, 'presolve_probing_deterministic_time_limit': 1, 'encode_complex_linear_constraint_with_integer': False, 'ignore_subsolvers:default_lp': False, 'ignore_subsolvers:fixed': False, 'ignore_subsolvers:no_lp': True, 'ignore_subsolvers:max_lp': False, 'ignore_subsolvers:pseudo_costs': True, 'ignore_subsolvers:reduced_costs': False, 'ignore_subsolvers:quick_restart': False, 'ignore_subsolvers:quick_restart_no_lp': True, 'ignore_subsolvers:lb_tree_search': False, 'ignore_subsolvers:probing': False, 'search_branching': 4, 'repair_hint': False, 'use_lb_relax_lns': True, 'use_objective_lb_search': False, 'use_objective_shaving_search': False, 'optimize_with_core': False, 'feasibility_jump_linearization_level': 1, 'fp_rounding': 2, 'diversify_lns_params': False, 'polish_lp_solution': False, 'linearization_level': 0, 'add_objective_cut': False, 'cut_level': 2, 'max_all_diff_cut_size': 0, 'symmetry_level': 1}. Best is trial 19 with value: 0.5601694.\n",
      "[I 2024-08-16 18:04:39,255] Trial 20 finished with value: 1.0880934 and parameters: {'preferred_variable_order': 0, 'use_erwa_heuristic': False, 'also_bump_variables_in_conflict_reasons': False, 'binary_minimization_algorithm': 0, 'clause_cleanup_protection': 2, 'presolve_bve_threshold': 2, 'max_presolve_iterations': 1, 'cp_model_probing_level': 1, 'presolve_probing_deterministic_time_limit': 0, 'encode_complex_linear_constraint_with_integer': False, 'ignore_subsolvers:default_lp': False, 'ignore_subsolvers:fixed': False, 'ignore_subsolvers:no_lp': True, 'ignore_subsolvers:max_lp': False, 'ignore_subsolvers:pseudo_costs': True, 'ignore_subsolvers:reduced_costs': False, 'ignore_subsolvers:quick_restart': False, 'ignore_subsolvers:quick_restart_no_lp': True, 'ignore_subsolvers:lb_tree_search': False, 'ignore_subsolvers:probing': False, 'search_branching': 4, 'repair_hint': False, 'use_lb_relax_lns': True, 'use_objective_lb_search': False, 'use_objective_shaving_search': False, 'optimize_with_core': False, 'feasibility_jump_linearization_level': 1, 'fp_rounding': 0, 'diversify_lns_params': False, 'polish_lp_solution': False, 'linearization_level': 1, 'add_objective_cut': False, 'cut_level': 1, 'max_all_diff_cut_size': 0, 'symmetry_level': 1}. Best is trial 19 with value: 0.5601694.\n",
      "[I 2024-08-16 18:04:43,039] Trial 21 finished with value: 0.7473981999999999 and parameters: {'preferred_variable_order': 0, 'use_erwa_heuristic': False, 'also_bump_variables_in_conflict_reasons': False, 'binary_minimization_algorithm': 0, 'clause_cleanup_protection': 2, 'presolve_bve_threshold': 1, 'max_presolve_iterations': 1, 'cp_model_probing_level': 0, 'presolve_probing_deterministic_time_limit': 1, 'encode_complex_linear_constraint_with_integer': False, 'ignore_subsolvers:default_lp': False, 'ignore_subsolvers:fixed': False, 'ignore_subsolvers:no_lp': True, 'ignore_subsolvers:max_lp': False, 'ignore_subsolvers:pseudo_costs': True, 'ignore_subsolvers:reduced_costs': False, 'ignore_subsolvers:quick_restart': False, 'ignore_subsolvers:quick_restart_no_lp': True, 'ignore_subsolvers:lb_tree_search': False, 'ignore_subsolvers:probing': False, 'search_branching': 4, 'repair_hint': False, 'use_lb_relax_lns': True, 'use_objective_lb_search': False, 'use_objective_shaving_search': False, 'optimize_with_core': False, 'feasibility_jump_linearization_level': 1, 'fp_rounding': 2, 'diversify_lns_params': False, 'polish_lp_solution': False, 'linearization_level': 0, 'add_objective_cut': False, 'cut_level': 2, 'max_all_diff_cut_size': 0, 'symmetry_level': 1}. Best is trial 19 with value: 0.5601694.\n",
      "[I 2024-08-16 18:04:47,232] Trial 22 finished with value: 0.8290288 and parameters: {'preferred_variable_order': 0, 'use_erwa_heuristic': False, 'also_bump_variables_in_conflict_reasons': False, 'binary_minimization_algorithm': 0, 'clause_cleanup_protection': 2, 'presolve_bve_threshold': 1, 'max_presolve_iterations': 3, 'cp_model_probing_level': 0, 'presolve_probing_deterministic_time_limit': 1, 'encode_complex_linear_constraint_with_integer': False, 'ignore_subsolvers:default_lp': False, 'ignore_subsolvers:fixed': False, 'ignore_subsolvers:no_lp': True, 'ignore_subsolvers:max_lp': False, 'ignore_subsolvers:pseudo_costs': True, 'ignore_subsolvers:reduced_costs': False, 'ignore_subsolvers:quick_restart': False, 'ignore_subsolvers:quick_restart_no_lp': True, 'ignore_subsolvers:lb_tree_search': False, 'ignore_subsolvers:probing': False, 'search_branching': 4, 'repair_hint': False, 'use_lb_relax_lns': True, 'use_objective_lb_search': False, 'use_objective_shaving_search': False, 'optimize_with_core': False, 'feasibility_jump_linearization_level': 1, 'fp_rounding': 2, 'diversify_lns_params': False, 'polish_lp_solution': False, 'linearization_level': 0, 'add_objective_cut': False, 'cut_level': 2, 'max_all_diff_cut_size': 0, 'symmetry_level': 1}. Best is trial 19 with value: 0.5601694.\n",
      "[I 2024-08-16 18:04:51,955] Trial 23 finished with value: 0.9345478 and parameters: {'preferred_variable_order': 0, 'use_erwa_heuristic': False, 'also_bump_variables_in_conflict_reasons': False, 'binary_minimization_algorithm': 2, 'clause_cleanup_protection': 2, 'presolve_bve_threshold': 2, 'max_presolve_iterations': 2, 'cp_model_probing_level': 0, 'presolve_probing_deterministic_time_limit': 1, 'encode_complex_linear_constraint_with_integer': False, 'ignore_subsolvers:default_lp': False, 'ignore_subsolvers:fixed': False, 'ignore_subsolvers:no_lp': True, 'ignore_subsolvers:max_lp': False, 'ignore_subsolvers:pseudo_costs': True, 'ignore_subsolvers:reduced_costs': False, 'ignore_subsolvers:quick_restart': False, 'ignore_subsolvers:quick_restart_no_lp': True, 'ignore_subsolvers:lb_tree_search': False, 'ignore_subsolvers:probing': False, 'search_branching': 4, 'repair_hint': False, 'use_lb_relax_lns': True, 'use_objective_lb_search': False, 'use_objective_shaving_search': False, 'optimize_with_core': False, 'feasibility_jump_linearization_level': 0, 'fp_rounding': 2, 'diversify_lns_params': False, 'polish_lp_solution': False, 'linearization_level': 0, 'add_objective_cut': False, 'cut_level': 2, 'max_all_diff_cut_size': 0, 'symmetry_level': 1}. Best is trial 19 with value: 0.5601694.\n",
      "[I 2024-08-16 18:04:57,158] Trial 24 finished with value: 1.0304646 and parameters: {'preferred_variable_order': 1, 'use_erwa_heuristic': False, 'also_bump_variables_in_conflict_reasons': False, 'binary_minimization_algorithm': 2, 'clause_cleanup_protection': 2, 'presolve_bve_threshold': 2, 'max_presolve_iterations': 0, 'cp_model_probing_level': 0, 'presolve_probing_deterministic_time_limit': 0, 'encode_complex_linear_constraint_with_integer': False, 'ignore_subsolvers:default_lp': False, 'ignore_subsolvers:fixed': False, 'ignore_subsolvers:no_lp': True, 'ignore_subsolvers:max_lp': False, 'ignore_subsolvers:pseudo_costs': True, 'ignore_subsolvers:reduced_costs': False, 'ignore_subsolvers:quick_restart': False, 'ignore_subsolvers:quick_restart_no_lp': True, 'ignore_subsolvers:lb_tree_search': False, 'ignore_subsolvers:probing': False, 'search_branching': 2, 'repair_hint': False, 'use_lb_relax_lns': True, 'use_objective_lb_search': False, 'use_objective_shaving_search': False, 'optimize_with_core': False, 'feasibility_jump_linearization_level': 1, 'fp_rounding': 2, 'diversify_lns_params': False, 'polish_lp_solution': False, 'linearization_level': 0, 'add_objective_cut': False, 'cut_level': 2, 'max_all_diff_cut_size': 0, 'symmetry_level': 2}. Best is trial 19 with value: 0.5601694.\n",
      "[I 2024-08-16 18:05:02,325] Trial 25 finished with value: 1.023186 and parameters: {'preferred_variable_order': 0, 'use_erwa_heuristic': False, 'also_bump_variables_in_conflict_reasons': False, 'binary_minimization_algorithm': 0, 'clause_cleanup_protection': 1, 'presolve_bve_threshold': 1, 'max_presolve_iterations': 2, 'cp_model_probing_level': 0, 'presolve_probing_deterministic_time_limit': 1, 'encode_complex_linear_constraint_with_integer': False, 'ignore_subsolvers:default_lp': False, 'ignore_subsolvers:fixed': False, 'ignore_subsolvers:no_lp': True, 'ignore_subsolvers:max_lp': False, 'ignore_subsolvers:pseudo_costs': True, 'ignore_subsolvers:reduced_costs': False, 'ignore_subsolvers:quick_restart': False, 'ignore_subsolvers:quick_restart_no_lp': True, 'ignore_subsolvers:lb_tree_search': False, 'ignore_subsolvers:probing': False, 'search_branching': 5, 'repair_hint': False, 'use_lb_relax_lns': True, 'use_objective_lb_search': False, 'use_objective_shaving_search': False, 'optimize_with_core': False, 'feasibility_jump_linearization_level': 0, 'fp_rounding': 2, 'diversify_lns_params': False, 'polish_lp_solution': False, 'linearization_level': 0, 'add_objective_cut': False, 'cut_level': 1, 'max_all_diff_cut_size': 0, 'symmetry_level': 0}. Best is trial 19 with value: 0.5601694.\n",
      "[I 2024-08-16 18:05:05,392] Trial 26 finished with value: 30.0 and parameters: {'preferred_variable_order': 0, 'use_erwa_heuristic': True, 'also_bump_variables_in_conflict_reasons': True, 'binary_minimization_algorithm': 2, 'clause_cleanup_protection': 2, 'presolve_bve_threshold': 1, 'max_presolve_iterations': 1, 'cp_model_probing_level': 1, 'presolve_probing_deterministic_time_limit': 2, 'encode_complex_linear_constraint_with_integer': False, 'ignore_subsolvers:default_lp': False, 'ignore_subsolvers:fixed': True, 'ignore_subsolvers:no_lp': True, 'ignore_subsolvers:max_lp': True, 'ignore_subsolvers:pseudo_costs': True, 'ignore_subsolvers:reduced_costs': True, 'ignore_subsolvers:quick_restart': False, 'ignore_subsolvers:quick_restart_no_lp': True, 'ignore_subsolvers:lb_tree_search': True, 'ignore_subsolvers:probing': True, 'search_branching': 6, 'repair_hint': True, 'use_lb_relax_lns': True, 'use_objective_lb_search': False, 'use_objective_shaving_search': True, 'optimize_with_core': True, 'feasibility_jump_linearization_level': 1, 'fp_rounding': 2, 'diversify_lns_params': True, 'polish_lp_solution': True, 'linearization_level': 1, 'add_objective_cut': True, 'cut_level': 2, 'max_all_diff_cut_size': 0, 'symmetry_level': 2}. Best is trial 19 with value: 0.5601694.\n"
     ]
    },
    {
     "name": "stdout",
     "output_type": "stream",
     "text": [
      "Returning knockout result\n"
     ]
    },
    {
     "name": "stderr",
     "output_type": "stream",
     "text": [
      "[I 2024-08-16 18:05:11,250] Trial 27 finished with value: 1.1612498 and parameters: {'preferred_variable_order': 1, 'use_erwa_heuristic': False, 'also_bump_variables_in_conflict_reasons': False, 'binary_minimization_algorithm': 3, 'clause_cleanup_protection': 2, 'presolve_bve_threshold': 2, 'max_presolve_iterations': 3, 'cp_model_probing_level': 0, 'presolve_probing_deterministic_time_limit': 1, 'encode_complex_linear_constraint_with_integer': False, 'ignore_subsolvers:default_lp': False, 'ignore_subsolvers:fixed': False, 'ignore_subsolvers:no_lp': True, 'ignore_subsolvers:max_lp': False, 'ignore_subsolvers:pseudo_costs': True, 'ignore_subsolvers:reduced_costs': False, 'ignore_subsolvers:quick_restart': False, 'ignore_subsolvers:quick_restart_no_lp': True, 'ignore_subsolvers:lb_tree_search': False, 'ignore_subsolvers:probing': False, 'search_branching': 3, 'repair_hint': False, 'use_lb_relax_lns': True, 'use_objective_lb_search': False, 'use_objective_shaving_search': False, 'optimize_with_core': False, 'feasibility_jump_linearization_level': 1, 'fp_rounding': 2, 'diversify_lns_params': False, 'polish_lp_solution': False, 'linearization_level': 0, 'add_objective_cut': False, 'cut_level': 1, 'max_all_diff_cut_size': 1, 'symmetry_level': 1}. Best is trial 19 with value: 0.5601694.\n",
      "[I 2024-08-16 18:05:15,420] Trial 28 finished with value: 0.8236191999999999 and parameters: {'preferred_variable_order': 0, 'use_erwa_heuristic': False, 'also_bump_variables_in_conflict_reasons': False, 'binary_minimization_algorithm': 0, 'clause_cleanup_protection': 1, 'presolve_bve_threshold': 1, 'max_presolve_iterations': 2, 'cp_model_probing_level': 0, 'presolve_probing_deterministic_time_limit': 0, 'encode_complex_linear_constraint_with_integer': False, 'ignore_subsolvers:default_lp': False, 'ignore_subsolvers:fixed': False, 'ignore_subsolvers:no_lp': True, 'ignore_subsolvers:max_lp': False, 'ignore_subsolvers:pseudo_costs': True, 'ignore_subsolvers:reduced_costs': False, 'ignore_subsolvers:quick_restart': False, 'ignore_subsolvers:quick_restart_no_lp': True, 'ignore_subsolvers:lb_tree_search': False, 'ignore_subsolvers:probing': False, 'search_branching': 4, 'repair_hint': False, 'use_lb_relax_lns': True, 'use_objective_lb_search': False, 'use_objective_shaving_search': False, 'optimize_with_core': False, 'feasibility_jump_linearization_level': 0, 'fp_rounding': 3, 'diversify_lns_params': False, 'polish_lp_solution': False, 'linearization_level': 0, 'add_objective_cut': False, 'cut_level': 2, 'max_all_diff_cut_size': 0, 'symmetry_level': 2}. Best is trial 19 with value: 0.5601694.\n",
      "[I 2024-08-16 18:05:24,587] Trial 29 finished with value: 1.8150354 and parameters: {'preferred_variable_order': 0, 'use_erwa_heuristic': False, 'also_bump_variables_in_conflict_reasons': False, 'binary_minimization_algorithm': 2, 'clause_cleanup_protection': 2, 'presolve_bve_threshold': 1, 'max_presolve_iterations': 4, 'cp_model_probing_level': 1, 'presolve_probing_deterministic_time_limit': 2, 'encode_complex_linear_constraint_with_integer': False, 'ignore_subsolvers:default_lp': False, 'ignore_subsolvers:fixed': False, 'ignore_subsolvers:no_lp': True, 'ignore_subsolvers:max_lp': False, 'ignore_subsolvers:pseudo_costs': True, 'ignore_subsolvers:reduced_costs': False, 'ignore_subsolvers:quick_restart': False, 'ignore_subsolvers:quick_restart_no_lp': True, 'ignore_subsolvers:lb_tree_search': False, 'ignore_subsolvers:probing': False, 'search_branching': 4, 'repair_hint': False, 'use_lb_relax_lns': True, 'use_objective_lb_search': False, 'use_objective_shaving_search': False, 'optimize_with_core': False, 'feasibility_jump_linearization_level': 1, 'fp_rounding': 2, 'diversify_lns_params': False, 'polish_lp_solution': False, 'linearization_level': 1, 'add_objective_cut': False, 'cut_level': 1, 'max_all_diff_cut_size': 1, 'symmetry_level': 2}. Best is trial 19 with value: 0.5601694.\n",
      "[I 2024-08-16 18:05:29,831] Trial 30 finished with value: 1.0382102 and parameters: {'preferred_variable_order': 0, 'use_erwa_heuristic': False, 'also_bump_variables_in_conflict_reasons': False, 'binary_minimization_algorithm': 2, 'clause_cleanup_protection': 0, 'presolve_bve_threshold': 2, 'max_presolve_iterations': 3, 'cp_model_probing_level': 0, 'presolve_probing_deterministic_time_limit': 1, 'encode_complex_linear_constraint_with_integer': False, 'ignore_subsolvers:default_lp': False, 'ignore_subsolvers:fixed': False, 'ignore_subsolvers:no_lp': True, 'ignore_subsolvers:max_lp': False, 'ignore_subsolvers:pseudo_costs': True, 'ignore_subsolvers:reduced_costs': False, 'ignore_subsolvers:quick_restart': False, 'ignore_subsolvers:quick_restart_no_lp': True, 'ignore_subsolvers:lb_tree_search': False, 'ignore_subsolvers:probing': False, 'search_branching': 4, 'repair_hint': False, 'use_lb_relax_lns': True, 'use_objective_lb_search': False, 'use_objective_shaving_search': False, 'optimize_with_core': False, 'feasibility_jump_linearization_level': 0, 'fp_rounding': 0, 'diversify_lns_params': False, 'polish_lp_solution': False, 'linearization_level': 1, 'add_objective_cut': False, 'cut_level': 1, 'max_all_diff_cut_size': 1, 'symmetry_level': 1}. Best is trial 19 with value: 0.5601694.\n",
      "[I 2024-08-16 18:05:29,883] Trial 31 finished with value: 0.7473981999999999 and parameters: {'preferred_variable_order': 0, 'use_erwa_heuristic': False, 'also_bump_variables_in_conflict_reasons': False, 'binary_minimization_algorithm': 0, 'clause_cleanup_protection': 2, 'presolve_bve_threshold': 1, 'max_presolve_iterations': 1, 'cp_model_probing_level': 0, 'presolve_probing_deterministic_time_limit': 1, 'encode_complex_linear_constraint_with_integer': False, 'ignore_subsolvers:default_lp': False, 'ignore_subsolvers:fixed': False, 'ignore_subsolvers:no_lp': True, 'ignore_subsolvers:max_lp': False, 'ignore_subsolvers:pseudo_costs': True, 'ignore_subsolvers:reduced_costs': False, 'ignore_subsolvers:quick_restart': False, 'ignore_subsolvers:quick_restart_no_lp': True, 'ignore_subsolvers:lb_tree_search': False, 'ignore_subsolvers:probing': False, 'search_branching': 4, 'repair_hint': False, 'use_lb_relax_lns': True, 'use_objective_lb_search': False, 'use_objective_shaving_search': False, 'optimize_with_core': False, 'feasibility_jump_linearization_level': 1, 'fp_rounding': 2, 'diversify_lns_params': False, 'polish_lp_solution': False, 'linearization_level': 0, 'add_objective_cut': False, 'cut_level': 2, 'max_all_diff_cut_size': 0, 'symmetry_level': 1}. Best is trial 19 with value: 0.5601694.\n",
      "[I 2024-08-16 18:05:29,937] Trial 32 finished with value: 0.7473981999999999 and parameters: {'preferred_variable_order': 0, 'use_erwa_heuristic': False, 'also_bump_variables_in_conflict_reasons': False, 'binary_minimization_algorithm': 0, 'clause_cleanup_protection': 2, 'presolve_bve_threshold': 1, 'max_presolve_iterations': 1, 'cp_model_probing_level': 0, 'presolve_probing_deterministic_time_limit': 1, 'encode_complex_linear_constraint_with_integer': False, 'ignore_subsolvers:default_lp': False, 'ignore_subsolvers:fixed': False, 'ignore_subsolvers:no_lp': True, 'ignore_subsolvers:max_lp': False, 'ignore_subsolvers:pseudo_costs': True, 'ignore_subsolvers:reduced_costs': False, 'ignore_subsolvers:quick_restart': False, 'ignore_subsolvers:quick_restart_no_lp': True, 'ignore_subsolvers:lb_tree_search': False, 'ignore_subsolvers:probing': False, 'search_branching': 4, 'repair_hint': False, 'use_lb_relax_lns': True, 'use_objective_lb_search': False, 'use_objective_shaving_search': False, 'optimize_with_core': False, 'feasibility_jump_linearization_level': 1, 'fp_rounding': 2, 'diversify_lns_params': False, 'polish_lp_solution': False, 'linearization_level': 0, 'add_objective_cut': False, 'cut_level': 2, 'max_all_diff_cut_size': 0, 'symmetry_level': 1}. Best is trial 19 with value: 0.5601694.\n",
      "[I 2024-08-16 18:05:33,606] Trial 33 finished with value: 0.7227112 and parameters: {'preferred_variable_order': 0, 'use_erwa_heuristic': False, 'also_bump_variables_in_conflict_reasons': False, 'binary_minimization_algorithm': 0, 'clause_cleanup_protection': 2, 'presolve_bve_threshold': 1, 'max_presolve_iterations': 0, 'cp_model_probing_level': 0, 'presolve_probing_deterministic_time_limit': 0, 'encode_complex_linear_constraint_with_integer': False, 'ignore_subsolvers:default_lp': False, 'ignore_subsolvers:fixed': False, 'ignore_subsolvers:no_lp': True, 'ignore_subsolvers:max_lp': False, 'ignore_subsolvers:pseudo_costs': True, 'ignore_subsolvers:reduced_costs': False, 'ignore_subsolvers:quick_restart': False, 'ignore_subsolvers:quick_restart_no_lp': True, 'ignore_subsolvers:lb_tree_search': False, 'ignore_subsolvers:probing': False, 'search_branching': 7, 'repair_hint': False, 'use_lb_relax_lns': True, 'use_objective_lb_search': False, 'use_objective_shaving_search': False, 'optimize_with_core': False, 'feasibility_jump_linearization_level': 1, 'fp_rounding': 2, 'diversify_lns_params': False, 'polish_lp_solution': False, 'linearization_level': 0, 'add_objective_cut': False, 'cut_level': 2, 'max_all_diff_cut_size': 0, 'symmetry_level': 1}. Best is trial 19 with value: 0.5601694.\n",
      "[I 2024-08-16 18:05:36,678] Trial 34 finished with value: 30.0 and parameters: {'preferred_variable_order': 0, 'use_erwa_heuristic': True, 'also_bump_variables_in_conflict_reasons': True, 'binary_minimization_algorithm': 0, 'clause_cleanup_protection': 2, 'presolve_bve_threshold': 1, 'max_presolve_iterations': 0, 'cp_model_probing_level': 0, 'presolve_probing_deterministic_time_limit': 0, 'encode_complex_linear_constraint_with_integer': False, 'ignore_subsolvers:default_lp': False, 'ignore_subsolvers:fixed': False, 'ignore_subsolvers:no_lp': False, 'ignore_subsolvers:max_lp': True, 'ignore_subsolvers:pseudo_costs': True, 'ignore_subsolvers:reduced_costs': False, 'ignore_subsolvers:quick_restart': False, 'ignore_subsolvers:quick_restart_no_lp': True, 'ignore_subsolvers:lb_tree_search': False, 'ignore_subsolvers:probing': False, 'search_branching': 7, 'repair_hint': False, 'use_lb_relax_lns': False, 'use_objective_lb_search': False, 'use_objective_shaving_search': True, 'optimize_with_core': False, 'feasibility_jump_linearization_level': 1, 'fp_rounding': 2, 'diversify_lns_params': False, 'polish_lp_solution': False, 'linearization_level': 0, 'add_objective_cut': False, 'cut_level': 2, 'max_all_diff_cut_size': 0, 'symmetry_level': 1}. Best is trial 19 with value: 0.5601694.\n"
     ]
    },
    {
     "name": "stdout",
     "output_type": "stream",
     "text": [
      "Returning knockout result\n"
     ]
    },
    {
     "name": "stderr",
     "output_type": "stream",
     "text": [
      "[I 2024-08-16 18:05:39,887] Trial 35 finished with value: 0.6312274 and parameters: {'preferred_variable_order': 2, 'use_erwa_heuristic': False, 'also_bump_variables_in_conflict_reasons': False, 'binary_minimization_algorithm': 1, 'clause_cleanup_protection': 2, 'presolve_bve_threshold': 1, 'max_presolve_iterations': 0, 'cp_model_probing_level': 0, 'presolve_probing_deterministic_time_limit': 0, 'encode_complex_linear_constraint_with_integer': False, 'ignore_subsolvers:default_lp': False, 'ignore_subsolvers:fixed': False, 'ignore_subsolvers:no_lp': True, 'ignore_subsolvers:max_lp': False, 'ignore_subsolvers:pseudo_costs': True, 'ignore_subsolvers:reduced_costs': True, 'ignore_subsolvers:quick_restart': False, 'ignore_subsolvers:quick_restart_no_lp': False, 'ignore_subsolvers:lb_tree_search': False, 'ignore_subsolvers:probing': True, 'search_branching': 7, 'repair_hint': False, 'use_lb_relax_lns': True, 'use_objective_lb_search': False, 'use_objective_shaving_search': False, 'optimize_with_core': False, 'feasibility_jump_linearization_level': 1, 'fp_rounding': 2, 'diversify_lns_params': False, 'polish_lp_solution': False, 'linearization_level': 0, 'add_objective_cut': False, 'cut_level': 2, 'max_all_diff_cut_size': 0, 'symmetry_level': 1}. Best is trial 19 with value: 0.5601694.\n",
      "[I 2024-08-16 18:05:43,934] Trial 36 finished with value: 2.586462 and parameters: {'preferred_variable_order': 2, 'use_erwa_heuristic': True, 'also_bump_variables_in_conflict_reasons': False, 'binary_minimization_algorithm': 1, 'clause_cleanup_protection': 1, 'presolve_bve_threshold': 0, 'max_presolve_iterations': 0, 'cp_model_probing_level': 0, 'presolve_probing_deterministic_time_limit': 0, 'encode_complex_linear_constraint_with_integer': False, 'ignore_subsolvers:default_lp': False, 'ignore_subsolvers:fixed': True, 'ignore_subsolvers:no_lp': False, 'ignore_subsolvers:max_lp': False, 'ignore_subsolvers:pseudo_costs': False, 'ignore_subsolvers:reduced_costs': True, 'ignore_subsolvers:quick_restart': False, 'ignore_subsolvers:quick_restart_no_lp': False, 'ignore_subsolvers:lb_tree_search': True, 'ignore_subsolvers:probing': True, 'search_branching': 7, 'repair_hint': True, 'use_lb_relax_lns': True, 'use_objective_lb_search': False, 'use_objective_shaving_search': False, 'optimize_with_core': False, 'feasibility_jump_linearization_level': 1, 'fp_rounding': 3, 'diversify_lns_params': True, 'polish_lp_solution': False, 'linearization_level': 1, 'add_objective_cut': False, 'cut_level': 1, 'max_all_diff_cut_size': 0, 'symmetry_level': 0}. Best is trial 19 with value: 0.5601694.\n"
     ]
    },
    {
     "name": "stdout",
     "output_type": "stream",
     "text": [
      "Returning knockout result\n"
     ]
    },
    {
     "name": "stderr",
     "output_type": "stream",
     "text": [
      "[I 2024-08-16 18:05:47,010] Trial 37 finished with value: 30.0 and parameters: {'preferred_variable_order': 2, 'use_erwa_heuristic': False, 'also_bump_variables_in_conflict_reasons': True, 'binary_minimization_algorithm': 1, 'clause_cleanup_protection': 2, 'presolve_bve_threshold': 1, 'max_presolve_iterations': 0, 'cp_model_probing_level': 0, 'presolve_probing_deterministic_time_limit': 0, 'encode_complex_linear_constraint_with_integer': False, 'ignore_subsolvers:default_lp': False, 'ignore_subsolvers:fixed': False, 'ignore_subsolvers:no_lp': True, 'ignore_subsolvers:max_lp': False, 'ignore_subsolvers:pseudo_costs': True, 'ignore_subsolvers:reduced_costs': True, 'ignore_subsolvers:quick_restart': False, 'ignore_subsolvers:quick_restart_no_lp': False, 'ignore_subsolvers:lb_tree_search': False, 'ignore_subsolvers:probing': True, 'search_branching': 7, 'repair_hint': False, 'use_lb_relax_lns': True, 'use_objective_lb_search': False, 'use_objective_shaving_search': True, 'optimize_with_core': True, 'feasibility_jump_linearization_level': 1, 'fp_rounding': 2, 'diversify_lns_params': False, 'polish_lp_solution': True, 'linearization_level': 0, 'add_objective_cut': True, 'cut_level': 2, 'max_all_diff_cut_size': 1, 'symmetry_level': 2}. Best is trial 19 with value: 0.5601694.\n"
     ]
    },
    {
     "name": "stdout",
     "output_type": "stream",
     "text": [
      "Returning knockout result\n"
     ]
    },
    {
     "name": "stderr",
     "output_type": "stream",
     "text": [
      "[I 2024-08-16 18:05:53,822] Trial 38 finished with value: 2.910709 and parameters: {'preferred_variable_order': 2, 'use_erwa_heuristic': False, 'also_bump_variables_in_conflict_reasons': False, 'binary_minimization_algorithm': 1, 'clause_cleanup_protection': 0, 'presolve_bve_threshold': 1, 'max_presolve_iterations': 2, 'cp_model_probing_level': 1, 'presolve_probing_deterministic_time_limit': 2, 'encode_complex_linear_constraint_with_integer': True, 'ignore_subsolvers:default_lp': False, 'ignore_subsolvers:fixed': False, 'ignore_subsolvers:no_lp': True, 'ignore_subsolvers:max_lp': True, 'ignore_subsolvers:pseudo_costs': True, 'ignore_subsolvers:reduced_costs': True, 'ignore_subsolvers:quick_restart': False, 'ignore_subsolvers:quick_restart_no_lp': False, 'ignore_subsolvers:lb_tree_search': False, 'ignore_subsolvers:probing': True, 'search_branching': 5, 'repair_hint': True, 'use_lb_relax_lns': False, 'use_objective_lb_search': False, 'use_objective_shaving_search': False, 'optimize_with_core': False, 'feasibility_jump_linearization_level': 1, 'fp_rounding': 0, 'diversify_lns_params': True, 'polish_lp_solution': False, 'linearization_level': 1, 'add_objective_cut': False, 'cut_level': 0, 'max_all_diff_cut_size': 2, 'symmetry_level': 1}. Best is trial 19 with value: 0.5601694.\n"
     ]
    },
    {
     "name": "stdout",
     "output_type": "stream",
     "text": [
      "Returning knockout result\n"
     ]
    },
    {
     "name": "stderr",
     "output_type": "stream",
     "text": [
      "[I 2024-08-16 18:05:56,891] Trial 39 finished with value: 30.0 and parameters: {'preferred_variable_order': 1, 'use_erwa_heuristic': True, 'also_bump_variables_in_conflict_reasons': False, 'binary_minimization_algorithm': 1, 'clause_cleanup_protection': 2, 'presolve_bve_threshold': 2, 'max_presolve_iterations': 2, 'cp_model_probing_level': 0, 'presolve_probing_deterministic_time_limit': 3, 'encode_complex_linear_constraint_with_integer': False, 'ignore_subsolvers:default_lp': False, 'ignore_subsolvers:fixed': False, 'ignore_subsolvers:no_lp': False, 'ignore_subsolvers:max_lp': False, 'ignore_subsolvers:pseudo_costs': False, 'ignore_subsolvers:reduced_costs': True, 'ignore_subsolvers:quick_restart': False, 'ignore_subsolvers:quick_restart_no_lp': False, 'ignore_subsolvers:lb_tree_search': True, 'ignore_subsolvers:probing': True, 'search_branching': 6, 'repair_hint': False, 'use_lb_relax_lns': True, 'use_objective_lb_search': False, 'use_objective_shaving_search': True, 'optimize_with_core': False, 'feasibility_jump_linearization_level': 2, 'fp_rounding': 3, 'diversify_lns_params': False, 'polish_lp_solution': False, 'linearization_level': 0, 'add_objective_cut': False, 'cut_level': 1, 'max_all_diff_cut_size': 0, 'symmetry_level': 2}. Best is trial 19 with value: 0.5601694.\n"
     ]
    },
    {
     "name": "stdout",
     "output_type": "stream",
     "text": [
      "Returning knockout result\n"
     ]
    },
    {
     "name": "stderr",
     "output_type": "stream",
     "text": [
      "[I 2024-08-16 18:05:59,958] Trial 40 finished with value: 30.0 and parameters: {'preferred_variable_order': 2, 'use_erwa_heuristic': False, 'also_bump_variables_in_conflict_reasons': True, 'binary_minimization_algorithm': 3, 'clause_cleanup_protection': 1, 'presolve_bve_threshold': 2, 'max_presolve_iterations': 1, 'cp_model_probing_level': 2, 'presolve_probing_deterministic_time_limit': 2, 'encode_complex_linear_constraint_with_integer': True, 'ignore_subsolvers:default_lp': False, 'ignore_subsolvers:fixed': True, 'ignore_subsolvers:no_lp': True, 'ignore_subsolvers:max_lp': True, 'ignore_subsolvers:pseudo_costs': True, 'ignore_subsolvers:reduced_costs': True, 'ignore_subsolvers:quick_restart': False, 'ignore_subsolvers:quick_restart_no_lp': False, 'ignore_subsolvers:lb_tree_search': False, 'ignore_subsolvers:probing': True, 'search_branching': 1, 'repair_hint': False, 'use_lb_relax_lns': True, 'use_objective_lb_search': False, 'use_objective_shaving_search': False, 'optimize_with_core': False, 'feasibility_jump_linearization_level': 0, 'fp_rounding': 2, 'diversify_lns_params': False, 'polish_lp_solution': False, 'linearization_level': 1, 'add_objective_cut': True, 'cut_level': 2, 'max_all_diff_cut_size': 1, 'symmetry_level': 0}. Best is trial 19 with value: 0.5601694.\n"
     ]
    },
    {
     "name": "stdout",
     "output_type": "stream",
     "text": [
      "Returning knockout result\n"
     ]
    },
    {
     "name": "stderr",
     "output_type": "stream",
     "text": [
      "[I 2024-08-16 18:06:02,893] Trial 41 finished with value: 0.5761858 and parameters: {'preferred_variable_order': 1, 'use_erwa_heuristic': False, 'also_bump_variables_in_conflict_reasons': False, 'binary_minimization_algorithm': 1, 'clause_cleanup_protection': 2, 'presolve_bve_threshold': 1, 'max_presolve_iterations': 0, 'cp_model_probing_level': 0, 'presolve_probing_deterministic_time_limit': 0, 'encode_complex_linear_constraint_with_integer': False, 'ignore_subsolvers:default_lp': False, 'ignore_subsolvers:fixed': False, 'ignore_subsolvers:no_lp': True, 'ignore_subsolvers:max_lp': False, 'ignore_subsolvers:pseudo_costs': True, 'ignore_subsolvers:reduced_costs': True, 'ignore_subsolvers:quick_restart': False, 'ignore_subsolvers:quick_restart_no_lp': True, 'ignore_subsolvers:lb_tree_search': False, 'ignore_subsolvers:probing': True, 'search_branching': 7, 'repair_hint': False, 'use_lb_relax_lns': True, 'use_objective_lb_search': False, 'use_objective_shaving_search': False, 'optimize_with_core': False, 'feasibility_jump_linearization_level': 1, 'fp_rounding': 2, 'diversify_lns_params': False, 'polish_lp_solution': False, 'linearization_level': 0, 'add_objective_cut': False, 'cut_level': 2, 'max_all_diff_cut_size': 0, 'symmetry_level': 1}. Best is trial 19 with value: 0.5601694.\n",
      "[I 2024-08-16 18:06:05,602] Trial 42 finished with value: 0.530705 and parameters: {'preferred_variable_order': 1, 'use_erwa_heuristic': False, 'also_bump_variables_in_conflict_reasons': False, 'binary_minimization_algorithm': 1, 'clause_cleanup_protection': 2, 'presolve_bve_threshold': 1, 'max_presolve_iterations': 0, 'cp_model_probing_level': 0, 'presolve_probing_deterministic_time_limit': 0, 'encode_complex_linear_constraint_with_integer': False, 'ignore_subsolvers:default_lp': False, 'ignore_subsolvers:fixed': False, 'ignore_subsolvers:no_lp': True, 'ignore_subsolvers:max_lp': False, 'ignore_subsolvers:pseudo_costs': True, 'ignore_subsolvers:reduced_costs': True, 'ignore_subsolvers:quick_restart': False, 'ignore_subsolvers:quick_restart_no_lp': False, 'ignore_subsolvers:lb_tree_search': False, 'ignore_subsolvers:probing': True, 'search_branching': 7, 'repair_hint': False, 'use_lb_relax_lns': True, 'use_objective_lb_search': False, 'use_objective_shaving_search': False, 'optimize_with_core': False, 'feasibility_jump_linearization_level': 1, 'fp_rounding': 2, 'diversify_lns_params': False, 'polish_lp_solution': False, 'linearization_level': 0, 'add_objective_cut': False, 'cut_level': 2, 'max_all_diff_cut_size': 0, 'symmetry_level': 1}. Best is trial 42 with value: 0.530705.\n",
      "[I 2024-08-16 18:06:05,656] Trial 43 finished with value: 0.530705 and parameters: {'preferred_variable_order': 1, 'use_erwa_heuristic': False, 'also_bump_variables_in_conflict_reasons': False, 'binary_minimization_algorithm': 1, 'clause_cleanup_protection': 2, 'presolve_bve_threshold': 1, 'max_presolve_iterations': 0, 'cp_model_probing_level': 0, 'presolve_probing_deterministic_time_limit': 0, 'encode_complex_linear_constraint_with_integer': False, 'ignore_subsolvers:default_lp': False, 'ignore_subsolvers:fixed': False, 'ignore_subsolvers:no_lp': True, 'ignore_subsolvers:max_lp': False, 'ignore_subsolvers:pseudo_costs': True, 'ignore_subsolvers:reduced_costs': True, 'ignore_subsolvers:quick_restart': False, 'ignore_subsolvers:quick_restart_no_lp': False, 'ignore_subsolvers:lb_tree_search': False, 'ignore_subsolvers:probing': True, 'search_branching': 7, 'repair_hint': False, 'use_lb_relax_lns': True, 'use_objective_lb_search': False, 'use_objective_shaving_search': False, 'optimize_with_core': False, 'feasibility_jump_linearization_level': 1, 'fp_rounding': 2, 'diversify_lns_params': False, 'polish_lp_solution': False, 'linearization_level': 0, 'add_objective_cut': False, 'cut_level': 2, 'max_all_diff_cut_size': 0, 'symmetry_level': 1}. Best is trial 42 with value: 0.530705.\n",
      "[I 2024-08-16 18:06:08,619] Trial 44 finished with value: 0.5820514 and parameters: {'preferred_variable_order': 1, 'use_erwa_heuristic': False, 'also_bump_variables_in_conflict_reasons': False, 'binary_minimization_algorithm': 1, 'clause_cleanup_protection': 2, 'presolve_bve_threshold': 1, 'max_presolve_iterations': 0, 'cp_model_probing_level': 0, 'presolve_probing_deterministic_time_limit': 0, 'encode_complex_linear_constraint_with_integer': False, 'ignore_subsolvers:default_lp': False, 'ignore_subsolvers:fixed': False, 'ignore_subsolvers:no_lp': True, 'ignore_subsolvers:max_lp': False, 'ignore_subsolvers:pseudo_costs': True, 'ignore_subsolvers:reduced_costs': True, 'ignore_subsolvers:quick_restart': False, 'ignore_subsolvers:quick_restart_no_lp': False, 'ignore_subsolvers:lb_tree_search': False, 'ignore_subsolvers:probing': True, 'search_branching': 7, 'repair_hint': False, 'use_lb_relax_lns': True, 'use_objective_lb_search': False, 'use_objective_shaving_search': False, 'optimize_with_core': False, 'feasibility_jump_linearization_level': 1, 'fp_rounding': 1, 'diversify_lns_params': False, 'polish_lp_solution': False, 'linearization_level': 0, 'add_objective_cut': False, 'cut_level': 2, 'max_all_diff_cut_size': 0, 'symmetry_level': 1}. Best is trial 42 with value: 0.530705.\n",
      "[I 2024-08-16 18:06:11,915] Trial 45 finished with value: 0.6482884 and parameters: {'preferred_variable_order': 1, 'use_erwa_heuristic': False, 'also_bump_variables_in_conflict_reasons': False, 'binary_minimization_algorithm': 1, 'clause_cleanup_protection': 2, 'presolve_bve_threshold': 1, 'max_presolve_iterations': 0, 'cp_model_probing_level': 0, 'presolve_probing_deterministic_time_limit': 0, 'encode_complex_linear_constraint_with_integer': False, 'ignore_subsolvers:default_lp': False, 'ignore_subsolvers:fixed': False, 'ignore_subsolvers:no_lp': True, 'ignore_subsolvers:max_lp': False, 'ignore_subsolvers:pseudo_costs': False, 'ignore_subsolvers:reduced_costs': True, 'ignore_subsolvers:quick_restart': False, 'ignore_subsolvers:quick_restart_no_lp': False, 'ignore_subsolvers:lb_tree_search': False, 'ignore_subsolvers:probing': True, 'search_branching': 7, 'repair_hint': False, 'use_lb_relax_lns': False, 'use_objective_lb_search': False, 'use_objective_shaving_search': False, 'optimize_with_core': False, 'feasibility_jump_linearization_level': 1, 'fp_rounding': 1, 'diversify_lns_params': True, 'polish_lp_solution': False, 'linearization_level': 2, 'add_objective_cut': False, 'cut_level': 2, 'max_all_diff_cut_size': 0, 'symmetry_level': 1}. Best is trial 42 with value: 0.530705.\n",
      "[I 2024-08-16 18:06:14,993] Trial 46 finished with value: 30.0 and parameters: {'preferred_variable_order': 1, 'use_erwa_heuristic': False, 'also_bump_variables_in_conflict_reasons': False, 'binary_minimization_algorithm': 1, 'clause_cleanup_protection': 2, 'presolve_bve_threshold': 0, 'max_presolve_iterations': 0, 'cp_model_probing_level': 0, 'presolve_probing_deterministic_time_limit': 0, 'encode_complex_linear_constraint_with_integer': True, 'ignore_subsolvers:default_lp': False, 'ignore_subsolvers:fixed': False, 'ignore_subsolvers:no_lp': True, 'ignore_subsolvers:max_lp': False, 'ignore_subsolvers:pseudo_costs': True, 'ignore_subsolvers:reduced_costs': True, 'ignore_subsolvers:quick_restart': False, 'ignore_subsolvers:quick_restart_no_lp': False, 'ignore_subsolvers:lb_tree_search': False, 'ignore_subsolvers:probing': True, 'search_branching': 7, 'repair_hint': True, 'use_lb_relax_lns': True, 'use_objective_lb_search': False, 'use_objective_shaving_search': False, 'optimize_with_core': True, 'feasibility_jump_linearization_level': 1, 'fp_rounding': 1, 'diversify_lns_params': False, 'polish_lp_solution': True, 'linearization_level': 0, 'add_objective_cut': False, 'cut_level': 2, 'max_all_diff_cut_size': 0, 'symmetry_level': 1}. Best is trial 42 with value: 0.530705.\n"
     ]
    },
    {
     "name": "stdout",
     "output_type": "stream",
     "text": [
      "Returning knockout result\n"
     ]
    },
    {
     "name": "stderr",
     "output_type": "stream",
     "text": [
      "[I 2024-08-16 18:06:24,449] Trial 47 finished with value: 2.782433 and parameters: {'preferred_variable_order': 1, 'use_erwa_heuristic': True, 'also_bump_variables_in_conflict_reasons': False, 'binary_minimization_algorithm': 1, 'clause_cleanup_protection': 2, 'presolve_bve_threshold': 1, 'max_presolve_iterations': 0, 'cp_model_probing_level': 1, 'presolve_probing_deterministic_time_limit': 0, 'encode_complex_linear_constraint_with_integer': False, 'ignore_subsolvers:default_lp': False, 'ignore_subsolvers:fixed': False, 'ignore_subsolvers:no_lp': False, 'ignore_subsolvers:max_lp': False, 'ignore_subsolvers:pseudo_costs': True, 'ignore_subsolvers:reduced_costs': True, 'ignore_subsolvers:quick_restart': True, 'ignore_subsolvers:quick_restart_no_lp': False, 'ignore_subsolvers:lb_tree_search': True, 'ignore_subsolvers:probing': True, 'search_branching': 7, 'repair_hint': False, 'use_lb_relax_lns': True, 'use_objective_lb_search': True, 'use_objective_shaving_search': False, 'optimize_with_core': False, 'feasibility_jump_linearization_level': 1, 'fp_rounding': 1, 'diversify_lns_params': False, 'polish_lp_solution': False, 'linearization_level': 0, 'add_objective_cut': False, 'cut_level': 2, 'max_all_diff_cut_size': 0, 'symmetry_level': 1}. Best is trial 42 with value: 0.530705.\n"
     ]
    },
    {
     "name": "stdout",
     "output_type": "stream",
     "text": [
      "Returning knockout result\n"
     ]
    },
    {
     "name": "stderr",
     "output_type": "stream",
     "text": [
      "[I 2024-08-16 18:06:27,657] Trial 48 finished with value: 0.629945 and parameters: {'preferred_variable_order': 1, 'use_erwa_heuristic': False, 'also_bump_variables_in_conflict_reasons': False, 'binary_minimization_algorithm': 1, 'clause_cleanup_protection': 2, 'presolve_bve_threshold': 1, 'max_presolve_iterations': 0, 'cp_model_probing_level': 0, 'presolve_probing_deterministic_time_limit': 0, 'encode_complex_linear_constraint_with_integer': False, 'ignore_subsolvers:default_lp': True, 'ignore_subsolvers:fixed': False, 'ignore_subsolvers:no_lp': True, 'ignore_subsolvers:max_lp': False, 'ignore_subsolvers:pseudo_costs': True, 'ignore_subsolvers:reduced_costs': True, 'ignore_subsolvers:quick_restart': False, 'ignore_subsolvers:quick_restart_no_lp': False, 'ignore_subsolvers:lb_tree_search': False, 'ignore_subsolvers:probing': True, 'search_branching': 7, 'repair_hint': False, 'use_lb_relax_lns': True, 'use_objective_lb_search': False, 'use_objective_shaving_search': False, 'optimize_with_core': False, 'feasibility_jump_linearization_level': 1, 'fp_rounding': 1, 'diversify_lns_params': False, 'polish_lp_solution': False, 'linearization_level': 0, 'add_objective_cut': False, 'cut_level': 2, 'max_all_diff_cut_size': 0, 'symmetry_level': 1}. Best is trial 42 with value: 0.530705.\n",
      "[I 2024-08-16 18:06:31,995] Trial 49 finished with value: 0.8564769999999999 and parameters: {'preferred_variable_order': 1, 'use_erwa_heuristic': False, 'also_bump_variables_in_conflict_reasons': False, 'binary_minimization_algorithm': 1, 'clause_cleanup_protection': 2, 'presolve_bve_threshold': 1, 'max_presolve_iterations': 1, 'cp_model_probing_level': 0, 'presolve_probing_deterministic_time_limit': 0, 'encode_complex_linear_constraint_with_integer': False, 'ignore_subsolvers:default_lp': False, 'ignore_subsolvers:fixed': False, 'ignore_subsolvers:no_lp': True, 'ignore_subsolvers:max_lp': True, 'ignore_subsolvers:pseudo_costs': False, 'ignore_subsolvers:reduced_costs': True, 'ignore_subsolvers:quick_restart': False, 'ignore_subsolvers:quick_restart_no_lp': False, 'ignore_subsolvers:lb_tree_search': False, 'ignore_subsolvers:probing': True, 'search_branching': 8, 'repair_hint': False, 'use_lb_relax_lns': False, 'use_objective_lb_search': False, 'use_objective_shaving_search': False, 'optimize_with_core': False, 'feasibility_jump_linearization_level': 1, 'fp_rounding': 1, 'diversify_lns_params': True, 'polish_lp_solution': False, 'linearization_level': 0, 'add_objective_cut': True, 'cut_level': 2, 'max_all_diff_cut_size': 0, 'symmetry_level': 1}. Best is trial 42 with value: 0.530705.\n"
     ]
    },
    {
     "name": "stdout",
     "output_type": "stream",
     "text": [
      "Best parameters: {'preferred_variable_order': 1, 'clause_cleanup_protection': 2, 'max_presolve_iterations': 1, 'cp_model_probing_level': 0, 'presolve_probing_deterministic_time_limit': 0.1, 'ignore_subsolvers': ['no_lp', 'pseudo_costs', 'reduced_costs', 'probing'], 'search_branching': 7, 'use_lb_relax_lns': True, 'feasibility_jump_linearization_level': 1, 'linearization_level': 0, 'cut_level': 2, 'max_all_diff_cut_size': 32, 'symmetry_level': 1}. Score: 0.530705\n",
      "Checking which parameter changes obtained by the hyperparameter optimization are essential...\n",
      "Evaluating resetting parameter 'preferred_variable_order' to default...\n",
      "The parameter 'preferred_variable_order' seems to be essential for the performance.\n",
      "Evaluating resetting parameter 'clause_cleanup_protection' to default...\n",
      "Seems like we can drop parameter 'clause_cleanup_protection' from the optimized parameters.\n",
      "Evaluating resetting parameter 'max_presolve_iterations' to default...\n",
      "Seems like we can drop parameter 'max_presolve_iterations' from the optimized parameters.\n",
      "Evaluating resetting parameter 'cp_model_probing_level' to default...\n",
      "The parameter 'cp_model_probing_level' seems to be essential for the performance.\n",
      "Evaluating resetting parameter 'presolve_probing_deterministic_time_limit' to default...\n",
      "The parameter 'presolve_probing_deterministic_time_limit' seems to be essential for the performance.\n",
      "Evaluating resetting parameter 'ignore_subsolvers' to default...\n",
      "Seems like we can drop parameter 'ignore_subsolvers' from the optimized parameters.\n",
      "Evaluating resetting parameter 'search_branching' to default...\n",
      "The parameter 'search_branching' seems to be essential for the performance.\n",
      "Evaluating resetting parameter 'use_lb_relax_lns' to default...\n",
      "Seems like we can drop parameter 'use_lb_relax_lns' from the optimized parameters.\n",
      "Evaluating resetting parameter 'feasibility_jump_linearization_level' to default...\n",
      "Seems like we can drop parameter 'feasibility_jump_linearization_level' from the optimized parameters.\n",
      "Evaluating resetting parameter 'linearization_level' to default...\n",
      "Seems like we can drop parameter 'linearization_level' from the optimized parameters.\n",
      "Evaluating resetting parameter 'cut_level' to default...\n",
      "The parameter 'cut_level' seems to be essential for the performance.\n",
      "Evaluating resetting parameter 'max_all_diff_cut_size' to default...\n",
      "Seems like we can drop parameter 'max_all_diff_cut_size' from the optimized parameters.\n",
      "Evaluating resetting parameter 'symmetry_level' to default...\n",
      "Seems like we can drop parameter 'symmetry_level' from the optimized parameters.\n",
      "optimized_score MultiResult(scores=[0.496498, 0.522484, 0.438563, 0.582219, 0.475515, 0.612348, 0.543925, 0.483329, 0.590246, 0.602928], params={'preferred_variable_order': 1, 'cp_model_probing_level': 0, 'presolve_probing_deterministic_time_limit': 0.1, 'search_branching': 7, 'cut_level': 2})\n"
     ]
    },
    {
     "data": {
      "text/html": [
       "<pre style=\"white-space:pre;overflow-x:auto;line-height:normal;font-family:Menlo,'DejaVu Sans Mono',consolas,'Courier New',monospace\"><span style=\"color: #00ff00; text-decoration-color: #00ff00\">────────────────────────────────────────────── </span>OPTIMIZED PARAMETERS<span style=\"color: #00ff00; text-decoration-color: #00ff00\"> ───────────────────────────────────────────────</span>\n",
       "</pre>\n"
      ],
      "text/plain": [
       "\u001b[92m────────────────────────────────────────────── \u001b[0mOPTIMIZED PARAMETERS\u001b[92m ───────────────────────────────────────────────\u001b[0m\n"
      ]
     },
     "metadata": {},
     "output_type": "display_data"
    },
    {
     "data": {
      "text/html": [
       "<pre style=\"white-space:pre;overflow-x:auto;line-height:normal;font-family:Menlo,'DejaVu Sans Mono',consolas,'Courier New',monospace\">┏━━━━━┳━━━━━━━━━━━━━━━━━━━━━━━━━━━━━━━━━━━━━━━━━━━┳━━━━━━━┳━━━━━━━━━━━━━━┳━━━━━━━━━━━━━━━┓\n",
       "┃<span style=\"color: #800080; text-decoration-color: #800080; font-weight: bold\"> #   </span>┃<span style=\"color: #800080; text-decoration-color: #800080; font-weight: bold\"> Parameter                                 </span>┃<span style=\"color: #800080; text-decoration-color: #800080; font-weight: bold\"> Value </span>┃<span style=\"color: #800080; text-decoration-color: #800080; font-weight: bold\"> Contribution </span>┃<span style=\"color: #800080; text-decoration-color: #800080; font-weight: bold\"> Default Value </span>┃\n",
       "┡━━━━━╇━━━━━━━━━━━━━━━━━━━━━━━━━━━━━━━━━━━━━━━━━━━╇━━━━━━━╇━━━━━━━━━━━━━━╇━━━━━━━━━━━━━━━┩\n",
       "│<span style=\"color: #7f7f7f; text-decoration-color: #7f7f7f\"> 1   </span>│<span style=\"font-weight: bold\"> preferred_variable_order                  </span>│   1   │    13.28%    │       0       │\n",
       "│<span style=\"color: #7f7f7f; text-decoration-color: #7f7f7f\"> 2   </span>│<span style=\"font-weight: bold\"> cp_model_probing_level                    </span>│   0   │    55.31%    │       2       │\n",
       "│<span style=\"color: #7f7f7f; text-decoration-color: #7f7f7f\"> 3   </span>│<span style=\"font-weight: bold\"> presolve_probing_deterministic_time_limit </span>│  0.1  │    7.42%     │     30.0      │\n",
       "│<span style=\"color: #7f7f7f; text-decoration-color: #7f7f7f\"> 4   </span>│<span style=\"font-weight: bold\"> search_branching                          </span>│   7   │    21.00%    │       0       │\n",
       "│<span style=\"color: #7f7f7f; text-decoration-color: #7f7f7f\"> 5   </span>│<span style=\"font-weight: bold\"> cut_level                                 </span>│   2   │    2.98%     │       1       │\n",
       "└─────┴───────────────────────────────────────────┴───────┴──────────────┴───────────────┘\n",
       "</pre>\n"
      ],
      "text/plain": [
       "┏━━━━━┳━━━━━━━━━━━━━━━━━━━━━━━━━━━━━━━━━━━━━━━━━━━┳━━━━━━━┳━━━━━━━━━━━━━━┳━━━━━━━━━━━━━━━┓\n",
       "┃\u001b[1;35m \u001b[0m\u001b[1;35m#  \u001b[0m\u001b[1;35m \u001b[0m┃\u001b[1;35m \u001b[0m\u001b[1;35mParameter                                \u001b[0m\u001b[1;35m \u001b[0m┃\u001b[1;35m \u001b[0m\u001b[1;35mValue\u001b[0m\u001b[1;35m \u001b[0m┃\u001b[1;35m \u001b[0m\u001b[1;35mContribution\u001b[0m\u001b[1;35m \u001b[0m┃\u001b[1;35m \u001b[0m\u001b[1;35mDefault Value\u001b[0m\u001b[1;35m \u001b[0m┃\n",
       "┡━━━━━╇━━━━━━━━━━━━━━━━━━━━━━━━━━━━━━━━━━━━━━━━━━━╇━━━━━━━╇━━━━━━━━━━━━━━╇━━━━━━━━━━━━━━━┩\n",
       "│\u001b[2m \u001b[0m\u001b[2m1  \u001b[0m\u001b[2m \u001b[0m│\u001b[1m \u001b[0m\u001b[1mpreferred_variable_order                 \u001b[0m\u001b[1m \u001b[0m│   1   │    13.28%    │       0       │\n",
       "│\u001b[2m \u001b[0m\u001b[2m2  \u001b[0m\u001b[2m \u001b[0m│\u001b[1m \u001b[0m\u001b[1mcp_model_probing_level                   \u001b[0m\u001b[1m \u001b[0m│   0   │    55.31%    │       2       │\n",
       "│\u001b[2m \u001b[0m\u001b[2m3  \u001b[0m\u001b[2m \u001b[0m│\u001b[1m \u001b[0m\u001b[1mpresolve_probing_deterministic_time_limit\u001b[0m\u001b[1m \u001b[0m│  0.1  │    7.42%     │     30.0      │\n",
       "│\u001b[2m \u001b[0m\u001b[2m4  \u001b[0m\u001b[2m \u001b[0m│\u001b[1m \u001b[0m\u001b[1msearch_branching                         \u001b[0m\u001b[1m \u001b[0m│   7   │    21.00%    │       0       │\n",
       "│\u001b[2m \u001b[0m\u001b[2m5  \u001b[0m\u001b[2m \u001b[0m│\u001b[1m \u001b[0m\u001b[1mcut_level                                \u001b[0m\u001b[1m \u001b[0m│   2   │    2.98%     │       1       │\n",
       "└─────┴───────────────────────────────────────────┴───────┴──────────────┴───────────────┘\n"
      ]
     },
     "metadata": {},
     "output_type": "display_data"
    },
    {
     "data": {
      "text/html": [
       "<pre style=\"white-space:pre;overflow-x:auto;line-height:normal;font-family:Menlo,'DejaVu Sans Mono',consolas,'Courier New',monospace\"><span style=\"color: #00ff00; text-decoration-color: #00ff00\">────────────────────────────────────────────────── </span>Descriptions<span style=\"color: #00ff00; text-decoration-color: #00ff00\"> ───────────────────────────────────────────────────</span>\n",
       "</pre>\n"
      ],
      "text/plain": [
       "\u001b[92m────────────────────────────────────────────────── \u001b[0mDescriptions\u001b[92m ───────────────────────────────────────────────────\u001b[0m\n"
      ]
     },
     "metadata": {},
     "output_type": "display_data"
    },
    {
     "data": {
      "text/html": [
       "<pre style=\"white-space:pre;overflow-x:auto;line-height:normal;font-family:Menlo,'DejaVu Sans Mono',consolas,'Courier New',monospace\"><span style=\"font-weight: bold\">1. preferred_variable_order</span> Sets the initial order in which variables are selected during the search. The options  \n",
       "are:                                                                                                               \n",
       "\n",
       "<span style=\"color: #808000; text-decoration-color: #808000; font-weight: bold\"> • </span><span style=\"color: #008080; text-decoration-color: #008080; background-color: #000000; font-weight: bold\">0</span> (IN_ORDER): Select variables in the order they appear in the problem definition.                              \n",
       "<span style=\"color: #808000; text-decoration-color: #808000; font-weight: bold\"> • </span><span style=\"color: #008080; text-decoration-color: #008080; background-color: #000000; font-weight: bold\">1</span> (IN_REVERSE_ORDER): Select variables in reverse order.                                                        \n",
       "<span style=\"color: #808000; text-decoration-color: #808000; font-weight: bold\"> • </span><span style=\"color: #008080; text-decoration-color: #008080; background-color: #000000; font-weight: bold\">2</span> (IN_RANDOM_ORDER): Select variables randomly.                                                                 \n",
       "\n",
       "The order of variable selection can have a significant impact on the efficiency of the search, though, this is only\n",
       "the initial order and the solver will actually try to learn a better order. The search will restart frequently such\n",
       "that this initial order should only influence the beginning of the search.                                         \n",
       "\n",
       "<span style=\"font-weight: bold\">2. cp_model_probing_level</span> Defines the intensity of probing during presolve, where variables are temporarily fixed  \n",
       "to infer more information about the problem. Higher levels of probing can result in a more simplified problem but  \n",
       "require more computation time during presolve.                                                                     \n",
       "\n",
       "<span style=\"font-weight: bold\">3. presolve_probing_deterministic_time_limit</span> Sets a deterministic time limit for probing during presolve. This     \n",
       "parameter ensures that the presolve phase does not consume too much time, allowing the solver to proceed to the    \n",
       "main search phase in a timely manner.                                                                              \n",
       "\n",
       "<span style=\"font-weight: bold\">4. search_branching</span> Defines the branching strategy the solver uses to navigate the search tree. The options are:   \n",
       "\n",
       "<span style=\"color: #808000; text-decoration-color: #808000; font-weight: bold\"> • </span><span style=\"color: #008080; text-decoration-color: #008080; background-color: #000000; font-weight: bold\">0</span> (AUTOMATIC_SEARCH): The solver automatically selects the most appropriate strategy.                           \n",
       "<span style=\"color: #808000; text-decoration-color: #808000; font-weight: bold\"> • </span><span style=\"color: #008080; text-decoration-color: #008080; background-color: #000000; font-weight: bold\">1</span> (FIXED_SEARCH): Follows a fixed variable order, as specified by the user or the problem model.                \n",
       "<span style=\"color: #808000; text-decoration-color: #808000; font-weight: bold\"> • </span><span style=\"color: #008080; text-decoration-color: #008080; background-color: #000000; font-weight: bold\">2</span> (PORTFOLIO_SEARCH): Uses a combination of multiple strategies to explore the search space.                    \n",
       "<span style=\"color: #808000; text-decoration-color: #808000; font-weight: bold\"> • </span><span style=\"color: #008080; text-decoration-color: #008080; background-color: #000000; font-weight: bold\">3</span> (LP_SEARCH): Branches based on the LP relaxation of the problem, leveraging the reduced costs of variables.   \n",
       "<span style=\"color: #808000; text-decoration-color: #808000; font-weight: bold\"> • </span><span style=\"color: #008080; text-decoration-color: #008080; background-color: #000000; font-weight: bold\">4</span> (PSEUDO_COST_SEARCH): Branches using pseudo-costs, which are estimates of the impact of branching decisions   \n",
       "<span style=\"color: #808000; text-decoration-color: #808000; font-weight: bold\">   </span>based on past experiences.                                                                                      \n",
       "<span style=\"color: #808000; text-decoration-color: #808000; font-weight: bold\"> • </span><span style=\"color: #008080; text-decoration-color: #008080; background-color: #000000; font-weight: bold\">5</span> (PORTFOLIO_WITH_QUICK_RESTART_SEARCH): Quickly explores different heuristics with low conflict limits, aiming \n",
       "<span style=\"color: #808000; text-decoration-color: #808000; font-weight: bold\">   </span>to find a good initial solution.                                                                                \n",
       "<span style=\"color: #808000; text-decoration-color: #808000; font-weight: bold\"> • </span><span style=\"color: #008080; text-decoration-color: #008080; background-color: #000000; font-weight: bold\">6</span> (HINT_SEARCH): Prioritizes decisions based on hints provided by the user or the problem model.                \n",
       "<span style=\"color: #808000; text-decoration-color: #808000; font-weight: bold\"> • </span><span style=\"color: #008080; text-decoration-color: #008080; background-color: #000000; font-weight: bold\">7</span> (PARTIAL_FIXED_SEARCH): Begins with a fixed strategy, then switches to automatic search for the remaining     \n",
       "<span style=\"color: #808000; text-decoration-color: #808000; font-weight: bold\">   </span>decisions.                                                                                                      \n",
       "<span style=\"color: #808000; text-decoration-color: #808000; font-weight: bold\"> • </span><span style=\"color: #008080; text-decoration-color: #008080; background-color: #000000; font-weight: bold\">8</span> (RANDOMIZED_SEARCH): Introduces randomization into branching decisions to diversify the search.               \n",
       "\n",
       "<span style=\"font-weight: bold\">5. cut_level</span> Sets the level of effort the solver will invest in generating cutting planes, which are linear        \n",
       "constraints added to remove infeasible regions. Properly applied, cuts can significantly reduce the search space   \n",
       "and help the solver find an optimal solution more quickly.                                                         \n",
       "</pre>\n"
      ],
      "text/plain": [
       "\u001b[1m1. preferred_variable_order\u001b[0m Sets the initial order in which variables are selected during the search. The options  \n",
       "are:                                                                                                               \n",
       "\n",
       "\u001b[1;33m • \u001b[0m\u001b[1;36;40m0\u001b[0m (IN_ORDER): Select variables in the order they appear in the problem definition.                              \n",
       "\u001b[1;33m • \u001b[0m\u001b[1;36;40m1\u001b[0m (IN_REVERSE_ORDER): Select variables in reverse order.                                                        \n",
       "\u001b[1;33m • \u001b[0m\u001b[1;36;40m2\u001b[0m (IN_RANDOM_ORDER): Select variables randomly.                                                                 \n",
       "\n",
       "The order of variable selection can have a significant impact on the efficiency of the search, though, this is only\n",
       "the initial order and the solver will actually try to learn a better order. The search will restart frequently such\n",
       "that this initial order should only influence the beginning of the search.                                         \n",
       "\n",
       "\u001b[1m2. cp_model_probing_level\u001b[0m Defines the intensity of probing during presolve, where variables are temporarily fixed  \n",
       "to infer more information about the problem. Higher levels of probing can result in a more simplified problem but  \n",
       "require more computation time during presolve.                                                                     \n",
       "\n",
       "\u001b[1m3. presolve_probing_deterministic_time_limit\u001b[0m Sets a deterministic time limit for probing during presolve. This     \n",
       "parameter ensures that the presolve phase does not consume too much time, allowing the solver to proceed to the    \n",
       "main search phase in a timely manner.                                                                              \n",
       "\n",
       "\u001b[1m4. search_branching\u001b[0m Defines the branching strategy the solver uses to navigate the search tree. The options are:   \n",
       "\n",
       "\u001b[1;33m • \u001b[0m\u001b[1;36;40m0\u001b[0m (AUTOMATIC_SEARCH): The solver automatically selects the most appropriate strategy.                           \n",
       "\u001b[1;33m • \u001b[0m\u001b[1;36;40m1\u001b[0m (FIXED_SEARCH): Follows a fixed variable order, as specified by the user or the problem model.                \n",
       "\u001b[1;33m • \u001b[0m\u001b[1;36;40m2\u001b[0m (PORTFOLIO_SEARCH): Uses a combination of multiple strategies to explore the search space.                    \n",
       "\u001b[1;33m • \u001b[0m\u001b[1;36;40m3\u001b[0m (LP_SEARCH): Branches based on the LP relaxation of the problem, leveraging the reduced costs of variables.   \n",
       "\u001b[1;33m • \u001b[0m\u001b[1;36;40m4\u001b[0m (PSEUDO_COST_SEARCH): Branches using pseudo-costs, which are estimates of the impact of branching decisions   \n",
       "\u001b[1;33m   \u001b[0mbased on past experiences.                                                                                      \n",
       "\u001b[1;33m • \u001b[0m\u001b[1;36;40m5\u001b[0m (PORTFOLIO_WITH_QUICK_RESTART_SEARCH): Quickly explores different heuristics with low conflict limits, aiming \n",
       "\u001b[1;33m   \u001b[0mto find a good initial solution.                                                                                \n",
       "\u001b[1;33m • \u001b[0m\u001b[1;36;40m6\u001b[0m (HINT_SEARCH): Prioritizes decisions based on hints provided by the user or the problem model.                \n",
       "\u001b[1;33m • \u001b[0m\u001b[1;36;40m7\u001b[0m (PARTIAL_FIXED_SEARCH): Begins with a fixed strategy, then switches to automatic search for the remaining     \n",
       "\u001b[1;33m   \u001b[0mdecisions.                                                                                                      \n",
       "\u001b[1;33m • \u001b[0m\u001b[1;36;40m8\u001b[0m (RANDOMIZED_SEARCH): Introduces randomization into branching decisions to diversify the search.               \n",
       "\n",
       "\u001b[1m5. cut_level\u001b[0m Sets the level of effort the solver will invest in generating cutting planes, which are linear        \n",
       "constraints added to remove infeasible regions. Properly applied, cuts can significantly reduce the search space   \n",
       "and help the solver find an optimal solution more quickly.                                                         \n"
      ]
     },
     "metadata": {},
     "output_type": "display_data"
    },
    {
     "data": {
      "text/html": [
       "<pre style=\"white-space:pre;overflow-x:auto;line-height:normal;font-family:Menlo,'DejaVu Sans Mono',consolas,'Courier New',monospace\"><span style=\"color: #00ff00; text-decoration-color: #00ff00\">───────────────────────────────────────────────────────────────────────────────────────────────────────────────────</span>\n",
       "</pre>\n"
      ],
      "text/plain": [
       "\u001b[92m───────────────────────────────────────────────────────────────────────────────────────────────────────────────────\u001b[0m\n"
      ]
     },
     "metadata": {},
     "output_type": "display_data"
    },
    {
     "data": {
      "text/html": [
       "<pre style=\"white-space:pre;overflow-x:auto;line-height:normal;font-family:Menlo,'DejaVu Sans Mono',consolas,'Courier New',monospace\">┏━━━━━━━━━━━━━━━━━━━━━━━━┳━━━━━━┳━━━━━━┳━━━━━━┳━━━━━━━━━━┓\n",
       "┃<span style=\"color: #008000; text-decoration-color: #008000; font-weight: bold\"> Metric                 </span>┃<span style=\"color: #008000; text-decoration-color: #008000; font-weight: bold\"> Mean </span>┃<span style=\"color: #008000; text-decoration-color: #008000; font-weight: bold\">  Min </span>┃<span style=\"color: #008000; text-decoration-color: #008000; font-weight: bold\">  Max </span>┃<span style=\"color: #008000; text-decoration-color: #008000; font-weight: bold\"> #Samples </span>┃\n",
       "┡━━━━━━━━━━━━━━━━━━━━━━━━╇━━━━━━╇━━━━━━╇━━━━━━╇━━━━━━━━━━┩\n",
       "│<span style=\"color: #008000; text-decoration-color: #008000; font-weight: bold\"> Default Metric Value   </span>│ 1.63 │ 1.13 │ 2.15 │       10 │\n",
       "│<span style=\"color: #008000; text-decoration-color: #008000; font-weight: bold\"> Optimized Metric Value </span>│ 0.53 │ 0.44 │ 0.61 │       10 │\n",
       "└────────────────────────┴──────┴──────┴──────┴──────────┘\n",
       "</pre>\n"
      ],
      "text/plain": [
       "┏━━━━━━━━━━━━━━━━━━━━━━━━┳━━━━━━┳━━━━━━┳━━━━━━┳━━━━━━━━━━┓\n",
       "┃\u001b[1;32m \u001b[0m\u001b[1;32mMetric                \u001b[0m\u001b[1;32m \u001b[0m┃\u001b[1;32m \u001b[0m\u001b[1;32mMean\u001b[0m\u001b[1;32m \u001b[0m┃\u001b[1;32m \u001b[0m\u001b[1;32m Min\u001b[0m\u001b[1;32m \u001b[0m┃\u001b[1;32m \u001b[0m\u001b[1;32m Max\u001b[0m\u001b[1;32m \u001b[0m┃\u001b[1;32m \u001b[0m\u001b[1;32m#Samples\u001b[0m\u001b[1;32m \u001b[0m┃\n",
       "┡━━━━━━━━━━━━━━━━━━━━━━━━╇━━━━━━╇━━━━━━╇━━━━━━╇━━━━━━━━━━┩\n",
       "│\u001b[1;32m \u001b[0m\u001b[1;32mDefault Metric Value  \u001b[0m\u001b[1;32m \u001b[0m│ 1.63 │ 1.13 │ 2.15 │       10 │\n",
       "│\u001b[1;32m \u001b[0m\u001b[1;32mOptimized Metric Value\u001b[0m\u001b[1;32m \u001b[0m│ 0.53 │ 0.44 │ 0.61 │       10 │\n",
       "└────────────────────────┴──────┴──────┴──────┴──────────┘\n"
      ]
     },
     "metadata": {},
     "output_type": "display_data"
    },
    {
     "data": {
      "text/html": [
       "<pre style=\"white-space:pre;overflow-x:auto;line-height:normal;font-family:Menlo,'DejaVu Sans Mono',consolas,'Courier New',monospace\"><span style=\"color: #00ff00; text-decoration-color: #00ff00\">───────────────────────────────────────────────────────────────────────────────────────────────────────────────────</span>\n",
       "</pre>\n"
      ],
      "text/plain": [
       "\u001b[92m───────────────────────────────────────────────────────────────────────────────────────────────────────────────────\u001b[0m\n"
      ]
     },
     "metadata": {},
     "output_type": "display_data"
    },
    {
     "data": {
      "text/html": [
       "<pre style=\"white-space:pre;overflow-x:auto;line-height:normal;font-family:Menlo,'DejaVu Sans Mono',consolas,'Courier New',monospace\"><span style=\"color: #808000; text-decoration-color: #808000; font-weight: bold\">╭──────────────────────────────────────────────────── WARNING ────────────────────────────────────────────────────╮</span>\n",
       "<span style=\"color: #808000; text-decoration-color: #808000; font-weight: bold\">│ </span><span style=\"color: #808000; text-decoration-color: #808000; background-color: #272822; font-weight: bold\">                                                                                                               </span><span style=\"color: #808000; text-decoration-color: #808000; font-weight: bold\"> │</span>\n",
       "<span style=\"color: #808000; text-decoration-color: #808000; font-weight: bold\">│ </span><span style=\"color: #808000; text-decoration-color: #808000; background-color: #272822; font-weight: bold\"> </span><span style=\"color: #f8f8f2; text-decoration-color: #f8f8f2; background-color: #272822\">    The optimized parameters listed above were obtained based on a sampling approach </span><span style=\"color: #808000; text-decoration-color: #808000; background-color: #272822; font-weight: bold\">                         </span><span style=\"color: #808000; text-decoration-color: #808000; font-weight: bold\"> │</span>\n",
       "<span style=\"color: #808000; text-decoration-color: #808000; font-weight: bold\">│ </span><span style=\"color: #808000; text-decoration-color: #808000; background-color: #272822; font-weight: bold\"> </span><span style=\"color: #f8f8f2; text-decoration-color: #f8f8f2; background-color: #272822\">    and may not fully capture the complexities of the entire problem space. </span><span style=\"color: #808000; text-decoration-color: #808000; background-color: #272822; font-weight: bold\">                                  </span><span style=\"color: #808000; text-decoration-color: #808000; font-weight: bold\"> │</span>\n",
       "<span style=\"color: #808000; text-decoration-color: #808000; font-weight: bold\">│ </span><span style=\"color: #808000; text-decoration-color: #808000; background-color: #272822; font-weight: bold\"> </span><span style=\"color: #f8f8f2; text-decoration-color: #f8f8f2; background-color: #272822\">    While statistical reasoning has been applied, these results should be considered </span><span style=\"color: #808000; text-decoration-color: #808000; background-color: #272822; font-weight: bold\">                         </span><span style=\"color: #808000; text-decoration-color: #808000; font-weight: bold\"> │</span>\n",
       "<span style=\"color: #808000; text-decoration-color: #808000; font-weight: bold\">│ </span><span style=\"color: #808000; text-decoration-color: #808000; background-color: #272822; font-weight: bold\"> </span><span style=\"color: #f8f8f2; text-decoration-color: #f8f8f2; background-color: #272822\">    as a suggestion for further evaluation rather than definitive settings.</span><span style=\"color: #808000; text-decoration-color: #808000; background-color: #272822; font-weight: bold\">                                   </span><span style=\"color: #808000; text-decoration-color: #808000; font-weight: bold\"> │</span>\n",
       "<span style=\"color: #808000; text-decoration-color: #808000; font-weight: bold\">│ </span><span style=\"color: #808000; text-decoration-color: #808000; background-color: #272822; font-weight: bold\"> </span><span style=\"color: #f8f8f2; text-decoration-color: #f8f8f2; background-color: #272822\">    </span><span style=\"color: #808000; text-decoration-color: #808000; background-color: #272822; font-weight: bold\">                                                                                                          </span><span style=\"color: #808000; text-decoration-color: #808000; font-weight: bold\"> │</span>\n",
       "<span style=\"color: #808000; text-decoration-color: #808000; font-weight: bold\">│ </span><span style=\"color: #808000; text-decoration-color: #808000; background-color: #272822; font-weight: bold\"> </span><span style=\"color: #f8f8f2; text-decoration-color: #f8f8f2; background-color: #272822\">    It is strongly recommended to validate these parameters in larger, more comprehensive </span><span style=\"color: #808000; text-decoration-color: #808000; background-color: #272822; font-weight: bold\">                    </span><span style=\"color: #808000; text-decoration-color: #808000; font-weight: bold\"> │</span>\n",
       "<span style=\"color: #808000; text-decoration-color: #808000; font-weight: bold\">│ </span><span style=\"color: #808000; text-decoration-color: #808000; background-color: #272822; font-weight: bold\"> </span><span style=\"color: #f8f8f2; text-decoration-color: #f8f8f2; background-color: #272822\">    experiments before adopting them in critical applications.</span><span style=\"color: #808000; text-decoration-color: #808000; background-color: #272822; font-weight: bold\">                                                </span><span style=\"color: #808000; text-decoration-color: #808000; font-weight: bold\"> │</span>\n",
       "<span style=\"color: #808000; text-decoration-color: #808000; font-weight: bold\">│ </span><span style=\"color: #808000; text-decoration-color: #808000; background-color: #272822; font-weight: bold\">                                                                                                               </span><span style=\"color: #808000; text-decoration-color: #808000; font-weight: bold\"> │</span>\n",
       "<span style=\"color: #808000; text-decoration-color: #808000; font-weight: bold\">╰─────────────────────────────────────────────────────────────────────────────────────────────────────────────────╯</span>\n",
       "</pre>\n"
      ],
      "text/plain": [
       "\u001b[1;33m╭─\u001b[0m\u001b[1;33m───────────────────────────────────────────────────\u001b[0m\u001b[1;33m WARNING \u001b[0m\u001b[1;33m───────────────────────────────────────────────────\u001b[0m\u001b[1;33m─╮\u001b[0m\n",
       "\u001b[1;33m│\u001b[0m\u001b[1;33m \u001b[0m\u001b[1;33;48;2;39;40;34m                                                                                                               \u001b[0m\u001b[1;33m \u001b[0m\u001b[1;33m│\u001b[0m\n",
       "\u001b[1;33m│\u001b[0m\u001b[1;33m \u001b[0m\u001b[1;33;48;2;39;40;34m \u001b[0m\u001b[38;2;248;248;242;48;2;39;40;34m    The optimized parameters listed above were obtained based on a sampling approach \u001b[0m\u001b[1;33;48;2;39;40;34m                        \u001b[0m\u001b[1;33;48;2;39;40;34m \u001b[0m\u001b[1;33m \u001b[0m\u001b[1;33m│\u001b[0m\n",
       "\u001b[1;33m│\u001b[0m\u001b[1;33m \u001b[0m\u001b[1;33;48;2;39;40;34m \u001b[0m\u001b[38;2;248;248;242;48;2;39;40;34m    and may not fully capture the complexities of the entire problem space. \u001b[0m\u001b[1;33;48;2;39;40;34m                                 \u001b[0m\u001b[1;33;48;2;39;40;34m \u001b[0m\u001b[1;33m \u001b[0m\u001b[1;33m│\u001b[0m\n",
       "\u001b[1;33m│\u001b[0m\u001b[1;33m \u001b[0m\u001b[1;33;48;2;39;40;34m \u001b[0m\u001b[38;2;248;248;242;48;2;39;40;34m    While statistical reasoning has been applied, these results should be considered \u001b[0m\u001b[1;33;48;2;39;40;34m                        \u001b[0m\u001b[1;33;48;2;39;40;34m \u001b[0m\u001b[1;33m \u001b[0m\u001b[1;33m│\u001b[0m\n",
       "\u001b[1;33m│\u001b[0m\u001b[1;33m \u001b[0m\u001b[1;33;48;2;39;40;34m \u001b[0m\u001b[38;2;248;248;242;48;2;39;40;34m    as a suggestion for further evaluation rather than definitive settings.\u001b[0m\u001b[1;33;48;2;39;40;34m                                  \u001b[0m\u001b[1;33;48;2;39;40;34m \u001b[0m\u001b[1;33m \u001b[0m\u001b[1;33m│\u001b[0m\n",
       "\u001b[1;33m│\u001b[0m\u001b[1;33m \u001b[0m\u001b[1;33;48;2;39;40;34m \u001b[0m\u001b[38;2;248;248;242;48;2;39;40;34m    \u001b[0m\u001b[1;33;48;2;39;40;34m                                                                                                         \u001b[0m\u001b[1;33;48;2;39;40;34m \u001b[0m\u001b[1;33m \u001b[0m\u001b[1;33m│\u001b[0m\n",
       "\u001b[1;33m│\u001b[0m\u001b[1;33m \u001b[0m\u001b[1;33;48;2;39;40;34m \u001b[0m\u001b[38;2;248;248;242;48;2;39;40;34m    It is strongly recommended to validate these parameters in larger, more comprehensive \u001b[0m\u001b[1;33;48;2;39;40;34m                   \u001b[0m\u001b[1;33;48;2;39;40;34m \u001b[0m\u001b[1;33m \u001b[0m\u001b[1;33m│\u001b[0m\n",
       "\u001b[1;33m│\u001b[0m\u001b[1;33m \u001b[0m\u001b[1;33;48;2;39;40;34m \u001b[0m\u001b[38;2;248;248;242;48;2;39;40;34m    experiments before adopting them in critical applications.\u001b[0m\u001b[1;33;48;2;39;40;34m                                               \u001b[0m\u001b[1;33;48;2;39;40;34m \u001b[0m\u001b[1;33m \u001b[0m\u001b[1;33m│\u001b[0m\n",
       "\u001b[1;33m│\u001b[0m\u001b[1;33m \u001b[0m\u001b[1;33;48;2;39;40;34m                                                                                                               \u001b[0m\u001b[1;33m \u001b[0m\u001b[1;33m│\u001b[0m\n",
       "\u001b[1;33m╰─────────────────────────────────────────────────────────────────────────────────────────────────────────────────╯\u001b[0m\n"
      ]
     },
     "metadata": {},
     "output_type": "display_data"
    }
   ],
   "source": [
    "# tune_for_quality_within_timelimit(models[0], 3, 10, \"minimize\", n_samples_per_param=2, max_samples_per_param=5, n_trials=100)\n",
    "best = tune_time_to_optimal(\n",
    "    model,\n",
    "    max_time_in_seconds=3,  # Enter a time limit slightly above what the solver with default parameters needs\n",
    "    n_samples_for_trial=5,  # Number of samples for each trial\n",
    "    n_samples_for_verification=20,  # Number of samples for each statistically relevant comparison.\n",
    "    n_trials=50,  # Number of trials to run with Optuna\n",
    ")"
   ]
  },
  {
   "cell_type": "code",
   "execution_count": 4,
   "metadata": {},
   "outputs": [
    {
     "name": "stderr",
     "output_type": "stream",
     "text": [
      "[I 2024-08-16 18:08:04,091] A new study created in memory with name: no-name-3086a258-e407-4181-a39a-73d7ec8d8a3c\n"
     ]
    },
    {
     "name": "stdout",
     "output_type": "stream",
     "text": [
      "Baseline: min=130872.0, mean=131935.0, max=132805.0\n"
     ]
    },
    {
     "name": "stderr",
     "output_type": "stream",
     "text": [
      "[I 2024-08-16 18:08:06,173] Trial 0 finished with value: 130283.0 and parameters: {'preferred_variable_order': 0, 'use_erwa_heuristic': False, 'also_bump_variables_in_conflict_reasons': False, 'binary_minimization_algorithm': 1, 'clause_cleanup_protection': 0, 'presolve_bve_threshold': 1, 'max_presolve_iterations': 2, 'cp_model_probing_level': 2, 'presolve_probing_deterministic_time_limit': 4, 'encode_complex_linear_constraint_with_integer': False, 'ignore_subsolvers:default_lp': False, 'ignore_subsolvers:fixed': False, 'ignore_subsolvers:no_lp': False, 'ignore_subsolvers:max_lp': False, 'ignore_subsolvers:pseudo_costs': False, 'ignore_subsolvers:reduced_costs': False, 'ignore_subsolvers:quick_restart': False, 'ignore_subsolvers:quick_restart_no_lp': False, 'ignore_subsolvers:lb_tree_search': False, 'ignore_subsolvers:probing': False, 'search_branching': 0, 'repair_hint': False, 'use_lns_only': False, 'use_lb_relax_lns': False, 'use_objective_lb_search': False, 'use_objective_shaving_search': False, 'optimize_with_core': False, 'feasibility_jump_linearization_level': 2, 'fp_rounding': 2, 'diversify_lns_params': False, 'polish_lp_solution': False, 'linearization_level': 1, 'add_objective_cut': False, 'cut_level': 1, 'max_all_diff_cut_size': 1, 'symmetry_level': 2}. Best is trial 0 with value: 130283.0.\n"
     ]
    },
    {
     "name": "stdout",
     "output_type": "stream",
     "text": [
      "Returning knockout result\n"
     ]
    },
    {
     "name": "stderr",
     "output_type": "stream",
     "text": [
      "[I 2024-08-16 18:08:08,735] Trial 1 finished with value: 132142.8 and parameters: {'preferred_variable_order': 0, 'use_erwa_heuristic': False, 'also_bump_variables_in_conflict_reasons': True, 'binary_minimization_algorithm': 3, 'clause_cleanup_protection': 0, 'presolve_bve_threshold': 2, 'max_presolve_iterations': 2, 'cp_model_probing_level': 0, 'presolve_probing_deterministic_time_limit': 3, 'encode_complex_linear_constraint_with_integer': True, 'ignore_subsolvers:default_lp': True, 'ignore_subsolvers:fixed': True, 'ignore_subsolvers:no_lp': True, 'ignore_subsolvers:max_lp': False, 'ignore_subsolvers:pseudo_costs': True, 'ignore_subsolvers:reduced_costs': True, 'ignore_subsolvers:quick_restart': True, 'ignore_subsolvers:quick_restart_no_lp': False, 'ignore_subsolvers:lb_tree_search': False, 'ignore_subsolvers:probing': True, 'search_branching': 6, 'repair_hint': True, 'use_lns_only': True, 'use_lb_relax_lns': False, 'use_objective_lb_search': False, 'use_objective_shaving_search': False, 'optimize_with_core': True, 'feasibility_jump_linearization_level': 1, 'fp_rounding': 1, 'diversify_lns_params': False, 'polish_lp_solution': True, 'linearization_level': 0, 'add_objective_cut': True, 'cut_level': 2, 'max_all_diff_cut_size': 2, 'symmetry_level': 1}. Best is trial 1 with value: 132142.8.\n",
      "[I 2024-08-16 18:08:09,253] Trial 2 finished with value: 129872.0 and parameters: {'preferred_variable_order': 0, 'use_erwa_heuristic': True, 'also_bump_variables_in_conflict_reasons': True, 'binary_minimization_algorithm': 2, 'clause_cleanup_protection': 0, 'presolve_bve_threshold': 0, 'max_presolve_iterations': 2, 'cp_model_probing_level': 1, 'presolve_probing_deterministic_time_limit': 4, 'encode_complex_linear_constraint_with_integer': True, 'ignore_subsolvers:default_lp': False, 'ignore_subsolvers:fixed': True, 'ignore_subsolvers:no_lp': True, 'ignore_subsolvers:max_lp': False, 'ignore_subsolvers:pseudo_costs': True, 'ignore_subsolvers:reduced_costs': False, 'ignore_subsolvers:quick_restart': True, 'ignore_subsolvers:quick_restart_no_lp': False, 'ignore_subsolvers:lb_tree_search': True, 'ignore_subsolvers:probing': False, 'search_branching': 4, 'repair_hint': False, 'use_lns_only': False, 'use_lb_relax_lns': True, 'use_objective_lb_search': False, 'use_objective_shaving_search': True, 'optimize_with_core': False, 'feasibility_jump_linearization_level': 0, 'fp_rounding': 1, 'diversify_lns_params': False, 'polish_lp_solution': True, 'linearization_level': 0, 'add_objective_cut': True, 'cut_level': 2, 'max_all_diff_cut_size': 1, 'symmetry_level': 2}. Best is trial 1 with value: 132142.8.\n"
     ]
    },
    {
     "name": "stdout",
     "output_type": "stream",
     "text": [
      "Returning knockout result\n"
     ]
    },
    {
     "name": "stderr",
     "output_type": "stream",
     "text": [
      "[I 2024-08-16 18:08:10,798] Trial 3 finished with value: 104904.0 and parameters: {'preferred_variable_order': 1, 'use_erwa_heuristic': False, 'also_bump_variables_in_conflict_reasons': False, 'binary_minimization_algorithm': 0, 'clause_cleanup_protection': 1, 'presolve_bve_threshold': 0, 'max_presolve_iterations': 1, 'cp_model_probing_level': 0, 'presolve_probing_deterministic_time_limit': 4, 'encode_complex_linear_constraint_with_integer': True, 'ignore_subsolvers:default_lp': True, 'ignore_subsolvers:fixed': False, 'ignore_subsolvers:no_lp': True, 'ignore_subsolvers:max_lp': True, 'ignore_subsolvers:pseudo_costs': True, 'ignore_subsolvers:reduced_costs': False, 'ignore_subsolvers:quick_restart': False, 'ignore_subsolvers:quick_restart_no_lp': False, 'ignore_subsolvers:lb_tree_search': False, 'ignore_subsolvers:probing': True, 'search_branching': 6, 'repair_hint': False, 'use_lns_only': False, 'use_lb_relax_lns': False, 'use_objective_lb_search': True, 'use_objective_shaving_search': True, 'optimize_with_core': True, 'feasibility_jump_linearization_level': 2, 'fp_rounding': 0, 'diversify_lns_params': True, 'polish_lp_solution': False, 'linearization_level': 0, 'add_objective_cut': True, 'cut_level': 1, 'max_all_diff_cut_size': 2, 'symmetry_level': 1}. Best is trial 1 with value: 132142.8.\n"
     ]
    },
    {
     "name": "stdout",
     "output_type": "stream",
     "text": [
      "Returning knockout result\n"
     ]
    },
    {
     "name": "stderr",
     "output_type": "stream",
     "text": [
      "[I 2024-08-16 18:08:12,840] Trial 4 finished with value: 130099.0 and parameters: {'preferred_variable_order': 1, 'use_erwa_heuristic': False, 'also_bump_variables_in_conflict_reasons': True, 'binary_minimization_algorithm': 1, 'clause_cleanup_protection': 0, 'presolve_bve_threshold': 1, 'max_presolve_iterations': 4, 'cp_model_probing_level': 0, 'presolve_probing_deterministic_time_limit': 1, 'encode_complex_linear_constraint_with_integer': True, 'ignore_subsolvers:default_lp': False, 'ignore_subsolvers:fixed': False, 'ignore_subsolvers:no_lp': False, 'ignore_subsolvers:max_lp': False, 'ignore_subsolvers:pseudo_costs': False, 'ignore_subsolvers:reduced_costs': False, 'ignore_subsolvers:quick_restart': True, 'ignore_subsolvers:quick_restart_no_lp': False, 'ignore_subsolvers:lb_tree_search': False, 'ignore_subsolvers:probing': True, 'search_branching': 6, 'repair_hint': True, 'use_lns_only': True, 'use_lb_relax_lns': False, 'use_objective_lb_search': True, 'use_objective_shaving_search': True, 'optimize_with_core': False, 'feasibility_jump_linearization_level': 2, 'fp_rounding': 0, 'diversify_lns_params': False, 'polish_lp_solution': False, 'linearization_level': 2, 'add_objective_cut': True, 'cut_level': 0, 'max_all_diff_cut_size': 1, 'symmetry_level': 2}. Best is trial 1 with value: 132142.8.\n"
     ]
    },
    {
     "name": "stdout",
     "output_type": "stream",
     "text": [
      "Returning knockout result\n"
     ]
    },
    {
     "name": "stderr",
     "output_type": "stream",
     "text": [
      "[I 2024-08-16 18:08:13,870] Trial 5 finished with value: 125782.0 and parameters: {'preferred_variable_order': 2, 'use_erwa_heuristic': False, 'also_bump_variables_in_conflict_reasons': False, 'binary_minimization_algorithm': 2, 'clause_cleanup_protection': 1, 'presolve_bve_threshold': 1, 'max_presolve_iterations': 2, 'cp_model_probing_level': 0, 'presolve_probing_deterministic_time_limit': 1, 'encode_complex_linear_constraint_with_integer': True, 'ignore_subsolvers:default_lp': True, 'ignore_subsolvers:fixed': True, 'ignore_subsolvers:no_lp': True, 'ignore_subsolvers:max_lp': False, 'ignore_subsolvers:pseudo_costs': False, 'ignore_subsolvers:reduced_costs': False, 'ignore_subsolvers:quick_restart': False, 'ignore_subsolvers:quick_restart_no_lp': True, 'ignore_subsolvers:lb_tree_search': False, 'ignore_subsolvers:probing': False, 'search_branching': 8, 'repair_hint': True, 'use_lns_only': False, 'use_lb_relax_lns': False, 'use_objective_lb_search': True, 'use_objective_shaving_search': True, 'optimize_with_core': True, 'feasibility_jump_linearization_level': 2, 'fp_rounding': 1, 'diversify_lns_params': False, 'polish_lp_solution': False, 'linearization_level': 2, 'add_objective_cut': False, 'cut_level': 2, 'max_all_diff_cut_size': 0, 'symmetry_level': 1}. Best is trial 1 with value: 132142.8.\n"
     ]
    },
    {
     "name": "stdout",
     "output_type": "stream",
     "text": [
      "Returning knockout result\n"
     ]
    },
    {
     "name": "stderr",
     "output_type": "stream",
     "text": [
      "[I 2024-08-16 18:08:16,522] Trial 6 finished with value: 132614.0 and parameters: {'preferred_variable_order': 1, 'use_erwa_heuristic': False, 'also_bump_variables_in_conflict_reasons': False, 'binary_minimization_algorithm': 4, 'clause_cleanup_protection': 1, 'presolve_bve_threshold': 1, 'max_presolve_iterations': 2, 'cp_model_probing_level': 1, 'presolve_probing_deterministic_time_limit': 2, 'encode_complex_linear_constraint_with_integer': False, 'ignore_subsolvers:default_lp': True, 'ignore_subsolvers:fixed': False, 'ignore_subsolvers:no_lp': True, 'ignore_subsolvers:max_lp': False, 'ignore_subsolvers:pseudo_costs': False, 'ignore_subsolvers:reduced_costs': True, 'ignore_subsolvers:quick_restart': True, 'ignore_subsolvers:quick_restart_no_lp': False, 'ignore_subsolvers:lb_tree_search': False, 'ignore_subsolvers:probing': False, 'search_branching': 5, 'repair_hint': True, 'use_lns_only': False, 'use_lb_relax_lns': True, 'use_objective_lb_search': True, 'use_objective_shaving_search': False, 'optimize_with_core': True, 'feasibility_jump_linearization_level': 1, 'fp_rounding': 3, 'diversify_lns_params': False, 'polish_lp_solution': True, 'linearization_level': 0, 'add_objective_cut': False, 'cut_level': 1, 'max_all_diff_cut_size': 0, 'symmetry_level': 2}. Best is trial 6 with value: 132614.0.\n",
      "[I 2024-08-16 18:08:17,042] Trial 7 finished with value: 130065.0 and parameters: {'preferred_variable_order': 1, 'use_erwa_heuristic': False, 'also_bump_variables_in_conflict_reasons': False, 'binary_minimization_algorithm': 2, 'clause_cleanup_protection': 2, 'presolve_bve_threshold': 0, 'max_presolve_iterations': 2, 'cp_model_probing_level': 2, 'presolve_probing_deterministic_time_limit': 3, 'encode_complex_linear_constraint_with_integer': False, 'ignore_subsolvers:default_lp': True, 'ignore_subsolvers:fixed': True, 'ignore_subsolvers:no_lp': True, 'ignore_subsolvers:max_lp': True, 'ignore_subsolvers:pseudo_costs': True, 'ignore_subsolvers:reduced_costs': False, 'ignore_subsolvers:quick_restart': True, 'ignore_subsolvers:quick_restart_no_lp': False, 'ignore_subsolvers:lb_tree_search': True, 'ignore_subsolvers:probing': False, 'search_branching': 2, 'repair_hint': True, 'use_lns_only': False, 'use_lb_relax_lns': True, 'use_objective_lb_search': True, 'use_objective_shaving_search': False, 'optimize_with_core': True, 'feasibility_jump_linearization_level': 2, 'fp_rounding': 3, 'diversify_lns_params': True, 'polish_lp_solution': True, 'linearization_level': 2, 'add_objective_cut': False, 'cut_level': 2, 'max_all_diff_cut_size': 0, 'symmetry_level': 2}. Best is trial 6 with value: 132614.0.\n"
     ]
    },
    {
     "name": "stdout",
     "output_type": "stream",
     "text": [
      "Returning knockout result\n"
     ]
    },
    {
     "name": "stderr",
     "output_type": "stream",
     "text": [
      "[I 2024-08-16 18:08:17,555] Trial 8 finished with value: 129504.0 and parameters: {'preferred_variable_order': 1, 'use_erwa_heuristic': False, 'also_bump_variables_in_conflict_reasons': False, 'binary_minimization_algorithm': 3, 'clause_cleanup_protection': 2, 'presolve_bve_threshold': 0, 'max_presolve_iterations': 4, 'cp_model_probing_level': 1, 'presolve_probing_deterministic_time_limit': 0, 'encode_complex_linear_constraint_with_integer': True, 'ignore_subsolvers:default_lp': True, 'ignore_subsolvers:fixed': False, 'ignore_subsolvers:no_lp': False, 'ignore_subsolvers:max_lp': True, 'ignore_subsolvers:pseudo_costs': False, 'ignore_subsolvers:reduced_costs': False, 'ignore_subsolvers:quick_restart': True, 'ignore_subsolvers:quick_restart_no_lp': False, 'ignore_subsolvers:lb_tree_search': True, 'ignore_subsolvers:probing': False, 'search_branching': 4, 'repair_hint': False, 'use_lns_only': True, 'use_lb_relax_lns': True, 'use_objective_lb_search': False, 'use_objective_shaving_search': True, 'optimize_with_core': False, 'feasibility_jump_linearization_level': 0, 'fp_rounding': 2, 'diversify_lns_params': False, 'polish_lp_solution': True, 'linearization_level': 1, 'add_objective_cut': True, 'cut_level': 2, 'max_all_diff_cut_size': 0, 'symmetry_level': 0}. Best is trial 6 with value: 132614.0.\n"
     ]
    },
    {
     "name": "stdout",
     "output_type": "stream",
     "text": [
      "Returning knockout result\n"
     ]
    },
    {
     "name": "stderr",
     "output_type": "stream",
     "text": [
      "[I 2024-08-16 18:08:18,070] Trial 9 finished with value: 130505.0 and parameters: {'preferred_variable_order': 1, 'use_erwa_heuristic': False, 'also_bump_variables_in_conflict_reasons': False, 'binary_minimization_algorithm': 3, 'clause_cleanup_protection': 0, 'presolve_bve_threshold': 1, 'max_presolve_iterations': 2, 'cp_model_probing_level': 2, 'presolve_probing_deterministic_time_limit': 3, 'encode_complex_linear_constraint_with_integer': True, 'ignore_subsolvers:default_lp': True, 'ignore_subsolvers:fixed': True, 'ignore_subsolvers:no_lp': False, 'ignore_subsolvers:max_lp': True, 'ignore_subsolvers:pseudo_costs': False, 'ignore_subsolvers:reduced_costs': False, 'ignore_subsolvers:quick_restart': False, 'ignore_subsolvers:quick_restart_no_lp': False, 'ignore_subsolvers:lb_tree_search': False, 'ignore_subsolvers:probing': True, 'search_branching': 1, 'repair_hint': True, 'use_lns_only': True, 'use_lb_relax_lns': True, 'use_objective_lb_search': True, 'use_objective_shaving_search': False, 'optimize_with_core': False, 'feasibility_jump_linearization_level': 1, 'fp_rounding': 0, 'diversify_lns_params': False, 'polish_lp_solution': True, 'linearization_level': 1, 'add_objective_cut': False, 'cut_level': 2, 'max_all_diff_cut_size': 2, 'symmetry_level': 0}. Best is trial 6 with value: 132614.0.\n"
     ]
    },
    {
     "name": "stdout",
     "output_type": "stream",
     "text": [
      "Returning knockout result\n"
     ]
    },
    {
     "name": "stderr",
     "output_type": "stream",
     "text": [
      "[I 2024-08-16 18:08:20,686] Trial 10 finished with value: 132426.6 and parameters: {'preferred_variable_order': 2, 'use_erwa_heuristic': True, 'also_bump_variables_in_conflict_reasons': True, 'binary_minimization_algorithm': 4, 'clause_cleanup_protection': 1, 'presolve_bve_threshold': 2, 'max_presolve_iterations': 0, 'cp_model_probing_level': 1, 'presolve_probing_deterministic_time_limit': 2, 'encode_complex_linear_constraint_with_integer': False, 'ignore_subsolvers:default_lp': False, 'ignore_subsolvers:fixed': False, 'ignore_subsolvers:no_lp': True, 'ignore_subsolvers:max_lp': False, 'ignore_subsolvers:pseudo_costs': False, 'ignore_subsolvers:reduced_costs': True, 'ignore_subsolvers:quick_restart': True, 'ignore_subsolvers:quick_restart_no_lp': True, 'ignore_subsolvers:lb_tree_search': True, 'ignore_subsolvers:probing': False, 'search_branching': 5, 'repair_hint': True, 'use_lns_only': False, 'use_lb_relax_lns': True, 'use_objective_lb_search': True, 'use_objective_shaving_search': False, 'optimize_with_core': True, 'feasibility_jump_linearization_level': 1, 'fp_rounding': 3, 'diversify_lns_params': True, 'polish_lp_solution': True, 'linearization_level': 0, 'add_objective_cut': False, 'cut_level': 0, 'max_all_diff_cut_size': 0, 'symmetry_level': 2}. Best is trial 6 with value: 132614.0.\n",
      "[I 2024-08-16 18:08:20,737] Trial 11 finished with value: 132426.6 and parameters: {'preferred_variable_order': 2, 'use_erwa_heuristic': True, 'also_bump_variables_in_conflict_reasons': True, 'binary_minimization_algorithm': 4, 'clause_cleanup_protection': 1, 'presolve_bve_threshold': 2, 'max_presolve_iterations': 0, 'cp_model_probing_level': 1, 'presolve_probing_deterministic_time_limit': 2, 'encode_complex_linear_constraint_with_integer': False, 'ignore_subsolvers:default_lp': False, 'ignore_subsolvers:fixed': False, 'ignore_subsolvers:no_lp': True, 'ignore_subsolvers:max_lp': False, 'ignore_subsolvers:pseudo_costs': False, 'ignore_subsolvers:reduced_costs': True, 'ignore_subsolvers:quick_restart': True, 'ignore_subsolvers:quick_restart_no_lp': True, 'ignore_subsolvers:lb_tree_search': True, 'ignore_subsolvers:probing': False, 'search_branching': 5, 'repair_hint': True, 'use_lns_only': False, 'use_lb_relax_lns': True, 'use_objective_lb_search': True, 'use_objective_shaving_search': False, 'optimize_with_core': True, 'feasibility_jump_linearization_level': 1, 'fp_rounding': 3, 'diversify_lns_params': True, 'polish_lp_solution': True, 'linearization_level': 0, 'add_objective_cut': False, 'cut_level': 0, 'max_all_diff_cut_size': 0, 'symmetry_level': 2}. Best is trial 6 with value: 132614.0.\n",
      "[I 2024-08-16 18:08:20,783] Trial 12 finished with value: 132426.6 and parameters: {'preferred_variable_order': 2, 'use_erwa_heuristic': True, 'also_bump_variables_in_conflict_reasons': True, 'binary_minimization_algorithm': 4, 'clause_cleanup_protection': 1, 'presolve_bve_threshold': 2, 'max_presolve_iterations': 0, 'cp_model_probing_level': 1, 'presolve_probing_deterministic_time_limit': 2, 'encode_complex_linear_constraint_with_integer': False, 'ignore_subsolvers:default_lp': False, 'ignore_subsolvers:fixed': False, 'ignore_subsolvers:no_lp': True, 'ignore_subsolvers:max_lp': False, 'ignore_subsolvers:pseudo_costs': False, 'ignore_subsolvers:reduced_costs': True, 'ignore_subsolvers:quick_restart': True, 'ignore_subsolvers:quick_restart_no_lp': True, 'ignore_subsolvers:lb_tree_search': True, 'ignore_subsolvers:probing': False, 'search_branching': 5, 'repair_hint': True, 'use_lns_only': False, 'use_lb_relax_lns': True, 'use_objective_lb_search': True, 'use_objective_shaving_search': False, 'optimize_with_core': True, 'feasibility_jump_linearization_level': 1, 'fp_rounding': 3, 'diversify_lns_params': True, 'polish_lp_solution': True, 'linearization_level': 0, 'add_objective_cut': False, 'cut_level': 0, 'max_all_diff_cut_size': 0, 'symmetry_level': 2}. Best is trial 6 with value: 132614.0.\n",
      "[I 2024-08-16 18:08:21,350] Trial 13 finished with value: 128467.0 and parameters: {'preferred_variable_order': 2, 'use_erwa_heuristic': True, 'also_bump_variables_in_conflict_reasons': True, 'binary_minimization_algorithm': 4, 'clause_cleanup_protection': 1, 'presolve_bve_threshold': 2, 'max_presolve_iterations': 3, 'cp_model_probing_level': 1, 'presolve_probing_deterministic_time_limit': 1, 'encode_complex_linear_constraint_with_integer': False, 'ignore_subsolvers:default_lp': False, 'ignore_subsolvers:fixed': False, 'ignore_subsolvers:no_lp': True, 'ignore_subsolvers:max_lp': False, 'ignore_subsolvers:pseudo_costs': False, 'ignore_subsolvers:reduced_costs': True, 'ignore_subsolvers:quick_restart': True, 'ignore_subsolvers:quick_restart_no_lp': True, 'ignore_subsolvers:lb_tree_search': True, 'ignore_subsolvers:probing': False, 'search_branching': 5, 'repair_hint': True, 'use_lns_only': False, 'use_lb_relax_lns': True, 'use_objective_lb_search': True, 'use_objective_shaving_search': False, 'optimize_with_core': True, 'feasibility_jump_linearization_level': 0, 'fp_rounding': 3, 'diversify_lns_params': True, 'polish_lp_solution': True, 'linearization_level': 0, 'add_objective_cut': False, 'cut_level': 1, 'max_all_diff_cut_size': 0, 'symmetry_level': 1}. Best is trial 6 with value: 132614.0.\n"
     ]
    },
    {
     "name": "stdout",
     "output_type": "stream",
     "text": [
      "Returning knockout result\n"
     ]
    },
    {
     "name": "stderr",
     "output_type": "stream",
     "text": [
      "[I 2024-08-16 18:08:23,983] Trial 14 finished with value: 132439.6 and parameters: {'preferred_variable_order': 2, 'use_erwa_heuristic': True, 'also_bump_variables_in_conflict_reasons': False, 'binary_minimization_algorithm': 4, 'clause_cleanup_protection': 1, 'presolve_bve_threshold': 1, 'max_presolve_iterations': 1, 'cp_model_probing_level': 1, 'presolve_probing_deterministic_time_limit': 2, 'encode_complex_linear_constraint_with_integer': False, 'ignore_subsolvers:default_lp': True, 'ignore_subsolvers:fixed': False, 'ignore_subsolvers:no_lp': True, 'ignore_subsolvers:max_lp': False, 'ignore_subsolvers:pseudo_costs': False, 'ignore_subsolvers:reduced_costs': True, 'ignore_subsolvers:quick_restart': True, 'ignore_subsolvers:quick_restart_no_lp': True, 'ignore_subsolvers:lb_tree_search': False, 'ignore_subsolvers:probing': False, 'search_branching': 3, 'repair_hint': True, 'use_lns_only': False, 'use_lb_relax_lns': True, 'use_objective_lb_search': True, 'use_objective_shaving_search': False, 'optimize_with_core': True, 'feasibility_jump_linearization_level': 1, 'fp_rounding': 3, 'diversify_lns_params': True, 'polish_lp_solution': True, 'linearization_level': 1, 'add_objective_cut': False, 'cut_level': 0, 'max_all_diff_cut_size': 1, 'symmetry_level': 2}. Best is trial 6 with value: 132614.0.\n",
      "[I 2024-08-16 18:08:25,108] Trial 15 finished with value: 130108.0 and parameters: {'preferred_variable_order': 1, 'use_erwa_heuristic': True, 'also_bump_variables_in_conflict_reasons': False, 'binary_minimization_algorithm': 4, 'clause_cleanup_protection': 1, 'presolve_bve_threshold': 1, 'max_presolve_iterations': 1, 'cp_model_probing_level': 2, 'presolve_probing_deterministic_time_limit': 0, 'encode_complex_linear_constraint_with_integer': False, 'ignore_subsolvers:default_lp': True, 'ignore_subsolvers:fixed': False, 'ignore_subsolvers:no_lp': True, 'ignore_subsolvers:max_lp': False, 'ignore_subsolvers:pseudo_costs': False, 'ignore_subsolvers:reduced_costs': True, 'ignore_subsolvers:quick_restart': True, 'ignore_subsolvers:quick_restart_no_lp': True, 'ignore_subsolvers:lb_tree_search': False, 'ignore_subsolvers:probing': False, 'search_branching': 3, 'repair_hint': True, 'use_lns_only': False, 'use_lb_relax_lns': True, 'use_objective_lb_search': True, 'use_objective_shaving_search': False, 'optimize_with_core': True, 'feasibility_jump_linearization_level': 1, 'fp_rounding': 3, 'diversify_lns_params': True, 'polish_lp_solution': True, 'linearization_level': 1, 'add_objective_cut': False, 'cut_level': 1, 'max_all_diff_cut_size': 1, 'symmetry_level': 1}. Best is trial 6 with value: 132614.0.\n"
     ]
    },
    {
     "name": "stdout",
     "output_type": "stream",
     "text": [
      "Returning knockout result\n"
     ]
    },
    {
     "name": "stderr",
     "output_type": "stream",
     "text": [
      "[I 2024-08-16 18:08:27,742] Trial 16 finished with value: 132473.0 and parameters: {'preferred_variable_order': 2, 'use_erwa_heuristic': True, 'also_bump_variables_in_conflict_reasons': False, 'binary_minimization_algorithm': 0, 'clause_cleanup_protection': 2, 'presolve_bve_threshold': 1, 'max_presolve_iterations': 1, 'cp_model_probing_level': 1, 'presolve_probing_deterministic_time_limit': 1, 'encode_complex_linear_constraint_with_integer': False, 'ignore_subsolvers:default_lp': True, 'ignore_subsolvers:fixed': False, 'ignore_subsolvers:no_lp': True, 'ignore_subsolvers:max_lp': False, 'ignore_subsolvers:pseudo_costs': False, 'ignore_subsolvers:reduced_costs': True, 'ignore_subsolvers:quick_restart': True, 'ignore_subsolvers:quick_restart_no_lp': True, 'ignore_subsolvers:lb_tree_search': False, 'ignore_subsolvers:probing': False, 'search_branching': 7, 'repair_hint': True, 'use_lns_only': False, 'use_lb_relax_lns': True, 'use_objective_lb_search': True, 'use_objective_shaving_search': False, 'optimize_with_core': True, 'feasibility_jump_linearization_level': 0, 'fp_rounding': 3, 'diversify_lns_params': True, 'polish_lp_solution': True, 'linearization_level': 1, 'add_objective_cut': False, 'cut_level': 0, 'max_all_diff_cut_size': 1, 'symmetry_level': 2}. Best is trial 6 with value: 132614.0.\n",
      "[I 2024-08-16 18:08:28,311] Trial 17 finished with value: 128419.0 and parameters: {'preferred_variable_order': 0, 'use_erwa_heuristic': True, 'also_bump_variables_in_conflict_reasons': False, 'binary_minimization_algorithm': 0, 'clause_cleanup_protection': 2, 'presolve_bve_threshold': 1, 'max_presolve_iterations': 3, 'cp_model_probing_level': 0, 'presolve_probing_deterministic_time_limit': 1, 'encode_complex_linear_constraint_with_integer': False, 'ignore_subsolvers:default_lp': True, 'ignore_subsolvers:fixed': False, 'ignore_subsolvers:no_lp': True, 'ignore_subsolvers:max_lp': False, 'ignore_subsolvers:pseudo_costs': False, 'ignore_subsolvers:reduced_costs': True, 'ignore_subsolvers:quick_restart': True, 'ignore_subsolvers:quick_restart_no_lp': True, 'ignore_subsolvers:lb_tree_search': False, 'ignore_subsolvers:probing': False, 'search_branching': 7, 'repair_hint': True, 'use_lns_only': False, 'use_lb_relax_lns': True, 'use_objective_lb_search': True, 'use_objective_shaving_search': False, 'optimize_with_core': True, 'feasibility_jump_linearization_level': 0, 'fp_rounding': 3, 'diversify_lns_params': False, 'polish_lp_solution': True, 'linearization_level': 2, 'add_objective_cut': False, 'cut_level': 1, 'max_all_diff_cut_size': 2, 'symmetry_level': 0}. Best is trial 6 with value: 132614.0.\n"
     ]
    },
    {
     "name": "stdout",
     "output_type": "stream",
     "text": [
      "Returning knockout result\n"
     ]
    },
    {
     "name": "stderr",
     "output_type": "stream",
     "text": [
      "[I 2024-08-16 18:08:30,919] Trial 18 finished with value: 131786.2 and parameters: {'preferred_variable_order': 1, 'use_erwa_heuristic': True, 'also_bump_variables_in_conflict_reasons': False, 'binary_minimization_algorithm': 0, 'clause_cleanup_protection': 2, 'presolve_bve_threshold': 0, 'max_presolve_iterations': 3, 'cp_model_probing_level': 2, 'presolve_probing_deterministic_time_limit': 0, 'encode_complex_linear_constraint_with_integer': False, 'ignore_subsolvers:default_lp': True, 'ignore_subsolvers:fixed': False, 'ignore_subsolvers:no_lp': False, 'ignore_subsolvers:max_lp': True, 'ignore_subsolvers:pseudo_costs': True, 'ignore_subsolvers:reduced_costs': True, 'ignore_subsolvers:quick_restart': False, 'ignore_subsolvers:quick_restart_no_lp': True, 'ignore_subsolvers:lb_tree_search': False, 'ignore_subsolvers:probing': True, 'search_branching': 7, 'repair_hint': False, 'use_lns_only': True, 'use_lb_relax_lns': True, 'use_objective_lb_search': False, 'use_objective_shaving_search': False, 'optimize_with_core': True, 'feasibility_jump_linearization_level': 0, 'fp_rounding': 2, 'diversify_lns_params': True, 'polish_lp_solution': False, 'linearization_level': 1, 'add_objective_cut': False, 'cut_level': 1, 'max_all_diff_cut_size': 1, 'symmetry_level': 1}. Best is trial 6 with value: 132614.0.\n",
      "[I 2024-08-16 18:08:33,540] Trial 19 finished with value: 132525.0 and parameters: {'preferred_variable_order': 2, 'use_erwa_heuristic': False, 'also_bump_variables_in_conflict_reasons': False, 'binary_minimization_algorithm': 0, 'clause_cleanup_protection': 2, 'presolve_bve_threshold': 1, 'max_presolve_iterations': 1, 'cp_model_probing_level': 1, 'presolve_probing_deterministic_time_limit': 1, 'encode_complex_linear_constraint_with_integer': False, 'ignore_subsolvers:default_lp': True, 'ignore_subsolvers:fixed': False, 'ignore_subsolvers:no_lp': True, 'ignore_subsolvers:max_lp': False, 'ignore_subsolvers:pseudo_costs': False, 'ignore_subsolvers:reduced_costs': True, 'ignore_subsolvers:quick_restart': True, 'ignore_subsolvers:quick_restart_no_lp': False, 'ignore_subsolvers:lb_tree_search': False, 'ignore_subsolvers:probing': False, 'search_branching': 7, 'repair_hint': True, 'use_lns_only': False, 'use_lb_relax_lns': True, 'use_objective_lb_search': True, 'use_objective_shaving_search': False, 'optimize_with_core': True, 'feasibility_jump_linearization_level': 0, 'fp_rounding': 3, 'diversify_lns_params': False, 'polish_lp_solution': True, 'linearization_level': 1, 'add_objective_cut': False, 'cut_level': 0, 'max_all_diff_cut_size': 1, 'symmetry_level': 2}. Best is trial 6 with value: 132614.0.\n",
      "[I 2024-08-16 18:08:36,162] Trial 20 finished with value: 131981.8 and parameters: {'preferred_variable_order': 1, 'use_erwa_heuristic': False, 'also_bump_variables_in_conflict_reasons': False, 'binary_minimization_algorithm': 0, 'clause_cleanup_protection': 2, 'presolve_bve_threshold': 1, 'max_presolve_iterations': 1, 'cp_model_probing_level': 1, 'presolve_probing_deterministic_time_limit': 2, 'encode_complex_linear_constraint_with_integer': False, 'ignore_subsolvers:default_lp': True, 'ignore_subsolvers:fixed': False, 'ignore_subsolvers:no_lp': True, 'ignore_subsolvers:max_lp': False, 'ignore_subsolvers:pseudo_costs': False, 'ignore_subsolvers:reduced_costs': True, 'ignore_subsolvers:quick_restart': True, 'ignore_subsolvers:quick_restart_no_lp': False, 'ignore_subsolvers:lb_tree_search': False, 'ignore_subsolvers:probing': False, 'search_branching': 8, 'repair_hint': True, 'use_lns_only': False, 'use_lb_relax_lns': True, 'use_objective_lb_search': True, 'use_objective_shaving_search': False, 'optimize_with_core': True, 'feasibility_jump_linearization_level': 0, 'fp_rounding': 3, 'diversify_lns_params': False, 'polish_lp_solution': True, 'linearization_level': 2, 'add_objective_cut': False, 'cut_level': 0, 'max_all_diff_cut_size': 2, 'symmetry_level': 2}. Best is trial 6 with value: 132614.0.\n",
      "[I 2024-08-16 18:08:36,209] Trial 21 finished with value: 132525.0 and parameters: {'preferred_variable_order': 2, 'use_erwa_heuristic': False, 'also_bump_variables_in_conflict_reasons': False, 'binary_minimization_algorithm': 0, 'clause_cleanup_protection': 2, 'presolve_bve_threshold': 1, 'max_presolve_iterations': 1, 'cp_model_probing_level': 1, 'presolve_probing_deterministic_time_limit': 1, 'encode_complex_linear_constraint_with_integer': False, 'ignore_subsolvers:default_lp': True, 'ignore_subsolvers:fixed': False, 'ignore_subsolvers:no_lp': True, 'ignore_subsolvers:max_lp': False, 'ignore_subsolvers:pseudo_costs': False, 'ignore_subsolvers:reduced_costs': True, 'ignore_subsolvers:quick_restart': True, 'ignore_subsolvers:quick_restart_no_lp': False, 'ignore_subsolvers:lb_tree_search': False, 'ignore_subsolvers:probing': False, 'search_branching': 7, 'repair_hint': True, 'use_lns_only': False, 'use_lb_relax_lns': True, 'use_objective_lb_search': True, 'use_objective_shaving_search': False, 'optimize_with_core': True, 'feasibility_jump_linearization_level': 0, 'fp_rounding': 3, 'diversify_lns_params': False, 'polish_lp_solution': True, 'linearization_level': 1, 'add_objective_cut': False, 'cut_level': 0, 'max_all_diff_cut_size': 1, 'symmetry_level': 2}. Best is trial 6 with value: 132614.0.\n",
      "[I 2024-08-16 18:08:36,256] Trial 22 finished with value: 132525.0 and parameters: {'preferred_variable_order': 2, 'use_erwa_heuristic': False, 'also_bump_variables_in_conflict_reasons': False, 'binary_minimization_algorithm': 0, 'clause_cleanup_protection': 2, 'presolve_bve_threshold': 1, 'max_presolve_iterations': 1, 'cp_model_probing_level': 1, 'presolve_probing_deterministic_time_limit': 1, 'encode_complex_linear_constraint_with_integer': False, 'ignore_subsolvers:default_lp': True, 'ignore_subsolvers:fixed': False, 'ignore_subsolvers:no_lp': True, 'ignore_subsolvers:max_lp': False, 'ignore_subsolvers:pseudo_costs': False, 'ignore_subsolvers:reduced_costs': True, 'ignore_subsolvers:quick_restart': True, 'ignore_subsolvers:quick_restart_no_lp': False, 'ignore_subsolvers:lb_tree_search': False, 'ignore_subsolvers:probing': False, 'search_branching': 7, 'repair_hint': True, 'use_lns_only': False, 'use_lb_relax_lns': True, 'use_objective_lb_search': True, 'use_objective_shaving_search': False, 'optimize_with_core': True, 'feasibility_jump_linearization_level': 0, 'fp_rounding': 3, 'diversify_lns_params': False, 'polish_lp_solution': True, 'linearization_level': 1, 'add_objective_cut': False, 'cut_level': 0, 'max_all_diff_cut_size': 1, 'symmetry_level': 2}. Best is trial 6 with value: 132614.0.\n",
      "[I 2024-08-16 18:08:38,876] Trial 23 finished with value: 132134.8 and parameters: {'preferred_variable_order': 2, 'use_erwa_heuristic': False, 'also_bump_variables_in_conflict_reasons': False, 'binary_minimization_algorithm': 0, 'clause_cleanup_protection': 2, 'presolve_bve_threshold': 1, 'max_presolve_iterations': 0, 'cp_model_probing_level': 1, 'presolve_probing_deterministic_time_limit': 0, 'encode_complex_linear_constraint_with_integer': False, 'ignore_subsolvers:default_lp': True, 'ignore_subsolvers:fixed': False, 'ignore_subsolvers:no_lp': True, 'ignore_subsolvers:max_lp': False, 'ignore_subsolvers:pseudo_costs': False, 'ignore_subsolvers:reduced_costs': True, 'ignore_subsolvers:quick_restart': True, 'ignore_subsolvers:quick_restart_no_lp': False, 'ignore_subsolvers:lb_tree_search': False, 'ignore_subsolvers:probing': False, 'search_branching': 7, 'repair_hint': True, 'use_lns_only': False, 'use_lb_relax_lns': True, 'use_objective_lb_search': True, 'use_objective_shaving_search': False, 'optimize_with_core': True, 'feasibility_jump_linearization_level': 0, 'fp_rounding': 3, 'diversify_lns_params': False, 'polish_lp_solution': True, 'linearization_level': 1, 'add_objective_cut': False, 'cut_level': 0, 'max_all_diff_cut_size': 1, 'symmetry_level': 2}. Best is trial 6 with value: 132614.0.\n",
      "[I 2024-08-16 18:08:40,984] Trial 24 finished with value: 130314.0 and parameters: {'preferred_variable_order': 1, 'use_erwa_heuristic': False, 'also_bump_variables_in_conflict_reasons': False, 'binary_minimization_algorithm': 0, 'clause_cleanup_protection': 2, 'presolve_bve_threshold': 1, 'max_presolve_iterations': 1, 'cp_model_probing_level': 1, 'presolve_probing_deterministic_time_limit': 2, 'encode_complex_linear_constraint_with_integer': False, 'ignore_subsolvers:default_lp': True, 'ignore_subsolvers:fixed': False, 'ignore_subsolvers:no_lp': True, 'ignore_subsolvers:max_lp': False, 'ignore_subsolvers:pseudo_costs': False, 'ignore_subsolvers:reduced_costs': True, 'ignore_subsolvers:quick_restart': True, 'ignore_subsolvers:quick_restart_no_lp': False, 'ignore_subsolvers:lb_tree_search': False, 'ignore_subsolvers:probing': False, 'search_branching': 2, 'repair_hint': True, 'use_lns_only': False, 'use_lb_relax_lns': True, 'use_objective_lb_search': True, 'use_objective_shaving_search': False, 'optimize_with_core': True, 'feasibility_jump_linearization_level': 0, 'fp_rounding': 3, 'diversify_lns_params': False, 'polish_lp_solution': True, 'linearization_level': 0, 'add_objective_cut': False, 'cut_level': 1, 'max_all_diff_cut_size': 0, 'symmetry_level': 2}. Best is trial 6 with value: 132614.0.\n"
     ]
    },
    {
     "name": "stdout",
     "output_type": "stream",
     "text": [
      "Returning knockout result\n"
     ]
    },
    {
     "name": "stderr",
     "output_type": "stream",
     "text": [
      "[I 2024-08-16 18:08:43,608] Trial 25 finished with value: 132573.0 and parameters: {'preferred_variable_order': 2, 'use_erwa_heuristic': False, 'also_bump_variables_in_conflict_reasons': False, 'binary_minimization_algorithm': 0, 'clause_cleanup_protection': 2, 'presolve_bve_threshold': 1, 'max_presolve_iterations': 3, 'cp_model_probing_level': 1, 'presolve_probing_deterministic_time_limit': 1, 'encode_complex_linear_constraint_with_integer': False, 'ignore_subsolvers:default_lp': True, 'ignore_subsolvers:fixed': False, 'ignore_subsolvers:no_lp': True, 'ignore_subsolvers:max_lp': False, 'ignore_subsolvers:pseudo_costs': False, 'ignore_subsolvers:reduced_costs': True, 'ignore_subsolvers:quick_restart': True, 'ignore_subsolvers:quick_restart_no_lp': False, 'ignore_subsolvers:lb_tree_search': False, 'ignore_subsolvers:probing': False, 'search_branching': 0, 'repair_hint': True, 'use_lns_only': False, 'use_lb_relax_lns': True, 'use_objective_lb_search': True, 'use_objective_shaving_search': False, 'optimize_with_core': True, 'feasibility_jump_linearization_level': 1, 'fp_rounding': 3, 'diversify_lns_params': False, 'polish_lp_solution': True, 'linearization_level': 1, 'add_objective_cut': False, 'cut_level': 0, 'max_all_diff_cut_size': 1, 'symmetry_level': 1}. Best is trial 6 with value: 132614.0.\n",
      "[I 2024-08-16 18:08:45,709] Trial 26 finished with value: 127074.0 and parameters: {'preferred_variable_order': 2, 'use_erwa_heuristic': False, 'also_bump_variables_in_conflict_reasons': False, 'binary_minimization_algorithm': 1, 'clause_cleanup_protection': 2, 'presolve_bve_threshold': 0, 'max_presolve_iterations': 3, 'cp_model_probing_level': 0, 'presolve_probing_deterministic_time_limit': 3, 'encode_complex_linear_constraint_with_integer': False, 'ignore_subsolvers:default_lp': True, 'ignore_subsolvers:fixed': True, 'ignore_subsolvers:no_lp': False, 'ignore_subsolvers:max_lp': True, 'ignore_subsolvers:pseudo_costs': True, 'ignore_subsolvers:reduced_costs': True, 'ignore_subsolvers:quick_restart': False, 'ignore_subsolvers:quick_restart_no_lp': False, 'ignore_subsolvers:lb_tree_search': False, 'ignore_subsolvers:probing': True, 'search_branching': 0, 'repair_hint': False, 'use_lns_only': True, 'use_lb_relax_lns': False, 'use_objective_lb_search': False, 'use_objective_shaving_search': True, 'optimize_with_core': False, 'feasibility_jump_linearization_level': 1, 'fp_rounding': 1, 'diversify_lns_params': False, 'polish_lp_solution': False, 'linearization_level': 2, 'add_objective_cut': True, 'cut_level': 0, 'max_all_diff_cut_size': 2, 'symmetry_level': 1}. Best is trial 6 with value: 132614.0.\n"
     ]
    },
    {
     "name": "stdout",
     "output_type": "stream",
     "text": [
      "Returning knockout result\n"
     ]
    },
    {
     "name": "stderr",
     "output_type": "stream",
     "text": [
      "[I 2024-08-16 18:08:46,295] Trial 27 finished with value: 130675.0 and parameters: {'preferred_variable_order': 1, 'use_erwa_heuristic': False, 'also_bump_variables_in_conflict_reasons': False, 'binary_minimization_algorithm': 0, 'clause_cleanup_protection': 2, 'presolve_bve_threshold': 2, 'max_presolve_iterations': 3, 'cp_model_probing_level': 2, 'presolve_probing_deterministic_time_limit': 1, 'encode_complex_linear_constraint_with_integer': False, 'ignore_subsolvers:default_lp': True, 'ignore_subsolvers:fixed': False, 'ignore_subsolvers:no_lp': True, 'ignore_subsolvers:max_lp': False, 'ignore_subsolvers:pseudo_costs': False, 'ignore_subsolvers:reduced_costs': True, 'ignore_subsolvers:quick_restart': True, 'ignore_subsolvers:quick_restart_no_lp': False, 'ignore_subsolvers:lb_tree_search': False, 'ignore_subsolvers:probing': False, 'search_branching': 0, 'repair_hint': True, 'use_lns_only': False, 'use_lb_relax_lns': True, 'use_objective_lb_search': True, 'use_objective_shaving_search': False, 'optimize_with_core': True, 'feasibility_jump_linearization_level': 1, 'fp_rounding': 0, 'diversify_lns_params': False, 'polish_lp_solution': True, 'linearization_level': 1, 'add_objective_cut': False, 'cut_level': 1, 'max_all_diff_cut_size': 1, 'symmetry_level': 1}. Best is trial 6 with value: 132614.0.\n"
     ]
    },
    {
     "name": "stdout",
     "output_type": "stream",
     "text": [
      "Returning knockout result\n"
     ]
    },
    {
     "name": "stderr",
     "output_type": "stream",
     "text": [
      "[I 2024-08-16 18:08:46,860] Trial 28 finished with value: 130290.0 and parameters: {'preferred_variable_order': 2, 'use_erwa_heuristic': False, 'also_bump_variables_in_conflict_reasons': False, 'binary_minimization_algorithm': 4, 'clause_cleanup_protection': 2, 'presolve_bve_threshold': 1, 'max_presolve_iterations': 4, 'cp_model_probing_level': 1, 'presolve_probing_deterministic_time_limit': 2, 'encode_complex_linear_constraint_with_integer': False, 'ignore_subsolvers:default_lp': True, 'ignore_subsolvers:fixed': False, 'ignore_subsolvers:no_lp': True, 'ignore_subsolvers:max_lp': False, 'ignore_subsolvers:pseudo_costs': False, 'ignore_subsolvers:reduced_costs': True, 'ignore_subsolvers:quick_restart': True, 'ignore_subsolvers:quick_restart_no_lp': False, 'ignore_subsolvers:lb_tree_search': False, 'ignore_subsolvers:probing': False, 'search_branching': 0, 'repair_hint': True, 'use_lns_only': False, 'use_lb_relax_lns': True, 'use_objective_lb_search': True, 'use_objective_shaving_search': False, 'optimize_with_core': True, 'feasibility_jump_linearization_level': 1, 'fp_rounding': 2, 'diversify_lns_params': False, 'polish_lp_solution': True, 'linearization_level': 0, 'add_objective_cut': False, 'cut_level': 0, 'max_all_diff_cut_size': 0, 'symmetry_level': 1}. Best is trial 6 with value: 132614.0.\n"
     ]
    },
    {
     "name": "stdout",
     "output_type": "stream",
     "text": [
      "Returning knockout result\n"
     ]
    },
    {
     "name": "stderr",
     "output_type": "stream",
     "text": [
      "[I 2024-08-16 18:08:49,501] Trial 29 finished with value: 130663.0 and parameters: {'preferred_variable_order': 0, 'use_erwa_heuristic': False, 'also_bump_variables_in_conflict_reasons': False, 'binary_minimization_algorithm': 1, 'clause_cleanup_protection': 1, 'presolve_bve_threshold': 0, 'max_presolve_iterations': 3, 'cp_model_probing_level': 2, 'presolve_probing_deterministic_time_limit': 0, 'encode_complex_linear_constraint_with_integer': False, 'ignore_subsolvers:default_lp': True, 'ignore_subsolvers:fixed': False, 'ignore_subsolvers:no_lp': False, 'ignore_subsolvers:max_lp': False, 'ignore_subsolvers:pseudo_costs': False, 'ignore_subsolvers:reduced_costs': True, 'ignore_subsolvers:quick_restart': False, 'ignore_subsolvers:quick_restart_no_lp': False, 'ignore_subsolvers:lb_tree_search': False, 'ignore_subsolvers:probing': False, 'search_branching': 0, 'repair_hint': False, 'use_lns_only': False, 'use_lb_relax_lns': False, 'use_objective_lb_search': False, 'use_objective_shaving_search': False, 'optimize_with_core': False, 'feasibility_jump_linearization_level': 2, 'fp_rounding': 2, 'diversify_lns_params': False, 'polish_lp_solution': False, 'linearization_level': 1, 'add_objective_cut': False, 'cut_level': 1, 'max_all_diff_cut_size': 1, 'symmetry_level': 0}. Best is trial 6 with value: 132614.0.\n"
     ]
    },
    {
     "name": "stdout",
     "output_type": "stream",
     "text": [
      "Returning knockout result\n"
     ]
    },
    {
     "name": "stderr",
     "output_type": "stream",
     "text": [
      "[I 2024-08-16 18:08:50,067] Trial 30 finished with value: 130339.0 and parameters: {'preferred_variable_order': 1, 'use_erwa_heuristic': False, 'also_bump_variables_in_conflict_reasons': False, 'binary_minimization_algorithm': 2, 'clause_cleanup_protection': 0, 'presolve_bve_threshold': 2, 'max_presolve_iterations': 2, 'cp_model_probing_level': 1, 'presolve_probing_deterministic_time_limit': 1, 'encode_complex_linear_constraint_with_integer': False, 'ignore_subsolvers:default_lp': True, 'ignore_subsolvers:fixed': False, 'ignore_subsolvers:no_lp': True, 'ignore_subsolvers:max_lp': False, 'ignore_subsolvers:pseudo_costs': False, 'ignore_subsolvers:reduced_costs': True, 'ignore_subsolvers:quick_restart': True, 'ignore_subsolvers:quick_restart_no_lp': False, 'ignore_subsolvers:lb_tree_search': False, 'ignore_subsolvers:probing': False, 'search_branching': 1, 'repair_hint': True, 'use_lns_only': False, 'use_lb_relax_lns': True, 'use_objective_lb_search': True, 'use_objective_shaving_search': False, 'optimize_with_core': True, 'feasibility_jump_linearization_level': 1, 'fp_rounding': 3, 'diversify_lns_params': False, 'polish_lp_solution': True, 'linearization_level': 0, 'add_objective_cut': False, 'cut_level': 1, 'max_all_diff_cut_size': 0, 'symmetry_level': 1}. Best is trial 6 with value: 132614.0.\n",
      "[I 2024-08-16 18:08:50,119] Trial 31 finished with value: 132525.0 and parameters: {'preferred_variable_order': 2, 'use_erwa_heuristic': False, 'also_bump_variables_in_conflict_reasons': False, 'binary_minimization_algorithm': 0, 'clause_cleanup_protection': 2, 'presolve_bve_threshold': 1, 'max_presolve_iterations': 1, 'cp_model_probing_level': 1, 'presolve_probing_deterministic_time_limit': 1, 'encode_complex_linear_constraint_with_integer': False, 'ignore_subsolvers:default_lp': True, 'ignore_subsolvers:fixed': False, 'ignore_subsolvers:no_lp': True, 'ignore_subsolvers:max_lp': False, 'ignore_subsolvers:pseudo_costs': False, 'ignore_subsolvers:reduced_costs': True, 'ignore_subsolvers:quick_restart': True, 'ignore_subsolvers:quick_restart_no_lp': False, 'ignore_subsolvers:lb_tree_search': False, 'ignore_subsolvers:probing': False, 'search_branching': 7, 'repair_hint': True, 'use_lns_only': False, 'use_lb_relax_lns': True, 'use_objective_lb_search': True, 'use_objective_shaving_search': False, 'optimize_with_core': True, 'feasibility_jump_linearization_level': 0, 'fp_rounding': 3, 'diversify_lns_params': False, 'polish_lp_solution': True, 'linearization_level': 1, 'add_objective_cut': False, 'cut_level': 0, 'max_all_diff_cut_size': 1, 'symmetry_level': 2}. Best is trial 6 with value: 132614.0.\n"
     ]
    },
    {
     "name": "stdout",
     "output_type": "stream",
     "text": [
      "Returning knockout result\n"
     ]
    },
    {
     "name": "stderr",
     "output_type": "stream",
     "text": [
      "[I 2024-08-16 18:08:52,739] Trial 32 finished with value: 132289.0 and parameters: {'preferred_variable_order': 2, 'use_erwa_heuristic': False, 'also_bump_variables_in_conflict_reasons': False, 'binary_minimization_algorithm': 0, 'clause_cleanup_protection': 2, 'presolve_bve_threshold': 1, 'max_presolve_iterations': 2, 'cp_model_probing_level': 1, 'presolve_probing_deterministic_time_limit': 1, 'encode_complex_linear_constraint_with_integer': False, 'ignore_subsolvers:default_lp': True, 'ignore_subsolvers:fixed': False, 'ignore_subsolvers:no_lp': True, 'ignore_subsolvers:max_lp': False, 'ignore_subsolvers:pseudo_costs': False, 'ignore_subsolvers:reduced_costs': True, 'ignore_subsolvers:quick_restart': True, 'ignore_subsolvers:quick_restart_no_lp': False, 'ignore_subsolvers:lb_tree_search': False, 'ignore_subsolvers:probing': False, 'search_branching': 7, 'repair_hint': True, 'use_lns_only': False, 'use_lb_relax_lns': True, 'use_objective_lb_search': True, 'use_objective_shaving_search': False, 'optimize_with_core': True, 'feasibility_jump_linearization_level': 1, 'fp_rounding': 3, 'diversify_lns_params': False, 'polish_lp_solution': True, 'linearization_level': 1, 'add_objective_cut': False, 'cut_level': 0, 'max_all_diff_cut_size': 1, 'symmetry_level': 2}. Best is trial 6 with value: 132614.0.\n",
      "[I 2024-08-16 18:08:55,359] Trial 33 finished with value: 132532.6 and parameters: {'preferred_variable_order': 2, 'use_erwa_heuristic': False, 'also_bump_variables_in_conflict_reasons': False, 'binary_minimization_algorithm': 0, 'clause_cleanup_protection': 2, 'presolve_bve_threshold': 1, 'max_presolve_iterations': 2, 'cp_model_probing_level': 1, 'presolve_probing_deterministic_time_limit': 2, 'encode_complex_linear_constraint_with_integer': False, 'ignore_subsolvers:default_lp': True, 'ignore_subsolvers:fixed': False, 'ignore_subsolvers:no_lp': True, 'ignore_subsolvers:max_lp': False, 'ignore_subsolvers:pseudo_costs': False, 'ignore_subsolvers:reduced_costs': True, 'ignore_subsolvers:quick_restart': True, 'ignore_subsolvers:quick_restart_no_lp': False, 'ignore_subsolvers:lb_tree_search': False, 'ignore_subsolvers:probing': False, 'search_branching': 5, 'repair_hint': True, 'use_lns_only': False, 'use_lb_relax_lns': True, 'use_objective_lb_search': True, 'use_objective_shaving_search': False, 'optimize_with_core': True, 'feasibility_jump_linearization_level': 0, 'fp_rounding': 3, 'diversify_lns_params': False, 'polish_lp_solution': True, 'linearization_level': 1, 'add_objective_cut': False, 'cut_level': 0, 'max_all_diff_cut_size': 1, 'symmetry_level': 1}. Best is trial 6 with value: 132614.0.\n",
      "[I 2024-08-16 18:08:57,976] Trial 34 finished with value: 132155.2 and parameters: {'preferred_variable_order': 2, 'use_erwa_heuristic': False, 'also_bump_variables_in_conflict_reasons': False, 'binary_minimization_algorithm': 3, 'clause_cleanup_protection': 2, 'presolve_bve_threshold': 1, 'max_presolve_iterations': 2, 'cp_model_probing_level': 1, 'presolve_probing_deterministic_time_limit': 2, 'encode_complex_linear_constraint_with_integer': False, 'ignore_subsolvers:default_lp': True, 'ignore_subsolvers:fixed': True, 'ignore_subsolvers:no_lp': True, 'ignore_subsolvers:max_lp': False, 'ignore_subsolvers:pseudo_costs': True, 'ignore_subsolvers:reduced_costs': True, 'ignore_subsolvers:quick_restart': True, 'ignore_subsolvers:quick_restart_no_lp': False, 'ignore_subsolvers:lb_tree_search': False, 'ignore_subsolvers:probing': True, 'search_branching': 5, 'repair_hint': True, 'use_lns_only': False, 'use_lb_relax_lns': False, 'use_objective_lb_search': False, 'use_objective_shaving_search': False, 'optimize_with_core': True, 'feasibility_jump_linearization_level': 1, 'fp_rounding': 1, 'diversify_lns_params': False, 'polish_lp_solution': True, 'linearization_level': 1, 'add_objective_cut': True, 'cut_level': 0, 'max_all_diff_cut_size': 2, 'symmetry_level': 1}. Best is trial 6 with value: 132614.0.\n",
      "[I 2024-08-16 18:08:58,545] Trial 35 finished with value: 128452.0 and parameters: {'preferred_variable_order': 0, 'use_erwa_heuristic': False, 'also_bump_variables_in_conflict_reasons': False, 'binary_minimization_algorithm': 0, 'clause_cleanup_protection': 0, 'presolve_bve_threshold': 1, 'max_presolve_iterations': 2, 'cp_model_probing_level': 0, 'presolve_probing_deterministic_time_limit': 3, 'encode_complex_linear_constraint_with_integer': True, 'ignore_subsolvers:default_lp': True, 'ignore_subsolvers:fixed': False, 'ignore_subsolvers:no_lp': True, 'ignore_subsolvers:max_lp': False, 'ignore_subsolvers:pseudo_costs': False, 'ignore_subsolvers:reduced_costs': True, 'ignore_subsolvers:quick_restart': True, 'ignore_subsolvers:quick_restart_no_lp': False, 'ignore_subsolvers:lb_tree_search': False, 'ignore_subsolvers:probing': False, 'search_branching': 5, 'repair_hint': False, 'use_lns_only': True, 'use_lb_relax_lns': True, 'use_objective_lb_search': True, 'use_objective_shaving_search': True, 'optimize_with_core': True, 'feasibility_jump_linearization_level': 0, 'fp_rounding': 3, 'diversify_lns_params': False, 'polish_lp_solution': True, 'linearization_level': 0, 'add_objective_cut': True, 'cut_level': 0, 'max_all_diff_cut_size': 1, 'symmetry_level': 1}. Best is trial 6 with value: 132614.0.\n"
     ]
    },
    {
     "name": "stdout",
     "output_type": "stream",
     "text": [
      "Returning knockout result\n"
     ]
    },
    {
     "name": "stderr",
     "output_type": "stream",
     "text": [
      "[I 2024-08-16 18:09:01,164] Trial 36 finished with value: 132557.8 and parameters: {'preferred_variable_order': 2, 'use_erwa_heuristic': False, 'also_bump_variables_in_conflict_reasons': True, 'binary_minimization_algorithm': 1, 'clause_cleanup_protection': 2, 'presolve_bve_threshold': 1, 'max_presolve_iterations': 3, 'cp_model_probing_level': 1, 'presolve_probing_deterministic_time_limit': 4, 'encode_complex_linear_constraint_with_integer': False, 'ignore_subsolvers:default_lp': False, 'ignore_subsolvers:fixed': False, 'ignore_subsolvers:no_lp': True, 'ignore_subsolvers:max_lp': False, 'ignore_subsolvers:pseudo_costs': True, 'ignore_subsolvers:reduced_costs': True, 'ignore_subsolvers:quick_restart': True, 'ignore_subsolvers:quick_restart_no_lp': False, 'ignore_subsolvers:lb_tree_search': False, 'ignore_subsolvers:probing': False, 'search_branching': 4, 'repair_hint': True, 'use_lns_only': False, 'use_lb_relax_lns': False, 'use_objective_lb_search': True, 'use_objective_shaving_search': False, 'optimize_with_core': False, 'feasibility_jump_linearization_level': 2, 'fp_rounding': 0, 'diversify_lns_params': False, 'polish_lp_solution': False, 'linearization_level': 1, 'add_objective_cut': False, 'cut_level': 0, 'max_all_diff_cut_size': 1, 'symmetry_level': 1}. Best is trial 6 with value: 132614.0.\n",
      "[I 2024-08-16 18:09:02,252] Trial 37 finished with value: 105379.0 and parameters: {'preferred_variable_order': 1, 'use_erwa_heuristic': False, 'also_bump_variables_in_conflict_reasons': True, 'binary_minimization_algorithm': 1, 'clause_cleanup_protection': 0, 'presolve_bve_threshold': 1, 'max_presolve_iterations': 3, 'cp_model_probing_level': 0, 'presolve_probing_deterministic_time_limit': 4, 'encode_complex_linear_constraint_with_integer': True, 'ignore_subsolvers:default_lp': False, 'ignore_subsolvers:fixed': True, 'ignore_subsolvers:no_lp': True, 'ignore_subsolvers:max_lp': True, 'ignore_subsolvers:pseudo_costs': True, 'ignore_subsolvers:reduced_costs': False, 'ignore_subsolvers:quick_restart': False, 'ignore_subsolvers:quick_restart_no_lp': False, 'ignore_subsolvers:lb_tree_search': False, 'ignore_subsolvers:probing': True, 'search_branching': 4, 'repair_hint': True, 'use_lns_only': False, 'use_lb_relax_lns': False, 'use_objective_lb_search': True, 'use_objective_shaving_search': True, 'optimize_with_core': False, 'feasibility_jump_linearization_level': 2, 'fp_rounding': 0, 'diversify_lns_params': False, 'polish_lp_solution': False, 'linearization_level': 2, 'add_objective_cut': False, 'cut_level': 1, 'max_all_diff_cut_size': 1, 'symmetry_level': 1}. Best is trial 6 with value: 132614.0.\n"
     ]
    },
    {
     "name": "stdout",
     "output_type": "stream",
     "text": [
      "Returning knockout result\n"
     ]
    },
    {
     "name": "stderr",
     "output_type": "stream",
     "text": [
      "[I 2024-08-16 18:09:04,864] Trial 38 finished with value: 128833.0 and parameters: {'preferred_variable_order': 2, 'use_erwa_heuristic': False, 'also_bump_variables_in_conflict_reasons': True, 'binary_minimization_algorithm': 1, 'clause_cleanup_protection': 1, 'presolve_bve_threshold': 0, 'max_presolve_iterations': 4, 'cp_model_probing_level': 1, 'presolve_probing_deterministic_time_limit': 4, 'encode_complex_linear_constraint_with_integer': False, 'ignore_subsolvers:default_lp': False, 'ignore_subsolvers:fixed': False, 'ignore_subsolvers:no_lp': False, 'ignore_subsolvers:max_lp': False, 'ignore_subsolvers:pseudo_costs': True, 'ignore_subsolvers:reduced_costs': False, 'ignore_subsolvers:quick_restart': True, 'ignore_subsolvers:quick_restart_no_lp': False, 'ignore_subsolvers:lb_tree_search': False, 'ignore_subsolvers:probing': False, 'search_branching': 4, 'repair_hint': True, 'use_lns_only': True, 'use_lb_relax_lns': False, 'use_objective_lb_search': False, 'use_objective_shaving_search': False, 'optimize_with_core': False, 'feasibility_jump_linearization_level': 2, 'fp_rounding': 0, 'diversify_lns_params': False, 'polish_lp_solution': False, 'linearization_level': 2, 'add_objective_cut': True, 'cut_level': 2, 'max_all_diff_cut_size': 2, 'symmetry_level': 1}. Best is trial 6 with value: 132614.0.\n"
     ]
    },
    {
     "name": "stdout",
     "output_type": "stream",
     "text": [
      "Returning knockout result\n"
     ]
    },
    {
     "name": "stderr",
     "output_type": "stream",
     "text": [
      "[I 2024-08-16 18:09:05,430] Trial 39 finished with value: 74381.0 and parameters: {'preferred_variable_order': 1, 'use_erwa_heuristic': False, 'also_bump_variables_in_conflict_reasons': True, 'binary_minimization_algorithm': 1, 'clause_cleanup_protection': 2, 'presolve_bve_threshold': 1, 'max_presolve_iterations': 3, 'cp_model_probing_level': 1, 'presolve_probing_deterministic_time_limit': 3, 'encode_complex_linear_constraint_with_integer': True, 'ignore_subsolvers:default_lp': False, 'ignore_subsolvers:fixed': True, 'ignore_subsolvers:no_lp': True, 'ignore_subsolvers:max_lp': False, 'ignore_subsolvers:pseudo_costs': True, 'ignore_subsolvers:reduced_costs': True, 'ignore_subsolvers:quick_restart': True, 'ignore_subsolvers:quick_restart_no_lp': False, 'ignore_subsolvers:lb_tree_search': False, 'ignore_subsolvers:probing': False, 'search_branching': 6, 'repair_hint': False, 'use_lns_only': False, 'use_lb_relax_lns': False, 'use_objective_lb_search': True, 'use_objective_shaving_search': True, 'optimize_with_core': False, 'feasibility_jump_linearization_level': 2, 'fp_rounding': 0, 'diversify_lns_params': False, 'polish_lp_solution': False, 'linearization_level': 1, 'add_objective_cut': False, 'cut_level': 0, 'max_all_diff_cut_size': 1, 'symmetry_level': 1}. Best is trial 6 with value: 132614.0.\n"
     ]
    },
    {
     "name": "stdout",
     "output_type": "stream",
     "text": [
      "Returning knockout result\n"
     ]
    },
    {
     "name": "stderr",
     "output_type": "stream",
     "text": [
      "[I 2024-08-16 18:09:07,599] Trial 40 finished with value: 130530.0 and parameters: {'preferred_variable_order': 1, 'use_erwa_heuristic': False, 'also_bump_variables_in_conflict_reasons': True, 'binary_minimization_algorithm': 2, 'clause_cleanup_protection': 1, 'presolve_bve_threshold': 1, 'max_presolve_iterations': 2, 'cp_model_probing_level': 2, 'presolve_probing_deterministic_time_limit': 3, 'encode_complex_linear_constraint_with_integer': False, 'ignore_subsolvers:default_lp': False, 'ignore_subsolvers:fixed': False, 'ignore_subsolvers:no_lp': True, 'ignore_subsolvers:max_lp': True, 'ignore_subsolvers:pseudo_costs': True, 'ignore_subsolvers:reduced_costs': False, 'ignore_subsolvers:quick_restart': False, 'ignore_subsolvers:quick_restart_no_lp': False, 'ignore_subsolvers:lb_tree_search': True, 'ignore_subsolvers:probing': True, 'search_branching': 4, 'repair_hint': True, 'use_lns_only': False, 'use_lb_relax_lns': False, 'use_objective_lb_search': True, 'use_objective_shaving_search': False, 'optimize_with_core': False, 'feasibility_jump_linearization_level': 2, 'fp_rounding': 0, 'diversify_lns_params': False, 'polish_lp_solution': False, 'linearization_level': 0, 'add_objective_cut': True, 'cut_level': 2, 'max_all_diff_cut_size': 0, 'symmetry_level': 0}. Best is trial 6 with value: 132614.0.\n"
     ]
    },
    {
     "name": "stdout",
     "output_type": "stream",
     "text": [
      "Returning knockout result\n"
     ]
    },
    {
     "name": "stderr",
     "output_type": "stream",
     "text": [
      "[I 2024-08-16 18:09:10,235] Trial 41 finished with value: 132215.4 and parameters: {'preferred_variable_order': 2, 'use_erwa_heuristic': False, 'also_bump_variables_in_conflict_reasons': True, 'binary_minimization_algorithm': 1, 'clause_cleanup_protection': 2, 'presolve_bve_threshold': 1, 'max_presolve_iterations': 2, 'cp_model_probing_level': 1, 'presolve_probing_deterministic_time_limit': 2, 'encode_complex_linear_constraint_with_integer': False, 'ignore_subsolvers:default_lp': False, 'ignore_subsolvers:fixed': False, 'ignore_subsolvers:no_lp': True, 'ignore_subsolvers:max_lp': False, 'ignore_subsolvers:pseudo_costs': True, 'ignore_subsolvers:reduced_costs': True, 'ignore_subsolvers:quick_restart': True, 'ignore_subsolvers:quick_restart_no_lp': False, 'ignore_subsolvers:lb_tree_search': False, 'ignore_subsolvers:probing': False, 'search_branching': 5, 'repair_hint': True, 'use_lns_only': False, 'use_lb_relax_lns': False, 'use_objective_lb_search': True, 'use_objective_shaving_search': False, 'optimize_with_core': False, 'feasibility_jump_linearization_level': 1, 'fp_rounding': 1, 'diversify_lns_params': False, 'polish_lp_solution': False, 'linearization_level': 1, 'add_objective_cut': False, 'cut_level': 0, 'max_all_diff_cut_size': 1, 'symmetry_level': 1}. Best is trial 6 with value: 132614.0.\n",
      "[I 2024-08-16 18:09:12,859] Trial 42 finished with value: 131295.6 and parameters: {'preferred_variable_order': 2, 'use_erwa_heuristic': False, 'also_bump_variables_in_conflict_reasons': False, 'binary_minimization_algorithm': 3, 'clause_cleanup_protection': 2, 'presolve_bve_threshold': 1, 'max_presolve_iterations': 4, 'cp_model_probing_level': 1, 'presolve_probing_deterministic_time_limit': 3, 'encode_complex_linear_constraint_with_integer': False, 'ignore_subsolvers:default_lp': True, 'ignore_subsolvers:fixed': False, 'ignore_subsolvers:no_lp': True, 'ignore_subsolvers:max_lp': False, 'ignore_subsolvers:pseudo_costs': True, 'ignore_subsolvers:reduced_costs': True, 'ignore_subsolvers:quick_restart': True, 'ignore_subsolvers:quick_restart_no_lp': False, 'ignore_subsolvers:lb_tree_search': False, 'ignore_subsolvers:probing': False, 'search_branching': 8, 'repair_hint': True, 'use_lns_only': False, 'use_lb_relax_lns': True, 'use_objective_lb_search': True, 'use_objective_shaving_search': False, 'optimize_with_core': False, 'feasibility_jump_linearization_level': 2, 'fp_rounding': 0, 'diversify_lns_params': False, 'polish_lp_solution': False, 'linearization_level': 1, 'add_objective_cut': False, 'cut_level': 0, 'max_all_diff_cut_size': 1, 'symmetry_level': 1}. Best is trial 6 with value: 132614.0.\n",
      "[I 2024-08-16 18:09:15,483] Trial 43 finished with value: 132201.2 and parameters: {'preferred_variable_order': 2, 'use_erwa_heuristic': False, 'also_bump_variables_in_conflict_reasons': True, 'binary_minimization_algorithm': 0, 'clause_cleanup_protection': 2, 'presolve_bve_threshold': 1, 'max_presolve_iterations': 3, 'cp_model_probing_level': 1, 'presolve_probing_deterministic_time_limit': 2, 'encode_complex_linear_constraint_with_integer': False, 'ignore_subsolvers:default_lp': False, 'ignore_subsolvers:fixed': False, 'ignore_subsolvers:no_lp': True, 'ignore_subsolvers:max_lp': False, 'ignore_subsolvers:pseudo_costs': False, 'ignore_subsolvers:reduced_costs': True, 'ignore_subsolvers:quick_restart': True, 'ignore_subsolvers:quick_restart_no_lp': False, 'ignore_subsolvers:lb_tree_search': False, 'ignore_subsolvers:probing': False, 'search_branching': 2, 'repair_hint': True, 'use_lns_only': False, 'use_lb_relax_lns': False, 'use_objective_lb_search': True, 'use_objective_shaving_search': False, 'optimize_with_core': True, 'feasibility_jump_linearization_level': 1, 'fp_rounding': 3, 'diversify_lns_params': False, 'polish_lp_solution': True, 'linearization_level': 1, 'add_objective_cut': False, 'cut_level': 0, 'max_all_diff_cut_size': 1, 'symmetry_level': 1}. Best is trial 6 with value: 132614.0.\n",
      "[I 2024-08-16 18:09:18,105] Trial 44 finished with value: 132187.6 and parameters: {'preferred_variable_order': 2, 'use_erwa_heuristic': False, 'also_bump_variables_in_conflict_reasons': False, 'binary_minimization_algorithm': 4, 'clause_cleanup_protection': 2, 'presolve_bve_threshold': 1, 'max_presolve_iterations': 2, 'cp_model_probing_level': 1, 'presolve_probing_deterministic_time_limit': 2, 'encode_complex_linear_constraint_with_integer': False, 'ignore_subsolvers:default_lp': True, 'ignore_subsolvers:fixed': False, 'ignore_subsolvers:no_lp': True, 'ignore_subsolvers:max_lp': False, 'ignore_subsolvers:pseudo_costs': False, 'ignore_subsolvers:reduced_costs': True, 'ignore_subsolvers:quick_restart': True, 'ignore_subsolvers:quick_restart_no_lp': False, 'ignore_subsolvers:lb_tree_search': False, 'ignore_subsolvers:probing': False, 'search_branching': 4, 'repair_hint': True, 'use_lns_only': False, 'use_lb_relax_lns': True, 'use_objective_lb_search': True, 'use_objective_shaving_search': False, 'optimize_with_core': True, 'feasibility_jump_linearization_level': 1, 'fp_rounding': 3, 'diversify_lns_params': False, 'polish_lp_solution': True, 'linearization_level': 1, 'add_objective_cut': False, 'cut_level': 0, 'max_all_diff_cut_size': 1, 'symmetry_level': 1}. Best is trial 6 with value: 132614.0.\n",
      "[I 2024-08-16 18:09:20,733] Trial 45 finished with value: 132462.0 and parameters: {'preferred_variable_order': 2, 'use_erwa_heuristic': False, 'also_bump_variables_in_conflict_reasons': True, 'binary_minimization_algorithm': 2, 'clause_cleanup_protection': 2, 'presolve_bve_threshold': 1, 'max_presolve_iterations': 2, 'cp_model_probing_level': 1, 'presolve_probing_deterministic_time_limit': 4, 'encode_complex_linear_constraint_with_integer': True, 'ignore_subsolvers:default_lp': False, 'ignore_subsolvers:fixed': False, 'ignore_subsolvers:no_lp': True, 'ignore_subsolvers:max_lp': False, 'ignore_subsolvers:pseudo_costs': False, 'ignore_subsolvers:reduced_costs': True, 'ignore_subsolvers:quick_restart': True, 'ignore_subsolvers:quick_restart_no_lp': False, 'ignore_subsolvers:lb_tree_search': True, 'ignore_subsolvers:probing': False, 'search_branching': 5, 'repair_hint': True, 'use_lns_only': False, 'use_lb_relax_lns': True, 'use_objective_lb_search': True, 'use_objective_shaving_search': False, 'optimize_with_core': False, 'feasibility_jump_linearization_level': 0, 'fp_rounding': 0, 'diversify_lns_params': False, 'polish_lp_solution': True, 'linearization_level': 1, 'add_objective_cut': False, 'cut_level': 0, 'max_all_diff_cut_size': 1, 'symmetry_level': 1}. Best is trial 6 with value: 132614.0.\n",
      "[I 2024-08-16 18:09:23,347] Trial 46 finished with value: 127965.0 and parameters: {'preferred_variable_order': 2, 'use_erwa_heuristic': False, 'also_bump_variables_in_conflict_reasons': False, 'binary_minimization_algorithm': 1, 'clause_cleanup_protection': 0, 'presolve_bve_threshold': 2, 'max_presolve_iterations': 3, 'cp_model_probing_level': 1, 'presolve_probing_deterministic_time_limit': 3, 'encode_complex_linear_constraint_with_integer': False, 'ignore_subsolvers:default_lp': True, 'ignore_subsolvers:fixed': False, 'ignore_subsolvers:no_lp': False, 'ignore_subsolvers:max_lp': False, 'ignore_subsolvers:pseudo_costs': True, 'ignore_subsolvers:reduced_costs': True, 'ignore_subsolvers:quick_restart': True, 'ignore_subsolvers:quick_restart_no_lp': False, 'ignore_subsolvers:lb_tree_search': False, 'ignore_subsolvers:probing': False, 'search_branching': 1, 'repair_hint': True, 'use_lns_only': False, 'use_lb_relax_lns': True, 'use_objective_lb_search': True, 'use_objective_shaving_search': False, 'optimize_with_core': True, 'feasibility_jump_linearization_level': 1, 'fp_rounding': 3, 'diversify_lns_params': False, 'polish_lp_solution': False, 'linearization_level': 1, 'add_objective_cut': False, 'cut_level': 0, 'max_all_diff_cut_size': 0, 'symmetry_level': 0}. Best is trial 6 with value: 132614.0.\n"
     ]
    },
    {
     "name": "stdout",
     "output_type": "stream",
     "text": [
      "Returning knockout result\n"
     ]
    },
    {
     "name": "stderr",
     "output_type": "stream",
     "text": [
      "[I 2024-08-16 18:09:25,955] Trial 47 finished with value: 130355.0 and parameters: {'preferred_variable_order': 2, 'use_erwa_heuristic': False, 'also_bump_variables_in_conflict_reasons': False, 'binary_minimization_algorithm': 4, 'clause_cleanup_protection': 1, 'presolve_bve_threshold': 1, 'max_presolve_iterations': 4, 'cp_model_probing_level': 1, 'presolve_probing_deterministic_time_limit': 1, 'encode_complex_linear_constraint_with_integer': False, 'ignore_subsolvers:default_lp': True, 'ignore_subsolvers:fixed': True, 'ignore_subsolvers:no_lp': True, 'ignore_subsolvers:max_lp': False, 'ignore_subsolvers:pseudo_costs': False, 'ignore_subsolvers:reduced_costs': False, 'ignore_subsolvers:quick_restart': True, 'ignore_subsolvers:quick_restart_no_lp': False, 'ignore_subsolvers:lb_tree_search': False, 'ignore_subsolvers:probing': False, 'search_branching': 6, 'repair_hint': True, 'use_lns_only': True, 'use_lb_relax_lns': False, 'use_objective_lb_search': True, 'use_objective_shaving_search': True, 'optimize_with_core': True, 'feasibility_jump_linearization_level': 0, 'fp_rounding': 2, 'diversify_lns_params': False, 'polish_lp_solution': True, 'linearization_level': 0, 'add_objective_cut': False, 'cut_level': 0, 'max_all_diff_cut_size': 1, 'symmetry_level': 2}. Best is trial 6 with value: 132614.0.\n"
     ]
    },
    {
     "name": "stdout",
     "output_type": "stream",
     "text": [
      "Returning knockout result\n"
     ]
    },
    {
     "name": "stderr",
     "output_type": "stream",
     "text": [
      "[I 2024-08-16 18:09:27,590] Trial 48 finished with value: 124805.0 and parameters: {'preferred_variable_order': 1, 'use_erwa_heuristic': False, 'also_bump_variables_in_conflict_reasons': True, 'binary_minimization_algorithm': 3, 'clause_cleanup_protection': 2, 'presolve_bve_threshold': 1, 'max_presolve_iterations': 2, 'cp_model_probing_level': 0, 'presolve_probing_deterministic_time_limit': 2, 'encode_complex_linear_constraint_with_integer': False, 'ignore_subsolvers:default_lp': False, 'ignore_subsolvers:fixed': False, 'ignore_subsolvers:no_lp': True, 'ignore_subsolvers:max_lp': True, 'ignore_subsolvers:pseudo_costs': False, 'ignore_subsolvers:reduced_costs': True, 'ignore_subsolvers:quick_restart': True, 'ignore_subsolvers:quick_restart_no_lp': False, 'ignore_subsolvers:lb_tree_search': True, 'ignore_subsolvers:probing': False, 'search_branching': 3, 'repair_hint': True, 'use_lns_only': False, 'use_lb_relax_lns': True, 'use_objective_lb_search': True, 'use_objective_shaving_search': False, 'optimize_with_core': True, 'feasibility_jump_linearization_level': 1, 'fp_rounding': 1, 'diversify_lns_params': False, 'polish_lp_solution': True, 'linearization_level': 1, 'add_objective_cut': False, 'cut_level': 1, 'max_all_diff_cut_size': 1, 'symmetry_level': 1}. Best is trial 6 with value: 132614.0.\n"
     ]
    },
    {
     "name": "stdout",
     "output_type": "stream",
     "text": [
      "Returning knockout result\n"
     ]
    },
    {
     "name": "stderr",
     "output_type": "stream",
     "text": [
      "[I 2024-08-16 18:09:29,738] Trial 49 finished with value: 129252.0 and parameters: {'preferred_variable_order': 2, 'use_erwa_heuristic': False, 'also_bump_variables_in_conflict_reasons': False, 'binary_minimization_algorithm': 0, 'clause_cleanup_protection': 1, 'presolve_bve_threshold': 0, 'max_presolve_iterations': 3, 'cp_model_probing_level': 1, 'presolve_probing_deterministic_time_limit': 0, 'encode_complex_linear_constraint_with_integer': False, 'ignore_subsolvers:default_lp': True, 'ignore_subsolvers:fixed': False, 'ignore_subsolvers:no_lp': True, 'ignore_subsolvers:max_lp': False, 'ignore_subsolvers:pseudo_costs': False, 'ignore_subsolvers:reduced_costs': True, 'ignore_subsolvers:quick_restart': True, 'ignore_subsolvers:quick_restart_no_lp': False, 'ignore_subsolvers:lb_tree_search': False, 'ignore_subsolvers:probing': False, 'search_branching': 0, 'repair_hint': False, 'use_lns_only': False, 'use_lb_relax_lns': True, 'use_objective_lb_search': False, 'use_objective_shaving_search': False, 'optimize_with_core': False, 'feasibility_jump_linearization_level': 2, 'fp_rounding': 3, 'diversify_lns_params': False, 'polish_lp_solution': True, 'linearization_level': 1, 'add_objective_cut': False, 'cut_level': 2, 'max_all_diff_cut_size': 0, 'symmetry_level': 2}. Best is trial 6 with value: 132614.0.\n"
     ]
    },
    {
     "name": "stdout",
     "output_type": "stream",
     "text": [
      "Returning knockout result\n",
      "Best parameters: {'preferred_variable_order': 1, 'binary_minimization_algorithm': 4, 'clause_cleanup_protection': 1, 'cp_model_probing_level': 1, 'presolve_probing_deterministic_time_limit': 5.0, 'ignore_subsolvers': ['default_lp', 'no_lp', 'reduced_costs', 'quick_restart'], 'search_branching': 5, 'repair_hint': True, 'use_lb_relax_lns': True, 'use_objective_lb_search': True, 'optimize_with_core': True, 'feasibility_jump_linearization_level': 1, 'fp_rounding': 3, 'polish_lp_solution': True, 'linearization_level': 0, 'max_all_diff_cut_size': 32}. Score: 132614.0\n",
      "Checking which parameter changes obtained by the hyperparameter optimization are essential...\n",
      "Evaluating resetting parameter 'preferred_variable_order' to default...\n",
      "Seems like we can drop parameter 'preferred_variable_order' from the optimized parameters.\n",
      "Evaluating resetting parameter 'binary_minimization_algorithm' to default...\n",
      "Seems like we can drop parameter 'binary_minimization_algorithm' from the optimized parameters.\n",
      "Evaluating resetting parameter 'clause_cleanup_protection' to default...\n",
      "The parameter 'clause_cleanup_protection' seems to be essential for the performance.\n",
      "Evaluating resetting parameter 'cp_model_probing_level' to default...\n",
      "The parameter 'cp_model_probing_level' seems to be essential for the performance.\n",
      "Evaluating resetting parameter 'presolve_probing_deterministic_time_limit' to default...\n",
      "Seems like we can drop parameter 'presolve_probing_deterministic_time_limit' from the optimized parameters.\n",
      "Evaluating resetting parameter 'ignore_subsolvers' to default...\n",
      "The parameter 'ignore_subsolvers' seems to be essential for the performance.\n",
      "Evaluating resetting parameter 'search_branching' to default...\n",
      "The parameter 'search_branching' seems to be essential for the performance.\n",
      "Evaluating resetting parameter 'repair_hint' to default...\n",
      "The parameter 'repair_hint' seems to be essential for the performance.\n",
      "Evaluating resetting parameter 'use_lb_relax_lns' to default...\n",
      "The parameter 'use_lb_relax_lns' seems to be essential for the performance.\n",
      "Evaluating resetting parameter 'use_objective_lb_search' to default...\n",
      "The parameter 'use_objective_lb_search' seems to be essential for the performance.\n",
      "Evaluating resetting parameter 'optimize_with_core' to default...\n",
      "The parameter 'optimize_with_core' seems to be essential for the performance.\n",
      "Evaluating resetting parameter 'feasibility_jump_linearization_level' to default...\n",
      "The parameter 'feasibility_jump_linearization_level' seems to be essential for the performance.\n",
      "Evaluating resetting parameter 'fp_rounding' to default...\n",
      "Seems like we can drop parameter 'fp_rounding' from the optimized parameters.\n",
      "Evaluating resetting parameter 'polish_lp_solution' to default...\n",
      "The parameter 'polish_lp_solution' seems to be essential for the performance.\n",
      "Evaluating resetting parameter 'linearization_level' to default...\n",
      "Seems like we can drop parameter 'linearization_level' from the optimized parameters.\n",
      "Evaluating resetting parameter 'max_all_diff_cut_size' to default...\n",
      "The parameter 'max_all_diff_cut_size' seems to be essential for the performance.\n",
      "optimized_score MultiResult(scores=[132805.0, 132354.0, 131484.0, 128574.0, 131013.0, 132414.0, 128112.0, 132075.0, 130970.0, 132805.0], params={'clause_cleanup_protection': 1, 'cp_model_probing_level': 1, 'ignore_subsolvers': ['default_lp', 'no_lp', 'reduced_costs', 'quick_restart'], 'search_branching': 5, 'repair_hint': True, 'use_lb_relax_lns': True, 'use_objective_lb_search': True, 'optimize_with_core': True, 'feasibility_jump_linearization_level': 1, 'polish_lp_solution': True, 'max_all_diff_cut_size': 32})\n"
     ]
    },
    {
     "data": {
      "text/html": [
       "<pre style=\"white-space:pre;overflow-x:auto;line-height:normal;font-family:Menlo,'DejaVu Sans Mono',consolas,'Courier New',monospace\"><span style=\"color: #00ff00; text-decoration-color: #00ff00\">────────────────────────────────────────────── </span>OPTIMIZED PARAMETERS<span style=\"color: #00ff00; text-decoration-color: #00ff00\"> ───────────────────────────────────────────────</span>\n",
       "</pre>\n"
      ],
      "text/plain": [
       "\u001b[92m────────────────────────────────────────────── \u001b[0mOPTIMIZED PARAMETERS\u001b[92m ───────────────────────────────────────────────\u001b[0m\n"
      ]
     },
     "metadata": {},
     "output_type": "display_data"
    },
    {
     "data": {
      "text/html": [
       "<pre style=\"white-space:pre;overflow-x:auto;line-height:normal;font-family:Menlo,'DejaVu Sans Mono',consolas,'Courier New',monospace\">┏━━━━━┳━━━━━━━━━━━━━━━━━━━━━━━━━━━━━━━━━━━━━━┳━━━━━━━━━━━━━━━━━━━━━━━━━━━━━━━━━━━━━┳━━━━━━━━━━━━━━┳━━━━━━━━━━━━━━━┓\n",
       "┃<span style=\"color: #800080; text-decoration-color: #800080; font-weight: bold\"> #   </span>┃<span style=\"color: #800080; text-decoration-color: #800080; font-weight: bold\"> Parameter                            </span>┃<span style=\"color: #800080; text-decoration-color: #800080; font-weight: bold\">                Value                </span>┃<span style=\"color: #800080; text-decoration-color: #800080; font-weight: bold\"> Contribution </span>┃<span style=\"color: #800080; text-decoration-color: #800080; font-weight: bold\"> Default Value </span>┃\n",
       "┡━━━━━╇━━━━━━━━━━━━━━━━━━━━━━━━━━━━━━━━━━━━━━╇━━━━━━━━━━━━━━━━━━━━━━━━━━━━━━━━━━━━━╇━━━━━━━━━━━━━━╇━━━━━━━━━━━━━━━┩\n",
       "│<span style=\"color: #7f7f7f; text-decoration-color: #7f7f7f\"> 1   </span>│<span style=\"font-weight: bold\"> clause_cleanup_protection            </span>│                  1                  │    6.24%     │       0       │\n",
       "│<span style=\"color: #7f7f7f; text-decoration-color: #7f7f7f\"> 2   </span>│<span style=\"font-weight: bold\"> cp_model_probing_level               </span>│                  1                  │    12.15%    │       2       │\n",
       "│<span style=\"color: #7f7f7f; text-decoration-color: #7f7f7f\"> 3   </span>│<span style=\"font-weight: bold\"> ignore_subsolvers                    </span>│       ['default_lp', 'no_lp',       │    15.00%    │      ()       │\n",
       "│<span style=\"color: #7f7f7f; text-decoration-color: #7f7f7f\">     </span>│<span style=\"font-weight: bold\">                                      </span>│  'reduced_costs', 'quick_restart']  │              │               │\n",
       "│<span style=\"color: #7f7f7f; text-decoration-color: #7f7f7f\"> 4   </span>│<span style=\"font-weight: bold\"> search_branching                     </span>│                  5                  │    6.62%     │       0       │\n",
       "│<span style=\"color: #7f7f7f; text-decoration-color: #7f7f7f\"> 5   </span>│<span style=\"font-weight: bold\"> repair_hint                          </span>│                True                 │    14.92%    │     False     │\n",
       "│<span style=\"color: #7f7f7f; text-decoration-color: #7f7f7f\"> 6   </span>│<span style=\"font-weight: bold\"> use_lb_relax_lns                     </span>│                True                 │    5.21%     │     False     │\n",
       "│<span style=\"color: #7f7f7f; text-decoration-color: #7f7f7f\"> 7   </span>│<span style=\"font-weight: bold\"> use_objective_lb_search              </span>│                True                 │    6.61%     │     False     │\n",
       "│<span style=\"color: #7f7f7f; text-decoration-color: #7f7f7f\"> 8   </span>│<span style=\"font-weight: bold\"> optimize_with_core                   </span>│                True                 │    6.87%     │     False     │\n",
       "│<span style=\"color: #7f7f7f; text-decoration-color: #7f7f7f\"> 9   </span>│<span style=\"font-weight: bold\"> feasibility_jump_linearization_level </span>│                  1                  │    10.53%    │       2       │\n",
       "│<span style=\"color: #7f7f7f; text-decoration-color: #7f7f7f\"> 10  </span>│<span style=\"font-weight: bold\"> polish_lp_solution                   </span>│                True                 │    6.93%     │     False     │\n",
       "│<span style=\"color: #7f7f7f; text-decoration-color: #7f7f7f\"> 11  </span>│<span style=\"font-weight: bold\"> max_all_diff_cut_size                </span>│                 32                  │    8.90%     │      64       │\n",
       "└─────┴──────────────────────────────────────┴─────────────────────────────────────┴──────────────┴───────────────┘\n",
       "</pre>\n"
      ],
      "text/plain": [
       "┏━━━━━┳━━━━━━━━━━━━━━━━━━━━━━━━━━━━━━━━━━━━━━┳━━━━━━━━━━━━━━━━━━━━━━━━━━━━━━━━━━━━━┳━━━━━━━━━━━━━━┳━━━━━━━━━━━━━━━┓\n",
       "┃\u001b[1;35m \u001b[0m\u001b[1;35m#  \u001b[0m\u001b[1;35m \u001b[0m┃\u001b[1;35m \u001b[0m\u001b[1;35mParameter                           \u001b[0m\u001b[1;35m \u001b[0m┃\u001b[1;35m \u001b[0m\u001b[1;35m               Value               \u001b[0m\u001b[1;35m \u001b[0m┃\u001b[1;35m \u001b[0m\u001b[1;35mContribution\u001b[0m\u001b[1;35m \u001b[0m┃\u001b[1;35m \u001b[0m\u001b[1;35mDefault Value\u001b[0m\u001b[1;35m \u001b[0m┃\n",
       "┡━━━━━╇━━━━━━━━━━━━━━━━━━━━━━━━━━━━━━━━━━━━━━╇━━━━━━━━━━━━━━━━━━━━━━━━━━━━━━━━━━━━━╇━━━━━━━━━━━━━━╇━━━━━━━━━━━━━━━┩\n",
       "│\u001b[2m \u001b[0m\u001b[2m1  \u001b[0m\u001b[2m \u001b[0m│\u001b[1m \u001b[0m\u001b[1mclause_cleanup_protection           \u001b[0m\u001b[1m \u001b[0m│                  1                  │    6.24%     │       0       │\n",
       "│\u001b[2m \u001b[0m\u001b[2m2  \u001b[0m\u001b[2m \u001b[0m│\u001b[1m \u001b[0m\u001b[1mcp_model_probing_level              \u001b[0m\u001b[1m \u001b[0m│                  1                  │    12.15%    │       2       │\n",
       "│\u001b[2m \u001b[0m\u001b[2m3  \u001b[0m\u001b[2m \u001b[0m│\u001b[1m \u001b[0m\u001b[1mignore_subsolvers                   \u001b[0m\u001b[1m \u001b[0m│       ['default_lp', 'no_lp',       │    15.00%    │      ()       │\n",
       "│\u001b[2m     \u001b[0m│\u001b[1m                                      \u001b[0m│  'reduced_costs', 'quick_restart']  │              │               │\n",
       "│\u001b[2m \u001b[0m\u001b[2m4  \u001b[0m\u001b[2m \u001b[0m│\u001b[1m \u001b[0m\u001b[1msearch_branching                    \u001b[0m\u001b[1m \u001b[0m│                  5                  │    6.62%     │       0       │\n",
       "│\u001b[2m \u001b[0m\u001b[2m5  \u001b[0m\u001b[2m \u001b[0m│\u001b[1m \u001b[0m\u001b[1mrepair_hint                         \u001b[0m\u001b[1m \u001b[0m│                True                 │    14.92%    │     False     │\n",
       "│\u001b[2m \u001b[0m\u001b[2m6  \u001b[0m\u001b[2m \u001b[0m│\u001b[1m \u001b[0m\u001b[1muse_lb_relax_lns                    \u001b[0m\u001b[1m \u001b[0m│                True                 │    5.21%     │     False     │\n",
       "│\u001b[2m \u001b[0m\u001b[2m7  \u001b[0m\u001b[2m \u001b[0m│\u001b[1m \u001b[0m\u001b[1muse_objective_lb_search             \u001b[0m\u001b[1m \u001b[0m│                True                 │    6.61%     │     False     │\n",
       "│\u001b[2m \u001b[0m\u001b[2m8  \u001b[0m\u001b[2m \u001b[0m│\u001b[1m \u001b[0m\u001b[1moptimize_with_core                  \u001b[0m\u001b[1m \u001b[0m│                True                 │    6.87%     │     False     │\n",
       "│\u001b[2m \u001b[0m\u001b[2m9  \u001b[0m\u001b[2m \u001b[0m│\u001b[1m \u001b[0m\u001b[1mfeasibility_jump_linearization_level\u001b[0m\u001b[1m \u001b[0m│                  1                  │    10.53%    │       2       │\n",
       "│\u001b[2m \u001b[0m\u001b[2m10 \u001b[0m\u001b[2m \u001b[0m│\u001b[1m \u001b[0m\u001b[1mpolish_lp_solution                  \u001b[0m\u001b[1m \u001b[0m│                True                 │    6.93%     │     False     │\n",
       "│\u001b[2m \u001b[0m\u001b[2m11 \u001b[0m\u001b[2m \u001b[0m│\u001b[1m \u001b[0m\u001b[1mmax_all_diff_cut_size               \u001b[0m\u001b[1m \u001b[0m│                 32                  │    8.90%     │      64       │\n",
       "└─────┴──────────────────────────────────────┴─────────────────────────────────────┴──────────────┴───────────────┘\n"
      ]
     },
     "metadata": {},
     "output_type": "display_data"
    },
    {
     "data": {
      "text/html": [
       "<pre style=\"white-space:pre;overflow-x:auto;line-height:normal;font-family:Menlo,'DejaVu Sans Mono',consolas,'Courier New',monospace\"><span style=\"color: #00ff00; text-decoration-color: #00ff00\">────────────────────────────────────────────────── </span>Descriptions<span style=\"color: #00ff00; text-decoration-color: #00ff00\"> ───────────────────────────────────────────────────</span>\n",
       "</pre>\n"
      ],
      "text/plain": [
       "\u001b[92m────────────────────────────────────────────────── \u001b[0mDescriptions\u001b[92m ───────────────────────────────────────────────────\u001b[0m\n"
      ]
     },
     "metadata": {},
     "output_type": "display_data"
    },
    {
     "data": {
      "text/html": [
       "<pre style=\"white-space:pre;overflow-x:auto;line-height:normal;font-family:Menlo,'DejaVu Sans Mono',consolas,'Courier New',monospace\"><span style=\"font-weight: bold\">1. clause_cleanup_protection</span> Specifies the level of protection against clause cleanup. The options are:            \n",
       "\n",
       "<span style=\"color: #808000; text-decoration-color: #808000; font-weight: bold\"> • </span><span style=\"color: #008080; text-decoration-color: #008080; background-color: #000000; font-weight: bold\">0</span> PROTECTION_NONE                                                                                               \n",
       "<span style=\"color: #808000; text-decoration-color: #808000; font-weight: bold\"> • </span><span style=\"color: #008080; text-decoration-color: #008080; background-color: #000000; font-weight: bold\">1</span> PROTECTION_ALWAYS                                                                                             \n",
       "<span style=\"color: #808000; text-decoration-color: #808000; font-weight: bold\"> • </span><span style=\"color: #008080; text-decoration-color: #008080; background-color: #000000; font-weight: bold\">2</span> PROTECTION_LBD                                                                                                \n",
       "\n",
       "<span style=\"font-weight: bold\">2. cp_model_probing_level</span> Defines the intensity of probing during presolve, where variables are temporarily fixed  \n",
       "to infer more information about the problem. Higher levels of probing can result in a more simplified problem but  \n",
       "require more computation time during presolve.                                                                     \n",
       "\n",
       "<span style=\"font-weight: bold\">3. ignore_subsolvers</span> Specifies a list of subsolvers to exclude from use during the search. Removing certain        \n",
       "subsolvers can free up resources and potentially speed up the search. However, excluding subsolvers can be risky as\n",
       "it might eliminate strategies that are useful for solving difficult instances.                                     \n",
       "\n",
       "From the OR-Tools documentation:                                                                                   \n",
       "\n",
       "<span style=\"color: #808000; text-decoration-color: #808000; font-weight: bold\"> • </span><span style=\"color: #008080; text-decoration-color: #008080; background-color: #000000; font-weight: bold\">default_lp</span>           (linearization_level:1)                                                                    \n",
       "<span style=\"color: #808000; text-decoration-color: #808000; font-weight: bold\"> • </span><span style=\"color: #008080; text-decoration-color: #008080; background-color: #000000; font-weight: bold\">fixed</span>                (only if fixed search specified or scheduling)                                             \n",
       "<span style=\"color: #808000; text-decoration-color: #808000; font-weight: bold\"> • </span><span style=\"color: #008080; text-decoration-color: #008080; background-color: #000000; font-weight: bold\">no_lp</span>                (linearization_level:0)                                                                    \n",
       "<span style=\"color: #808000; text-decoration-color: #808000; font-weight: bold\"> • </span><span style=\"color: #008080; text-decoration-color: #008080; background-color: #000000; font-weight: bold\">max_lp</span>               (linearization_level:2)                                                                    \n",
       "<span style=\"color: #808000; text-decoration-color: #808000; font-weight: bold\"> • </span><span style=\"color: #008080; text-decoration-color: #008080; background-color: #000000; font-weight: bold\">pseudo_costs</span>         (only if objective, change search heuristic)                                               \n",
       "<span style=\"color: #808000; text-decoration-color: #808000; font-weight: bold\"> • </span><span style=\"color: #008080; text-decoration-color: #008080; background-color: #000000; font-weight: bold\">reduced_costs</span>        (only if objective, change search heuristic)                                               \n",
       "<span style=\"color: #808000; text-decoration-color: #808000; font-weight: bold\"> • </span><span style=\"color: #008080; text-decoration-color: #008080; background-color: #000000; font-weight: bold\">quick_restart</span>        (kind of probing)                                                                          \n",
       "<span style=\"color: #808000; text-decoration-color: #808000; font-weight: bold\"> • </span><span style=\"color: #008080; text-decoration-color: #008080; background-color: #000000; font-weight: bold\">quick_restart_no_lp</span>  (kind of probing with linearization_level:0)                                               \n",
       "<span style=\"color: #808000; text-decoration-color: #808000; font-weight: bold\"> • </span><span style=\"color: #008080; text-decoration-color: #008080; background-color: #000000; font-weight: bold\">lb_tree_search</span>       (to improve lower bound, MIP like tree search)                                             \n",
       "<span style=\"color: #808000; text-decoration-color: #808000; font-weight: bold\"> • </span><span style=\"color: #008080; text-decoration-color: #008080; background-color: #000000; font-weight: bold\">probing</span>              (continuous probing and shaving)                                                           \n",
       "\n",
       "<span style=\"font-weight: bold\">4. search_branching</span> Defines the branching strategy the solver uses to navigate the search tree. The options are:   \n",
       "\n",
       "<span style=\"color: #808000; text-decoration-color: #808000; font-weight: bold\"> • </span><span style=\"color: #008080; text-decoration-color: #008080; background-color: #000000; font-weight: bold\">0</span> (AUTOMATIC_SEARCH): The solver automatically selects the most appropriate strategy.                           \n",
       "<span style=\"color: #808000; text-decoration-color: #808000; font-weight: bold\"> • </span><span style=\"color: #008080; text-decoration-color: #008080; background-color: #000000; font-weight: bold\">1</span> (FIXED_SEARCH): Follows a fixed variable order, as specified by the user or the problem model.                \n",
       "<span style=\"color: #808000; text-decoration-color: #808000; font-weight: bold\"> • </span><span style=\"color: #008080; text-decoration-color: #008080; background-color: #000000; font-weight: bold\">2</span> (PORTFOLIO_SEARCH): Uses a combination of multiple strategies to explore the search space.                    \n",
       "<span style=\"color: #808000; text-decoration-color: #808000; font-weight: bold\"> • </span><span style=\"color: #008080; text-decoration-color: #008080; background-color: #000000; font-weight: bold\">3</span> (LP_SEARCH): Branches based on the LP relaxation of the problem, leveraging the reduced costs of variables.   \n",
       "<span style=\"color: #808000; text-decoration-color: #808000; font-weight: bold\"> • </span><span style=\"color: #008080; text-decoration-color: #008080; background-color: #000000; font-weight: bold\">4</span> (PSEUDO_COST_SEARCH): Branches using pseudo-costs, which are estimates of the impact of branching decisions   \n",
       "<span style=\"color: #808000; text-decoration-color: #808000; font-weight: bold\">   </span>based on past experiences.                                                                                      \n",
       "<span style=\"color: #808000; text-decoration-color: #808000; font-weight: bold\"> • </span><span style=\"color: #008080; text-decoration-color: #008080; background-color: #000000; font-weight: bold\">5</span> (PORTFOLIO_WITH_QUICK_RESTART_SEARCH): Quickly explores different heuristics with low conflict limits, aiming \n",
       "<span style=\"color: #808000; text-decoration-color: #808000; font-weight: bold\">   </span>to find a good initial solution.                                                                                \n",
       "<span style=\"color: #808000; text-decoration-color: #808000; font-weight: bold\"> • </span><span style=\"color: #008080; text-decoration-color: #008080; background-color: #000000; font-weight: bold\">6</span> (HINT_SEARCH): Prioritizes decisions based on hints provided by the user or the problem model.                \n",
       "<span style=\"color: #808000; text-decoration-color: #808000; font-weight: bold\"> • </span><span style=\"color: #008080; text-decoration-color: #008080; background-color: #000000; font-weight: bold\">7</span> (PARTIAL_FIXED_SEARCH): Begins with a fixed strategy, then switches to automatic search for the remaining     \n",
       "<span style=\"color: #808000; text-decoration-color: #808000; font-weight: bold\">   </span>decisions.                                                                                                      \n",
       "<span style=\"color: #808000; text-decoration-color: #808000; font-weight: bold\"> • </span><span style=\"color: #008080; text-decoration-color: #008080; background-color: #000000; font-weight: bold\">8</span> (RANDOMIZED_SEARCH): Introduces randomization into branching decisions to diversify the search.               \n",
       "\n",
       "<span style=\"font-weight: bold\">5. repair_hint</span> Enables the solver to attempt to repair a solution based on a provided hint before switching to a   \n",
       "general search strategy. This can be useful when a good initial guess is available, helping the solver find a      \n",
       "feasible solution more quickly.                                                                                    \n",
       "\n",
       "<span style=\"font-weight: bold\">6. use_lb_relax_lns</span> Activates a neighborhood generation approach based on local branching combined with linear     \n",
       "programming (LP) relaxation, as described in \"Local Branching Relaxation Heuristics for Integer Linear Programs\"   \n",
       "(Huang et al., 2023). This method can help the solver explore the solution space more effectively by focusing on   \n",
       "promising regions.                                                                                                 \n",
       "\n",
       "<span style=\"font-weight: bold\">7. use_objective_lb_search</span> Guides the solver to start its search by focusing on improving the lower bound of the   \n",
       "objective value. This approach can help direct the solver toward the most promising regions of the solution space, \n",
       "especially when minimizing the objective.                                                                          \n",
       "\n",
       "<span style=\"font-weight: bold\">8. optimize_with_core</span> Use a core-based approach when trying to improve the bound.                                  \n",
       "\n",
       "<span style=\"font-weight: bold\">9. feasibility_jump_linearization_level</span> Linearization level for feasibility jump.                                  \n",
       "\n",
       "<span style=\"font-weight: bold\">10. polish_lp_solution</span> Activates a polishing step that refines the solution found by the LP solver. Expensive but  \n",
       "can help for some problems.                                                                                        \n",
       "\n",
       "<span style=\"font-weight: bold\">11. max_all_diff_cut_size</span> Limits the size of \"all different\" constraints used when generating cuts. All-different  \n",
       "constraints ensure that a set of variables takes distinct values. This parameter controls the balance between      \n",
       "reducing the search space and the computational cost of generating cuts.                                           \n",
       "</pre>\n"
      ],
      "text/plain": [
       "\u001b[1m1. clause_cleanup_protection\u001b[0m Specifies the level of protection against clause cleanup. The options are:            \n",
       "\n",
       "\u001b[1;33m • \u001b[0m\u001b[1;36;40m0\u001b[0m PROTECTION_NONE                                                                                               \n",
       "\u001b[1;33m • \u001b[0m\u001b[1;36;40m1\u001b[0m PROTECTION_ALWAYS                                                                                             \n",
       "\u001b[1;33m • \u001b[0m\u001b[1;36;40m2\u001b[0m PROTECTION_LBD                                                                                                \n",
       "\n",
       "\u001b[1m2. cp_model_probing_level\u001b[0m Defines the intensity of probing during presolve, where variables are temporarily fixed  \n",
       "to infer more information about the problem. Higher levels of probing can result in a more simplified problem but  \n",
       "require more computation time during presolve.                                                                     \n",
       "\n",
       "\u001b[1m3. ignore_subsolvers\u001b[0m Specifies a list of subsolvers to exclude from use during the search. Removing certain        \n",
       "subsolvers can free up resources and potentially speed up the search. However, excluding subsolvers can be risky as\n",
       "it might eliminate strategies that are useful for solving difficult instances.                                     \n",
       "\n",
       "From the OR-Tools documentation:                                                                                   \n",
       "\n",
       "\u001b[1;33m • \u001b[0m\u001b[1;36;40mdefault_lp\u001b[0m           (linearization_level:1)                                                                    \n",
       "\u001b[1;33m • \u001b[0m\u001b[1;36;40mfixed\u001b[0m                (only if fixed search specified or scheduling)                                             \n",
       "\u001b[1;33m • \u001b[0m\u001b[1;36;40mno_lp\u001b[0m                (linearization_level:0)                                                                    \n",
       "\u001b[1;33m • \u001b[0m\u001b[1;36;40mmax_lp\u001b[0m               (linearization_level:2)                                                                    \n",
       "\u001b[1;33m • \u001b[0m\u001b[1;36;40mpseudo_costs\u001b[0m         (only if objective, change search heuristic)                                               \n",
       "\u001b[1;33m • \u001b[0m\u001b[1;36;40mreduced_costs\u001b[0m        (only if objective, change search heuristic)                                               \n",
       "\u001b[1;33m • \u001b[0m\u001b[1;36;40mquick_restart\u001b[0m        (kind of probing)                                                                          \n",
       "\u001b[1;33m • \u001b[0m\u001b[1;36;40mquick_restart_no_lp\u001b[0m  (kind of probing with linearization_level:0)                                               \n",
       "\u001b[1;33m • \u001b[0m\u001b[1;36;40mlb_tree_search\u001b[0m       (to improve lower bound, MIP like tree search)                                             \n",
       "\u001b[1;33m • \u001b[0m\u001b[1;36;40mprobing\u001b[0m              (continuous probing and shaving)                                                           \n",
       "\n",
       "\u001b[1m4. search_branching\u001b[0m Defines the branching strategy the solver uses to navigate the search tree. The options are:   \n",
       "\n",
       "\u001b[1;33m • \u001b[0m\u001b[1;36;40m0\u001b[0m (AUTOMATIC_SEARCH): The solver automatically selects the most appropriate strategy.                           \n",
       "\u001b[1;33m • \u001b[0m\u001b[1;36;40m1\u001b[0m (FIXED_SEARCH): Follows a fixed variable order, as specified by the user or the problem model.                \n",
       "\u001b[1;33m • \u001b[0m\u001b[1;36;40m2\u001b[0m (PORTFOLIO_SEARCH): Uses a combination of multiple strategies to explore the search space.                    \n",
       "\u001b[1;33m • \u001b[0m\u001b[1;36;40m3\u001b[0m (LP_SEARCH): Branches based on the LP relaxation of the problem, leveraging the reduced costs of variables.   \n",
       "\u001b[1;33m • \u001b[0m\u001b[1;36;40m4\u001b[0m (PSEUDO_COST_SEARCH): Branches using pseudo-costs, which are estimates of the impact of branching decisions   \n",
       "\u001b[1;33m   \u001b[0mbased on past experiences.                                                                                      \n",
       "\u001b[1;33m • \u001b[0m\u001b[1;36;40m5\u001b[0m (PORTFOLIO_WITH_QUICK_RESTART_SEARCH): Quickly explores different heuristics with low conflict limits, aiming \n",
       "\u001b[1;33m   \u001b[0mto find a good initial solution.                                                                                \n",
       "\u001b[1;33m • \u001b[0m\u001b[1;36;40m6\u001b[0m (HINT_SEARCH): Prioritizes decisions based on hints provided by the user or the problem model.                \n",
       "\u001b[1;33m • \u001b[0m\u001b[1;36;40m7\u001b[0m (PARTIAL_FIXED_SEARCH): Begins with a fixed strategy, then switches to automatic search for the remaining     \n",
       "\u001b[1;33m   \u001b[0mdecisions.                                                                                                      \n",
       "\u001b[1;33m • \u001b[0m\u001b[1;36;40m8\u001b[0m (RANDOMIZED_SEARCH): Introduces randomization into branching decisions to diversify the search.               \n",
       "\n",
       "\u001b[1m5. repair_hint\u001b[0m Enables the solver to attempt to repair a solution based on a provided hint before switching to a   \n",
       "general search strategy. This can be useful when a good initial guess is available, helping the solver find a      \n",
       "feasible solution more quickly.                                                                                    \n",
       "\n",
       "\u001b[1m6. use_lb_relax_lns\u001b[0m Activates a neighborhood generation approach based on local branching combined with linear     \n",
       "programming (LP) relaxation, as described in \"Local Branching Relaxation Heuristics for Integer Linear Programs\"   \n",
       "(Huang et al., 2023). This method can help the solver explore the solution space more effectively by focusing on   \n",
       "promising regions.                                                                                                 \n",
       "\n",
       "\u001b[1m7. use_objective_lb_search\u001b[0m Guides the solver to start its search by focusing on improving the lower bound of the   \n",
       "objective value. This approach can help direct the solver toward the most promising regions of the solution space, \n",
       "especially when minimizing the objective.                                                                          \n",
       "\n",
       "\u001b[1m8. optimize_with_core\u001b[0m Use a core-based approach when trying to improve the bound.                                  \n",
       "\n",
       "\u001b[1m9. feasibility_jump_linearization_level\u001b[0m Linearization level for feasibility jump.                                  \n",
       "\n",
       "\u001b[1m10. polish_lp_solution\u001b[0m Activates a polishing step that refines the solution found by the LP solver. Expensive but  \n",
       "can help for some problems.                                                                                        \n",
       "\n",
       "\u001b[1m11. max_all_diff_cut_size\u001b[0m Limits the size of \"all different\" constraints used when generating cuts. All-different  \n",
       "constraints ensure that a set of variables takes distinct values. This parameter controls the balance between      \n",
       "reducing the search space and the computational cost of generating cuts.                                           \n"
      ]
     },
     "metadata": {},
     "output_type": "display_data"
    },
    {
     "data": {
      "text/html": [
       "<pre style=\"white-space:pre;overflow-x:auto;line-height:normal;font-family:Menlo,'DejaVu Sans Mono',consolas,'Courier New',monospace\"><span style=\"color: #00ff00; text-decoration-color: #00ff00\">───────────────────────────────────────────────────────────────────────────────────────────────────────────────────</span>\n",
       "</pre>\n"
      ],
      "text/plain": [
       "\u001b[92m───────────────────────────────────────────────────────────────────────────────────────────────────────────────────\u001b[0m\n"
      ]
     },
     "metadata": {},
     "output_type": "display_data"
    },
    {
     "data": {
      "text/html": [
       "<pre style=\"white-space:pre;overflow-x:auto;line-height:normal;font-family:Menlo,'DejaVu Sans Mono',consolas,'Courier New',monospace\">┏━━━━━━━━━━━━━━━━━━━━━━━━┳━━━━━━━━━━┳━━━━━━━━━━┳━━━━━━━━━━┳━━━━━━━━━━┓\n",
       "┃<span style=\"color: #008000; text-decoration-color: #008000; font-weight: bold\"> Metric                 </span>┃<span style=\"color: #008000; text-decoration-color: #008000; font-weight: bold\">     Mean </span>┃<span style=\"color: #008000; text-decoration-color: #008000; font-weight: bold\">      Min </span>┃<span style=\"color: #008000; text-decoration-color: #008000; font-weight: bold\">      Max </span>┃<span style=\"color: #008000; text-decoration-color: #008000; font-weight: bold\"> #Samples </span>┃\n",
       "┡━━━━━━━━━━━━━━━━━━━━━━━━╇━━━━━━━━━━╇━━━━━━━━━━╇━━━━━━━━━━╇━━━━━━━━━━┩\n",
       "│<span style=\"color: #008000; text-decoration-color: #008000; font-weight: bold\"> Default Metric Value   </span>│ 131935.0 │ 130872.0 │ 132805.0 │       10 │\n",
       "│<span style=\"color: #008000; text-decoration-color: #008000; font-weight: bold\"> Optimized Metric Value </span>│ 131260.6 │ 128112.0 │ 132805.0 │       10 │\n",
       "└────────────────────────┴──────────┴──────────┴──────────┴──────────┘\n",
       "</pre>\n"
      ],
      "text/plain": [
       "┏━━━━━━━━━━━━━━━━━━━━━━━━┳━━━━━━━━━━┳━━━━━━━━━━┳━━━━━━━━━━┳━━━━━━━━━━┓\n",
       "┃\u001b[1;32m \u001b[0m\u001b[1;32mMetric                \u001b[0m\u001b[1;32m \u001b[0m┃\u001b[1;32m \u001b[0m\u001b[1;32m    Mean\u001b[0m\u001b[1;32m \u001b[0m┃\u001b[1;32m \u001b[0m\u001b[1;32m     Min\u001b[0m\u001b[1;32m \u001b[0m┃\u001b[1;32m \u001b[0m\u001b[1;32m     Max\u001b[0m\u001b[1;32m \u001b[0m┃\u001b[1;32m \u001b[0m\u001b[1;32m#Samples\u001b[0m\u001b[1;32m \u001b[0m┃\n",
       "┡━━━━━━━━━━━━━━━━━━━━━━━━╇━━━━━━━━━━╇━━━━━━━━━━╇━━━━━━━━━━╇━━━━━━━━━━┩\n",
       "│\u001b[1;32m \u001b[0m\u001b[1;32mDefault Metric Value  \u001b[0m\u001b[1;32m \u001b[0m│ 131935.0 │ 130872.0 │ 132805.0 │       10 │\n",
       "│\u001b[1;32m \u001b[0m\u001b[1;32mOptimized Metric Value\u001b[0m\u001b[1;32m \u001b[0m│ 131260.6 │ 128112.0 │ 132805.0 │       10 │\n",
       "└────────────────────────┴──────────┴──────────┴──────────┴──────────┘\n"
      ]
     },
     "metadata": {},
     "output_type": "display_data"
    },
    {
     "data": {
      "text/html": [
       "<pre style=\"white-space:pre;overflow-x:auto;line-height:normal;font-family:Menlo,'DejaVu Sans Mono',consolas,'Courier New',monospace\"><span style=\"color: #00ff00; text-decoration-color: #00ff00\">───────────────────────────────────────────────────────────────────────────────────────────────────────────────────</span>\n",
       "</pre>\n"
      ],
      "text/plain": [
       "\u001b[92m───────────────────────────────────────────────────────────────────────────────────────────────────────────────────\u001b[0m\n"
      ]
     },
     "metadata": {},
     "output_type": "display_data"
    },
    {
     "data": {
      "text/html": [
       "<pre style=\"white-space:pre;overflow-x:auto;line-height:normal;font-family:Menlo,'DejaVu Sans Mono',consolas,'Courier New',monospace\"><span style=\"color: #808000; text-decoration-color: #808000; font-weight: bold\">╭──────────────────────────────────────────────────── WARNING ────────────────────────────────────────────────────╮</span>\n",
       "<span style=\"color: #808000; text-decoration-color: #808000; font-weight: bold\">│ </span><span style=\"color: #808000; text-decoration-color: #808000; background-color: #272822; font-weight: bold\">                                                                                                               </span><span style=\"color: #808000; text-decoration-color: #808000; font-weight: bold\"> │</span>\n",
       "<span style=\"color: #808000; text-decoration-color: #808000; font-weight: bold\">│ </span><span style=\"color: #808000; text-decoration-color: #808000; background-color: #272822; font-weight: bold\"> </span><span style=\"color: #f8f8f2; text-decoration-color: #f8f8f2; background-color: #272822\">    The optimized parameters listed above were obtained based on a sampling approach </span><span style=\"color: #808000; text-decoration-color: #808000; background-color: #272822; font-weight: bold\">                         </span><span style=\"color: #808000; text-decoration-color: #808000; font-weight: bold\"> │</span>\n",
       "<span style=\"color: #808000; text-decoration-color: #808000; font-weight: bold\">│ </span><span style=\"color: #808000; text-decoration-color: #808000; background-color: #272822; font-weight: bold\"> </span><span style=\"color: #f8f8f2; text-decoration-color: #f8f8f2; background-color: #272822\">    and may not fully capture the complexities of the entire problem space. </span><span style=\"color: #808000; text-decoration-color: #808000; background-color: #272822; font-weight: bold\">                                  </span><span style=\"color: #808000; text-decoration-color: #808000; font-weight: bold\"> │</span>\n",
       "<span style=\"color: #808000; text-decoration-color: #808000; font-weight: bold\">│ </span><span style=\"color: #808000; text-decoration-color: #808000; background-color: #272822; font-weight: bold\"> </span><span style=\"color: #f8f8f2; text-decoration-color: #f8f8f2; background-color: #272822\">    While statistical reasoning has been applied, these results should be considered </span><span style=\"color: #808000; text-decoration-color: #808000; background-color: #272822; font-weight: bold\">                         </span><span style=\"color: #808000; text-decoration-color: #808000; font-weight: bold\"> │</span>\n",
       "<span style=\"color: #808000; text-decoration-color: #808000; font-weight: bold\">│ </span><span style=\"color: #808000; text-decoration-color: #808000; background-color: #272822; font-weight: bold\"> </span><span style=\"color: #f8f8f2; text-decoration-color: #f8f8f2; background-color: #272822\">    as a suggestion for further evaluation rather than definitive settings.</span><span style=\"color: #808000; text-decoration-color: #808000; background-color: #272822; font-weight: bold\">                                   </span><span style=\"color: #808000; text-decoration-color: #808000; font-weight: bold\"> │</span>\n",
       "<span style=\"color: #808000; text-decoration-color: #808000; font-weight: bold\">│ </span><span style=\"color: #808000; text-decoration-color: #808000; background-color: #272822; font-weight: bold\"> </span><span style=\"color: #f8f8f2; text-decoration-color: #f8f8f2; background-color: #272822\">    </span><span style=\"color: #808000; text-decoration-color: #808000; background-color: #272822; font-weight: bold\">                                                                                                          </span><span style=\"color: #808000; text-decoration-color: #808000; font-weight: bold\"> │</span>\n",
       "<span style=\"color: #808000; text-decoration-color: #808000; font-weight: bold\">│ </span><span style=\"color: #808000; text-decoration-color: #808000; background-color: #272822; font-weight: bold\"> </span><span style=\"color: #f8f8f2; text-decoration-color: #f8f8f2; background-color: #272822\">    It is strongly recommended to validate these parameters in larger, more comprehensive </span><span style=\"color: #808000; text-decoration-color: #808000; background-color: #272822; font-weight: bold\">                    </span><span style=\"color: #808000; text-decoration-color: #808000; font-weight: bold\"> │</span>\n",
       "<span style=\"color: #808000; text-decoration-color: #808000; font-weight: bold\">│ </span><span style=\"color: #808000; text-decoration-color: #808000; background-color: #272822; font-weight: bold\"> </span><span style=\"color: #f8f8f2; text-decoration-color: #f8f8f2; background-color: #272822\">    experiments before adopting them in critical applications.</span><span style=\"color: #808000; text-decoration-color: #808000; background-color: #272822; font-weight: bold\">                                                </span><span style=\"color: #808000; text-decoration-color: #808000; font-weight: bold\"> │</span>\n",
       "<span style=\"color: #808000; text-decoration-color: #808000; font-weight: bold\">│ </span><span style=\"color: #808000; text-decoration-color: #808000; background-color: #272822; font-weight: bold\">                                                                                                               </span><span style=\"color: #808000; text-decoration-color: #808000; font-weight: bold\"> │</span>\n",
       "<span style=\"color: #808000; text-decoration-color: #808000; font-weight: bold\">╰─────────────────────────────────────────────────────────────────────────────────────────────────────────────────╯</span>\n",
       "</pre>\n"
      ],
      "text/plain": [
       "\u001b[1;33m╭─\u001b[0m\u001b[1;33m───────────────────────────────────────────────────\u001b[0m\u001b[1;33m WARNING \u001b[0m\u001b[1;33m───────────────────────────────────────────────────\u001b[0m\u001b[1;33m─╮\u001b[0m\n",
       "\u001b[1;33m│\u001b[0m\u001b[1;33m \u001b[0m\u001b[1;33;48;2;39;40;34m                                                                                                               \u001b[0m\u001b[1;33m \u001b[0m\u001b[1;33m│\u001b[0m\n",
       "\u001b[1;33m│\u001b[0m\u001b[1;33m \u001b[0m\u001b[1;33;48;2;39;40;34m \u001b[0m\u001b[38;2;248;248;242;48;2;39;40;34m    The optimized parameters listed above were obtained based on a sampling approach \u001b[0m\u001b[1;33;48;2;39;40;34m                        \u001b[0m\u001b[1;33;48;2;39;40;34m \u001b[0m\u001b[1;33m \u001b[0m\u001b[1;33m│\u001b[0m\n",
       "\u001b[1;33m│\u001b[0m\u001b[1;33m \u001b[0m\u001b[1;33;48;2;39;40;34m \u001b[0m\u001b[38;2;248;248;242;48;2;39;40;34m    and may not fully capture the complexities of the entire problem space. \u001b[0m\u001b[1;33;48;2;39;40;34m                                 \u001b[0m\u001b[1;33;48;2;39;40;34m \u001b[0m\u001b[1;33m \u001b[0m\u001b[1;33m│\u001b[0m\n",
       "\u001b[1;33m│\u001b[0m\u001b[1;33m \u001b[0m\u001b[1;33;48;2;39;40;34m \u001b[0m\u001b[38;2;248;248;242;48;2;39;40;34m    While statistical reasoning has been applied, these results should be considered \u001b[0m\u001b[1;33;48;2;39;40;34m                        \u001b[0m\u001b[1;33;48;2;39;40;34m \u001b[0m\u001b[1;33m \u001b[0m\u001b[1;33m│\u001b[0m\n",
       "\u001b[1;33m│\u001b[0m\u001b[1;33m \u001b[0m\u001b[1;33;48;2;39;40;34m \u001b[0m\u001b[38;2;248;248;242;48;2;39;40;34m    as a suggestion for further evaluation rather than definitive settings.\u001b[0m\u001b[1;33;48;2;39;40;34m                                  \u001b[0m\u001b[1;33;48;2;39;40;34m \u001b[0m\u001b[1;33m \u001b[0m\u001b[1;33m│\u001b[0m\n",
       "\u001b[1;33m│\u001b[0m\u001b[1;33m \u001b[0m\u001b[1;33;48;2;39;40;34m \u001b[0m\u001b[38;2;248;248;242;48;2;39;40;34m    \u001b[0m\u001b[1;33;48;2;39;40;34m                                                                                                         \u001b[0m\u001b[1;33;48;2;39;40;34m \u001b[0m\u001b[1;33m \u001b[0m\u001b[1;33m│\u001b[0m\n",
       "\u001b[1;33m│\u001b[0m\u001b[1;33m \u001b[0m\u001b[1;33;48;2;39;40;34m \u001b[0m\u001b[38;2;248;248;242;48;2;39;40;34m    It is strongly recommended to validate these parameters in larger, more comprehensive \u001b[0m\u001b[1;33;48;2;39;40;34m                   \u001b[0m\u001b[1;33;48;2;39;40;34m \u001b[0m\u001b[1;33m \u001b[0m\u001b[1;33m│\u001b[0m\n",
       "\u001b[1;33m│\u001b[0m\u001b[1;33m \u001b[0m\u001b[1;33;48;2;39;40;34m \u001b[0m\u001b[38;2;248;248;242;48;2;39;40;34m    experiments before adopting them in critical applications.\u001b[0m\u001b[1;33;48;2;39;40;34m                                               \u001b[0m\u001b[1;33;48;2;39;40;34m \u001b[0m\u001b[1;33m \u001b[0m\u001b[1;33m│\u001b[0m\n",
       "\u001b[1;33m│\u001b[0m\u001b[1;33m \u001b[0m\u001b[1;33;48;2;39;40;34m                                                                                                               \u001b[0m\u001b[1;33m \u001b[0m\u001b[1;33m│\u001b[0m\n",
       "\u001b[1;33m╰─────────────────────────────────────────────────────────────────────────────────────────────────────────────────╯\u001b[0m\n"
      ]
     },
     "metadata": {},
     "output_type": "display_data"
    }
   ],
   "source": [
    "best = tune_for_quality_within_timelimit(\n",
    "    model,\n",
    "    max_time_in_seconds=0.5,\n",
    "    obj_for_timeout=0,\n",
    "    direction=\"maximize\",\n",
    "    n_samples_for_trial=5,  # Number of samples for each trial\n",
    "    n_samples_for_verification=20,  # Number of samples for each statistically relevant comparison.\n",
    "    n_trials=50,  # Number of trials to run with Optuna\n",
    ")"
   ]
  }
 ],
 "metadata": {
  "kernelspec": {
   "display_name": "mo312",
   "language": "python",
   "name": "python3"
  },
  "language_info": {
   "codemirror_mode": {
    "name": "ipython",
    "version": 3
   },
   "file_extension": ".py",
   "mimetype": "text/x-python",
   "name": "python",
   "nbconvert_exporter": "python",
   "pygments_lexer": "ipython3",
   "version": "3.12.2"
  }
 },
 "nbformat": 4,
 "nbformat_minor": 2
}
