{
 "cells": [
  {
   "cell_type": "code",
   "execution_count": 1,
   "metadata": {},
   "outputs": [],
   "source": [
    "from cpsat_autotune import (\n",
    "    tune_for_quality_within_timelimit,\n",
    "    import_model,\n",
    "    tune_time_to_optimal,\n",
    ")"
   ]
  },
  {
   "cell_type": "code",
   "execution_count": 2,
   "metadata": {},
   "outputs": [],
   "source": [
    "model = import_model(\"models/model_proto_-1368620059351071685.pb\")"
   ]
  },
  {
   "cell_type": "code",
   "execution_count": 3,
   "metadata": {},
   "outputs": [
    {
     "name": "stderr",
     "output_type": "stream",
     "text": [
      "[I 2024-08-16 16:56:38,791] A new study created in memory with name: no-name-022d6720-1c6c-4070-890f-a94b7c65b89d\n"
     ]
    },
    {
     "name": "stdout",
     "output_type": "stream",
     "text": [
      "Baseline: min=1.052479, mean=1.6358199, max=2.162578\n"
     ]
    },
    {
     "name": "stderr",
     "output_type": "stream",
     "text": [
      "[I 2024-08-16 16:56:47,983] Trial 0 finished with value: 1.8374789999999996 and parameters: {'preferred_variable_order': 0, 'use_erwa_heuristic': False, 'also_bump_variables_in_conflict_reasons': False, 'binary_minimization_algorithm': 1, 'clause_cleanup_protection': 0, 'presolve_bve_threshold': 1, 'max_presolve_iterations': 2, 'cp_model_probing_level': 2, 'presolve_probing_deterministic_time_limit': 4, 'encode_complex_linear_constraint_with_integer': False, 'ignore_subsolvers:default_lp': False, 'ignore_subsolvers:fixed': False, 'ignore_subsolvers:no_lp': False, 'ignore_subsolvers:max_lp': False, 'ignore_subsolvers:pseudo_costs': False, 'ignore_subsolvers:reduced_costs': False, 'ignore_subsolvers:quick_restart': False, 'ignore_subsolvers:quick_restart_no_lp': False, 'ignore_subsolvers:lb_tree_search': False, 'ignore_subsolvers:probing': False, 'search_branching': 0, 'repair_hint': False, 'use_lb_relax_lns': False, 'use_objective_lb_search': False, 'use_objective_shaving_search': False, 'optimize_with_core': False, 'feasibility_jump_linearization_level': 2, 'fp_rounding': 2, 'diversify_lns_params': False, 'polish_lp_solution': False, 'linearization_level': 1, 'add_objective_cut': False, 'cut_level': 1, 'max_all_diff_cut_size': 1, 'symmetry_level': 2}. Best is trial 0 with value: 1.8374789999999996.\n",
      "[I 2024-08-16 16:56:56,821] Trial 1 finished with value: 1.7668202000000002 and parameters: {'preferred_variable_order': 0, 'use_erwa_heuristic': True, 'also_bump_variables_in_conflict_reasons': True, 'binary_minimization_algorithm': 2, 'clause_cleanup_protection': 2, 'presolve_bve_threshold': 2, 'max_presolve_iterations': 0, 'cp_model_probing_level': 1, 'presolve_probing_deterministic_time_limit': 2, 'encode_complex_linear_constraint_with_integer': True, 'ignore_subsolvers:default_lp': False, 'ignore_subsolvers:fixed': False, 'ignore_subsolvers:no_lp': False, 'ignore_subsolvers:max_lp': False, 'ignore_subsolvers:pseudo_costs': False, 'ignore_subsolvers:reduced_costs': True, 'ignore_subsolvers:quick_restart': True, 'ignore_subsolvers:quick_restart_no_lp': True, 'ignore_subsolvers:lb_tree_search': False, 'ignore_subsolvers:probing': False, 'search_branching': 2, 'repair_hint': False, 'use_lb_relax_lns': False, 'use_objective_lb_search': False, 'use_objective_shaving_search': False, 'optimize_with_core': False, 'feasibility_jump_linearization_level': 1, 'fp_rounding': 1, 'diversify_lns_params': True, 'polish_lp_solution': True, 'linearization_level': 1, 'add_objective_cut': False, 'cut_level': 1, 'max_all_diff_cut_size': 0, 'symmetry_level': 0}. Best is trial 1 with value: 1.7668202000000002.\n",
      "[I 2024-08-16 16:56:59,852] Trial 2 finished with value: 30.0 and parameters: {'preferred_variable_order': 2, 'use_erwa_heuristic': True, 'also_bump_variables_in_conflict_reasons': False, 'binary_minimization_algorithm': 4, 'clause_cleanup_protection': 2, 'presolve_bve_threshold': 1, 'max_presolve_iterations': 0, 'cp_model_probing_level': 1, 'presolve_probing_deterministic_time_limit': 0, 'encode_complex_linear_constraint_with_integer': True, 'ignore_subsolvers:default_lp': False, 'ignore_subsolvers:fixed': False, 'ignore_subsolvers:no_lp': True, 'ignore_subsolvers:max_lp': False, 'ignore_subsolvers:pseudo_costs': True, 'ignore_subsolvers:reduced_costs': True, 'ignore_subsolvers:quick_restart': False, 'ignore_subsolvers:quick_restart_no_lp': True, 'ignore_subsolvers:lb_tree_search': False, 'ignore_subsolvers:probing': False, 'search_branching': 6, 'repair_hint': True, 'use_lb_relax_lns': True, 'use_objective_lb_search': True, 'use_objective_shaving_search': False, 'optimize_with_core': False, 'feasibility_jump_linearization_level': 0, 'fp_rounding': 2, 'diversify_lns_params': False, 'polish_lp_solution': True, 'linearization_level': 2, 'add_objective_cut': True, 'cut_level': 1, 'max_all_diff_cut_size': 2, 'symmetry_level': 0}. Best is trial 1 with value: 1.7668202000000002.\n"
     ]
    },
    {
     "name": "stdout",
     "output_type": "stream",
     "text": [
      "Returning knockout result\n"
     ]
    },
    {
     "name": "stderr",
     "output_type": "stream",
     "text": [
      "[I 2024-08-16 16:57:06,972] Trial 3 finished with value: 1.4230242 and parameters: {'preferred_variable_order': 1, 'use_erwa_heuristic': True, 'also_bump_variables_in_conflict_reasons': True, 'binary_minimization_algorithm': 2, 'clause_cleanup_protection': 2, 'presolve_bve_threshold': 1, 'max_presolve_iterations': 1, 'cp_model_probing_level': 0, 'presolve_probing_deterministic_time_limit': 3, 'encode_complex_linear_constraint_with_integer': False, 'ignore_subsolvers:default_lp': True, 'ignore_subsolvers:fixed': False, 'ignore_subsolvers:no_lp': False, 'ignore_subsolvers:max_lp': True, 'ignore_subsolvers:pseudo_costs': False, 'ignore_subsolvers:reduced_costs': True, 'ignore_subsolvers:quick_restart': True, 'ignore_subsolvers:quick_restart_no_lp': False, 'ignore_subsolvers:lb_tree_search': True, 'ignore_subsolvers:probing': False, 'search_branching': 2, 'repair_hint': True, 'use_lb_relax_lns': False, 'use_objective_lb_search': False, 'use_objective_shaving_search': False, 'optimize_with_core': False, 'feasibility_jump_linearization_level': 0, 'fp_rounding': 3, 'diversify_lns_params': False, 'polish_lp_solution': False, 'linearization_level': 1, 'add_objective_cut': True, 'cut_level': 0, 'max_all_diff_cut_size': 1, 'symmetry_level': 2}. Best is trial 3 with value: 1.4230242.\n",
      "[I 2024-08-16 16:57:09,991] Trial 4 finished with value: 30.0 and parameters: {'preferred_variable_order': 1, 'use_erwa_heuristic': False, 'also_bump_variables_in_conflict_reasons': False, 'binary_minimization_algorithm': 0, 'clause_cleanup_protection': 0, 'presolve_bve_threshold': 1, 'max_presolve_iterations': 3, 'cp_model_probing_level': 0, 'presolve_probing_deterministic_time_limit': 4, 'encode_complex_linear_constraint_with_integer': True, 'ignore_subsolvers:default_lp': True, 'ignore_subsolvers:fixed': False, 'ignore_subsolvers:no_lp': False, 'ignore_subsolvers:max_lp': True, 'ignore_subsolvers:pseudo_costs': False, 'ignore_subsolvers:reduced_costs': True, 'ignore_subsolvers:quick_restart': True, 'ignore_subsolvers:quick_restart_no_lp': True, 'ignore_subsolvers:lb_tree_search': True, 'ignore_subsolvers:probing': True, 'search_branching': 1, 'repair_hint': False, 'use_lb_relax_lns': True, 'use_objective_lb_search': True, 'use_objective_shaving_search': False, 'optimize_with_core': False, 'feasibility_jump_linearization_level': 1, 'fp_rounding': 3, 'diversify_lns_params': True, 'polish_lp_solution': True, 'linearization_level': 0, 'add_objective_cut': False, 'cut_level': 1, 'max_all_diff_cut_size': 1, 'symmetry_level': 2}. Best is trial 3 with value: 1.4230242.\n"
     ]
    },
    {
     "name": "stdout",
     "output_type": "stream",
     "text": [
      "Returning knockout result\n"
     ]
    },
    {
     "name": "stderr",
     "output_type": "stream",
     "text": [
      "[I 2024-08-16 16:57:13,012] Trial 5 finished with value: 30.0 and parameters: {'preferred_variable_order': 0, 'use_erwa_heuristic': True, 'also_bump_variables_in_conflict_reasons': False, 'binary_minimization_algorithm': 3, 'clause_cleanup_protection': 2, 'presolve_bve_threshold': 0, 'max_presolve_iterations': 2, 'cp_model_probing_level': 2, 'presolve_probing_deterministic_time_limit': 2, 'encode_complex_linear_constraint_with_integer': True, 'ignore_subsolvers:default_lp': True, 'ignore_subsolvers:fixed': False, 'ignore_subsolvers:no_lp': False, 'ignore_subsolvers:max_lp': True, 'ignore_subsolvers:pseudo_costs': False, 'ignore_subsolvers:reduced_costs': False, 'ignore_subsolvers:quick_restart': True, 'ignore_subsolvers:quick_restart_no_lp': False, 'ignore_subsolvers:lb_tree_search': False, 'ignore_subsolvers:probing': True, 'search_branching': 2, 'repair_hint': True, 'use_lb_relax_lns': True, 'use_objective_lb_search': True, 'use_objective_shaving_search': True, 'optimize_with_core': False, 'feasibility_jump_linearization_level': 2, 'fp_rounding': 3, 'diversify_lns_params': False, 'polish_lp_solution': True, 'linearization_level': 2, 'add_objective_cut': True, 'cut_level': 0, 'max_all_diff_cut_size': 1, 'symmetry_level': 1}. Best is trial 3 with value: 1.4230242.\n"
     ]
    },
    {
     "name": "stdout",
     "output_type": "stream",
     "text": [
      "Returning knockout result\n"
     ]
    },
    {
     "name": "stderr",
     "output_type": "stream",
     "text": [
      "[I 2024-08-16 16:57:16,032] Trial 6 finished with value: 30.0 and parameters: {'preferred_variable_order': 2, 'use_erwa_heuristic': False, 'also_bump_variables_in_conflict_reasons': True, 'binary_minimization_algorithm': 4, 'clause_cleanup_protection': 0, 'presolve_bve_threshold': 0, 'max_presolve_iterations': 1, 'cp_model_probing_level': 0, 'presolve_probing_deterministic_time_limit': 0, 'encode_complex_linear_constraint_with_integer': True, 'ignore_subsolvers:default_lp': False, 'ignore_subsolvers:fixed': False, 'ignore_subsolvers:no_lp': True, 'ignore_subsolvers:max_lp': False, 'ignore_subsolvers:pseudo_costs': False, 'ignore_subsolvers:reduced_costs': True, 'ignore_subsolvers:quick_restart': False, 'ignore_subsolvers:quick_restart_no_lp': False, 'ignore_subsolvers:lb_tree_search': False, 'ignore_subsolvers:probing': True, 'search_branching': 1, 'repair_hint': True, 'use_lb_relax_lns': False, 'use_objective_lb_search': False, 'use_objective_shaving_search': False, 'optimize_with_core': True, 'feasibility_jump_linearization_level': 2, 'fp_rounding': 0, 'diversify_lns_params': False, 'polish_lp_solution': True, 'linearization_level': 2, 'add_objective_cut': False, 'cut_level': 2, 'max_all_diff_cut_size': 0, 'symmetry_level': 0}. Best is trial 3 with value: 1.4230242.\n"
     ]
    },
    {
     "name": "stdout",
     "output_type": "stream",
     "text": [
      "Returning knockout result\n"
     ]
    },
    {
     "name": "stderr",
     "output_type": "stream",
     "text": [
      "[I 2024-08-16 16:57:22,934] Trial 7 finished with value: 1.3794078 and parameters: {'preferred_variable_order': 0, 'use_erwa_heuristic': False, 'also_bump_variables_in_conflict_reasons': False, 'binary_minimization_algorithm': 1, 'clause_cleanup_protection': 0, 'presolve_bve_threshold': 1, 'max_presolve_iterations': 2, 'cp_model_probing_level': 1, 'presolve_probing_deterministic_time_limit': 0, 'encode_complex_linear_constraint_with_integer': False, 'ignore_subsolvers:default_lp': False, 'ignore_subsolvers:fixed': True, 'ignore_subsolvers:no_lp': True, 'ignore_subsolvers:max_lp': True, 'ignore_subsolvers:pseudo_costs': True, 'ignore_subsolvers:reduced_costs': False, 'ignore_subsolvers:quick_restart': False, 'ignore_subsolvers:quick_restart_no_lp': True, 'ignore_subsolvers:lb_tree_search': False, 'ignore_subsolvers:probing': True, 'search_branching': 3, 'repair_hint': False, 'use_lb_relax_lns': False, 'use_objective_lb_search': False, 'use_objective_shaving_search': False, 'optimize_with_core': False, 'feasibility_jump_linearization_level': 1, 'fp_rounding': 1, 'diversify_lns_params': False, 'polish_lp_solution': False, 'linearization_level': 0, 'add_objective_cut': False, 'cut_level': 1, 'max_all_diff_cut_size': 1, 'symmetry_level': 1}. Best is trial 7 with value: 1.3794078.\n",
      "[I 2024-08-16 16:57:25,968] Trial 8 finished with value: 30.0 and parameters: {'preferred_variable_order': 1, 'use_erwa_heuristic': True, 'also_bump_variables_in_conflict_reasons': False, 'binary_minimization_algorithm': 1, 'clause_cleanup_protection': 1, 'presolve_bve_threshold': 0, 'max_presolve_iterations': 3, 'cp_model_probing_level': 0, 'presolve_probing_deterministic_time_limit': 1, 'encode_complex_linear_constraint_with_integer': False, 'ignore_subsolvers:default_lp': True, 'ignore_subsolvers:fixed': False, 'ignore_subsolvers:no_lp': False, 'ignore_subsolvers:max_lp': True, 'ignore_subsolvers:pseudo_costs': True, 'ignore_subsolvers:reduced_costs': False, 'ignore_subsolvers:quick_restart': False, 'ignore_subsolvers:quick_restart_no_lp': False, 'ignore_subsolvers:lb_tree_search': True, 'ignore_subsolvers:probing': True, 'search_branching': 6, 'repair_hint': False, 'use_lb_relax_lns': False, 'use_objective_lb_search': False, 'use_objective_shaving_search': False, 'optimize_with_core': True, 'feasibility_jump_linearization_level': 1, 'fp_rounding': 2, 'diversify_lns_params': True, 'polish_lp_solution': True, 'linearization_level': 1, 'add_objective_cut': True, 'cut_level': 2, 'max_all_diff_cut_size': 1, 'symmetry_level': 2}. Best is trial 7 with value: 1.3794078.\n"
     ]
    },
    {
     "name": "stdout",
     "output_type": "stream",
     "text": [
      "Returning knockout result\n"
     ]
    },
    {
     "name": "stderr",
     "output_type": "stream",
     "text": [
      "[I 2024-08-16 16:57:28,986] Trial 9 finished with value: 30.0 and parameters: {'preferred_variable_order': 0, 'use_erwa_heuristic': True, 'also_bump_variables_in_conflict_reasons': True, 'binary_minimization_algorithm': 3, 'clause_cleanup_protection': 2, 'presolve_bve_threshold': 2, 'max_presolve_iterations': 4, 'cp_model_probing_level': 2, 'presolve_probing_deterministic_time_limit': 2, 'encode_complex_linear_constraint_with_integer': False, 'ignore_subsolvers:default_lp': False, 'ignore_subsolvers:fixed': False, 'ignore_subsolvers:no_lp': False, 'ignore_subsolvers:max_lp': False, 'ignore_subsolvers:pseudo_costs': True, 'ignore_subsolvers:reduced_costs': False, 'ignore_subsolvers:quick_restart': False, 'ignore_subsolvers:quick_restart_no_lp': False, 'ignore_subsolvers:lb_tree_search': False, 'ignore_subsolvers:probing': False, 'search_branching': 5, 'repair_hint': False, 'use_lb_relax_lns': True, 'use_objective_lb_search': False, 'use_objective_shaving_search': True, 'optimize_with_core': True, 'feasibility_jump_linearization_level': 0, 'fp_rounding': 1, 'diversify_lns_params': False, 'polish_lp_solution': True, 'linearization_level': 0, 'add_objective_cut': True, 'cut_level': 0, 'max_all_diff_cut_size': 1, 'symmetry_level': 1}. Best is trial 7 with value: 1.3794078.\n"
     ]
    },
    {
     "name": "stdout",
     "output_type": "stream",
     "text": [
      "Returning knockout result\n"
     ]
    },
    {
     "name": "stderr",
     "output_type": "stream",
     "text": [
      "[I 2024-08-16 16:57:32,043] Trial 10 finished with value: 30.0 and parameters: {'preferred_variable_order': 0, 'use_erwa_heuristic': False, 'also_bump_variables_in_conflict_reasons': False, 'binary_minimization_algorithm': 1, 'clause_cleanup_protection': 1, 'presolve_bve_threshold': 2, 'max_presolve_iterations': 4, 'cp_model_probing_level': 1, 'presolve_probing_deterministic_time_limit': 1, 'encode_complex_linear_constraint_with_integer': False, 'ignore_subsolvers:default_lp': False, 'ignore_subsolvers:fixed': True, 'ignore_subsolvers:no_lp': True, 'ignore_subsolvers:max_lp': True, 'ignore_subsolvers:pseudo_costs': True, 'ignore_subsolvers:reduced_costs': False, 'ignore_subsolvers:quick_restart': False, 'ignore_subsolvers:quick_restart_no_lp': True, 'ignore_subsolvers:lb_tree_search': True, 'ignore_subsolvers:probing': True, 'search_branching': 3, 'repair_hint': False, 'use_lb_relax_lns': False, 'use_objective_lb_search': True, 'use_objective_shaving_search': True, 'optimize_with_core': True, 'feasibility_jump_linearization_level': 1, 'fp_rounding': 1, 'diversify_lns_params': True, 'polish_lp_solution': False, 'linearization_level': 0, 'add_objective_cut': False, 'cut_level': 2, 'max_all_diff_cut_size': 2, 'symmetry_level': 1}. Best is trial 7 with value: 1.3794078.\n"
     ]
    },
    {
     "name": "stdout",
     "output_type": "stream",
     "text": [
      "Returning knockout result\n"
     ]
    },
    {
     "name": "stderr",
     "output_type": "stream",
     "text": [
      "[I 2024-08-16 16:57:38,504] Trial 11 finished with value: 1.2830234 and parameters: {'preferred_variable_order': 1, 'use_erwa_heuristic': False, 'also_bump_variables_in_conflict_reasons': True, 'binary_minimization_algorithm': 2, 'clause_cleanup_protection': 0, 'presolve_bve_threshold': 1, 'max_presolve_iterations': 1, 'cp_model_probing_level': 0, 'presolve_probing_deterministic_time_limit': 3, 'encode_complex_linear_constraint_with_integer': False, 'ignore_subsolvers:default_lp': True, 'ignore_subsolvers:fixed': True, 'ignore_subsolvers:no_lp': True, 'ignore_subsolvers:max_lp': True, 'ignore_subsolvers:pseudo_costs': True, 'ignore_subsolvers:reduced_costs': True, 'ignore_subsolvers:quick_restart': True, 'ignore_subsolvers:quick_restart_no_lp': True, 'ignore_subsolvers:lb_tree_search': True, 'ignore_subsolvers:probing': False, 'search_branching': 3, 'repair_hint': True, 'use_lb_relax_lns': False, 'use_objective_lb_search': False, 'use_objective_shaving_search': False, 'optimize_with_core': False, 'feasibility_jump_linearization_level': 0, 'fp_rounding': 3, 'diversify_lns_params': False, 'polish_lp_solution': False, 'linearization_level': 0, 'add_objective_cut': True, 'cut_level': 0, 'max_all_diff_cut_size': 0, 'symmetry_level': 1}. Best is trial 11 with value: 1.2830234.\n",
      "[I 2024-08-16 16:57:46,311] Trial 12 finished with value: 1.5522844 and parameters: {'preferred_variable_order': 1, 'use_erwa_heuristic': False, 'also_bump_variables_in_conflict_reasons': True, 'binary_minimization_algorithm': 2, 'clause_cleanup_protection': 0, 'presolve_bve_threshold': 1, 'max_presolve_iterations': 1, 'cp_model_probing_level': 1, 'presolve_probing_deterministic_time_limit': 3, 'encode_complex_linear_constraint_with_integer': False, 'ignore_subsolvers:default_lp': True, 'ignore_subsolvers:fixed': True, 'ignore_subsolvers:no_lp': True, 'ignore_subsolvers:max_lp': True, 'ignore_subsolvers:pseudo_costs': True, 'ignore_subsolvers:reduced_costs': False, 'ignore_subsolvers:quick_restart': True, 'ignore_subsolvers:quick_restart_no_lp': True, 'ignore_subsolvers:lb_tree_search': True, 'ignore_subsolvers:probing': True, 'search_branching': 3, 'repair_hint': True, 'use_lb_relax_lns': False, 'use_objective_lb_search': False, 'use_objective_shaving_search': False, 'optimize_with_core': False, 'feasibility_jump_linearization_level': 0, 'fp_rounding': 0, 'diversify_lns_params': False, 'polish_lp_solution': False, 'linearization_level': 0, 'add_objective_cut': False, 'cut_level': 0, 'max_all_diff_cut_size': 0, 'symmetry_level': 1}. Best is trial 11 with value: 1.2830234.\n",
      "[I 2024-08-16 16:57:51,811] Trial 13 finished with value: 1.0907296 and parameters: {'preferred_variable_order': 2, 'use_erwa_heuristic': False, 'also_bump_variables_in_conflict_reasons': True, 'binary_minimization_algorithm': 0, 'clause_cleanup_protection': 0, 'presolve_bve_threshold': 1, 'max_presolve_iterations': 2, 'cp_model_probing_level': 0, 'presolve_probing_deterministic_time_limit': 3, 'encode_complex_linear_constraint_with_integer': False, 'ignore_subsolvers:default_lp': True, 'ignore_subsolvers:fixed': True, 'ignore_subsolvers:no_lp': True, 'ignore_subsolvers:max_lp': True, 'ignore_subsolvers:pseudo_costs': True, 'ignore_subsolvers:reduced_costs': True, 'ignore_subsolvers:quick_restart': True, 'ignore_subsolvers:quick_restart_no_lp': True, 'ignore_subsolvers:lb_tree_search': True, 'ignore_subsolvers:probing': False, 'search_branching': 3, 'repair_hint': True, 'use_lb_relax_lns': False, 'use_objective_lb_search': False, 'use_objective_shaving_search': False, 'optimize_with_core': False, 'feasibility_jump_linearization_level': 0, 'fp_rounding': 3, 'diversify_lns_params': False, 'polish_lp_solution': False, 'linearization_level': 0, 'add_objective_cut': True, 'cut_level': 0, 'max_all_diff_cut_size': 0, 'symmetry_level': 1}. Best is trial 13 with value: 1.0907296.\n",
      "[I 2024-08-16 16:57:54,868] Trial 14 finished with value: 30.0 and parameters: {'preferred_variable_order': 2, 'use_erwa_heuristic': False, 'also_bump_variables_in_conflict_reasons': True, 'binary_minimization_algorithm': 0, 'clause_cleanup_protection': 0, 'presolve_bve_threshold': 2, 'max_presolve_iterations': 1, 'cp_model_probing_level': 0, 'presolve_probing_deterministic_time_limit': 3, 'encode_complex_linear_constraint_with_integer': False, 'ignore_subsolvers:default_lp': True, 'ignore_subsolvers:fixed': True, 'ignore_subsolvers:no_lp': True, 'ignore_subsolvers:max_lp': True, 'ignore_subsolvers:pseudo_costs': True, 'ignore_subsolvers:reduced_costs': True, 'ignore_subsolvers:quick_restart': True, 'ignore_subsolvers:quick_restart_no_lp': True, 'ignore_subsolvers:lb_tree_search': True, 'ignore_subsolvers:probing': False, 'search_branching': 7, 'repair_hint': True, 'use_lb_relax_lns': False, 'use_objective_lb_search': False, 'use_objective_shaving_search': True, 'optimize_with_core': False, 'feasibility_jump_linearization_level': 0, 'fp_rounding': 3, 'diversify_lns_params': False, 'polish_lp_solution': False, 'linearization_level': 0, 'add_objective_cut': True, 'cut_level': 0, 'max_all_diff_cut_size': 0, 'symmetry_level': 1}. Best is trial 13 with value: 1.0907296.\n"
     ]
    },
    {
     "name": "stdout",
     "output_type": "stream",
     "text": [
      "Returning knockout result\n"
     ]
    },
    {
     "name": "stderr",
     "output_type": "stream",
     "text": [
      "[I 2024-08-16 16:57:59,637] Trial 15 finished with value: 0.9445566 and parameters: {'preferred_variable_order': 2, 'use_erwa_heuristic': False, 'also_bump_variables_in_conflict_reasons': True, 'binary_minimization_algorithm': 0, 'clause_cleanup_protection': 0, 'presolve_bve_threshold': 0, 'max_presolve_iterations': 3, 'cp_model_probing_level': 0, 'presolve_probing_deterministic_time_limit': 3, 'encode_complex_linear_constraint_with_integer': False, 'ignore_subsolvers:default_lp': True, 'ignore_subsolvers:fixed': True, 'ignore_subsolvers:no_lp': True, 'ignore_subsolvers:max_lp': True, 'ignore_subsolvers:pseudo_costs': True, 'ignore_subsolvers:reduced_costs': True, 'ignore_subsolvers:quick_restart': True, 'ignore_subsolvers:quick_restart_no_lp': True, 'ignore_subsolvers:lb_tree_search': True, 'ignore_subsolvers:probing': False, 'search_branching': 4, 'repair_hint': True, 'use_lb_relax_lns': False, 'use_objective_lb_search': False, 'use_objective_shaving_search': False, 'optimize_with_core': False, 'feasibility_jump_linearization_level': 0, 'fp_rounding': 3, 'diversify_lns_params': False, 'polish_lp_solution': False, 'linearization_level': 0, 'add_objective_cut': True, 'cut_level': 0, 'max_all_diff_cut_size': 0, 'symmetry_level': 0}. Best is trial 15 with value: 0.9445566.\n",
      "[I 2024-08-16 16:58:04,520] Trial 16 finished with value: 0.9677514 and parameters: {'preferred_variable_order': 2, 'use_erwa_heuristic': False, 'also_bump_variables_in_conflict_reasons': True, 'binary_minimization_algorithm': 0, 'clause_cleanup_protection': 0, 'presolve_bve_threshold': 0, 'max_presolve_iterations': 3, 'cp_model_probing_level': 0, 'presolve_probing_deterministic_time_limit': 4, 'encode_complex_linear_constraint_with_integer': False, 'ignore_subsolvers:default_lp': True, 'ignore_subsolvers:fixed': True, 'ignore_subsolvers:no_lp': True, 'ignore_subsolvers:max_lp': True, 'ignore_subsolvers:pseudo_costs': True, 'ignore_subsolvers:reduced_costs': True, 'ignore_subsolvers:quick_restart': True, 'ignore_subsolvers:quick_restart_no_lp': True, 'ignore_subsolvers:lb_tree_search': True, 'ignore_subsolvers:probing': False, 'search_branching': 4, 'repair_hint': True, 'use_lb_relax_lns': False, 'use_objective_lb_search': False, 'use_objective_shaving_search': False, 'optimize_with_core': False, 'feasibility_jump_linearization_level': 0, 'fp_rounding': 3, 'diversify_lns_params': False, 'polish_lp_solution': False, 'linearization_level': 1, 'add_objective_cut': True, 'cut_level': 0, 'max_all_diff_cut_size': 0, 'symmetry_level': 0}. Best is trial 15 with value: 0.9445566.\n",
      "[I 2024-08-16 16:58:08,962] Trial 17 finished with value: 0.8794912 and parameters: {'preferred_variable_order': 2, 'use_erwa_heuristic': False, 'also_bump_variables_in_conflict_reasons': True, 'binary_minimization_algorithm': 0, 'clause_cleanup_protection': 1, 'presolve_bve_threshold': 0, 'max_presolve_iterations': 3, 'cp_model_probing_level': 0, 'presolve_probing_deterministic_time_limit': 4, 'encode_complex_linear_constraint_with_integer': False, 'ignore_subsolvers:default_lp': True, 'ignore_subsolvers:fixed': True, 'ignore_subsolvers:no_lp': True, 'ignore_subsolvers:max_lp': True, 'ignore_subsolvers:pseudo_costs': True, 'ignore_subsolvers:reduced_costs': True, 'ignore_subsolvers:quick_restart': True, 'ignore_subsolvers:quick_restart_no_lp': True, 'ignore_subsolvers:lb_tree_search': True, 'ignore_subsolvers:probing': False, 'search_branching': 4, 'repair_hint': True, 'use_lb_relax_lns': False, 'use_objective_lb_search': False, 'use_objective_shaving_search': False, 'optimize_with_core': False, 'feasibility_jump_linearization_level': 0, 'fp_rounding': 3, 'diversify_lns_params': False, 'polish_lp_solution': False, 'linearization_level': 1, 'add_objective_cut': True, 'cut_level': 0, 'max_all_diff_cut_size': 0, 'symmetry_level': 0}. Best is trial 17 with value: 0.8794912.\n",
      "[I 2024-08-16 16:58:12,024] Trial 18 finished with value: 30.0 and parameters: {'preferred_variable_order': 2, 'use_erwa_heuristic': False, 'also_bump_variables_in_conflict_reasons': True, 'binary_minimization_algorithm': 0, 'clause_cleanup_protection': 1, 'presolve_bve_threshold': 0, 'max_presolve_iterations': 3, 'cp_model_probing_level': 1, 'presolve_probing_deterministic_time_limit': 4, 'encode_complex_linear_constraint_with_integer': False, 'ignore_subsolvers:default_lp': True, 'ignore_subsolvers:fixed': True, 'ignore_subsolvers:no_lp': True, 'ignore_subsolvers:max_lp': True, 'ignore_subsolvers:pseudo_costs': True, 'ignore_subsolvers:reduced_costs': True, 'ignore_subsolvers:quick_restart': True, 'ignore_subsolvers:quick_restart_no_lp': True, 'ignore_subsolvers:lb_tree_search': True, 'ignore_subsolvers:probing': False, 'search_branching': 4, 'repair_hint': True, 'use_lb_relax_lns': True, 'use_objective_lb_search': True, 'use_objective_shaving_search': True, 'optimize_with_core': True, 'feasibility_jump_linearization_level': 1, 'fp_rounding': 3, 'diversify_lns_params': True, 'polish_lp_solution': False, 'linearization_level': 2, 'add_objective_cut': True, 'cut_level': 1, 'max_all_diff_cut_size': 0, 'symmetry_level': 0}. Best is trial 17 with value: 0.8794912.\n"
     ]
    },
    {
     "name": "stdout",
     "output_type": "stream",
     "text": [
      "Returning knockout result\n"
     ]
    },
    {
     "name": "stderr",
     "output_type": "stream",
     "text": [
      "[I 2024-08-16 16:58:20,873] Trial 19 finished with value: 1.7606344 and parameters: {'preferred_variable_order': 2, 'use_erwa_heuristic': False, 'also_bump_variables_in_conflict_reasons': True, 'binary_minimization_algorithm': 0, 'clause_cleanup_protection': 1, 'presolve_bve_threshold': 0, 'max_presolve_iterations': 4, 'cp_model_probing_level': 0, 'presolve_probing_deterministic_time_limit': 4, 'encode_complex_linear_constraint_with_integer': False, 'ignore_subsolvers:default_lp': True, 'ignore_subsolvers:fixed': True, 'ignore_subsolvers:no_lp': True, 'ignore_subsolvers:max_lp': True, 'ignore_subsolvers:pseudo_costs': True, 'ignore_subsolvers:reduced_costs': True, 'ignore_subsolvers:quick_restart': True, 'ignore_subsolvers:quick_restart_no_lp': True, 'ignore_subsolvers:lb_tree_search': True, 'ignore_subsolvers:probing': False, 'search_branching': 8, 'repair_hint': True, 'use_lb_relax_lns': False, 'use_objective_lb_search': False, 'use_objective_shaving_search': False, 'optimize_with_core': False, 'feasibility_jump_linearization_level': 0, 'fp_rounding': 0, 'diversify_lns_params': False, 'polish_lp_solution': False, 'linearization_level': 1, 'add_objective_cut': True, 'cut_level': 0, 'max_all_diff_cut_size': 2, 'symmetry_level': 0}. Best is trial 17 with value: 0.8794912.\n",
      "[I 2024-08-16 16:58:24,972] Trial 20 finished with value: 0.8102892 and parameters: {'preferred_variable_order': 2, 'use_erwa_heuristic': False, 'also_bump_variables_in_conflict_reasons': True, 'binary_minimization_algorithm': 0, 'clause_cleanup_protection': 1, 'presolve_bve_threshold': 0, 'max_presolve_iterations': 3, 'cp_model_probing_level': 0, 'presolve_probing_deterministic_time_limit': 2, 'encode_complex_linear_constraint_with_integer': False, 'ignore_subsolvers:default_lp': True, 'ignore_subsolvers:fixed': True, 'ignore_subsolvers:no_lp': True, 'ignore_subsolvers:max_lp': True, 'ignore_subsolvers:pseudo_costs': True, 'ignore_subsolvers:reduced_costs': True, 'ignore_subsolvers:quick_restart': True, 'ignore_subsolvers:quick_restart_no_lp': True, 'ignore_subsolvers:lb_tree_search': True, 'ignore_subsolvers:probing': False, 'search_branching': 4, 'repair_hint': True, 'use_lb_relax_lns': False, 'use_objective_lb_search': False, 'use_objective_shaving_search': False, 'optimize_with_core': False, 'feasibility_jump_linearization_level': 1, 'fp_rounding': 3, 'diversify_lns_params': False, 'polish_lp_solution': False, 'linearization_level': 1, 'add_objective_cut': True, 'cut_level': 0, 'max_all_diff_cut_size': 0, 'symmetry_level': 0}. Best is trial 20 with value: 0.8102892.\n",
      "[I 2024-08-16 16:58:25,018] Trial 21 finished with value: 0.8102892 and parameters: {'preferred_variable_order': 2, 'use_erwa_heuristic': False, 'also_bump_variables_in_conflict_reasons': True, 'binary_minimization_algorithm': 0, 'clause_cleanup_protection': 1, 'presolve_bve_threshold': 0, 'max_presolve_iterations': 3, 'cp_model_probing_level': 0, 'presolve_probing_deterministic_time_limit': 2, 'encode_complex_linear_constraint_with_integer': False, 'ignore_subsolvers:default_lp': True, 'ignore_subsolvers:fixed': True, 'ignore_subsolvers:no_lp': True, 'ignore_subsolvers:max_lp': True, 'ignore_subsolvers:pseudo_costs': True, 'ignore_subsolvers:reduced_costs': True, 'ignore_subsolvers:quick_restart': True, 'ignore_subsolvers:quick_restart_no_lp': True, 'ignore_subsolvers:lb_tree_search': True, 'ignore_subsolvers:probing': False, 'search_branching': 4, 'repair_hint': True, 'use_lb_relax_lns': False, 'use_objective_lb_search': False, 'use_objective_shaving_search': False, 'optimize_with_core': False, 'feasibility_jump_linearization_level': 1, 'fp_rounding': 3, 'diversify_lns_params': False, 'polish_lp_solution': False, 'linearization_level': 1, 'add_objective_cut': True, 'cut_level': 0, 'max_all_diff_cut_size': 0, 'symmetry_level': 0}. Best is trial 20 with value: 0.8102892.\n",
      "[I 2024-08-16 16:58:30,767] Trial 22 finished with value: 1.1406214000000001 and parameters: {'preferred_variable_order': 2, 'use_erwa_heuristic': False, 'also_bump_variables_in_conflict_reasons': True, 'binary_minimization_algorithm': 0, 'clause_cleanup_protection': 1, 'presolve_bve_threshold': 0, 'max_presolve_iterations': 3, 'cp_model_probing_level': 0, 'presolve_probing_deterministic_time_limit': 1, 'encode_complex_linear_constraint_with_integer': False, 'ignore_subsolvers:default_lp': True, 'ignore_subsolvers:fixed': True, 'ignore_subsolvers:no_lp': True, 'ignore_subsolvers:max_lp': True, 'ignore_subsolvers:pseudo_costs': True, 'ignore_subsolvers:reduced_costs': True, 'ignore_subsolvers:quick_restart': True, 'ignore_subsolvers:quick_restart_no_lp': True, 'ignore_subsolvers:lb_tree_search': True, 'ignore_subsolvers:probing': False, 'search_branching': 4, 'repair_hint': True, 'use_lb_relax_lns': False, 'use_objective_lb_search': False, 'use_objective_shaving_search': False, 'optimize_with_core': False, 'feasibility_jump_linearization_level': 1, 'fp_rounding': 3, 'diversify_lns_params': False, 'polish_lp_solution': False, 'linearization_level': 1, 'add_objective_cut': True, 'cut_level': 0, 'max_all_diff_cut_size': 0, 'symmetry_level': 0}. Best is trial 20 with value: 0.8102892.\n",
      "[I 2024-08-16 16:58:35,522] Trial 23 finished with value: 0.9410354 and parameters: {'preferred_variable_order': 2, 'use_erwa_heuristic': False, 'also_bump_variables_in_conflict_reasons': True, 'binary_minimization_algorithm': 0, 'clause_cleanup_protection': 1, 'presolve_bve_threshold': 0, 'max_presolve_iterations': 4, 'cp_model_probing_level': 0, 'presolve_probing_deterministic_time_limit': 2, 'encode_complex_linear_constraint_with_integer': False, 'ignore_subsolvers:default_lp': True, 'ignore_subsolvers:fixed': True, 'ignore_subsolvers:no_lp': True, 'ignore_subsolvers:max_lp': True, 'ignore_subsolvers:pseudo_costs': True, 'ignore_subsolvers:reduced_costs': True, 'ignore_subsolvers:quick_restart': True, 'ignore_subsolvers:quick_restart_no_lp': True, 'ignore_subsolvers:lb_tree_search': True, 'ignore_subsolvers:probing': False, 'search_branching': 4, 'repair_hint': True, 'use_lb_relax_lns': False, 'use_objective_lb_search': False, 'use_objective_shaving_search': False, 'optimize_with_core': False, 'feasibility_jump_linearization_level': 2, 'fp_rounding': 3, 'diversify_lns_params': False, 'polish_lp_solution': False, 'linearization_level': 1, 'add_objective_cut': True, 'cut_level': 0, 'max_all_diff_cut_size': 0, 'symmetry_level': 0}. Best is trial 20 with value: 0.8102892.\n",
      "[I 2024-08-16 16:58:38,294] Trial 24 finished with value: 2.724784 and parameters: {'preferred_variable_order': 1, 'use_erwa_heuristic': False, 'also_bump_variables_in_conflict_reasons': True, 'binary_minimization_algorithm': 0, 'clause_cleanup_protection': 1, 'presolve_bve_threshold': 0, 'max_presolve_iterations': 3, 'cp_model_probing_level': 1, 'presolve_probing_deterministic_time_limit': 2, 'encode_complex_linear_constraint_with_integer': False, 'ignore_subsolvers:default_lp': True, 'ignore_subsolvers:fixed': True, 'ignore_subsolvers:no_lp': True, 'ignore_subsolvers:max_lp': True, 'ignore_subsolvers:pseudo_costs': True, 'ignore_subsolvers:reduced_costs': True, 'ignore_subsolvers:quick_restart': True, 'ignore_subsolvers:quick_restart_no_lp': True, 'ignore_subsolvers:lb_tree_search': True, 'ignore_subsolvers:probing': False, 'search_branching': 4, 'repair_hint': True, 'use_lb_relax_lns': False, 'use_objective_lb_search': False, 'use_objective_shaving_search': False, 'optimize_with_core': False, 'feasibility_jump_linearization_level': 1, 'fp_rounding': 3, 'diversify_lns_params': False, 'polish_lp_solution': False, 'linearization_level': 1, 'add_objective_cut': True, 'cut_level': 1, 'max_all_diff_cut_size': 0, 'symmetry_level': 0}. Best is trial 20 with value: 0.8102892.\n"
     ]
    },
    {
     "name": "stdout",
     "output_type": "stream",
     "text": [
      "Returning knockout result\n"
     ]
    },
    {
     "name": "stderr",
     "output_type": "stream",
     "text": [
      "[I 2024-08-16 16:58:43,561] Trial 25 finished with value: 1.043895 and parameters: {'preferred_variable_order': 2, 'use_erwa_heuristic': False, 'also_bump_variables_in_conflict_reasons': True, 'binary_minimization_algorithm': 4, 'clause_cleanup_protection': 1, 'presolve_bve_threshold': 0, 'max_presolve_iterations': 4, 'cp_model_probing_level': 0, 'presolve_probing_deterministic_time_limit': 1, 'encode_complex_linear_constraint_with_integer': False, 'ignore_subsolvers:default_lp': True, 'ignore_subsolvers:fixed': True, 'ignore_subsolvers:no_lp': True, 'ignore_subsolvers:max_lp': True, 'ignore_subsolvers:pseudo_costs': True, 'ignore_subsolvers:reduced_costs': True, 'ignore_subsolvers:quick_restart': True, 'ignore_subsolvers:quick_restart_no_lp': True, 'ignore_subsolvers:lb_tree_search': True, 'ignore_subsolvers:probing': False, 'search_branching': 4, 'repair_hint': True, 'use_lb_relax_lns': False, 'use_objective_lb_search': False, 'use_objective_shaving_search': False, 'optimize_with_core': False, 'feasibility_jump_linearization_level': 1, 'fp_rounding': 3, 'diversify_lns_params': False, 'polish_lp_solution': False, 'linearization_level': 1, 'add_objective_cut': True, 'cut_level': 0, 'max_all_diff_cut_size': 0, 'symmetry_level': 0}. Best is trial 20 with value: 0.8102892.\n",
      "[I 2024-08-16 16:58:46,624] Trial 26 finished with value: 30.0 and parameters: {'preferred_variable_order': 2, 'use_erwa_heuristic': False, 'also_bump_variables_in_conflict_reasons': True, 'binary_minimization_algorithm': 0, 'clause_cleanup_protection': 1, 'presolve_bve_threshold': 0, 'max_presolve_iterations': 3, 'cp_model_probing_level': 0, 'presolve_probing_deterministic_time_limit': 1, 'encode_complex_linear_constraint_with_integer': True, 'ignore_subsolvers:default_lp': True, 'ignore_subsolvers:fixed': True, 'ignore_subsolvers:no_lp': True, 'ignore_subsolvers:max_lp': False, 'ignore_subsolvers:pseudo_costs': True, 'ignore_subsolvers:reduced_costs': True, 'ignore_subsolvers:quick_restart': True, 'ignore_subsolvers:quick_restart_no_lp': True, 'ignore_subsolvers:lb_tree_search': True, 'ignore_subsolvers:probing': False, 'search_branching': 7, 'repair_hint': True, 'use_lb_relax_lns': True, 'use_objective_lb_search': True, 'use_objective_shaving_search': True, 'optimize_with_core': True, 'feasibility_jump_linearization_level': 2, 'fp_rounding': 3, 'diversify_lns_params': True, 'polish_lp_solution': False, 'linearization_level': 2, 'add_objective_cut': True, 'cut_level': 0, 'max_all_diff_cut_size': 0, 'symmetry_level': 0}. Best is trial 20 with value: 0.8102892.\n"
     ]
    },
    {
     "name": "stdout",
     "output_type": "stream",
     "text": [
      "Returning knockout result\n"
     ]
    },
    {
     "name": "stderr",
     "output_type": "stream",
     "text": [
      "[I 2024-08-16 16:58:51,045] Trial 27 finished with value: 2.843709 and parameters: {'preferred_variable_order': 2, 'use_erwa_heuristic': False, 'also_bump_variables_in_conflict_reasons': True, 'binary_minimization_algorithm': 3, 'clause_cleanup_protection': 1, 'presolve_bve_threshold': 0, 'max_presolve_iterations': 2, 'cp_model_probing_level': 1, 'presolve_probing_deterministic_time_limit': 2, 'encode_complex_linear_constraint_with_integer': False, 'ignore_subsolvers:default_lp': True, 'ignore_subsolvers:fixed': True, 'ignore_subsolvers:no_lp': True, 'ignore_subsolvers:max_lp': True, 'ignore_subsolvers:pseudo_costs': True, 'ignore_subsolvers:reduced_costs': True, 'ignore_subsolvers:quick_restart': True, 'ignore_subsolvers:quick_restart_no_lp': True, 'ignore_subsolvers:lb_tree_search': True, 'ignore_subsolvers:probing': False, 'search_branching': 0, 'repair_hint': True, 'use_lb_relax_lns': False, 'use_objective_lb_search': False, 'use_objective_shaving_search': False, 'optimize_with_core': False, 'feasibility_jump_linearization_level': 1, 'fp_rounding': 2, 'diversify_lns_params': False, 'polish_lp_solution': False, 'linearization_level': 1, 'add_objective_cut': True, 'cut_level': 0, 'max_all_diff_cut_size': 0, 'symmetry_level': 0}. Best is trial 20 with value: 0.8102892.\n"
     ]
    },
    {
     "name": "stdout",
     "output_type": "stream",
     "text": [
      "Returning knockout result\n"
     ]
    },
    {
     "name": "stderr",
     "output_type": "stream",
     "text": [
      "[I 2024-08-16 16:58:54,115] Trial 28 finished with value: 30.0 and parameters: {'preferred_variable_order': 1, 'use_erwa_heuristic': False, 'also_bump_variables_in_conflict_reasons': True, 'binary_minimization_algorithm': 0, 'clause_cleanup_protection': 1, 'presolve_bve_threshold': 0, 'max_presolve_iterations': 3, 'cp_model_probing_level': 0, 'presolve_probing_deterministic_time_limit': 2, 'encode_complex_linear_constraint_with_integer': False, 'ignore_subsolvers:default_lp': True, 'ignore_subsolvers:fixed': True, 'ignore_subsolvers:no_lp': True, 'ignore_subsolvers:max_lp': True, 'ignore_subsolvers:pseudo_costs': True, 'ignore_subsolvers:reduced_costs': True, 'ignore_subsolvers:quick_restart': True, 'ignore_subsolvers:quick_restart_no_lp': True, 'ignore_subsolvers:lb_tree_search': True, 'ignore_subsolvers:probing': False, 'search_branching': 5, 'repair_hint': True, 'use_lb_relax_lns': False, 'use_objective_lb_search': False, 'use_objective_shaving_search': False, 'optimize_with_core': False, 'feasibility_jump_linearization_level': 1, 'fp_rounding': 0, 'diversify_lns_params': False, 'polish_lp_solution': False, 'linearization_level': 1, 'add_objective_cut': True, 'cut_level': 1, 'max_all_diff_cut_size': 1, 'symmetry_level': 0}. Best is trial 20 with value: 0.8102892.\n"
     ]
    },
    {
     "name": "stdout",
     "output_type": "stream",
     "text": [
      "Returning knockout result\n"
     ]
    },
    {
     "name": "stderr",
     "output_type": "stream",
     "text": [
      "[I 2024-08-16 16:59:02,787] Trial 29 finished with value: 1.7240362 and parameters: {'preferred_variable_order': 2, 'use_erwa_heuristic': False, 'also_bump_variables_in_conflict_reasons': True, 'binary_minimization_algorithm': 0, 'clause_cleanup_protection': 1, 'presolve_bve_threshold': 0, 'max_presolve_iterations': 2, 'cp_model_probing_level': 0, 'presolve_probing_deterministic_time_limit': 3, 'encode_complex_linear_constraint_with_integer': False, 'ignore_subsolvers:default_lp': True, 'ignore_subsolvers:fixed': True, 'ignore_subsolvers:no_lp': True, 'ignore_subsolvers:max_lp': False, 'ignore_subsolvers:pseudo_costs': False, 'ignore_subsolvers:reduced_costs': True, 'ignore_subsolvers:quick_restart': True, 'ignore_subsolvers:quick_restart_no_lp': False, 'ignore_subsolvers:lb_tree_search': True, 'ignore_subsolvers:probing': False, 'search_branching': 8, 'repair_hint': True, 'use_lb_relax_lns': False, 'use_objective_lb_search': False, 'use_objective_shaving_search': False, 'optimize_with_core': False, 'feasibility_jump_linearization_level': 2, 'fp_rounding': 2, 'diversify_lns_params': False, 'polish_lp_solution': False, 'linearization_level': 1, 'add_objective_cut': True, 'cut_level': 1, 'max_all_diff_cut_size': 0, 'symmetry_level': 0}. Best is trial 20 with value: 0.8102892.\n",
      "[I 2024-08-16 16:59:09,159] Trial 30 finished with value: 2.542705 and parameters: {'preferred_variable_order': 1, 'use_erwa_heuristic': False, 'also_bump_variables_in_conflict_reasons': True, 'binary_minimization_algorithm': 0, 'clause_cleanup_protection': 1, 'presolve_bve_threshold': 0, 'max_presolve_iterations': 4, 'cp_model_probing_level': 2, 'presolve_probing_deterministic_time_limit': 1, 'encode_complex_linear_constraint_with_integer': False, 'ignore_subsolvers:default_lp': True, 'ignore_subsolvers:fixed': True, 'ignore_subsolvers:no_lp': True, 'ignore_subsolvers:max_lp': True, 'ignore_subsolvers:pseudo_costs': True, 'ignore_subsolvers:reduced_costs': True, 'ignore_subsolvers:quick_restart': True, 'ignore_subsolvers:quick_restart_no_lp': True, 'ignore_subsolvers:lb_tree_search': True, 'ignore_subsolvers:probing': False, 'search_branching': 0, 'repair_hint': True, 'use_lb_relax_lns': False, 'use_objective_lb_search': False, 'use_objective_shaving_search': False, 'optimize_with_core': False, 'feasibility_jump_linearization_level': 2, 'fp_rounding': 3, 'diversify_lns_params': False, 'polish_lp_solution': False, 'linearization_level': 2, 'add_objective_cut': True, 'cut_level': 0, 'max_all_diff_cut_size': 1, 'symmetry_level': 0}. Best is trial 20 with value: 0.8102892.\n",
      "[I 2024-08-16 16:59:09,210] Trial 31 finished with value: 0.9410354 and parameters: {'preferred_variable_order': 2, 'use_erwa_heuristic': False, 'also_bump_variables_in_conflict_reasons': True, 'binary_minimization_algorithm': 0, 'clause_cleanup_protection': 1, 'presolve_bve_threshold': 0, 'max_presolve_iterations': 4, 'cp_model_probing_level': 0, 'presolve_probing_deterministic_time_limit': 2, 'encode_complex_linear_constraint_with_integer': False, 'ignore_subsolvers:default_lp': True, 'ignore_subsolvers:fixed': True, 'ignore_subsolvers:no_lp': True, 'ignore_subsolvers:max_lp': True, 'ignore_subsolvers:pseudo_costs': True, 'ignore_subsolvers:reduced_costs': True, 'ignore_subsolvers:quick_restart': True, 'ignore_subsolvers:quick_restart_no_lp': True, 'ignore_subsolvers:lb_tree_search': True, 'ignore_subsolvers:probing': False, 'search_branching': 4, 'repair_hint': True, 'use_lb_relax_lns': False, 'use_objective_lb_search': False, 'use_objective_shaving_search': False, 'optimize_with_core': False, 'feasibility_jump_linearization_level': 2, 'fp_rounding': 3, 'diversify_lns_params': False, 'polish_lp_solution': False, 'linearization_level': 1, 'add_objective_cut': True, 'cut_level': 0, 'max_all_diff_cut_size': 0, 'symmetry_level': 0}. Best is trial 20 with value: 0.8102892.\n",
      "[I 2024-08-16 16:59:09,259] Trial 32 finished with value: 0.9410354 and parameters: {'preferred_variable_order': 2, 'use_erwa_heuristic': False, 'also_bump_variables_in_conflict_reasons': True, 'binary_minimization_algorithm': 0, 'clause_cleanup_protection': 1, 'presolve_bve_threshold': 0, 'max_presolve_iterations': 4, 'cp_model_probing_level': 0, 'presolve_probing_deterministic_time_limit': 2, 'encode_complex_linear_constraint_with_integer': False, 'ignore_subsolvers:default_lp': True, 'ignore_subsolvers:fixed': True, 'ignore_subsolvers:no_lp': True, 'ignore_subsolvers:max_lp': True, 'ignore_subsolvers:pseudo_costs': True, 'ignore_subsolvers:reduced_costs': True, 'ignore_subsolvers:quick_restart': True, 'ignore_subsolvers:quick_restart_no_lp': True, 'ignore_subsolvers:lb_tree_search': True, 'ignore_subsolvers:probing': False, 'search_branching': 4, 'repair_hint': True, 'use_lb_relax_lns': False, 'use_objective_lb_search': False, 'use_objective_shaving_search': False, 'optimize_with_core': False, 'feasibility_jump_linearization_level': 2, 'fp_rounding': 3, 'diversify_lns_params': False, 'polish_lp_solution': False, 'linearization_level': 1, 'add_objective_cut': True, 'cut_level': 0, 'max_all_diff_cut_size': 0, 'symmetry_level': 0}. Best is trial 20 with value: 0.8102892.\n",
      "[I 2024-08-16 16:59:09,308] Trial 33 finished with value: 0.8102892 and parameters: {'preferred_variable_order': 2, 'use_erwa_heuristic': False, 'also_bump_variables_in_conflict_reasons': True, 'binary_minimization_algorithm': 0, 'clause_cleanup_protection': 1, 'presolve_bve_threshold': 0, 'max_presolve_iterations': 3, 'cp_model_probing_level': 0, 'presolve_probing_deterministic_time_limit': 2, 'encode_complex_linear_constraint_with_integer': False, 'ignore_subsolvers:default_lp': True, 'ignore_subsolvers:fixed': True, 'ignore_subsolvers:no_lp': True, 'ignore_subsolvers:max_lp': True, 'ignore_subsolvers:pseudo_costs': True, 'ignore_subsolvers:reduced_costs': True, 'ignore_subsolvers:quick_restart': True, 'ignore_subsolvers:quick_restart_no_lp': True, 'ignore_subsolvers:lb_tree_search': True, 'ignore_subsolvers:probing': False, 'search_branching': 4, 'repair_hint': True, 'use_lb_relax_lns': False, 'use_objective_lb_search': False, 'use_objective_shaving_search': False, 'optimize_with_core': False, 'feasibility_jump_linearization_level': 1, 'fp_rounding': 3, 'diversify_lns_params': False, 'polish_lp_solution': False, 'linearization_level': 1, 'add_objective_cut': True, 'cut_level': 0, 'max_all_diff_cut_size': 0, 'symmetry_level': 0}. Best is trial 20 with value: 0.8102892.\n"
     ]
    },
    {
     "name": "stdout",
     "output_type": "stream",
     "text": [
      "Returning knockout result\n"
     ]
    },
    {
     "name": "stderr",
     "output_type": "stream",
     "text": [
      "[I 2024-08-16 16:59:17,689] Trial 34 finished with value: 1.6661892000000003 and parameters: {'preferred_variable_order': 2, 'use_erwa_heuristic': True, 'also_bump_variables_in_conflict_reasons': True, 'binary_minimization_algorithm': 4, 'clause_cleanup_protection': 1, 'presolve_bve_threshold': 0, 'max_presolve_iterations': 3, 'cp_model_probing_level': 1, 'presolve_probing_deterministic_time_limit': 2, 'encode_complex_linear_constraint_with_integer': True, 'ignore_subsolvers:default_lp': False, 'ignore_subsolvers:fixed': True, 'ignore_subsolvers:no_lp': False, 'ignore_subsolvers:max_lp': False, 'ignore_subsolvers:pseudo_costs': False, 'ignore_subsolvers:reduced_costs': True, 'ignore_subsolvers:quick_restart': True, 'ignore_subsolvers:quick_restart_no_lp': True, 'ignore_subsolvers:lb_tree_search': False, 'ignore_subsolvers:probing': False, 'search_branching': 4, 'repair_hint': True, 'use_lb_relax_lns': False, 'use_objective_lb_search': False, 'use_objective_shaving_search': False, 'optimize_with_core': False, 'feasibility_jump_linearization_level': 1, 'fp_rounding': 3, 'diversify_lns_params': False, 'polish_lp_solution': False, 'linearization_level': 1, 'add_objective_cut': True, 'cut_level': 0, 'max_all_diff_cut_size': 0, 'symmetry_level': 0}. Best is trial 20 with value: 0.8102892.\n",
      "[I 2024-08-16 16:59:23,346] Trial 35 finished with value: 1.1206286 and parameters: {'preferred_variable_order': 2, 'use_erwa_heuristic': False, 'also_bump_variables_in_conflict_reasons': True, 'binary_minimization_algorithm': 0, 'clause_cleanup_protection': 1, 'presolve_bve_threshold': 1, 'max_presolve_iterations': 2, 'cp_model_probing_level': 0, 'presolve_probing_deterministic_time_limit': 2, 'encode_complex_linear_constraint_with_integer': False, 'ignore_subsolvers:default_lp': True, 'ignore_subsolvers:fixed': True, 'ignore_subsolvers:no_lp': True, 'ignore_subsolvers:max_lp': True, 'ignore_subsolvers:pseudo_costs': True, 'ignore_subsolvers:reduced_costs': True, 'ignore_subsolvers:quick_restart': True, 'ignore_subsolvers:quick_restart_no_lp': True, 'ignore_subsolvers:lb_tree_search': True, 'ignore_subsolvers:probing': False, 'search_branching': 4, 'repair_hint': False, 'use_lb_relax_lns': False, 'use_objective_lb_search': False, 'use_objective_shaving_search': False, 'optimize_with_core': False, 'feasibility_jump_linearization_level': 1, 'fp_rounding': 1, 'diversify_lns_params': True, 'polish_lp_solution': False, 'linearization_level': 1, 'add_objective_cut': False, 'cut_level': 1, 'max_all_diff_cut_size': 0, 'symmetry_level': 0}. Best is trial 20 with value: 0.8102892.\n",
      "[I 2024-08-16 16:59:29,718] Trial 36 finished with value: 2.86894 and parameters: {'preferred_variable_order': 2, 'use_erwa_heuristic': True, 'also_bump_variables_in_conflict_reasons': False, 'binary_minimization_algorithm': 2, 'clause_cleanup_protection': 2, 'presolve_bve_threshold': 0, 'max_presolve_iterations': 3, 'cp_model_probing_level': 0, 'presolve_probing_deterministic_time_limit': 3, 'encode_complex_linear_constraint_with_integer': True, 'ignore_subsolvers:default_lp': True, 'ignore_subsolvers:fixed': True, 'ignore_subsolvers:no_lp': False, 'ignore_subsolvers:max_lp': True, 'ignore_subsolvers:pseudo_costs': False, 'ignore_subsolvers:reduced_costs': True, 'ignore_subsolvers:quick_restart': True, 'ignore_subsolvers:quick_restart_no_lp': True, 'ignore_subsolvers:lb_tree_search': True, 'ignore_subsolvers:probing': False, 'search_branching': 2, 'repair_hint': True, 'use_lb_relax_lns': True, 'use_objective_lb_search': True, 'use_objective_shaving_search': False, 'optimize_with_core': False, 'feasibility_jump_linearization_level': 1, 'fp_rounding': 3, 'diversify_lns_params': False, 'polish_lp_solution': True, 'linearization_level': 1, 'add_objective_cut': True, 'cut_level': 0, 'max_all_diff_cut_size': 0, 'symmetry_level': 0}. Best is trial 20 with value: 0.8102892.\n"
     ]
    },
    {
     "name": "stdout",
     "output_type": "stream",
     "text": [
      "Returning knockout result\n"
     ]
    },
    {
     "name": "stderr",
     "output_type": "stream",
     "text": [
      "[I 2024-08-16 16:59:34,358] Trial 37 finished with value: 2.571471 and parameters: {'preferred_variable_order': 1, 'use_erwa_heuristic': False, 'also_bump_variables_in_conflict_reasons': True, 'binary_minimization_algorithm': 3, 'clause_cleanup_protection': 1, 'presolve_bve_threshold': 1, 'max_presolve_iterations': 0, 'cp_model_probing_level': 0, 'presolve_probing_deterministic_time_limit': 1, 'encode_complex_linear_constraint_with_integer': False, 'ignore_subsolvers:default_lp': False, 'ignore_subsolvers:fixed': False, 'ignore_subsolvers:no_lp': True, 'ignore_subsolvers:max_lp': False, 'ignore_subsolvers:pseudo_costs': True, 'ignore_subsolvers:reduced_costs': True, 'ignore_subsolvers:quick_restart': False, 'ignore_subsolvers:quick_restart_no_lp': False, 'ignore_subsolvers:lb_tree_search': False, 'ignore_subsolvers:probing': False, 'search_branching': 1, 'repair_hint': True, 'use_lb_relax_lns': False, 'use_objective_lb_search': False, 'use_objective_shaving_search': False, 'optimize_with_core': False, 'feasibility_jump_linearization_level': 1, 'fp_rounding': 2, 'diversify_lns_params': False, 'polish_lp_solution': False, 'linearization_level': 1, 'add_objective_cut': True, 'cut_level': 0, 'max_all_diff_cut_size': 1, 'symmetry_level': 2}. Best is trial 20 with value: 0.8102892.\n"
     ]
    },
    {
     "name": "stdout",
     "output_type": "stream",
     "text": [
      "Returning knockout result\n"
     ]
    },
    {
     "name": "stderr",
     "output_type": "stream",
     "text": [
      "[I 2024-08-16 16:59:37,433] Trial 38 finished with value: 30.0 and parameters: {'preferred_variable_order': 2, 'use_erwa_heuristic': True, 'also_bump_variables_in_conflict_reasons': False, 'binary_minimization_algorithm': 1, 'clause_cleanup_protection': 2, 'presolve_bve_threshold': 0, 'max_presolve_iterations': 3, 'cp_model_probing_level': 1, 'presolve_probing_deterministic_time_limit': 3, 'encode_complex_linear_constraint_with_integer': True, 'ignore_subsolvers:default_lp': True, 'ignore_subsolvers:fixed': True, 'ignore_subsolvers:no_lp': True, 'ignore_subsolvers:max_lp': True, 'ignore_subsolvers:pseudo_costs': False, 'ignore_subsolvers:reduced_costs': False, 'ignore_subsolvers:quick_restart': True, 'ignore_subsolvers:quick_restart_no_lp': True, 'ignore_subsolvers:lb_tree_search': True, 'ignore_subsolvers:probing': False, 'search_branching': 6, 'repair_hint': True, 'use_lb_relax_lns': True, 'use_objective_lb_search': True, 'use_objective_shaving_search': False, 'optimize_with_core': False, 'feasibility_jump_linearization_level': 1, 'fp_rounding': 3, 'diversify_lns_params': False, 'polish_lp_solution': True, 'linearization_level': 1, 'add_objective_cut': False, 'cut_level': 1, 'max_all_diff_cut_size': 2, 'symmetry_level': 0}. Best is trial 20 with value: 0.8102892.\n"
     ]
    },
    {
     "name": "stdout",
     "output_type": "stream",
     "text": [
      "Returning knockout result\n"
     ]
    },
    {
     "name": "stderr",
     "output_type": "stream",
     "text": [
      "[I 2024-08-16 16:59:40,501] Trial 39 finished with value: 30.0 and parameters: {'preferred_variable_order': 1, 'use_erwa_heuristic': False, 'also_bump_variables_in_conflict_reasons': True, 'binary_minimization_algorithm': 4, 'clause_cleanup_protection': 1, 'presolve_bve_threshold': 1, 'max_presolve_iterations': 2, 'cp_model_probing_level': 0, 'presolve_probing_deterministic_time_limit': 2, 'encode_complex_linear_constraint_with_integer': False, 'ignore_subsolvers:default_lp': True, 'ignore_subsolvers:fixed': False, 'ignore_subsolvers:no_lp': False, 'ignore_subsolvers:max_lp': True, 'ignore_subsolvers:pseudo_costs': True, 'ignore_subsolvers:reduced_costs': True, 'ignore_subsolvers:quick_restart': False, 'ignore_subsolvers:quick_restart_no_lp': False, 'ignore_subsolvers:lb_tree_search': False, 'ignore_subsolvers:probing': True, 'search_branching': 4, 'repair_hint': False, 'use_lb_relax_lns': False, 'use_objective_lb_search': False, 'use_objective_shaving_search': True, 'optimize_with_core': True, 'feasibility_jump_linearization_level': 1, 'fp_rounding': 3, 'diversify_lns_params': True, 'polish_lp_solution': False, 'linearization_level': 2, 'add_objective_cut': True, 'cut_level': 0, 'max_all_diff_cut_size': 1, 'symmetry_level': 0}. Best is trial 20 with value: 0.8102892.\n"
     ]
    },
    {
     "name": "stdout",
     "output_type": "stream",
     "text": [
      "Returning knockout result\n"
     ]
    },
    {
     "name": "stderr",
     "output_type": "stream",
     "text": [
      "[I 2024-08-16 16:59:44,456] Trial 40 finished with value: 0.780135 and parameters: {'preferred_variable_order': 2, 'use_erwa_heuristic': False, 'also_bump_variables_in_conflict_reasons': False, 'binary_minimization_algorithm': 0, 'clause_cleanup_protection': 1, 'presolve_bve_threshold': 0, 'max_presolve_iterations': 3, 'cp_model_probing_level': 0, 'presolve_probing_deterministic_time_limit': 2, 'encode_complex_linear_constraint_with_integer': False, 'ignore_subsolvers:default_lp': False, 'ignore_subsolvers:fixed': True, 'ignore_subsolvers:no_lp': True, 'ignore_subsolvers:max_lp': True, 'ignore_subsolvers:pseudo_costs': True, 'ignore_subsolvers:reduced_costs': True, 'ignore_subsolvers:quick_restart': True, 'ignore_subsolvers:quick_restart_no_lp': True, 'ignore_subsolvers:lb_tree_search': True, 'ignore_subsolvers:probing': False, 'search_branching': 4, 'repair_hint': True, 'use_lb_relax_lns': False, 'use_objective_lb_search': False, 'use_objective_shaving_search': False, 'optimize_with_core': False, 'feasibility_jump_linearization_level': 1, 'fp_rounding': 0, 'diversify_lns_params': False, 'polish_lp_solution': True, 'linearization_level': 1, 'add_objective_cut': True, 'cut_level': 0, 'max_all_diff_cut_size': 1, 'symmetry_level': 1}. Best is trial 40 with value: 0.780135.\n",
      "[I 2024-08-16 16:59:44,508] Trial 41 finished with value: 0.780135 and parameters: {'preferred_variable_order': 2, 'use_erwa_heuristic': False, 'also_bump_variables_in_conflict_reasons': False, 'binary_minimization_algorithm': 0, 'clause_cleanup_protection': 1, 'presolve_bve_threshold': 0, 'max_presolve_iterations': 3, 'cp_model_probing_level': 0, 'presolve_probing_deterministic_time_limit': 2, 'encode_complex_linear_constraint_with_integer': False, 'ignore_subsolvers:default_lp': False, 'ignore_subsolvers:fixed': True, 'ignore_subsolvers:no_lp': True, 'ignore_subsolvers:max_lp': True, 'ignore_subsolvers:pseudo_costs': True, 'ignore_subsolvers:reduced_costs': True, 'ignore_subsolvers:quick_restart': True, 'ignore_subsolvers:quick_restart_no_lp': True, 'ignore_subsolvers:lb_tree_search': True, 'ignore_subsolvers:probing': False, 'search_branching': 4, 'repair_hint': True, 'use_lb_relax_lns': False, 'use_objective_lb_search': False, 'use_objective_shaving_search': False, 'optimize_with_core': False, 'feasibility_jump_linearization_level': 1, 'fp_rounding': 0, 'diversify_lns_params': False, 'polish_lp_solution': True, 'linearization_level': 1, 'add_objective_cut': True, 'cut_level': 0, 'max_all_diff_cut_size': 1, 'symmetry_level': 1}. Best is trial 40 with value: 0.780135.\n",
      "[I 2024-08-16 16:59:44,559] Trial 42 finished with value: 0.780135 and parameters: {'preferred_variable_order': 2, 'use_erwa_heuristic': False, 'also_bump_variables_in_conflict_reasons': False, 'binary_minimization_algorithm': 0, 'clause_cleanup_protection': 1, 'presolve_bve_threshold': 0, 'max_presolve_iterations': 3, 'cp_model_probing_level': 0, 'presolve_probing_deterministic_time_limit': 2, 'encode_complex_linear_constraint_with_integer': False, 'ignore_subsolvers:default_lp': False, 'ignore_subsolvers:fixed': True, 'ignore_subsolvers:no_lp': True, 'ignore_subsolvers:max_lp': True, 'ignore_subsolvers:pseudo_costs': True, 'ignore_subsolvers:reduced_costs': True, 'ignore_subsolvers:quick_restart': True, 'ignore_subsolvers:quick_restart_no_lp': True, 'ignore_subsolvers:lb_tree_search': True, 'ignore_subsolvers:probing': False, 'search_branching': 4, 'repair_hint': True, 'use_lb_relax_lns': False, 'use_objective_lb_search': False, 'use_objective_shaving_search': False, 'optimize_with_core': False, 'feasibility_jump_linearization_level': 1, 'fp_rounding': 0, 'diversify_lns_params': False, 'polish_lp_solution': True, 'linearization_level': 1, 'add_objective_cut': True, 'cut_level': 0, 'max_all_diff_cut_size': 1, 'symmetry_level': 1}. Best is trial 40 with value: 0.780135.\n",
      "[I 2024-08-16 16:59:51,701] Trial 43 finished with value: 1.4179812 and parameters: {'preferred_variable_order': 2, 'use_erwa_heuristic': False, 'also_bump_variables_in_conflict_reasons': False, 'binary_minimization_algorithm': 0, 'clause_cleanup_protection': 1, 'presolve_bve_threshold': 0, 'max_presolve_iterations': 3, 'cp_model_probing_level': 0, 'presolve_probing_deterministic_time_limit': 2, 'encode_complex_linear_constraint_with_integer': False, 'ignore_subsolvers:default_lp': False, 'ignore_subsolvers:fixed': True, 'ignore_subsolvers:no_lp': True, 'ignore_subsolvers:max_lp': True, 'ignore_subsolvers:pseudo_costs': True, 'ignore_subsolvers:reduced_costs': True, 'ignore_subsolvers:quick_restart': True, 'ignore_subsolvers:quick_restart_no_lp': True, 'ignore_subsolvers:lb_tree_search': True, 'ignore_subsolvers:probing': False, 'search_branching': 5, 'repair_hint': True, 'use_lb_relax_lns': False, 'use_objective_lb_search': False, 'use_objective_shaving_search': False, 'optimize_with_core': False, 'feasibility_jump_linearization_level': 1, 'fp_rounding': 0, 'diversify_lns_params': False, 'polish_lp_solution': True, 'linearization_level': 1, 'add_objective_cut': True, 'cut_level': 0, 'max_all_diff_cut_size': 1, 'symmetry_level': 1}. Best is trial 40 with value: 0.780135.\n",
      "[I 2024-08-16 16:59:57,103] Trial 44 finished with value: 1.0694013999999998 and parameters: {'preferred_variable_order': 2, 'use_erwa_heuristic': False, 'also_bump_variables_in_conflict_reasons': False, 'binary_minimization_algorithm': 0, 'clause_cleanup_protection': 1, 'presolve_bve_threshold': 0, 'max_presolve_iterations': 3, 'cp_model_probing_level': 0, 'presolve_probing_deterministic_time_limit': 1, 'encode_complex_linear_constraint_with_integer': False, 'ignore_subsolvers:default_lp': False, 'ignore_subsolvers:fixed': False, 'ignore_subsolvers:no_lp': True, 'ignore_subsolvers:max_lp': True, 'ignore_subsolvers:pseudo_costs': True, 'ignore_subsolvers:reduced_costs': False, 'ignore_subsolvers:quick_restart': True, 'ignore_subsolvers:quick_restart_no_lp': True, 'ignore_subsolvers:lb_tree_search': True, 'ignore_subsolvers:probing': True, 'search_branching': 2, 'repair_hint': False, 'use_lb_relax_lns': False, 'use_objective_lb_search': False, 'use_objective_shaving_search': False, 'optimize_with_core': False, 'feasibility_jump_linearization_level': 1, 'fp_rounding': 0, 'diversify_lns_params': False, 'polish_lp_solution': True, 'linearization_level': 1, 'add_objective_cut': False, 'cut_level': 2, 'max_all_diff_cut_size': 1, 'symmetry_level': 1}. Best is trial 40 with value: 0.780135.\n",
      "[I 2024-08-16 17:00:02,949] Trial 45 finished with value: 1.1579954000000001 and parameters: {'preferred_variable_order': 2, 'use_erwa_heuristic': True, 'also_bump_variables_in_conflict_reasons': False, 'binary_minimization_algorithm': 1, 'clause_cleanup_protection': 2, 'presolve_bve_threshold': 0, 'max_presolve_iterations': 2, 'cp_model_probing_level': 0, 'presolve_probing_deterministic_time_limit': 2, 'encode_complex_linear_constraint_with_integer': False, 'ignore_subsolvers:default_lp': False, 'ignore_subsolvers:fixed': True, 'ignore_subsolvers:no_lp': False, 'ignore_subsolvers:max_lp': True, 'ignore_subsolvers:pseudo_costs': True, 'ignore_subsolvers:reduced_costs': True, 'ignore_subsolvers:quick_restart': False, 'ignore_subsolvers:quick_restart_no_lp': True, 'ignore_subsolvers:lb_tree_search': False, 'ignore_subsolvers:probing': False, 'search_branching': 6, 'repair_hint': True, 'use_lb_relax_lns': False, 'use_objective_lb_search': False, 'use_objective_shaving_search': False, 'optimize_with_core': False, 'feasibility_jump_linearization_level': 1, 'fp_rounding': 0, 'diversify_lns_params': False, 'polish_lp_solution': True, 'linearization_level': 1, 'add_objective_cut': True, 'cut_level': 0, 'max_all_diff_cut_size': 1, 'symmetry_level': 1}. Best is trial 40 with value: 0.780135.\n",
      "[I 2024-08-16 17:00:05,487] Trial 46 finished with value: 2.482172 and parameters: {'preferred_variable_order': 2, 'use_erwa_heuristic': False, 'also_bump_variables_in_conflict_reasons': False, 'binary_minimization_algorithm': 2, 'clause_cleanup_protection': 1, 'presolve_bve_threshold': 1, 'max_presolve_iterations': 3, 'cp_model_probing_level': 0, 'presolve_probing_deterministic_time_limit': 2, 'encode_complex_linear_constraint_with_integer': True, 'ignore_subsolvers:default_lp': False, 'ignore_subsolvers:fixed': True, 'ignore_subsolvers:no_lp': True, 'ignore_subsolvers:max_lp': False, 'ignore_subsolvers:pseudo_costs': False, 'ignore_subsolvers:reduced_costs': True, 'ignore_subsolvers:quick_restart': True, 'ignore_subsolvers:quick_restart_no_lp': False, 'ignore_subsolvers:lb_tree_search': True, 'ignore_subsolvers:probing': False, 'search_branching': 1, 'repair_hint': True, 'use_lb_relax_lns': True, 'use_objective_lb_search': False, 'use_objective_shaving_search': False, 'optimize_with_core': True, 'feasibility_jump_linearization_level': 1, 'fp_rounding': 0, 'diversify_lns_params': False, 'polish_lp_solution': True, 'linearization_level': 1, 'add_objective_cut': True, 'cut_level': 0, 'max_all_diff_cut_size': 2, 'symmetry_level': 1}. Best is trial 40 with value: 0.780135.\n"
     ]
    },
    {
     "name": "stdout",
     "output_type": "stream",
     "text": [
      "Returning knockout result\n"
     ]
    },
    {
     "name": "stderr",
     "output_type": "stream",
     "text": [
      "[I 2024-08-16 17:00:08,556] Trial 47 finished with value: 30.0 and parameters: {'preferred_variable_order': 2, 'use_erwa_heuristic': False, 'also_bump_variables_in_conflict_reasons': False, 'binary_minimization_algorithm': 3, 'clause_cleanup_protection': 1, 'presolve_bve_threshold': 0, 'max_presolve_iterations': 2, 'cp_model_probing_level': 2, 'presolve_probing_deterministic_time_limit': 2, 'encode_complex_linear_constraint_with_integer': False, 'ignore_subsolvers:default_lp': False, 'ignore_subsolvers:fixed': True, 'ignore_subsolvers:no_lp': True, 'ignore_subsolvers:max_lp': True, 'ignore_subsolvers:pseudo_costs': True, 'ignore_subsolvers:reduced_costs': False, 'ignore_subsolvers:quick_restart': True, 'ignore_subsolvers:quick_restart_no_lp': True, 'ignore_subsolvers:lb_tree_search': True, 'ignore_subsolvers:probing': True, 'search_branching': 4, 'repair_hint': True, 'use_lb_relax_lns': False, 'use_objective_lb_search': True, 'use_objective_shaving_search': True, 'optimize_with_core': False, 'feasibility_jump_linearization_level': 1, 'fp_rounding': 0, 'diversify_lns_params': True, 'polish_lp_solution': True, 'linearization_level': 2, 'add_objective_cut': True, 'cut_level': 0, 'max_all_diff_cut_size': 1, 'symmetry_level': 2}. Best is trial 40 with value: 0.780135.\n"
     ]
    },
    {
     "name": "stdout",
     "output_type": "stream",
     "text": [
      "Returning knockout result\n"
     ]
    },
    {
     "name": "stderr",
     "output_type": "stream",
     "text": [
      "[I 2024-08-16 17:00:11,715] Trial 48 finished with value: 0.6199551999999999 and parameters: {'preferred_variable_order': 1, 'use_erwa_heuristic': False, 'also_bump_variables_in_conflict_reasons': False, 'binary_minimization_algorithm': 0, 'clause_cleanup_protection': 1, 'presolve_bve_threshold': 0, 'max_presolve_iterations': 4, 'cp_model_probing_level': 0, 'presolve_probing_deterministic_time_limit': 0, 'encode_complex_linear_constraint_with_integer': False, 'ignore_subsolvers:default_lp': False, 'ignore_subsolvers:fixed': False, 'ignore_subsolvers:no_lp': True, 'ignore_subsolvers:max_lp': True, 'ignore_subsolvers:pseudo_costs': True, 'ignore_subsolvers:reduced_costs': True, 'ignore_subsolvers:quick_restart': False, 'ignore_subsolvers:quick_restart_no_lp': True, 'ignore_subsolvers:lb_tree_search': True, 'ignore_subsolvers:probing': False, 'search_branching': 4, 'repair_hint': False, 'use_lb_relax_lns': False, 'use_objective_lb_search': False, 'use_objective_shaving_search': False, 'optimize_with_core': False, 'feasibility_jump_linearization_level': 1, 'fp_rounding': 0, 'diversify_lns_params': False, 'polish_lp_solution': True, 'linearization_level': 1, 'add_objective_cut': False, 'cut_level': 0, 'max_all_diff_cut_size': 1, 'symmetry_level': 1}. Best is trial 48 with value: 0.6199551999999999.\n",
      "[I 2024-08-16 17:00:14,547] Trial 49 finished with value: 2.777895 and parameters: {'preferred_variable_order': 1, 'use_erwa_heuristic': True, 'also_bump_variables_in_conflict_reasons': False, 'binary_minimization_algorithm': 0, 'clause_cleanup_protection': 2, 'presolve_bve_threshold': 2, 'max_presolve_iterations': 4, 'cp_model_probing_level': 1, 'presolve_probing_deterministic_time_limit': 0, 'encode_complex_linear_constraint_with_integer': False, 'ignore_subsolvers:default_lp': False, 'ignore_subsolvers:fixed': False, 'ignore_subsolvers:no_lp': True, 'ignore_subsolvers:max_lp': True, 'ignore_subsolvers:pseudo_costs': True, 'ignore_subsolvers:reduced_costs': True, 'ignore_subsolvers:quick_restart': False, 'ignore_subsolvers:quick_restart_no_lp': True, 'ignore_subsolvers:lb_tree_search': True, 'ignore_subsolvers:probing': False, 'search_branching': 7, 'repair_hint': False, 'use_lb_relax_lns': False, 'use_objective_lb_search': False, 'use_objective_shaving_search': False, 'optimize_with_core': False, 'feasibility_jump_linearization_level': 1, 'fp_rounding': 0, 'diversify_lns_params': False, 'polish_lp_solution': True, 'linearization_level': 1, 'add_objective_cut': False, 'cut_level': 1, 'max_all_diff_cut_size': 1, 'symmetry_level': 1}. Best is trial 48 with value: 0.6199551999999999.\n"
     ]
    },
    {
     "name": "stdout",
     "output_type": "stream",
     "text": [
      "Returning knockout result\n",
      "Best parameters: {'preferred_variable_order': 1, 'binary_minimization_algorithm': 0, 'clause_cleanup_protection': 1, 'presolve_bve_threshold': 100, 'max_presolve_iterations': 10, 'cp_model_probing_level': 0, 'presolve_probing_deterministic_time_limit': 0.1, 'ignore_subsolvers': ['no_lp', 'max_lp', 'pseudo_costs', 'reduced_costs', 'quick_restart_no_lp', 'lb_tree_search'], 'search_branching': 4, 'feasibility_jump_linearization_level': 1, 'fp_rounding': 0, 'polish_lp_solution': True, 'cut_level': 0, 'symmetry_level': 1}. Score: 0.6199551999999999\n",
      "Checking which parameter changes obtained by the hyperparameter optimization are essential...\n",
      "optuna_baseline MultiResult(scores=[0.656096, 0.437417, 0.827463, 0.4509, 0.7279, 0.55741, 0.888818, 0.489045, 0.730367, 0.577104], params={'preferred_variable_order': 1, 'binary_minimization_algorithm': 0, 'clause_cleanup_protection': 1, 'presolve_bve_threshold': 100, 'max_presolve_iterations': 10, 'cp_model_probing_level': 0, 'presolve_probing_deterministic_time_limit': 0.1, 'ignore_subsolvers': ['no_lp', 'max_lp', 'pseudo_costs', 'reduced_costs', 'quick_restart_no_lp', 'lb_tree_search'], 'search_branching': 4, 'feasibility_jump_linearization_level': 1, 'fp_rounding': 0, 'polish_lp_solution': True, 'cut_level': 0, 'symmetry_level': 1})\n",
      "Evaluating resetting parameter 'preferred_variable_order' to default...\n",
      "Seems like we can drop parameter 'preferred_variable_order' from the optimized parameters.\n",
      "Evaluating resetting parameter 'binary_minimization_algorithm' to default...\n",
      "Seems like we can drop parameter 'binary_minimization_algorithm' from the optimized parameters.\n",
      "Evaluating resetting parameter 'clause_cleanup_protection' to default...\n",
      "Seems like we can drop parameter 'clause_cleanup_protection' from the optimized parameters.\n",
      "Evaluating resetting parameter 'presolve_bve_threshold' to default...\n",
      "Seems like we can drop parameter 'presolve_bve_threshold' from the optimized parameters.\n",
      "Evaluating resetting parameter 'max_presolve_iterations' to default...\n",
      "Seems like we can drop parameter 'max_presolve_iterations' from the optimized parameters.\n",
      "Evaluating resetting parameter 'cp_model_probing_level' to default...\n",
      "The parameter 'cp_model_probing_level' seems to be essential for the performance.\n",
      "Evaluating resetting parameter 'presolve_probing_deterministic_time_limit' to default...\n",
      "Seems like we can drop parameter 'presolve_probing_deterministic_time_limit' from the optimized parameters.\n",
      "Evaluating resetting parameter 'ignore_subsolvers' to default...\n",
      "Seems like we can drop parameter 'ignore_subsolvers' from the optimized parameters.\n",
      "Evaluating resetting parameter 'search_branching' to default...\n",
      "Seems like we can drop parameter 'search_branching' from the optimized parameters.\n",
      "Evaluating resetting parameter 'feasibility_jump_linearization_level' to default...\n",
      "The parameter 'feasibility_jump_linearization_level' seems to be essential for the performance.\n",
      "Evaluating resetting parameter 'fp_rounding' to default...\n",
      "The parameter 'fp_rounding' seems to be essential for the performance.\n",
      "Evaluating resetting parameter 'polish_lp_solution' to default...\n",
      "Seems like we can drop parameter 'polish_lp_solution' from the optimized parameters.\n",
      "Evaluating resetting parameter 'cut_level' to default...\n",
      "The parameter 'cut_level' seems to be essential for the performance.\n",
      "Evaluating resetting parameter 'symmetry_level' to default...\n",
      "Seems like we can drop parameter 'symmetry_level' from the optimized parameters.\n",
      "optimized_score MultiResult(scores=[0.363058, 0.306628, 0.448921, 0.326848, 0.435826, 0.473011, 0.403924, 0.420229, 0.426003, 0.344792], params={'cp_model_probing_level': 0, 'feasibility_jump_linearization_level': 1, 'fp_rounding': 0, 'cut_level': 0})\n",
      "============================================================\n",
      "                 OPTIMIZED PARAMETERS\n",
      "============================================================\n",
      "\n",
      "1. cp_model_probing_level: 0\n",
      "\tContribution: 36.55%\n",
      "\tDefault Value: 2\n",
      "\tDescription:\n",
      "\t\tDefines the intensity of probing during presolve, where variables are temporarily fixed to infer more information about the problem.\n",
      "\t\t        Higher levels of probing can result in a more simplified problem but require more computation time during presolve.\n",
      "\n",
      "2. feasibility_jump_linearization_level: 1\n",
      "\tContribution: 13.71%\n",
      "\tDefault Value: 2\n",
      "\tDescription:\n",
      "\t\tLinearization level for feasibility jump.\n",
      "\n",
      "3. fp_rounding: 0\n",
      "\tContribution: 15.67%\n",
      "\tDefault Value: 2\n",
      "\tDescription:\n",
      "\t\tSpecifies the rounding method used in the feasibility pump, a heuristic for quickly finding integer feasible solutions. The options are:\n",
      "\t\t        - `0` (NEAREST_INTEGER): Rounds values to the nearest integer.\n",
      "\t\t        - `1` (LOCK_BASED): Rounds based on the direction with fewer constraints (\"locks\").\n",
      "\t\t        - `2` (PROPAGATION_ASSISTED): Rounds with consideration of bound propagation, improving solution quality by integrating more logical deductions.\n",
      "\t\t        - `3` (ACTIVE_LOCK_BASED): Similar to lock-based rounding, but focuses on active constraints from the last LP solve.\n",
      "\n",
      "4. cut_level: 0\n",
      "\tContribution: 34.07%\n",
      "\tDefault Value: 1\n",
      "\tDescription:\n",
      "\t\tSets the level of effort the solver will invest in generating cutting planes, which are linear constraints added to remove infeasible regions.\n",
      "\t\t        Properly applied, cuts can significantly reduce the search space and help the solver find an optimal solution more quickly.\n",
      "------------------------------------------------------------\n",
      "Default Metric Value: 1.6358199\n",
      "Optimized Metric Value: 0.394924\n",
      "------------------------------------------------------------\n",
      "\n",
      "============================================================\n",
      "*** WARNING ***\n",
      "============================================================\n",
      "The optimized parameters listed above were obtained based on a sampling approach and may not fully capture the complexities of the entire problem space. While statistical reasoning has been applied, these results should be considered as a suggestion for further evaluation rather than definitive settings.\n",
      "It is strongly recommended to validate these parameters in larger, more comprehensive experiments before adopting them in critical applications.\n",
      "============================================================\n"
     ]
    }
   ],
   "source": [
    "# tune_for_quality_within_timelimit(models[0], 3, 10, \"minimize\", n_samples_per_param=2, max_samples_per_param=5, n_trials=100)\n",
    "best = tune_time_to_optimal(\n",
    "    model,\n",
    "    timelimit_in_s=3,  # Enter a time limit slightly above what the solver with default parameters needs\n",
    "    n_samples_per_param=5,  # The higher the number, the more accurate the tuning, but the longer it takes\n",
    "    max_samples_per_param=10,  # After this number of samples for a parameter set, we just take the average from the history\n",
    "    n_trials=50,  # Number of trials to run with Optuna\n",
    ")"
   ]
  },
  {
   "cell_type": "code",
   "execution_count": 4,
   "metadata": {},
   "outputs": [
    {
     "name": "stderr",
     "output_type": "stream",
     "text": [
      "[I 2024-08-16 17:02:06,074] A new study created in memory with name: no-name-bd4fd7cf-c21e-4f1e-906e-c00a7ea52500\n"
     ]
    },
    {
     "name": "stdout",
     "output_type": "stream",
     "text": [
      "Baseline: min=130738.0, mean=132036.3, max=132805.0\n"
     ]
    },
    {
     "name": "stderr",
     "output_type": "stream",
     "text": [
      "[I 2024-08-16 17:02:08,660] Trial 0 finished with value: 132212.6 and parameters: {'preferred_variable_order': 0, 'use_erwa_heuristic': False, 'also_bump_variables_in_conflict_reasons': False, 'binary_minimization_algorithm': 1, 'clause_cleanup_protection': 0, 'presolve_bve_threshold': 1, 'max_presolve_iterations': 2, 'cp_model_probing_level': 2, 'presolve_probing_deterministic_time_limit': 4, 'encode_complex_linear_constraint_with_integer': False, 'ignore_subsolvers:default_lp': False, 'ignore_subsolvers:fixed': False, 'ignore_subsolvers:no_lp': False, 'ignore_subsolvers:max_lp': False, 'ignore_subsolvers:pseudo_costs': False, 'ignore_subsolvers:reduced_costs': False, 'ignore_subsolvers:quick_restart': False, 'ignore_subsolvers:quick_restart_no_lp': False, 'ignore_subsolvers:lb_tree_search': False, 'ignore_subsolvers:probing': False, 'search_branching': 0, 'repair_hint': False, 'use_lns_only': False, 'use_lb_relax_lns': False, 'use_objective_lb_search': False, 'use_objective_shaving_search': False, 'optimize_with_core': False, 'feasibility_jump_linearization_level': 2, 'fp_rounding': 2, 'diversify_lns_params': False, 'polish_lp_solution': False, 'linearization_level': 1, 'add_objective_cut': False, 'cut_level': 1, 'max_all_diff_cut_size': 1, 'symmetry_level': 2}. Best is trial 0 with value: 132212.6.\n",
      "[I 2024-08-16 17:02:11,225] Trial 1 finished with value: 132269.4 and parameters: {'preferred_variable_order': 2, 'use_erwa_heuristic': False, 'also_bump_variables_in_conflict_reasons': False, 'binary_minimization_algorithm': 1, 'clause_cleanup_protection': 2, 'presolve_bve_threshold': 0, 'max_presolve_iterations': 2, 'cp_model_probing_level': 0, 'presolve_probing_deterministic_time_limit': 0, 'encode_complex_linear_constraint_with_integer': False, 'ignore_subsolvers:default_lp': True, 'ignore_subsolvers:fixed': False, 'ignore_subsolvers:no_lp': False, 'ignore_subsolvers:max_lp': True, 'ignore_subsolvers:pseudo_costs': True, 'ignore_subsolvers:reduced_costs': True, 'ignore_subsolvers:quick_restart': False, 'ignore_subsolvers:quick_restart_no_lp': False, 'ignore_subsolvers:lb_tree_search': True, 'ignore_subsolvers:probing': False, 'search_branching': 0, 'repair_hint': True, 'use_lns_only': True, 'use_lb_relax_lns': True, 'use_objective_lb_search': True, 'use_objective_shaving_search': True, 'optimize_with_core': True, 'feasibility_jump_linearization_level': 0, 'fp_rounding': 2, 'diversify_lns_params': False, 'polish_lp_solution': True, 'linearization_level': 2, 'add_objective_cut': False, 'cut_level': 0, 'max_all_diff_cut_size': 1, 'symmetry_level': 0}. Best is trial 1 with value: 132269.4.\n",
      "[I 2024-08-16 17:02:13,790] Trial 2 finished with value: 132389.8 and parameters: {'preferred_variable_order': 2, 'use_erwa_heuristic': True, 'also_bump_variables_in_conflict_reasons': True, 'binary_minimization_algorithm': 4, 'clause_cleanup_protection': 0, 'presolve_bve_threshold': 1, 'max_presolve_iterations': 2, 'cp_model_probing_level': 0, 'presolve_probing_deterministic_time_limit': 3, 'encode_complex_linear_constraint_with_integer': True, 'ignore_subsolvers:default_lp': False, 'ignore_subsolvers:fixed': False, 'ignore_subsolvers:no_lp': False, 'ignore_subsolvers:max_lp': True, 'ignore_subsolvers:pseudo_costs': False, 'ignore_subsolvers:reduced_costs': True, 'ignore_subsolvers:quick_restart': True, 'ignore_subsolvers:quick_restart_no_lp': False, 'ignore_subsolvers:lb_tree_search': True, 'ignore_subsolvers:probing': True, 'search_branching': 5, 'repair_hint': True, 'use_lns_only': True, 'use_lb_relax_lns': True, 'use_objective_lb_search': False, 'use_objective_shaving_search': True, 'optimize_with_core': True, 'feasibility_jump_linearization_level': 1, 'fp_rounding': 3, 'diversify_lns_params': False, 'polish_lp_solution': False, 'linearization_level': 0, 'add_objective_cut': True, 'cut_level': 1, 'max_all_diff_cut_size': 2, 'symmetry_level': 2}. Best is trial 2 with value: 132389.8.\n",
      "[I 2024-08-16 17:02:15,335] Trial 3 finished with value: 127077.0 and parameters: {'preferred_variable_order': 1, 'use_erwa_heuristic': False, 'also_bump_variables_in_conflict_reasons': False, 'binary_minimization_algorithm': 0, 'clause_cleanup_protection': 0, 'presolve_bve_threshold': 1, 'max_presolve_iterations': 0, 'cp_model_probing_level': 2, 'presolve_probing_deterministic_time_limit': 0, 'encode_complex_linear_constraint_with_integer': False, 'ignore_subsolvers:default_lp': True, 'ignore_subsolvers:fixed': False, 'ignore_subsolvers:no_lp': True, 'ignore_subsolvers:max_lp': True, 'ignore_subsolvers:pseudo_costs': True, 'ignore_subsolvers:reduced_costs': True, 'ignore_subsolvers:quick_restart': True, 'ignore_subsolvers:quick_restart_no_lp': False, 'ignore_subsolvers:lb_tree_search': True, 'ignore_subsolvers:probing': False, 'search_branching': 0, 'repair_hint': True, 'use_lns_only': False, 'use_lb_relax_lns': False, 'use_objective_lb_search': True, 'use_objective_shaving_search': True, 'optimize_with_core': True, 'feasibility_jump_linearization_level': 1, 'fp_rounding': 3, 'diversify_lns_params': False, 'polish_lp_solution': True, 'linearization_level': 1, 'add_objective_cut': False, 'cut_level': 1, 'max_all_diff_cut_size': 0, 'symmetry_level': 2}. Best is trial 2 with value: 132389.8.\n"
     ]
    },
    {
     "name": "stdout",
     "output_type": "stream",
     "text": [
      "Returning knockout result\n"
     ]
    },
    {
     "name": "stderr",
     "output_type": "stream",
     "text": [
      "[I 2024-08-16 17:02:16,362] Trial 4 finished with value: 128903.0 and parameters: {'preferred_variable_order': 0, 'use_erwa_heuristic': True, 'also_bump_variables_in_conflict_reasons': False, 'binary_minimization_algorithm': 2, 'clause_cleanup_protection': 0, 'presolve_bve_threshold': 0, 'max_presolve_iterations': 1, 'cp_model_probing_level': 0, 'presolve_probing_deterministic_time_limit': 1, 'encode_complex_linear_constraint_with_integer': False, 'ignore_subsolvers:default_lp': True, 'ignore_subsolvers:fixed': True, 'ignore_subsolvers:no_lp': True, 'ignore_subsolvers:max_lp': False, 'ignore_subsolvers:pseudo_costs': False, 'ignore_subsolvers:reduced_costs': True, 'ignore_subsolvers:quick_restart': True, 'ignore_subsolvers:quick_restart_no_lp': True, 'ignore_subsolvers:lb_tree_search': True, 'ignore_subsolvers:probing': True, 'search_branching': 8, 'repair_hint': False, 'use_lns_only': False, 'use_lb_relax_lns': True, 'use_objective_lb_search': True, 'use_objective_shaving_search': True, 'optimize_with_core': True, 'feasibility_jump_linearization_level': 2, 'fp_rounding': 3, 'diversify_lns_params': True, 'polish_lp_solution': False, 'linearization_level': 2, 'add_objective_cut': True, 'cut_level': 1, 'max_all_diff_cut_size': 2, 'symmetry_level': 0}. Best is trial 2 with value: 132389.8.\n"
     ]
    },
    {
     "name": "stdout",
     "output_type": "stream",
     "text": [
      "Returning knockout result\n"
     ]
    },
    {
     "name": "stderr",
     "output_type": "stream",
     "text": [
      "[I 2024-08-16 17:02:17,388] Trial 5 finished with value: 126107.0 and parameters: {'preferred_variable_order': 1, 'use_erwa_heuristic': True, 'also_bump_variables_in_conflict_reasons': False, 'binary_minimization_algorithm': 1, 'clause_cleanup_protection': 1, 'presolve_bve_threshold': 2, 'max_presolve_iterations': 2, 'cp_model_probing_level': 2, 'presolve_probing_deterministic_time_limit': 3, 'encode_complex_linear_constraint_with_integer': False, 'ignore_subsolvers:default_lp': False, 'ignore_subsolvers:fixed': False, 'ignore_subsolvers:no_lp': False, 'ignore_subsolvers:max_lp': False, 'ignore_subsolvers:pseudo_costs': False, 'ignore_subsolvers:reduced_costs': False, 'ignore_subsolvers:quick_restart': False, 'ignore_subsolvers:quick_restart_no_lp': True, 'ignore_subsolvers:lb_tree_search': False, 'ignore_subsolvers:probing': True, 'search_branching': 4, 'repair_hint': False, 'use_lns_only': True, 'use_lb_relax_lns': True, 'use_objective_lb_search': True, 'use_objective_shaving_search': False, 'optimize_with_core': False, 'feasibility_jump_linearization_level': 0, 'fp_rounding': 3, 'diversify_lns_params': True, 'polish_lp_solution': True, 'linearization_level': 2, 'add_objective_cut': False, 'cut_level': 1, 'max_all_diff_cut_size': 1, 'symmetry_level': 1}. Best is trial 2 with value: 132389.8.\n"
     ]
    },
    {
     "name": "stdout",
     "output_type": "stream",
     "text": [
      "Returning knockout result\n"
     ]
    },
    {
     "name": "stderr",
     "output_type": "stream",
     "text": [
      "[I 2024-08-16 17:02:18,421] Trial 6 finished with value: 124274.0 and parameters: {'preferred_variable_order': 0, 'use_erwa_heuristic': True, 'also_bump_variables_in_conflict_reasons': False, 'binary_minimization_algorithm': 4, 'clause_cleanup_protection': 0, 'presolve_bve_threshold': 2, 'max_presolve_iterations': 1, 'cp_model_probing_level': 2, 'presolve_probing_deterministic_time_limit': 1, 'encode_complex_linear_constraint_with_integer': False, 'ignore_subsolvers:default_lp': False, 'ignore_subsolvers:fixed': False, 'ignore_subsolvers:no_lp': False, 'ignore_subsolvers:max_lp': True, 'ignore_subsolvers:pseudo_costs': True, 'ignore_subsolvers:reduced_costs': True, 'ignore_subsolvers:quick_restart': True, 'ignore_subsolvers:quick_restart_no_lp': True, 'ignore_subsolvers:lb_tree_search': False, 'ignore_subsolvers:probing': True, 'search_branching': 2, 'repair_hint': True, 'use_lns_only': False, 'use_lb_relax_lns': False, 'use_objective_lb_search': True, 'use_objective_shaving_search': False, 'optimize_with_core': False, 'feasibility_jump_linearization_level': 1, 'fp_rounding': 3, 'diversify_lns_params': False, 'polish_lp_solution': True, 'linearization_level': 2, 'add_objective_cut': False, 'cut_level': 2, 'max_all_diff_cut_size': 0, 'symmetry_level': 0}. Best is trial 2 with value: 132389.8.\n"
     ]
    },
    {
     "name": "stdout",
     "output_type": "stream",
     "text": [
      "Returning knockout result\n"
     ]
    },
    {
     "name": "stderr",
     "output_type": "stream",
     "text": [
      "[I 2024-08-16 17:02:20,975] Trial 7 finished with value: 132369.6 and parameters: {'preferred_variable_order': 2, 'use_erwa_heuristic': False, 'also_bump_variables_in_conflict_reasons': True, 'binary_minimization_algorithm': 4, 'clause_cleanup_protection': 2, 'presolve_bve_threshold': 2, 'max_presolve_iterations': 4, 'cp_model_probing_level': 1, 'presolve_probing_deterministic_time_limit': 4, 'encode_complex_linear_constraint_with_integer': True, 'ignore_subsolvers:default_lp': True, 'ignore_subsolvers:fixed': False, 'ignore_subsolvers:no_lp': False, 'ignore_subsolvers:max_lp': False, 'ignore_subsolvers:pseudo_costs': True, 'ignore_subsolvers:reduced_costs': False, 'ignore_subsolvers:quick_restart': False, 'ignore_subsolvers:quick_restart_no_lp': False, 'ignore_subsolvers:lb_tree_search': True, 'ignore_subsolvers:probing': False, 'search_branching': 2, 'repair_hint': True, 'use_lns_only': True, 'use_lb_relax_lns': False, 'use_objective_lb_search': True, 'use_objective_shaving_search': True, 'optimize_with_core': True, 'feasibility_jump_linearization_level': 1, 'fp_rounding': 0, 'diversify_lns_params': False, 'polish_lp_solution': False, 'linearization_level': 0, 'add_objective_cut': True, 'cut_level': 2, 'max_all_diff_cut_size': 0, 'symmetry_level': 1}. Best is trial 2 with value: 132389.8.\n",
      "[I 2024-08-16 17:02:23,534] Trial 8 finished with value: 132006.8 and parameters: {'preferred_variable_order': 0, 'use_erwa_heuristic': False, 'also_bump_variables_in_conflict_reasons': False, 'binary_minimization_algorithm': 0, 'clause_cleanup_protection': 1, 'presolve_bve_threshold': 1, 'max_presolve_iterations': 2, 'cp_model_probing_level': 1, 'presolve_probing_deterministic_time_limit': 0, 'encode_complex_linear_constraint_with_integer': False, 'ignore_subsolvers:default_lp': True, 'ignore_subsolvers:fixed': True, 'ignore_subsolvers:no_lp': True, 'ignore_subsolvers:max_lp': False, 'ignore_subsolvers:pseudo_costs': True, 'ignore_subsolvers:reduced_costs': True, 'ignore_subsolvers:quick_restart': False, 'ignore_subsolvers:quick_restart_no_lp': True, 'ignore_subsolvers:lb_tree_search': True, 'ignore_subsolvers:probing': True, 'search_branching': 1, 'repair_hint': False, 'use_lns_only': False, 'use_lb_relax_lns': True, 'use_objective_lb_search': False, 'use_objective_shaving_search': True, 'optimize_with_core': True, 'feasibility_jump_linearization_level': 1, 'fp_rounding': 2, 'diversify_lns_params': True, 'polish_lp_solution': True, 'linearization_level': 0, 'add_objective_cut': False, 'cut_level': 1, 'max_all_diff_cut_size': 0, 'symmetry_level': 0}. Best is trial 2 with value: 132389.8.\n",
      "[I 2024-08-16 17:02:25,077] Trial 9 finished with value: 104478.0 and parameters: {'preferred_variable_order': 2, 'use_erwa_heuristic': False, 'also_bump_variables_in_conflict_reasons': True, 'binary_minimization_algorithm': 2, 'clause_cleanup_protection': 1, 'presolve_bve_threshold': 1, 'max_presolve_iterations': 2, 'cp_model_probing_level': 2, 'presolve_probing_deterministic_time_limit': 1, 'encode_complex_linear_constraint_with_integer': False, 'ignore_subsolvers:default_lp': False, 'ignore_subsolvers:fixed': False, 'ignore_subsolvers:no_lp': True, 'ignore_subsolvers:max_lp': True, 'ignore_subsolvers:pseudo_costs': False, 'ignore_subsolvers:reduced_costs': True, 'ignore_subsolvers:quick_restart': False, 'ignore_subsolvers:quick_restart_no_lp': True, 'ignore_subsolvers:lb_tree_search': False, 'ignore_subsolvers:probing': False, 'search_branching': 2, 'repair_hint': True, 'use_lns_only': False, 'use_lb_relax_lns': True, 'use_objective_lb_search': True, 'use_objective_shaving_search': True, 'optimize_with_core': False, 'feasibility_jump_linearization_level': 1, 'fp_rounding': 0, 'diversify_lns_params': True, 'polish_lp_solution': False, 'linearization_level': 2, 'add_objective_cut': False, 'cut_level': 2, 'max_all_diff_cut_size': 2, 'symmetry_level': 1}. Best is trial 2 with value: 132389.8.\n"
     ]
    },
    {
     "name": "stdout",
     "output_type": "stream",
     "text": [
      "Returning knockout result\n"
     ]
    },
    {
     "name": "stderr",
     "output_type": "stream",
     "text": [
      "[I 2024-08-16 17:02:27,683] Trial 10 finished with value: 131862.8 and parameters: {'preferred_variable_order': 2, 'use_erwa_heuristic': True, 'also_bump_variables_in_conflict_reasons': True, 'binary_minimization_algorithm': 3, 'clause_cleanup_protection': 0, 'presolve_bve_threshold': 0, 'max_presolve_iterations': 4, 'cp_model_probing_level': 0, 'presolve_probing_deterministic_time_limit': 3, 'encode_complex_linear_constraint_with_integer': True, 'ignore_subsolvers:default_lp': False, 'ignore_subsolvers:fixed': True, 'ignore_subsolvers:no_lp': False, 'ignore_subsolvers:max_lp': True, 'ignore_subsolvers:pseudo_costs': False, 'ignore_subsolvers:reduced_costs': False, 'ignore_subsolvers:quick_restart': True, 'ignore_subsolvers:quick_restart_no_lp': False, 'ignore_subsolvers:lb_tree_search': True, 'ignore_subsolvers:probing': True, 'search_branching': 5, 'repair_hint': True, 'use_lns_only': True, 'use_lb_relax_lns': True, 'use_objective_lb_search': False, 'use_objective_shaving_search': False, 'optimize_with_core': True, 'feasibility_jump_linearization_level': 2, 'fp_rounding': 1, 'diversify_lns_params': False, 'polish_lp_solution': False, 'linearization_level': 0, 'add_objective_cut': True, 'cut_level': 0, 'max_all_diff_cut_size': 2, 'symmetry_level': 2}. Best is trial 2 with value: 132389.8.\n",
      "[I 2024-08-16 17:02:30,279] Trial 11 finished with value: 131906.0 and parameters: {'preferred_variable_order': 2, 'use_erwa_heuristic': True, 'also_bump_variables_in_conflict_reasons': True, 'binary_minimization_algorithm': 4, 'clause_cleanup_protection': 2, 'presolve_bve_threshold': 2, 'max_presolve_iterations': 4, 'cp_model_probing_level': 1, 'presolve_probing_deterministic_time_limit': 4, 'encode_complex_linear_constraint_with_integer': True, 'ignore_subsolvers:default_lp': True, 'ignore_subsolvers:fixed': False, 'ignore_subsolvers:no_lp': False, 'ignore_subsolvers:max_lp': False, 'ignore_subsolvers:pseudo_costs': True, 'ignore_subsolvers:reduced_costs': False, 'ignore_subsolvers:quick_restart': True, 'ignore_subsolvers:quick_restart_no_lp': False, 'ignore_subsolvers:lb_tree_search': True, 'ignore_subsolvers:probing': False, 'search_branching': 5, 'repair_hint': True, 'use_lns_only': True, 'use_lb_relax_lns': False, 'use_objective_lb_search': False, 'use_objective_shaving_search': True, 'optimize_with_core': True, 'feasibility_jump_linearization_level': 0, 'fp_rounding': 0, 'diversify_lns_params': False, 'polish_lp_solution': False, 'linearization_level': 0, 'add_objective_cut': True, 'cut_level': 2, 'max_all_diff_cut_size': 1, 'symmetry_level': 1}. Best is trial 2 with value: 132389.8.\n",
      "[I 2024-08-16 17:02:31,854] Trial 12 finished with value: 130069.0 and parameters: {'preferred_variable_order': 1, 'use_erwa_heuristic': True, 'also_bump_variables_in_conflict_reasons': True, 'binary_minimization_algorithm': 4, 'clause_cleanup_protection': 2, 'presolve_bve_threshold': 2, 'max_presolve_iterations': 3, 'cp_model_probing_level': 1, 'presolve_probing_deterministic_time_limit': 3, 'encode_complex_linear_constraint_with_integer': True, 'ignore_subsolvers:default_lp': False, 'ignore_subsolvers:fixed': False, 'ignore_subsolvers:no_lp': False, 'ignore_subsolvers:max_lp': True, 'ignore_subsolvers:pseudo_costs': True, 'ignore_subsolvers:reduced_costs': False, 'ignore_subsolvers:quick_restart': True, 'ignore_subsolvers:quick_restart_no_lp': False, 'ignore_subsolvers:lb_tree_search': True, 'ignore_subsolvers:probing': True, 'search_branching': 6, 'repair_hint': True, 'use_lns_only': True, 'use_lb_relax_lns': False, 'use_objective_lb_search': False, 'use_objective_shaving_search': True, 'optimize_with_core': True, 'feasibility_jump_linearization_level': 1, 'fp_rounding': 0, 'diversify_lns_params': False, 'polish_lp_solution': False, 'linearization_level': 0, 'add_objective_cut': True, 'cut_level': 2, 'max_all_diff_cut_size': 0, 'symmetry_level': 2}. Best is trial 2 with value: 132389.8.\n"
     ]
    },
    {
     "name": "stdout",
     "output_type": "stream",
     "text": [
      "Returning knockout result\n"
     ]
    },
    {
     "name": "stderr",
     "output_type": "stream",
     "text": [
      "[I 2024-08-16 17:02:34,449] Trial 13 finished with value: 132195.4 and parameters: {'preferred_variable_order': 2, 'use_erwa_heuristic': False, 'also_bump_variables_in_conflict_reasons': True, 'binary_minimization_algorithm': 4, 'clause_cleanup_protection': 2, 'presolve_bve_threshold': 1, 'max_presolve_iterations': 3, 'cp_model_probing_level': 0, 'presolve_probing_deterministic_time_limit': 4, 'encode_complex_linear_constraint_with_integer': True, 'ignore_subsolvers:default_lp': True, 'ignore_subsolvers:fixed': False, 'ignore_subsolvers:no_lp': False, 'ignore_subsolvers:max_lp': False, 'ignore_subsolvers:pseudo_costs': False, 'ignore_subsolvers:reduced_costs': False, 'ignore_subsolvers:quick_restart': False, 'ignore_subsolvers:quick_restart_no_lp': False, 'ignore_subsolvers:lb_tree_search': True, 'ignore_subsolvers:probing': False, 'search_branching': 7, 'repair_hint': True, 'use_lns_only': True, 'use_lb_relax_lns': False, 'use_objective_lb_search': False, 'use_objective_shaving_search': True, 'optimize_with_core': True, 'feasibility_jump_linearization_level': 1, 'fp_rounding': 1, 'diversify_lns_params': False, 'polish_lp_solution': False, 'linearization_level': 1, 'add_objective_cut': True, 'cut_level': 0, 'max_all_diff_cut_size': 2, 'symmetry_level': 1}. Best is trial 2 with value: 132389.8.\n",
      "[I 2024-08-16 17:02:37,051] Trial 14 finished with value: 126963.0 and parameters: {'preferred_variable_order': 2, 'use_erwa_heuristic': False, 'also_bump_variables_in_conflict_reasons': True, 'binary_minimization_algorithm': 4, 'clause_cleanup_protection': 2, 'presolve_bve_threshold': 2, 'max_presolve_iterations': 3, 'cp_model_probing_level': 1, 'presolve_probing_deterministic_time_limit': 2, 'encode_complex_linear_constraint_with_integer': True, 'ignore_subsolvers:default_lp': False, 'ignore_subsolvers:fixed': True, 'ignore_subsolvers:no_lp': False, 'ignore_subsolvers:max_lp': False, 'ignore_subsolvers:pseudo_costs': True, 'ignore_subsolvers:reduced_costs': True, 'ignore_subsolvers:quick_restart': False, 'ignore_subsolvers:quick_restart_no_lp': False, 'ignore_subsolvers:lb_tree_search': True, 'ignore_subsolvers:probing': False, 'search_branching': 3, 'repair_hint': True, 'use_lns_only': True, 'use_lb_relax_lns': True, 'use_objective_lb_search': True, 'use_objective_shaving_search': True, 'optimize_with_core': True, 'feasibility_jump_linearization_level': 0, 'fp_rounding': 0, 'diversify_lns_params': False, 'polish_lp_solution': False, 'linearization_level': 0, 'add_objective_cut': True, 'cut_level': 2, 'max_all_diff_cut_size': 1, 'symmetry_level': 1}. Best is trial 2 with value: 132389.8.\n"
     ]
    },
    {
     "name": "stdout",
     "output_type": "stream",
     "text": [
      "Returning knockout result\n"
     ]
    },
    {
     "name": "stderr",
     "output_type": "stream",
     "text": [
      "[I 2024-08-16 17:02:39,650] Trial 15 finished with value: 132296.8 and parameters: {'preferred_variable_order': 1, 'use_erwa_heuristic': True, 'also_bump_variables_in_conflict_reasons': True, 'binary_minimization_algorithm': 3, 'clause_cleanup_protection': 0, 'presolve_bve_threshold': 1, 'max_presolve_iterations': 1, 'cp_model_probing_level': 0, 'presolve_probing_deterministic_time_limit': 3, 'encode_complex_linear_constraint_with_integer': True, 'ignore_subsolvers:default_lp': True, 'ignore_subsolvers:fixed': False, 'ignore_subsolvers:no_lp': False, 'ignore_subsolvers:max_lp': True, 'ignore_subsolvers:pseudo_costs': False, 'ignore_subsolvers:reduced_costs': False, 'ignore_subsolvers:quick_restart': True, 'ignore_subsolvers:quick_restart_no_lp': False, 'ignore_subsolvers:lb_tree_search': True, 'ignore_subsolvers:probing': True, 'search_branching': 5, 'repair_hint': True, 'use_lns_only': True, 'use_lb_relax_lns': False, 'use_objective_lb_search': False, 'use_objective_shaving_search': True, 'optimize_with_core': True, 'feasibility_jump_linearization_level': 2, 'fp_rounding': 3, 'diversify_lns_params': False, 'polish_lp_solution': False, 'linearization_level': 0, 'add_objective_cut': True, 'cut_level': 1, 'max_all_diff_cut_size': 2, 'symmetry_level': 2}. Best is trial 2 with value: 132389.8.\n",
      "[I 2024-08-16 17:02:40,210] Trial 16 finished with value: 101375.0 and parameters: {'preferred_variable_order': 2, 'use_erwa_heuristic': True, 'also_bump_variables_in_conflict_reasons': True, 'binary_minimization_algorithm': 4, 'clause_cleanup_protection': 2, 'presolve_bve_threshold': 2, 'max_presolve_iterations': 4, 'cp_model_probing_level': 1, 'presolve_probing_deterministic_time_limit': 2, 'encode_complex_linear_constraint_with_integer': True, 'ignore_subsolvers:default_lp': False, 'ignore_subsolvers:fixed': False, 'ignore_subsolvers:no_lp': False, 'ignore_subsolvers:max_lp': False, 'ignore_subsolvers:pseudo_costs': False, 'ignore_subsolvers:reduced_costs': False, 'ignore_subsolvers:quick_restart': False, 'ignore_subsolvers:quick_restart_no_lp': False, 'ignore_subsolvers:lb_tree_search': True, 'ignore_subsolvers:probing': True, 'search_branching': 2, 'repair_hint': True, 'use_lns_only': True, 'use_lb_relax_lns': True, 'use_objective_lb_search': True, 'use_objective_shaving_search': True, 'optimize_with_core': True, 'feasibility_jump_linearization_level': 1, 'fp_rounding': 0, 'diversify_lns_params': False, 'polish_lp_solution': False, 'linearization_level': 1, 'add_objective_cut': True, 'cut_level': 2, 'max_all_diff_cut_size': 0, 'symmetry_level': 1}. Best is trial 2 with value: 132389.8.\n"
     ]
    },
    {
     "name": "stdout",
     "output_type": "stream",
     "text": [
      "Returning knockout result\n"
     ]
    },
    {
     "name": "stderr",
     "output_type": "stream",
     "text": [
      "[I 2024-08-16 17:02:42,807] Trial 17 finished with value: 132349.6 and parameters: {'preferred_variable_order': 1, 'use_erwa_heuristic': False, 'also_bump_variables_in_conflict_reasons': True, 'binary_minimization_algorithm': 4, 'clause_cleanup_protection': 2, 'presolve_bve_threshold': 0, 'max_presolve_iterations': 3, 'cp_model_probing_level': 0, 'presolve_probing_deterministic_time_limit': 4, 'encode_complex_linear_constraint_with_integer': True, 'ignore_subsolvers:default_lp': True, 'ignore_subsolvers:fixed': False, 'ignore_subsolvers:no_lp': False, 'ignore_subsolvers:max_lp': True, 'ignore_subsolvers:pseudo_costs': True, 'ignore_subsolvers:reduced_costs': True, 'ignore_subsolvers:quick_restart': True, 'ignore_subsolvers:quick_restart_no_lp': False, 'ignore_subsolvers:lb_tree_search': True, 'ignore_subsolvers:probing': False, 'search_branching': 7, 'repair_hint': True, 'use_lns_only': True, 'use_lb_relax_lns': False, 'use_objective_lb_search': False, 'use_objective_shaving_search': True, 'optimize_with_core': True, 'feasibility_jump_linearization_level': 0, 'fp_rounding': 1, 'diversify_lns_params': False, 'polish_lp_solution': False, 'linearization_level': 0, 'add_objective_cut': True, 'cut_level': 0, 'max_all_diff_cut_size': 1, 'symmetry_level': 2}. Best is trial 2 with value: 132389.8.\n",
      "[I 2024-08-16 17:02:45,406] Trial 18 finished with value: 131920.6 and parameters: {'preferred_variable_order': 2, 'use_erwa_heuristic': False, 'also_bump_variables_in_conflict_reasons': True, 'binary_minimization_algorithm': 4, 'clause_cleanup_protection': 0, 'presolve_bve_threshold': 1, 'max_presolve_iterations': 0, 'cp_model_probing_level': 1, 'presolve_probing_deterministic_time_limit': 3, 'encode_complex_linear_constraint_with_integer': True, 'ignore_subsolvers:default_lp': False, 'ignore_subsolvers:fixed': True, 'ignore_subsolvers:no_lp': True, 'ignore_subsolvers:max_lp': True, 'ignore_subsolvers:pseudo_costs': False, 'ignore_subsolvers:reduced_costs': False, 'ignore_subsolvers:quick_restart': False, 'ignore_subsolvers:quick_restart_no_lp': False, 'ignore_subsolvers:lb_tree_search': False, 'ignore_subsolvers:probing': True, 'search_branching': 6, 'repair_hint': False, 'use_lns_only': True, 'use_lb_relax_lns': False, 'use_objective_lb_search': True, 'use_objective_shaving_search': False, 'optimize_with_core': False, 'feasibility_jump_linearization_level': 2, 'fp_rounding': 3, 'diversify_lns_params': True, 'polish_lp_solution': False, 'linearization_level': 1, 'add_objective_cut': True, 'cut_level': 1, 'max_all_diff_cut_size': 1, 'symmetry_level': 1}. Best is trial 2 with value: 132389.8.\n",
      "[I 2024-08-16 17:02:48,008] Trial 19 finished with value: 132147.6 and parameters: {'preferred_variable_order': 1, 'use_erwa_heuristic': True, 'also_bump_variables_in_conflict_reasons': True, 'binary_minimization_algorithm': 2, 'clause_cleanup_protection': 1, 'presolve_bve_threshold': 2, 'max_presolve_iterations': 4, 'cp_model_probing_level': 1, 'presolve_probing_deterministic_time_limit': 4, 'encode_complex_linear_constraint_with_integer': True, 'ignore_subsolvers:default_lp': True, 'ignore_subsolvers:fixed': False, 'ignore_subsolvers:no_lp': False, 'ignore_subsolvers:max_lp': False, 'ignore_subsolvers:pseudo_costs': True, 'ignore_subsolvers:reduced_costs': True, 'ignore_subsolvers:quick_restart': True, 'ignore_subsolvers:quick_restart_no_lp': False, 'ignore_subsolvers:lb_tree_search': True, 'ignore_subsolvers:probing': False, 'search_branching': 4, 'repair_hint': True, 'use_lns_only': True, 'use_lb_relax_lns': True, 'use_objective_lb_search': False, 'use_objective_shaving_search': True, 'optimize_with_core': True, 'feasibility_jump_linearization_level': 1, 'fp_rounding': 0, 'diversify_lns_params': False, 'polish_lp_solution': False, 'linearization_level': 0, 'add_objective_cut': True, 'cut_level': 2, 'max_all_diff_cut_size': 2, 'symmetry_level': 2}. Best is trial 2 with value: 132389.8.\n",
      "[I 2024-08-16 17:02:50,611] Trial 20 finished with value: 130481.0 and parameters: {'preferred_variable_order': 2, 'use_erwa_heuristic': False, 'also_bump_variables_in_conflict_reasons': True, 'binary_minimization_algorithm': 3, 'clause_cleanup_protection': 2, 'presolve_bve_threshold': 1, 'max_presolve_iterations': 3, 'cp_model_probing_level': 0, 'presolve_probing_deterministic_time_limit': 2, 'encode_complex_linear_constraint_with_integer': True, 'ignore_subsolvers:default_lp': False, 'ignore_subsolvers:fixed': False, 'ignore_subsolvers:no_lp': False, 'ignore_subsolvers:max_lp': True, 'ignore_subsolvers:pseudo_costs': False, 'ignore_subsolvers:reduced_costs': False, 'ignore_subsolvers:quick_restart': False, 'ignore_subsolvers:quick_restart_no_lp': False, 'ignore_subsolvers:lb_tree_search': True, 'ignore_subsolvers:probing': False, 'search_branching': 8, 'repair_hint': True, 'use_lns_only': True, 'use_lb_relax_lns': True, 'use_objective_lb_search': False, 'use_objective_shaving_search': True, 'optimize_with_core': True, 'feasibility_jump_linearization_level': 1, 'fp_rounding': 3, 'diversify_lns_params': False, 'polish_lp_solution': False, 'linearization_level': 0, 'add_objective_cut': True, 'cut_level': 1, 'max_all_diff_cut_size': 0, 'symmetry_level': 1}. Best is trial 2 with value: 132389.8.\n",
      "[I 2024-08-16 17:02:50,661] Trial 21 finished with value: 132349.6 and parameters: {'preferred_variable_order': 1, 'use_erwa_heuristic': False, 'also_bump_variables_in_conflict_reasons': True, 'binary_minimization_algorithm': 4, 'clause_cleanup_protection': 2, 'presolve_bve_threshold': 0, 'max_presolve_iterations': 3, 'cp_model_probing_level': 0, 'presolve_probing_deterministic_time_limit': 4, 'encode_complex_linear_constraint_with_integer': True, 'ignore_subsolvers:default_lp': True, 'ignore_subsolvers:fixed': False, 'ignore_subsolvers:no_lp': False, 'ignore_subsolvers:max_lp': True, 'ignore_subsolvers:pseudo_costs': True, 'ignore_subsolvers:reduced_costs': True, 'ignore_subsolvers:quick_restart': True, 'ignore_subsolvers:quick_restart_no_lp': False, 'ignore_subsolvers:lb_tree_search': True, 'ignore_subsolvers:probing': False, 'search_branching': 7, 'repair_hint': True, 'use_lns_only': True, 'use_lb_relax_lns': False, 'use_objective_lb_search': False, 'use_objective_shaving_search': True, 'optimize_with_core': True, 'feasibility_jump_linearization_level': 0, 'fp_rounding': 1, 'diversify_lns_params': False, 'polish_lp_solution': False, 'linearization_level': 0, 'add_objective_cut': True, 'cut_level': 0, 'max_all_diff_cut_size': 1, 'symmetry_level': 2}. Best is trial 2 with value: 132389.8.\n"
     ]
    },
    {
     "name": "stdout",
     "output_type": "stream",
     "text": [
      "Returning knockout result\n"
     ]
    },
    {
     "name": "stderr",
     "output_type": "stream",
     "text": [
      "[I 2024-08-16 17:02:52,242] Trial 22 finished with value: 129683.0 and parameters: {'preferred_variable_order': 1, 'use_erwa_heuristic': False, 'also_bump_variables_in_conflict_reasons': True, 'binary_minimization_algorithm': 4, 'clause_cleanup_protection': 2, 'presolve_bve_threshold': 0, 'max_presolve_iterations': 4, 'cp_model_probing_level': 0, 'presolve_probing_deterministic_time_limit': 4, 'encode_complex_linear_constraint_with_integer': True, 'ignore_subsolvers:default_lp': True, 'ignore_subsolvers:fixed': False, 'ignore_subsolvers:no_lp': False, 'ignore_subsolvers:max_lp': True, 'ignore_subsolvers:pseudo_costs': True, 'ignore_subsolvers:reduced_costs': True, 'ignore_subsolvers:quick_restart': True, 'ignore_subsolvers:quick_restart_no_lp': False, 'ignore_subsolvers:lb_tree_search': True, 'ignore_subsolvers:probing': False, 'search_branching': 7, 'repair_hint': True, 'use_lns_only': True, 'use_lb_relax_lns': False, 'use_objective_lb_search': False, 'use_objective_shaving_search': True, 'optimize_with_core': True, 'feasibility_jump_linearization_level': 0, 'fp_rounding': 1, 'diversify_lns_params': False, 'polish_lp_solution': False, 'linearization_level': 0, 'add_objective_cut': True, 'cut_level': 0, 'max_all_diff_cut_size': 2, 'symmetry_level': 2}. Best is trial 2 with value: 132389.8.\n"
     ]
    },
    {
     "name": "stdout",
     "output_type": "stream",
     "text": [
      "Returning knockout result\n"
     ]
    },
    {
     "name": "stderr",
     "output_type": "stream",
     "text": [
      "[I 2024-08-16 17:02:54,844] Trial 23 finished with value: 132032.8 and parameters: {'preferred_variable_order': 1, 'use_erwa_heuristic': False, 'also_bump_variables_in_conflict_reasons': True, 'binary_minimization_algorithm': 4, 'clause_cleanup_protection': 2, 'presolve_bve_threshold': 0, 'max_presolve_iterations': 3, 'cp_model_probing_level': 0, 'presolve_probing_deterministic_time_limit': 3, 'encode_complex_linear_constraint_with_integer': True, 'ignore_subsolvers:default_lp': True, 'ignore_subsolvers:fixed': False, 'ignore_subsolvers:no_lp': False, 'ignore_subsolvers:max_lp': True, 'ignore_subsolvers:pseudo_costs': True, 'ignore_subsolvers:reduced_costs': True, 'ignore_subsolvers:quick_restart': True, 'ignore_subsolvers:quick_restart_no_lp': False, 'ignore_subsolvers:lb_tree_search': True, 'ignore_subsolvers:probing': False, 'search_branching': 3, 'repair_hint': True, 'use_lns_only': True, 'use_lb_relax_lns': False, 'use_objective_lb_search': False, 'use_objective_shaving_search': True, 'optimize_with_core': True, 'feasibility_jump_linearization_level': 0, 'fp_rounding': 1, 'diversify_lns_params': False, 'polish_lp_solution': False, 'linearization_level': 0, 'add_objective_cut': True, 'cut_level': 0, 'max_all_diff_cut_size': 0, 'symmetry_level': 2}. Best is trial 2 with value: 132389.8.\n",
      "[I 2024-08-16 17:02:56,427] Trial 24 finished with value: 127440.0 and parameters: {'preferred_variable_order': 2, 'use_erwa_heuristic': False, 'also_bump_variables_in_conflict_reasons': True, 'binary_minimization_algorithm': 0, 'clause_cleanup_protection': 2, 'presolve_bve_threshold': 0, 'max_presolve_iterations': 3, 'cp_model_probing_level': 0, 'presolve_probing_deterministic_time_limit': 4, 'encode_complex_linear_constraint_with_integer': True, 'ignore_subsolvers:default_lp': True, 'ignore_subsolvers:fixed': False, 'ignore_subsolvers:no_lp': False, 'ignore_subsolvers:max_lp': True, 'ignore_subsolvers:pseudo_costs': True, 'ignore_subsolvers:reduced_costs': True, 'ignore_subsolvers:quick_restart': True, 'ignore_subsolvers:quick_restart_no_lp': False, 'ignore_subsolvers:lb_tree_search': True, 'ignore_subsolvers:probing': False, 'search_branching': 1, 'repair_hint': True, 'use_lns_only': True, 'use_lb_relax_lns': False, 'use_objective_lb_search': False, 'use_objective_shaving_search': True, 'optimize_with_core': True, 'feasibility_jump_linearization_level': 1, 'fp_rounding': 1, 'diversify_lns_params': False, 'polish_lp_solution': False, 'linearization_level': 1, 'add_objective_cut': True, 'cut_level': 0, 'max_all_diff_cut_size': 1, 'symmetry_level': 2}. Best is trial 2 with value: 132389.8.\n"
     ]
    },
    {
     "name": "stdout",
     "output_type": "stream",
     "text": [
      "Returning knockout result\n"
     ]
    },
    {
     "name": "stderr",
     "output_type": "stream",
     "text": [
      "[I 2024-08-16 17:02:59,035] Trial 25 finished with value: 132273.8 and parameters: {'preferred_variable_order': 1, 'use_erwa_heuristic': False, 'also_bump_variables_in_conflict_reasons': True, 'binary_minimization_algorithm': 4, 'clause_cleanup_protection': 0, 'presolve_bve_threshold': 1, 'max_presolve_iterations': 4, 'cp_model_probing_level': 1, 'presolve_probing_deterministic_time_limit': 3, 'encode_complex_linear_constraint_with_integer': True, 'ignore_subsolvers:default_lp': True, 'ignore_subsolvers:fixed': False, 'ignore_subsolvers:no_lp': False, 'ignore_subsolvers:max_lp': True, 'ignore_subsolvers:pseudo_costs': True, 'ignore_subsolvers:reduced_costs': True, 'ignore_subsolvers:quick_restart': True, 'ignore_subsolvers:quick_restart_no_lp': False, 'ignore_subsolvers:lb_tree_search': True, 'ignore_subsolvers:probing': False, 'search_branching': 7, 'repair_hint': True, 'use_lns_only': True, 'use_lb_relax_lns': False, 'use_objective_lb_search': False, 'use_objective_shaving_search': True, 'optimize_with_core': True, 'feasibility_jump_linearization_level': 0, 'fp_rounding': 1, 'diversify_lns_params': False, 'polish_lp_solution': False, 'linearization_level': 0, 'add_objective_cut': True, 'cut_level': 1, 'max_all_diff_cut_size': 1, 'symmetry_level': 1}. Best is trial 2 with value: 132389.8.\n",
      "[I 2024-08-16 17:03:01,656] Trial 26 finished with value: 131346.6 and parameters: {'preferred_variable_order': 2, 'use_erwa_heuristic': True, 'also_bump_variables_in_conflict_reasons': True, 'binary_minimization_algorithm': 4, 'clause_cleanup_protection': 2, 'presolve_bve_threshold': 2, 'max_presolve_iterations': 2, 'cp_model_probing_level': 0, 'presolve_probing_deterministic_time_limit': 4, 'encode_complex_linear_constraint_with_integer': True, 'ignore_subsolvers:default_lp': True, 'ignore_subsolvers:fixed': True, 'ignore_subsolvers:no_lp': True, 'ignore_subsolvers:max_lp': False, 'ignore_subsolvers:pseudo_costs': True, 'ignore_subsolvers:reduced_costs': True, 'ignore_subsolvers:quick_restart': True, 'ignore_subsolvers:quick_restart_no_lp': True, 'ignore_subsolvers:lb_tree_search': False, 'ignore_subsolvers:probing': True, 'search_branching': 2, 'repair_hint': False, 'use_lns_only': True, 'use_lb_relax_lns': False, 'use_objective_lb_search': True, 'use_objective_shaving_search': False, 'optimize_with_core': False, 'feasibility_jump_linearization_level': 1, 'fp_rounding': 0, 'diversify_lns_params': True, 'polish_lp_solution': True, 'linearization_level': 0, 'add_objective_cut': True, 'cut_level': 0, 'max_all_diff_cut_size': 1, 'symmetry_level': 2}. Best is trial 2 with value: 132389.8.\n",
      "[I 2024-08-16 17:03:04,260] Trial 27 finished with value: 132066.2 and parameters: {'preferred_variable_order': 1, 'use_erwa_heuristic': False, 'also_bump_variables_in_conflict_reasons': True, 'binary_minimization_algorithm': 4, 'clause_cleanup_protection': 2, 'presolve_bve_threshold': 1, 'max_presolve_iterations': 1, 'cp_model_probing_level': 1, 'presolve_probing_deterministic_time_limit': 3, 'encode_complex_linear_constraint_with_integer': True, 'ignore_subsolvers:default_lp': True, 'ignore_subsolvers:fixed': False, 'ignore_subsolvers:no_lp': False, 'ignore_subsolvers:max_lp': True, 'ignore_subsolvers:pseudo_costs': True, 'ignore_subsolvers:reduced_costs': True, 'ignore_subsolvers:quick_restart': True, 'ignore_subsolvers:quick_restart_no_lp': False, 'ignore_subsolvers:lb_tree_search': True, 'ignore_subsolvers:probing': False, 'search_branching': 5, 'repair_hint': True, 'use_lns_only': True, 'use_lb_relax_lns': False, 'use_objective_lb_search': False, 'use_objective_shaving_search': True, 'optimize_with_core': True, 'feasibility_jump_linearization_level': 2, 'fp_rounding': 2, 'diversify_lns_params': False, 'polish_lp_solution': False, 'linearization_level': 1, 'add_objective_cut': True, 'cut_level': 1, 'max_all_diff_cut_size': 0, 'symmetry_level': 1}. Best is trial 2 with value: 132389.8.\n",
      "[I 2024-08-16 17:03:06,884] Trial 28 finished with value: 132355.2 and parameters: {'preferred_variable_order': 2, 'use_erwa_heuristic': True, 'also_bump_variables_in_conflict_reasons': True, 'binary_minimization_algorithm': 4, 'clause_cleanup_protection': 1, 'presolve_bve_threshold': 0, 'max_presolve_iterations': 3, 'cp_model_probing_level': 0, 'presolve_probing_deterministic_time_limit': 4, 'encode_complex_linear_constraint_with_integer': True, 'ignore_subsolvers:default_lp': False, 'ignore_subsolvers:fixed': False, 'ignore_subsolvers:no_lp': False, 'ignore_subsolvers:max_lp': False, 'ignore_subsolvers:pseudo_costs': False, 'ignore_subsolvers:reduced_costs': False, 'ignore_subsolvers:quick_restart': False, 'ignore_subsolvers:quick_restart_no_lp': False, 'ignore_subsolvers:lb_tree_search': True, 'ignore_subsolvers:probing': True, 'search_branching': 5, 'repair_hint': True, 'use_lns_only': True, 'use_lb_relax_lns': True, 'use_objective_lb_search': True, 'use_objective_shaving_search': True, 'optimize_with_core': True, 'feasibility_jump_linearization_level': 0, 'fp_rounding': 3, 'diversify_lns_params': False, 'polish_lp_solution': False, 'linearization_level': 0, 'add_objective_cut': True, 'cut_level': 2, 'max_all_diff_cut_size': 2, 'symmetry_level': 2}. Best is trial 2 with value: 132389.8.\n",
      "[I 2024-08-16 17:03:08,484] Trial 29 finished with value: 130309.0 and parameters: {'preferred_variable_order': 2, 'use_erwa_heuristic': True, 'also_bump_variables_in_conflict_reasons': True, 'binary_minimization_algorithm': 1, 'clause_cleanup_protection': 1, 'presolve_bve_threshold': 2, 'max_presolve_iterations': 2, 'cp_model_probing_level': 1, 'presolve_probing_deterministic_time_limit': 4, 'encode_complex_linear_constraint_with_integer': True, 'ignore_subsolvers:default_lp': False, 'ignore_subsolvers:fixed': False, 'ignore_subsolvers:no_lp': False, 'ignore_subsolvers:max_lp': False, 'ignore_subsolvers:pseudo_costs': False, 'ignore_subsolvers:reduced_costs': False, 'ignore_subsolvers:quick_restart': False, 'ignore_subsolvers:quick_restart_no_lp': False, 'ignore_subsolvers:lb_tree_search': False, 'ignore_subsolvers:probing': True, 'search_branching': 5, 'repair_hint': False, 'use_lns_only': False, 'use_lb_relax_lns': True, 'use_objective_lb_search': True, 'use_objective_shaving_search': False, 'optimize_with_core': False, 'feasibility_jump_linearization_level': 1, 'fp_rounding': 3, 'diversify_lns_params': False, 'polish_lp_solution': False, 'linearization_level': 1, 'add_objective_cut': True, 'cut_level': 2, 'max_all_diff_cut_size': 2, 'symmetry_level': 2}. Best is trial 2 with value: 132389.8.\n"
     ]
    },
    {
     "name": "stdout",
     "output_type": "stream",
     "text": [
      "Returning knockout result\n"
     ]
    },
    {
     "name": "stderr",
     "output_type": "stream",
     "text": [
      "[I 2024-08-16 17:03:09,556] Trial 30 finished with value: 125750.0 and parameters: {'preferred_variable_order': 2, 'use_erwa_heuristic': True, 'also_bump_variables_in_conflict_reasons': True, 'binary_minimization_algorithm': 0, 'clause_cleanup_protection': 1, 'presolve_bve_threshold': 0, 'max_presolve_iterations': 4, 'cp_model_probing_level': 2, 'presolve_probing_deterministic_time_limit': 3, 'encode_complex_linear_constraint_with_integer': True, 'ignore_subsolvers:default_lp': False, 'ignore_subsolvers:fixed': False, 'ignore_subsolvers:no_lp': False, 'ignore_subsolvers:max_lp': False, 'ignore_subsolvers:pseudo_costs': False, 'ignore_subsolvers:reduced_costs': False, 'ignore_subsolvers:quick_restart': False, 'ignore_subsolvers:quick_restart_no_lp': False, 'ignore_subsolvers:lb_tree_search': True, 'ignore_subsolvers:probing': True, 'search_branching': 5, 'repair_hint': True, 'use_lns_only': True, 'use_lb_relax_lns': True, 'use_objective_lb_search': True, 'use_objective_shaving_search': True, 'optimize_with_core': True, 'feasibility_jump_linearization_level': 2, 'fp_rounding': 3, 'diversify_lns_params': False, 'polish_lp_solution': False, 'linearization_level': 0, 'add_objective_cut': True, 'cut_level': 2, 'max_all_diff_cut_size': 2, 'symmetry_level': 2}. Best is trial 2 with value: 132389.8.\n",
      "[I 2024-08-16 17:03:09,607] Trial 31 finished with value: 132355.2 and parameters: {'preferred_variable_order': 2, 'use_erwa_heuristic': True, 'also_bump_variables_in_conflict_reasons': True, 'binary_minimization_algorithm': 4, 'clause_cleanup_protection': 1, 'presolve_bve_threshold': 0, 'max_presolve_iterations': 3, 'cp_model_probing_level': 0, 'presolve_probing_deterministic_time_limit': 4, 'encode_complex_linear_constraint_with_integer': True, 'ignore_subsolvers:default_lp': False, 'ignore_subsolvers:fixed': False, 'ignore_subsolvers:no_lp': False, 'ignore_subsolvers:max_lp': False, 'ignore_subsolvers:pseudo_costs': False, 'ignore_subsolvers:reduced_costs': False, 'ignore_subsolvers:quick_restart': False, 'ignore_subsolvers:quick_restart_no_lp': False, 'ignore_subsolvers:lb_tree_search': True, 'ignore_subsolvers:probing': True, 'search_branching': 5, 'repair_hint': True, 'use_lns_only': True, 'use_lb_relax_lns': True, 'use_objective_lb_search': True, 'use_objective_shaving_search': True, 'optimize_with_core': True, 'feasibility_jump_linearization_level': 0, 'fp_rounding': 3, 'diversify_lns_params': False, 'polish_lp_solution': False, 'linearization_level': 0, 'add_objective_cut': True, 'cut_level': 2, 'max_all_diff_cut_size': 2, 'symmetry_level': 2}. Best is trial 2 with value: 132389.8.\n",
      "[I 2024-08-16 17:03:09,657] Trial 32 finished with value: 132355.2 and parameters: {'preferred_variable_order': 2, 'use_erwa_heuristic': True, 'also_bump_variables_in_conflict_reasons': True, 'binary_minimization_algorithm': 4, 'clause_cleanup_protection': 1, 'presolve_bve_threshold': 0, 'max_presolve_iterations': 3, 'cp_model_probing_level': 0, 'presolve_probing_deterministic_time_limit': 4, 'encode_complex_linear_constraint_with_integer': True, 'ignore_subsolvers:default_lp': False, 'ignore_subsolvers:fixed': False, 'ignore_subsolvers:no_lp': False, 'ignore_subsolvers:max_lp': False, 'ignore_subsolvers:pseudo_costs': False, 'ignore_subsolvers:reduced_costs': False, 'ignore_subsolvers:quick_restart': False, 'ignore_subsolvers:quick_restart_no_lp': False, 'ignore_subsolvers:lb_tree_search': True, 'ignore_subsolvers:probing': True, 'search_branching': 5, 'repair_hint': True, 'use_lns_only': True, 'use_lb_relax_lns': True, 'use_objective_lb_search': True, 'use_objective_shaving_search': True, 'optimize_with_core': True, 'feasibility_jump_linearization_level': 0, 'fp_rounding': 3, 'diversify_lns_params': False, 'polish_lp_solution': False, 'linearization_level': 0, 'add_objective_cut': True, 'cut_level': 2, 'max_all_diff_cut_size': 2, 'symmetry_level': 2}. Best is trial 2 with value: 132389.8.\n"
     ]
    },
    {
     "name": "stdout",
     "output_type": "stream",
     "text": [
      "Returning knockout result\n"
     ]
    },
    {
     "name": "stderr",
     "output_type": "stream",
     "text": [
      "[I 2024-08-16 17:03:12,270] Trial 33 finished with value: 132136.0 and parameters: {'preferred_variable_order': 2, 'use_erwa_heuristic': True, 'also_bump_variables_in_conflict_reasons': True, 'binary_minimization_algorithm': 1, 'clause_cleanup_protection': 1, 'presolve_bve_threshold': 0, 'max_presolve_iterations': 2, 'cp_model_probing_level': 0, 'presolve_probing_deterministic_time_limit': 4, 'encode_complex_linear_constraint_with_integer': True, 'ignore_subsolvers:default_lp': False, 'ignore_subsolvers:fixed': False, 'ignore_subsolvers:no_lp': False, 'ignore_subsolvers:max_lp': False, 'ignore_subsolvers:pseudo_costs': False, 'ignore_subsolvers:reduced_costs': False, 'ignore_subsolvers:quick_restart': False, 'ignore_subsolvers:quick_restart_no_lp': False, 'ignore_subsolvers:lb_tree_search': True, 'ignore_subsolvers:probing': True, 'search_branching': 0, 'repair_hint': True, 'use_lns_only': True, 'use_lb_relax_lns': True, 'use_objective_lb_search': True, 'use_objective_shaving_search': True, 'optimize_with_core': True, 'feasibility_jump_linearization_level': 0, 'fp_rounding': 3, 'diversify_lns_params': False, 'polish_lp_solution': False, 'linearization_level': 0, 'add_objective_cut': True, 'cut_level': 2, 'max_all_diff_cut_size': 2, 'symmetry_level': 2}. Best is trial 2 with value: 132389.8.\n",
      "[I 2024-08-16 17:03:14,888] Trial 34 finished with value: 132122.4 and parameters: {'preferred_variable_order': 2, 'use_erwa_heuristic': True, 'also_bump_variables_in_conflict_reasons': False, 'binary_minimization_algorithm': 4, 'clause_cleanup_protection': 1, 'presolve_bve_threshold': 0, 'max_presolve_iterations': 3, 'cp_model_probing_level': 0, 'presolve_probing_deterministic_time_limit': 4, 'encode_complex_linear_constraint_with_integer': True, 'ignore_subsolvers:default_lp': False, 'ignore_subsolvers:fixed': False, 'ignore_subsolvers:no_lp': False, 'ignore_subsolvers:max_lp': False, 'ignore_subsolvers:pseudo_costs': False, 'ignore_subsolvers:reduced_costs': False, 'ignore_subsolvers:quick_restart': False, 'ignore_subsolvers:quick_restart_no_lp': False, 'ignore_subsolvers:lb_tree_search': True, 'ignore_subsolvers:probing': True, 'search_branching': 5, 'repair_hint': True, 'use_lns_only': True, 'use_lb_relax_lns': True, 'use_objective_lb_search': True, 'use_objective_shaving_search': True, 'optimize_with_core': True, 'feasibility_jump_linearization_level': 0, 'fp_rounding': 3, 'diversify_lns_params': False, 'polish_lp_solution': True, 'linearization_level': 0, 'add_objective_cut': False, 'cut_level': 2, 'max_all_diff_cut_size': 2, 'symmetry_level': 2}. Best is trial 2 with value: 132389.8.\n",
      "[I 2024-08-16 17:03:17,000] Trial 35 finished with value: 130380.0 and parameters: {'preferred_variable_order': 2, 'use_erwa_heuristic': True, 'also_bump_variables_in_conflict_reasons': False, 'binary_minimization_algorithm': 2, 'clause_cleanup_protection': 1, 'presolve_bve_threshold': 1, 'max_presolve_iterations': 2, 'cp_model_probing_level': 0, 'presolve_probing_deterministic_time_limit': 3, 'encode_complex_linear_constraint_with_integer': False, 'ignore_subsolvers:default_lp': False, 'ignore_subsolvers:fixed': False, 'ignore_subsolvers:no_lp': True, 'ignore_subsolvers:max_lp': False, 'ignore_subsolvers:pseudo_costs': False, 'ignore_subsolvers:reduced_costs': False, 'ignore_subsolvers:quick_restart': False, 'ignore_subsolvers:quick_restart_no_lp': False, 'ignore_subsolvers:lb_tree_search': True, 'ignore_subsolvers:probing': True, 'search_branching': 5, 'repair_hint': True, 'use_lns_only': False, 'use_lb_relax_lns': True, 'use_objective_lb_search': True, 'use_objective_shaving_search': True, 'optimize_with_core': True, 'feasibility_jump_linearization_level': 0, 'fp_rounding': 2, 'diversify_lns_params': False, 'polish_lp_solution': False, 'linearization_level': 0, 'add_objective_cut': True, 'cut_level': 1, 'max_all_diff_cut_size': 2, 'symmetry_level': 0}. Best is trial 2 with value: 132389.8.\n"
     ]
    },
    {
     "name": "stdout",
     "output_type": "stream",
     "text": [
      "Returning knockout result\n"
     ]
    },
    {
     "name": "stderr",
     "output_type": "stream",
     "text": [
      "[I 2024-08-16 17:03:19,614] Trial 36 finished with value: 132140.2 and parameters: {'preferred_variable_order': 2, 'use_erwa_heuristic': True, 'also_bump_variables_in_conflict_reasons': True, 'binary_minimization_algorithm': 4, 'clause_cleanup_protection': 0, 'presolve_bve_threshold': 0, 'max_presolve_iterations': 2, 'cp_model_probing_level': 0, 'presolve_probing_deterministic_time_limit': 4, 'encode_complex_linear_constraint_with_integer': True, 'ignore_subsolvers:default_lp': False, 'ignore_subsolvers:fixed': False, 'ignore_subsolvers:no_lp': False, 'ignore_subsolvers:max_lp': False, 'ignore_subsolvers:pseudo_costs': False, 'ignore_subsolvers:reduced_costs': False, 'ignore_subsolvers:quick_restart': False, 'ignore_subsolvers:quick_restart_no_lp': True, 'ignore_subsolvers:lb_tree_search': True, 'ignore_subsolvers:probing': True, 'search_branching': 8, 'repair_hint': False, 'use_lns_only': True, 'use_lb_relax_lns': True, 'use_objective_lb_search': True, 'use_objective_shaving_search': True, 'optimize_with_core': True, 'feasibility_jump_linearization_level': 1, 'fp_rounding': 3, 'diversify_lns_params': True, 'polish_lp_solution': True, 'linearization_level': 1, 'add_objective_cut': False, 'cut_level': 2, 'max_all_diff_cut_size': 2, 'symmetry_level': 1}. Best is trial 2 with value: 132389.8.\n",
      "[I 2024-08-16 17:03:22,441] Trial 37 finished with value: 126732.0 and parameters: {'preferred_variable_order': 2, 'use_erwa_heuristic': True, 'also_bump_variables_in_conflict_reasons': False, 'binary_minimization_algorithm': 1, 'clause_cleanup_protection': 1, 'presolve_bve_threshold': 0, 'max_presolve_iterations': 1, 'cp_model_probing_level': 2, 'presolve_probing_deterministic_time_limit': 2, 'encode_complex_linear_constraint_with_integer': False, 'ignore_subsolvers:default_lp': False, 'ignore_subsolvers:fixed': True, 'ignore_subsolvers:no_lp': False, 'ignore_subsolvers:max_lp': False, 'ignore_subsolvers:pseudo_costs': False, 'ignore_subsolvers:reduced_costs': False, 'ignore_subsolvers:quick_restart': False, 'ignore_subsolvers:quick_restart_no_lp': False, 'ignore_subsolvers:lb_tree_search': False, 'ignore_subsolvers:probing': True, 'search_branching': 2, 'repair_hint': True, 'use_lns_only': False, 'use_lb_relax_lns': True, 'use_objective_lb_search': True, 'use_objective_shaving_search': False, 'optimize_with_core': False, 'feasibility_jump_linearization_level': 1, 'fp_rounding': 3, 'diversify_lns_params': False, 'polish_lp_solution': False, 'linearization_level': 0, 'add_objective_cut': True, 'cut_level': 2, 'max_all_diff_cut_size': 2, 'symmetry_level': 1}. Best is trial 2 with value: 132389.8.\n"
     ]
    },
    {
     "name": "stdout",
     "output_type": "stream",
     "text": [
      "Returning knockout result\n"
     ]
    },
    {
     "name": "stderr",
     "output_type": "stream",
     "text": [
      "[I 2024-08-16 17:03:25,059] Trial 38 finished with value: 131787.4 and parameters: {'preferred_variable_order': 2, 'use_erwa_heuristic': True, 'also_bump_variables_in_conflict_reasons': True, 'binary_minimization_algorithm': 3, 'clause_cleanup_protection': 0, 'presolve_bve_threshold': 1, 'max_presolve_iterations': 4, 'cp_model_probing_level': 0, 'presolve_probing_deterministic_time_limit': 3, 'encode_complex_linear_constraint_with_integer': True, 'ignore_subsolvers:default_lp': False, 'ignore_subsolvers:fixed': False, 'ignore_subsolvers:no_lp': True, 'ignore_subsolvers:max_lp': False, 'ignore_subsolvers:pseudo_costs': False, 'ignore_subsolvers:reduced_costs': False, 'ignore_subsolvers:quick_restart': False, 'ignore_subsolvers:quick_restart_no_lp': True, 'ignore_subsolvers:lb_tree_search': True, 'ignore_subsolvers:probing': True, 'search_branching': 0, 'repair_hint': True, 'use_lns_only': True, 'use_lb_relax_lns': True, 'use_objective_lb_search': True, 'use_objective_shaving_search': True, 'optimize_with_core': True, 'feasibility_jump_linearization_level': 0, 'fp_rounding': 3, 'diversify_lns_params': True, 'polish_lp_solution': True, 'linearization_level': 0, 'add_objective_cut': False, 'cut_level': 1, 'max_all_diff_cut_size': 2, 'symmetry_level': 0}. Best is trial 2 with value: 132389.8.\n",
      "[I 2024-08-16 17:03:26,660] Trial 39 finished with value: 103517.0 and parameters: {'preferred_variable_order': 0, 'use_erwa_heuristic': True, 'also_bump_variables_in_conflict_reasons': False, 'binary_minimization_algorithm': 0, 'clause_cleanup_protection': 1, 'presolve_bve_threshold': 1, 'max_presolve_iterations': 3, 'cp_model_probing_level': 0, 'presolve_probing_deterministic_time_limit': 4, 'encode_complex_linear_constraint_with_integer': False, 'ignore_subsolvers:default_lp': False, 'ignore_subsolvers:fixed': False, 'ignore_subsolvers:no_lp': False, 'ignore_subsolvers:max_lp': False, 'ignore_subsolvers:pseudo_costs': False, 'ignore_subsolvers:reduced_costs': False, 'ignore_subsolvers:quick_restart': False, 'ignore_subsolvers:quick_restart_no_lp': False, 'ignore_subsolvers:lb_tree_search': True, 'ignore_subsolvers:probing': True, 'search_branching': 4, 'repair_hint': False, 'use_lns_only': False, 'use_lb_relax_lns': True, 'use_objective_lb_search': True, 'use_objective_shaving_search': True, 'optimize_with_core': True, 'feasibility_jump_linearization_level': 1, 'fp_rounding': 2, 'diversify_lns_params': False, 'polish_lp_solution': False, 'linearization_level': 1, 'add_objective_cut': True, 'cut_level': 2, 'max_all_diff_cut_size': 2, 'symmetry_level': 2}. Best is trial 2 with value: 132389.8.\n"
     ]
    },
    {
     "name": "stdout",
     "output_type": "stream",
     "text": [
      "Returning knockout result\n"
     ]
    },
    {
     "name": "stderr",
     "output_type": "stream",
     "text": [
      "[I 2024-08-16 17:03:27,224] Trial 40 finished with value: 123445.0 and parameters: {'preferred_variable_order': 2, 'use_erwa_heuristic': True, 'also_bump_variables_in_conflict_reasons': True, 'binary_minimization_algorithm': 4, 'clause_cleanup_protection': 0, 'presolve_bve_threshold': 0, 'max_presolve_iterations': 1, 'cp_model_probing_level': 1, 'presolve_probing_deterministic_time_limit': 3, 'encode_complex_linear_constraint_with_integer': True, 'ignore_subsolvers:default_lp': False, 'ignore_subsolvers:fixed': True, 'ignore_subsolvers:no_lp': False, 'ignore_subsolvers:max_lp': False, 'ignore_subsolvers:pseudo_costs': False, 'ignore_subsolvers:reduced_costs': False, 'ignore_subsolvers:quick_restart': False, 'ignore_subsolvers:quick_restart_no_lp': True, 'ignore_subsolvers:lb_tree_search': False, 'ignore_subsolvers:probing': True, 'search_branching': 1, 'repair_hint': True, 'use_lns_only': True, 'use_lb_relax_lns': True, 'use_objective_lb_search': True, 'use_objective_shaving_search': False, 'optimize_with_core': False, 'feasibility_jump_linearization_level': 0, 'fp_rounding': 3, 'diversify_lns_params': False, 'polish_lp_solution': False, 'linearization_level': 2, 'add_objective_cut': False, 'cut_level': 2, 'max_all_diff_cut_size': 2, 'symmetry_level': 2}. Best is trial 2 with value: 132389.8.\n",
      "[I 2024-08-16 17:03:27,279] Trial 41 finished with value: 132355.2 and parameters: {'preferred_variable_order': 2, 'use_erwa_heuristic': True, 'also_bump_variables_in_conflict_reasons': True, 'binary_minimization_algorithm': 4, 'clause_cleanup_protection': 1, 'presolve_bve_threshold': 0, 'max_presolve_iterations': 3, 'cp_model_probing_level': 0, 'presolve_probing_deterministic_time_limit': 4, 'encode_complex_linear_constraint_with_integer': True, 'ignore_subsolvers:default_lp': False, 'ignore_subsolvers:fixed': False, 'ignore_subsolvers:no_lp': False, 'ignore_subsolvers:max_lp': False, 'ignore_subsolvers:pseudo_costs': False, 'ignore_subsolvers:reduced_costs': False, 'ignore_subsolvers:quick_restart': False, 'ignore_subsolvers:quick_restart_no_lp': False, 'ignore_subsolvers:lb_tree_search': True, 'ignore_subsolvers:probing': True, 'search_branching': 5, 'repair_hint': True, 'use_lns_only': True, 'use_lb_relax_lns': True, 'use_objective_lb_search': True, 'use_objective_shaving_search': True, 'optimize_with_core': True, 'feasibility_jump_linearization_level': 0, 'fp_rounding': 3, 'diversify_lns_params': False, 'polish_lp_solution': False, 'linearization_level': 0, 'add_objective_cut': True, 'cut_level': 2, 'max_all_diff_cut_size': 2, 'symmetry_level': 2}. Best is trial 2 with value: 132389.8.\n"
     ]
    },
    {
     "name": "stdout",
     "output_type": "stream",
     "text": [
      "Returning knockout result\n"
     ]
    },
    {
     "name": "stderr",
     "output_type": "stream",
     "text": [
      "[I 2024-08-16 17:03:29,899] Trial 42 finished with value: 132337.4 and parameters: {'preferred_variable_order': 2, 'use_erwa_heuristic': True, 'also_bump_variables_in_conflict_reasons': True, 'binary_minimization_algorithm': 4, 'clause_cleanup_protection': 1, 'presolve_bve_threshold': 0, 'max_presolve_iterations': 2, 'cp_model_probing_level': 0, 'presolve_probing_deterministic_time_limit': 4, 'encode_complex_linear_constraint_with_integer': True, 'ignore_subsolvers:default_lp': False, 'ignore_subsolvers:fixed': False, 'ignore_subsolvers:no_lp': False, 'ignore_subsolvers:max_lp': False, 'ignore_subsolvers:pseudo_costs': False, 'ignore_subsolvers:reduced_costs': False, 'ignore_subsolvers:quick_restart': False, 'ignore_subsolvers:quick_restart_no_lp': False, 'ignore_subsolvers:lb_tree_search': True, 'ignore_subsolvers:probing': True, 'search_branching': 5, 'repair_hint': True, 'use_lns_only': True, 'use_lb_relax_lns': True, 'use_objective_lb_search': True, 'use_objective_shaving_search': True, 'optimize_with_core': True, 'feasibility_jump_linearization_level': 0, 'fp_rounding': 3, 'diversify_lns_params': False, 'polish_lp_solution': False, 'linearization_level': 0, 'add_objective_cut': True, 'cut_level': 2, 'max_all_diff_cut_size': 2, 'symmetry_level': 2}. Best is trial 2 with value: 132389.8.\n",
      "[I 2024-08-16 17:03:29,955] Trial 43 finished with value: 132355.2 and parameters: {'preferred_variable_order': 2, 'use_erwa_heuristic': True, 'also_bump_variables_in_conflict_reasons': True, 'binary_minimization_algorithm': 4, 'clause_cleanup_protection': 1, 'presolve_bve_threshold': 0, 'max_presolve_iterations': 3, 'cp_model_probing_level': 0, 'presolve_probing_deterministic_time_limit': 4, 'encode_complex_linear_constraint_with_integer': True, 'ignore_subsolvers:default_lp': False, 'ignore_subsolvers:fixed': False, 'ignore_subsolvers:no_lp': False, 'ignore_subsolvers:max_lp': False, 'ignore_subsolvers:pseudo_costs': False, 'ignore_subsolvers:reduced_costs': False, 'ignore_subsolvers:quick_restart': False, 'ignore_subsolvers:quick_restart_no_lp': False, 'ignore_subsolvers:lb_tree_search': True, 'ignore_subsolvers:probing': True, 'search_branching': 5, 'repair_hint': True, 'use_lns_only': True, 'use_lb_relax_lns': True, 'use_objective_lb_search': True, 'use_objective_shaving_search': True, 'optimize_with_core': True, 'feasibility_jump_linearization_level': 0, 'fp_rounding': 3, 'diversify_lns_params': False, 'polish_lp_solution': False, 'linearization_level': 0, 'add_objective_cut': True, 'cut_level': 2, 'max_all_diff_cut_size': 2, 'symmetry_level': 2}. Best is trial 2 with value: 132389.8.\n",
      "[I 2024-08-16 17:03:32,060] Trial 44 finished with value: 129584.0 and parameters: {'preferred_variable_order': 2, 'use_erwa_heuristic': True, 'also_bump_variables_in_conflict_reasons': True, 'binary_minimization_algorithm': 4, 'clause_cleanup_protection': 1, 'presolve_bve_threshold': 0, 'max_presolve_iterations': 4, 'cp_model_probing_level': 0, 'presolve_probing_deterministic_time_limit': 0, 'encode_complex_linear_constraint_with_integer': True, 'ignore_subsolvers:default_lp': False, 'ignore_subsolvers:fixed': False, 'ignore_subsolvers:no_lp': False, 'ignore_subsolvers:max_lp': False, 'ignore_subsolvers:pseudo_costs': False, 'ignore_subsolvers:reduced_costs': False, 'ignore_subsolvers:quick_restart': False, 'ignore_subsolvers:quick_restart_no_lp': False, 'ignore_subsolvers:lb_tree_search': True, 'ignore_subsolvers:probing': True, 'search_branching': 5, 'repair_hint': True, 'use_lns_only': True, 'use_lb_relax_lns': True, 'use_objective_lb_search': True, 'use_objective_shaving_search': True, 'optimize_with_core': True, 'feasibility_jump_linearization_level': 0, 'fp_rounding': 3, 'diversify_lns_params': False, 'polish_lp_solution': False, 'linearization_level': 0, 'add_objective_cut': True, 'cut_level': 1, 'max_all_diff_cut_size': 2, 'symmetry_level': 2}. Best is trial 2 with value: 132389.8.\n"
     ]
    },
    {
     "name": "stdout",
     "output_type": "stream",
     "text": [
      "Returning knockout result\n"
     ]
    },
    {
     "name": "stderr",
     "output_type": "stream",
     "text": [
      "[I 2024-08-16 17:03:34,676] Trial 45 finished with value: 131875.6 and parameters: {'preferred_variable_order': 2, 'use_erwa_heuristic': True, 'also_bump_variables_in_conflict_reasons': True, 'binary_minimization_algorithm': 2, 'clause_cleanup_protection': 1, 'presolve_bve_threshold': 0, 'max_presolve_iterations': 3, 'cp_model_probing_level': 0, 'presolve_probing_deterministic_time_limit': 4, 'encode_complex_linear_constraint_with_integer': False, 'ignore_subsolvers:default_lp': False, 'ignore_subsolvers:fixed': False, 'ignore_subsolvers:no_lp': False, 'ignore_subsolvers:max_lp': False, 'ignore_subsolvers:pseudo_costs': False, 'ignore_subsolvers:reduced_costs': False, 'ignore_subsolvers:quick_restart': False, 'ignore_subsolvers:quick_restart_no_lp': False, 'ignore_subsolvers:lb_tree_search': True, 'ignore_subsolvers:probing': True, 'search_branching': 2, 'repair_hint': True, 'use_lns_only': True, 'use_lb_relax_lns': True, 'use_objective_lb_search': True, 'use_objective_shaving_search': True, 'optimize_with_core': True, 'feasibility_jump_linearization_level': 1, 'fp_rounding': 0, 'diversify_lns_params': False, 'polish_lp_solution': False, 'linearization_level': 0, 'add_objective_cut': True, 'cut_level': 2, 'max_all_diff_cut_size': 2, 'symmetry_level': 2}. Best is trial 2 with value: 132389.8.\n",
      "[I 2024-08-16 17:03:37,296] Trial 46 finished with value: 132345.4 and parameters: {'preferred_variable_order': 2, 'use_erwa_heuristic': True, 'also_bump_variables_in_conflict_reasons': True, 'binary_minimization_algorithm': 4, 'clause_cleanup_protection': 1, 'presolve_bve_threshold': 1, 'max_presolve_iterations': 2, 'cp_model_probing_level': 2, 'presolve_probing_deterministic_time_limit': 1, 'encode_complex_linear_constraint_with_integer': True, 'ignore_subsolvers:default_lp': False, 'ignore_subsolvers:fixed': False, 'ignore_subsolvers:no_lp': True, 'ignore_subsolvers:max_lp': False, 'ignore_subsolvers:pseudo_costs': False, 'ignore_subsolvers:reduced_costs': False, 'ignore_subsolvers:quick_restart': False, 'ignore_subsolvers:quick_restart_no_lp': False, 'ignore_subsolvers:lb_tree_search': True, 'ignore_subsolvers:probing': True, 'search_branching': 5, 'repair_hint': True, 'use_lns_only': True, 'use_lb_relax_lns': True, 'use_objective_lb_search': True, 'use_objective_shaving_search': True, 'optimize_with_core': True, 'feasibility_jump_linearization_level': 0, 'fp_rounding': 3, 'diversify_lns_params': True, 'polish_lp_solution': True, 'linearization_level': 0, 'add_objective_cut': True, 'cut_level': 2, 'max_all_diff_cut_size': 2, 'symmetry_level': 1}. Best is trial 2 with value: 132389.8.\n",
      "[I 2024-08-16 17:03:39,917] Trial 47 finished with value: 132277.0 and parameters: {'preferred_variable_order': 2, 'use_erwa_heuristic': True, 'also_bump_variables_in_conflict_reasons': False, 'binary_minimization_algorithm': 4, 'clause_cleanup_protection': 0, 'presolve_bve_threshold': 2, 'max_presolve_iterations': 3, 'cp_model_probing_level': 0, 'presolve_probing_deterministic_time_limit': 4, 'encode_complex_linear_constraint_with_integer': True, 'ignore_subsolvers:default_lp': False, 'ignore_subsolvers:fixed': False, 'ignore_subsolvers:no_lp': False, 'ignore_subsolvers:max_lp': False, 'ignore_subsolvers:pseudo_costs': False, 'ignore_subsolvers:reduced_costs': False, 'ignore_subsolvers:quick_restart': False, 'ignore_subsolvers:quick_restart_no_lp': False, 'ignore_subsolvers:lb_tree_search': True, 'ignore_subsolvers:probing': True, 'search_branching': 6, 'repair_hint': True, 'use_lns_only': True, 'use_lb_relax_lns': True, 'use_objective_lb_search': True, 'use_objective_shaving_search': True, 'optimize_with_core': True, 'feasibility_jump_linearization_level': 0, 'fp_rounding': 0, 'diversify_lns_params': False, 'polish_lp_solution': False, 'linearization_level': 0, 'add_objective_cut': True, 'cut_level': 1, 'max_all_diff_cut_size': 1, 'symmetry_level': 2}. Best is trial 2 with value: 132389.8.\n",
      "[I 2024-08-16 17:03:40,488] Trial 48 finished with value: 102683.0 and parameters: {'preferred_variable_order': 2, 'use_erwa_heuristic': True, 'also_bump_variables_in_conflict_reasons': True, 'binary_minimization_algorithm': 4, 'clause_cleanup_protection': 1, 'presolve_bve_threshold': 0, 'max_presolve_iterations': 4, 'cp_model_probing_level': 0, 'presolve_probing_deterministic_time_limit': 3, 'encode_complex_linear_constraint_with_integer': True, 'ignore_subsolvers:default_lp': False, 'ignore_subsolvers:fixed': False, 'ignore_subsolvers:no_lp': False, 'ignore_subsolvers:max_lp': False, 'ignore_subsolvers:pseudo_costs': False, 'ignore_subsolvers:reduced_costs': False, 'ignore_subsolvers:quick_restart': False, 'ignore_subsolvers:quick_restart_no_lp': True, 'ignore_subsolvers:lb_tree_search': True, 'ignore_subsolvers:probing': True, 'search_branching': 5, 'repair_hint': True, 'use_lns_only': False, 'use_lb_relax_lns': True, 'use_objective_lb_search': True, 'use_objective_shaving_search': True, 'optimize_with_core': True, 'feasibility_jump_linearization_level': 1, 'fp_rounding': 3, 'diversify_lns_params': False, 'polish_lp_solution': False, 'linearization_level': 0, 'add_objective_cut': False, 'cut_level': 2, 'max_all_diff_cut_size': 1, 'symmetry_level': 1}. Best is trial 2 with value: 132389.8.\n"
     ]
    },
    {
     "name": "stdout",
     "output_type": "stream",
     "text": [
      "Returning knockout result\n"
     ]
    },
    {
     "name": "stderr",
     "output_type": "stream",
     "text": [
      "[I 2024-08-16 17:03:43,103] Trial 49 finished with value: 132022.6 and parameters: {'preferred_variable_order': 2, 'use_erwa_heuristic': True, 'also_bump_variables_in_conflict_reasons': True, 'binary_minimization_algorithm': 3, 'clause_cleanup_protection': 0, 'presolve_bve_threshold': 1, 'max_presolve_iterations': 0, 'cp_model_probing_level': 1, 'presolve_probing_deterministic_time_limit': 4, 'encode_complex_linear_constraint_with_integer': True, 'ignore_subsolvers:default_lp': False, 'ignore_subsolvers:fixed': True, 'ignore_subsolvers:no_lp': False, 'ignore_subsolvers:max_lp': False, 'ignore_subsolvers:pseudo_costs': False, 'ignore_subsolvers:reduced_costs': False, 'ignore_subsolvers:quick_restart': False, 'ignore_subsolvers:quick_restart_no_lp': False, 'ignore_subsolvers:lb_tree_search': True, 'ignore_subsolvers:probing': True, 'search_branching': 2, 'repair_hint': False, 'use_lns_only': True, 'use_lb_relax_lns': True, 'use_objective_lb_search': True, 'use_objective_shaving_search': True, 'optimize_with_core': True, 'feasibility_jump_linearization_level': 0, 'fp_rounding': 0, 'diversify_lns_params': False, 'polish_lp_solution': False, 'linearization_level': 0, 'add_objective_cut': True, 'cut_level': 1, 'max_all_diff_cut_size': 0, 'symmetry_level': 2}. Best is trial 2 with value: 132389.8.\n"
     ]
    },
    {
     "name": "stdout",
     "output_type": "stream",
     "text": [
      "Best parameters: {'preferred_variable_order': 2, 'use_erwa_heuristic': True, 'also_bump_variables_in_conflict_reasons': True, 'binary_minimization_algorithm': 4, 'cp_model_probing_level': 0, 'presolve_probing_deterministic_time_limit': 10.0, 'encode_complex_linear_constraint_with_integer': True, 'ignore_subsolvers': ['max_lp', 'reduced_costs', 'quick_restart', 'lb_tree_search', 'probing'], 'search_branching': 5, 'repair_hint': True, 'use_lns_only': True, 'use_lb_relax_lns': True, 'use_objective_shaving_search': True, 'optimize_with_core': True, 'feasibility_jump_linearization_level': 1, 'fp_rounding': 3, 'linearization_level': 0, 'add_objective_cut': True, 'max_all_diff_cut_size': 128}. Score: 132389.8\n",
      "Checking which parameter changes obtained by the hyperparameter optimization are essential...\n",
      "optuna_baseline MultiResult(scores=[132509.0, 132364.0, 132288.0, 132509.0, 132279.0, 131665.0, 130798.0, 132012.0, 132414.0, 132059.0], params={'preferred_variable_order': 2, 'use_erwa_heuristic': True, 'also_bump_variables_in_conflict_reasons': True, 'binary_minimization_algorithm': 4, 'cp_model_probing_level': 0, 'presolve_probing_deterministic_time_limit': 10.0, 'encode_complex_linear_constraint_with_integer': True, 'ignore_subsolvers': ['max_lp', 'reduced_costs', 'quick_restart', 'lb_tree_search', 'probing'], 'search_branching': 5, 'repair_hint': True, 'use_lns_only': True, 'use_lb_relax_lns': True, 'use_objective_shaving_search': True, 'optimize_with_core': True, 'feasibility_jump_linearization_level': 1, 'fp_rounding': 3, 'linearization_level': 0, 'add_objective_cut': True, 'max_all_diff_cut_size': 128})\n",
      "Evaluating resetting parameter 'preferred_variable_order' to default...\n",
      "Seems like we can drop parameter 'preferred_variable_order' from the optimized parameters.\n",
      "Evaluating resetting parameter 'use_erwa_heuristic' to default...\n",
      "The parameter 'use_erwa_heuristic' seems to be essential for the performance.\n",
      "Evaluating resetting parameter 'also_bump_variables_in_conflict_reasons' to default...\n",
      "Seems like we can drop parameter 'also_bump_variables_in_conflict_reasons' from the optimized parameters.\n",
      "Evaluating resetting parameter 'binary_minimization_algorithm' to default...\n",
      "The parameter 'binary_minimization_algorithm' seems to be essential for the performance.\n",
      "Evaluating resetting parameter 'cp_model_probing_level' to default...\n",
      "Seems like we can drop parameter 'cp_model_probing_level' from the optimized parameters.\n",
      "Evaluating resetting parameter 'presolve_probing_deterministic_time_limit' to default...\n",
      "The parameter 'presolve_probing_deterministic_time_limit' seems to be essential for the performance.\n",
      "Evaluating resetting parameter 'encode_complex_linear_constraint_with_integer' to default...\n",
      "Seems like we can drop parameter 'encode_complex_linear_constraint_with_integer' from the optimized parameters.\n",
      "Evaluating resetting parameter 'ignore_subsolvers' to default...\n",
      "Seems like we can drop parameter 'ignore_subsolvers' from the optimized parameters.\n",
      "Evaluating resetting parameter 'search_branching' to default...\n",
      "Seems like we can drop parameter 'search_branching' from the optimized parameters.\n",
      "Evaluating resetting parameter 'repair_hint' to default...\n",
      "Seems like we can drop parameter 'repair_hint' from the optimized parameters.\n",
      "Evaluating resetting parameter 'use_lns_only' to default...\n",
      "The parameter 'use_lns_only' seems to be essential for the performance.\n",
      "Evaluating resetting parameter 'use_lb_relax_lns' to default...\n",
      "Seems like we can drop parameter 'use_lb_relax_lns' from the optimized parameters.\n",
      "Evaluating resetting parameter 'use_objective_shaving_search' to default...\n",
      "Seems like we can drop parameter 'use_objective_shaving_search' from the optimized parameters.\n",
      "Evaluating resetting parameter 'optimize_with_core' to default...\n",
      "Seems like we can drop parameter 'optimize_with_core' from the optimized parameters.\n",
      "Evaluating resetting parameter 'feasibility_jump_linearization_level' to default...\n",
      "Seems like we can drop parameter 'feasibility_jump_linearization_level' from the optimized parameters.\n",
      "Evaluating resetting parameter 'fp_rounding' to default...\n",
      "Seems like we can drop parameter 'fp_rounding' from the optimized parameters.\n",
      "Evaluating resetting parameter 'linearization_level' to default...\n",
      "Seems like we can drop parameter 'linearization_level' from the optimized parameters.\n",
      "Evaluating resetting parameter 'add_objective_cut' to default...\n",
      "Seems like we can drop parameter 'add_objective_cut' from the optimized parameters.\n",
      "Evaluating resetting parameter 'max_all_diff_cut_size' to default...\n",
      "The parameter 'max_all_diff_cut_size' seems to be essential for the performance.\n",
      "optimized_score MultiResult(scores=[131729.0, 132544.0, 132493.0, 132509.0, 132180.0, 130765.0, 132469.0, 131099.0, 132414.0, 131885.0], params={'use_erwa_heuristic': True, 'binary_minimization_algorithm': 4, 'presolve_probing_deterministic_time_limit': 10.0, 'use_lns_only': True, 'max_all_diff_cut_size': 128})\n",
      "============================================================\n",
      "                 OPTIMIZED PARAMETERS\n",
      "============================================================\n",
      "\n",
      "1. use_erwa_heuristic: True\n",
      "\tContribution: 7.55%\n",
      "\tDefault Value: False\n",
      "\tDescription:\n",
      "\t\tEnables the Exponential Recency Weighted Average (ERWA) heuristic for making branching decisions,\n",
      "\t\t        as described in \"Learning Rate Based Branching Heuristic for SAT Solvers\" (Liang et al., SAT 2016).\n",
      "\t\t        It considers the variable selection as an optimization problem that tries to maximize the learning rate,\n",
      "\t\t        i.e., the number of learned clauses per decision.\n",
      "\n",
      "2. binary_minimization_algorithm: 4\n",
      "\tContribution: 8.80%\n",
      "\tDefault Value: 1\n",
      "\tDescription:\n",
      "\t\tSpecifies the algorithm used for binary clause minimization during conflict analysis. The options are:\n",
      "\t\t        - `0` NO_BINARY_MINIMIZATION.\n",
      "\t\t        - `1` BINARY_MINIMIZATION_FIRST\n",
      "\t\t        - `2` BINARY_MINIMIZATION_WITH_REACHABILITY\n",
      "\t\t        - `3` EXPERIMENTAL_BINARY_MINIMIZATION\n",
      "\t\t        - `4` BINARY_MINIMIZATION_FIRST_WITH_TRANSITIVE_REDUCTION\n",
      "\n",
      "3. presolve_probing_deterministic_time_limit: 10.0\n",
      "\tContribution: 5.55%\n",
      "\tDefault Value: 30.0\n",
      "\tDescription:\n",
      "\t\tSets a deterministic time limit for probing during presolve.\n",
      "\t\t        This parameter ensures that the presolve phase does not consume too much time, allowing the solver to proceed to the main search phase in a timely manner.\n",
      "\n",
      "4. use_lns_only: True\n",
      "\tContribution: 72.35%\n",
      "\tDefault Value: False\n",
      "\tDescription:\n",
      "\t\tWhen enabled, the solver uses only Large Neighborhood Search (LNS) heuristics, without performing a full global search.\n",
      "\t\t        LNS is beneficial in scenarios where finding improvements quickly is more important than exploring all possibilities for an optimal solution.\n",
      "\n",
      "5. max_all_diff_cut_size: 128\n",
      "\tContribution: 5.75%\n",
      "\tDefault Value: 64\n",
      "\tDescription:\n",
      "\t\tLimits the size of \"all different\" constraints used when generating cuts.\n",
      "\t\t        All-different constraints ensure that a set of variables takes distinct values. This parameter controls the balance between reducing the search space and the computational cost of generating cuts.\n",
      "------------------------------------------------------------\n",
      "Default Metric Value: 132036.3\n",
      "Optimized Metric Value: 132008.7\n",
      "------------------------------------------------------------\n",
      "\n",
      "============================================================\n",
      "*** WARNING ***\n",
      "============================================================\n",
      "The optimized parameters listed above were obtained based on a sampling approach and may not fully capture the complexities of the entire problem space. While statistical reasoning has been applied, these results should be considered as a suggestion for further evaluation rather than definitive settings.\n",
      "It is strongly recommended to validate these parameters in larger, more comprehensive experiments before adopting them in critical applications.\n",
      "============================================================\n"
     ]
    }
   ],
   "source": [
    "best = tune_for_quality_within_timelimit(\n",
    "    model,\n",
    "    timelimit_in_s=0.5,\n",
    "    obj_for_timeout=0,\n",
    "    direction=\"maximize\",\n",
    "    n_samples_per_param=5,\n",
    "    max_samples_per_param=10,\n",
    "    n_trials=50,\n",
    ")"
   ]
  }
 ],
 "metadata": {
  "kernelspec": {
   "display_name": "mo312",
   "language": "python",
   "name": "python3"
  },
  "language_info": {
   "codemirror_mode": {
    "name": "ipython",
    "version": 3
   },
   "file_extension": ".py",
   "mimetype": "text/x-python",
   "name": "python",
   "nbconvert_exporter": "python",
   "pygments_lexer": "ipython3",
   "version": "3.12.2"
  }
 },
 "nbformat": 4,
 "nbformat_minor": 2
}
