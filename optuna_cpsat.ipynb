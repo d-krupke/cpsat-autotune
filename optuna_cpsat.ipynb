{
 "cells": [
  {
   "cell_type": "code",
   "execution_count": 1,
   "metadata": {},
   "outputs": [
    {
     "name": "stderr",
     "output_type": "stream",
     "text": [
      "/Users/krupke/anaconda3/envs/mo312/lib/python3.12/site-packages/tqdm/auto.py:21: TqdmWarning: IProgress not found. Please update jupyter and ipywidgets. See https://ipywidgets.readthedocs.io/en/stable/user_install.html\n",
      "  from .autonotebook import tqdm as notebook_tqdm\n"
     ]
    }
   ],
   "source": [
    "from pathlib import Path\n",
    "from cpsat_autotune import (\n",
    "    tune_for_quality_within_timelimit,\n",
    "    import_model,\n",
    "    tune_time_to_optimal,\n",
    ")"
   ]
  },
  {
   "cell_type": "code",
   "execution_count": 2,
   "metadata": {},
   "outputs": [],
   "source": [
    "model = import_model(Path(\"models/medium_hg.pb\"))"
   ]
  },
  {
   "cell_type": "code",
   "execution_count": 3,
   "metadata": {},
   "outputs": [
    {
     "name": "stderr",
     "output_type": "stream",
     "text": [
      "[I 2024-08-14 17:19:35,959] A new study created in memory with name: no-name-651dc3b6-b8b0-4d30-8894-4acaa7b64077\n"
     ]
    },
    {
     "name": "stdout",
     "output_type": "stream",
     "text": [
      "Computing baseline\n"
     ]
    },
    {
     "name": "stderr",
     "output_type": "stream",
     "text": [
      "[I 2024-08-14 17:20:30,835] Trial 0 finished with value: -5.487255 and parameters: {'repair_hint': False, 'use_lb_relax_lns': False, 'preferred_variable_order': 0, 'use_erwa_heuristic': False, 'linearization_level': 1, 'fp_rounding': 3, 'randomize_search': False, 'diversify_lns_params': False, 'add_objective_cut': False, 'use_objective_lb_search': False, 'use_objective_shaving_search': False, 'search_branching': 0, 'cut_level': 1, 'max_all_diff_cut_size': 1, 'symmetry_level': 2, 'max_presolve_iterations': 2, 'cp_model_probing_level': 2, 'presolve_probing_deterministic_time_limit': 4, 'presolve_bve_threshold': 1, 'ignore_subsolvers:default_lp': False, 'ignore_subsolvers:fixed': False, 'ignore_subsolvers:no_lp': False, 'ignore_subsolvers:max_lp': False, 'ignore_subsolvers:pseudo_costs': False, 'ignore_subsolvers:reduced_costs': False, 'ignore_subsolvers:quick_restart': False, 'ignore_subsolvers:quick_restart_no_lp': False, 'ignore_subsolvers:lb_tree_search': False, 'ignore_subsolvers:probing': False}. Best is trial 0 with value: -5.487255.\n"
     ]
    },
    {
     "name": "stdout",
     "output_type": "stream",
     "text": [
      "Baseline: [-5.294558, -5.420106, -5.443795, -5.369062, -5.444739, -5.822297, -5.740075, -5.345089, -5.38167, -5.611159]\n"
     ]
    },
    {
     "name": "stderr",
     "output_type": "stream",
     "text": [
      "[I 2024-08-14 17:20:38,154] Trial 1 finished with value: -60.0 and parameters: {'repair_hint': True, 'use_lb_relax_lns': True, 'preferred_variable_order': 0, 'use_erwa_heuristic': True, 'linearization_level': 1, 'fp_rounding': 2, 'randomize_search': False, 'diversify_lns_params': False, 'add_objective_cut': True, 'use_objective_lb_search': False, 'use_objective_shaving_search': True, 'search_branching': 8, 'cut_level': 1, 'max_all_diff_cut_size': 1, 'symmetry_level': 2, 'max_presolve_iterations': 3, 'cp_model_probing_level': 0, 'presolve_probing_deterministic_time_limit': 1, 'presolve_bve_threshold': 1, 'ignore_subsolvers:default_lp': False, 'ignore_subsolvers:fixed': True, 'ignore_subsolvers:no_lp': False, 'ignore_subsolvers:max_lp': False, 'ignore_subsolvers:pseudo_costs': True, 'ignore_subsolvers:reduced_costs': True, 'ignore_subsolvers:quick_restart': False, 'ignore_subsolvers:quick_restart_no_lp': True, 'ignore_subsolvers:lb_tree_search': True, 'ignore_subsolvers:probing': False}. Best is trial 0 with value: -5.487255.\n",
      "[I 2024-08-14 17:21:04,802] Trial 2 finished with value: -5.328776400000001 and parameters: {'repair_hint': False, 'use_lb_relax_lns': False, 'preferred_variable_order': 2, 'use_erwa_heuristic': True, 'linearization_level': 1, 'fp_rounding': 2, 'randomize_search': False, 'diversify_lns_params': True, 'add_objective_cut': False, 'use_objective_lb_search': True, 'use_objective_shaving_search': False, 'search_branching': 8, 'cut_level': 0, 'max_all_diff_cut_size': 0, 'symmetry_level': 0, 'max_presolve_iterations': 4, 'cp_model_probing_level': 2, 'presolve_probing_deterministic_time_limit': 1, 'presolve_bve_threshold': 2, 'ignore_subsolvers:default_lp': True, 'ignore_subsolvers:fixed': True, 'ignore_subsolvers:no_lp': True, 'ignore_subsolvers:max_lp': False, 'ignore_subsolvers:pseudo_costs': False, 'ignore_subsolvers:reduced_costs': True, 'ignore_subsolvers:quick_restart': True, 'ignore_subsolvers:quick_restart_no_lp': True, 'ignore_subsolvers:lb_tree_search': False, 'ignore_subsolvers:probing': False}. Best is trial 2 with value: -5.328776400000001.\n",
      "[I 2024-08-14 17:21:25,492] Trial 3 finished with value: -4.137182800000001 and parameters: {'repair_hint': False, 'use_lb_relax_lns': True, 'preferred_variable_order': 0, 'use_erwa_heuristic': True, 'linearization_level': 1, 'fp_rounding': 3, 'randomize_search': False, 'diversify_lns_params': True, 'add_objective_cut': False, 'use_objective_lb_search': True, 'use_objective_shaving_search': False, 'search_branching': 5, 'cut_level': 0, 'max_all_diff_cut_size': 1, 'symmetry_level': 2, 'max_presolve_iterations': 1, 'cp_model_probing_level': 1, 'presolve_probing_deterministic_time_limit': 3, 'presolve_bve_threshold': 0, 'ignore_subsolvers:default_lp': True, 'ignore_subsolvers:fixed': False, 'ignore_subsolvers:no_lp': False, 'ignore_subsolvers:max_lp': True, 'ignore_subsolvers:pseudo_costs': False, 'ignore_subsolvers:reduced_costs': False, 'ignore_subsolvers:quick_restart': True, 'ignore_subsolvers:quick_restart_no_lp': True, 'ignore_subsolvers:lb_tree_search': False, 'ignore_subsolvers:probing': False}. Best is trial 3 with value: -4.137182800000001.\n",
      "[I 2024-08-14 17:21:32,528] Trial 4 finished with value: -60.0 and parameters: {'repair_hint': False, 'use_lb_relax_lns': True, 'preferred_variable_order': 1, 'use_erwa_heuristic': False, 'linearization_level': 0, 'fp_rounding': 1, 'randomize_search': False, 'diversify_lns_params': False, 'add_objective_cut': False, 'use_objective_lb_search': False, 'use_objective_shaving_search': True, 'search_branching': 2, 'cut_level': 0, 'max_all_diff_cut_size': 0, 'symmetry_level': 1, 'max_presolve_iterations': 4, 'cp_model_probing_level': 0, 'presolve_probing_deterministic_time_limit': 1, 'presolve_bve_threshold': 0, 'ignore_subsolvers:default_lp': True, 'ignore_subsolvers:fixed': True, 'ignore_subsolvers:no_lp': True, 'ignore_subsolvers:max_lp': True, 'ignore_subsolvers:pseudo_costs': True, 'ignore_subsolvers:reduced_costs': True, 'ignore_subsolvers:quick_restart': True, 'ignore_subsolvers:quick_restart_no_lp': True, 'ignore_subsolvers:lb_tree_search': False, 'ignore_subsolvers:probing': True}. Best is trial 3 with value: -4.137182800000001.\n",
      "[I 2024-08-14 17:21:58,355] Trial 5 finished with value: -5.1647262 and parameters: {'repair_hint': True, 'use_lb_relax_lns': True, 'preferred_variable_order': 2, 'use_erwa_heuristic': False, 'linearization_level': 1, 'fp_rounding': 1, 'randomize_search': True, 'diversify_lns_params': False, 'add_objective_cut': False, 'use_objective_lb_search': False, 'use_objective_shaving_search': False, 'search_branching': 0, 'cut_level': 1, 'max_all_diff_cut_size': 2, 'symmetry_level': 0, 'max_presolve_iterations': 2, 'cp_model_probing_level': 2, 'presolve_probing_deterministic_time_limit': 2, 'presolve_bve_threshold': 2, 'ignore_subsolvers:default_lp': False, 'ignore_subsolvers:fixed': True, 'ignore_subsolvers:no_lp': False, 'ignore_subsolvers:max_lp': True, 'ignore_subsolvers:pseudo_costs': False, 'ignore_subsolvers:reduced_costs': False, 'ignore_subsolvers:quick_restart': True, 'ignore_subsolvers:quick_restart_no_lp': False, 'ignore_subsolvers:lb_tree_search': True, 'ignore_subsolvers:probing': False}. Best is trial 3 with value: -4.137182800000001.\n",
      "[I 2024-08-14 17:22:24,007] Trial 6 finished with value: -5.129540199999999 and parameters: {'repair_hint': False, 'use_lb_relax_lns': True, 'preferred_variable_order': 0, 'use_erwa_heuristic': False, 'linearization_level': 2, 'fp_rounding': 1, 'randomize_search': True, 'diversify_lns_params': False, 'add_objective_cut': False, 'use_objective_lb_search': False, 'use_objective_shaving_search': False, 'search_branching': 1, 'cut_level': 0, 'max_all_diff_cut_size': 2, 'symmetry_level': 2, 'max_presolve_iterations': 3, 'cp_model_probing_level': 2, 'presolve_probing_deterministic_time_limit': 0, 'presolve_bve_threshold': 0, 'ignore_subsolvers:default_lp': True, 'ignore_subsolvers:fixed': False, 'ignore_subsolvers:no_lp': False, 'ignore_subsolvers:max_lp': True, 'ignore_subsolvers:pseudo_costs': False, 'ignore_subsolvers:reduced_costs': True, 'ignore_subsolvers:quick_restart': True, 'ignore_subsolvers:quick_restart_no_lp': False, 'ignore_subsolvers:lb_tree_search': True, 'ignore_subsolvers:probing': True}. Best is trial 3 with value: -4.137182800000001.\n",
      "[I 2024-08-14 17:22:42,020] Trial 7 finished with value: -3.6017126 and parameters: {'repair_hint': True, 'use_lb_relax_lns': True, 'preferred_variable_order': 2, 'use_erwa_heuristic': True, 'linearization_level': 2, 'fp_rounding': 1, 'randomize_search': False, 'diversify_lns_params': False, 'add_objective_cut': False, 'use_objective_lb_search': False, 'use_objective_shaving_search': False, 'search_branching': 1, 'cut_level': 0, 'max_all_diff_cut_size': 1, 'symmetry_level': 0, 'max_presolve_iterations': 1, 'cp_model_probing_level': 2, 'presolve_probing_deterministic_time_limit': 3, 'presolve_bve_threshold': 0, 'ignore_subsolvers:default_lp': True, 'ignore_subsolvers:fixed': False, 'ignore_subsolvers:no_lp': True, 'ignore_subsolvers:max_lp': False, 'ignore_subsolvers:pseudo_costs': False, 'ignore_subsolvers:reduced_costs': True, 'ignore_subsolvers:quick_restart': False, 'ignore_subsolvers:quick_restart_no_lp': False, 'ignore_subsolvers:lb_tree_search': False, 'ignore_subsolvers:probing': True}. Best is trial 7 with value: -3.6017126.\n",
      "[I 2024-08-14 17:23:01,407] Trial 8 finished with value: -3.876889 and parameters: {'repair_hint': True, 'use_lb_relax_lns': True, 'preferred_variable_order': 1, 'use_erwa_heuristic': True, 'linearization_level': 2, 'fp_rounding': 3, 'randomize_search': True, 'diversify_lns_params': True, 'add_objective_cut': True, 'use_objective_lb_search': False, 'use_objective_shaving_search': False, 'search_branching': 2, 'cut_level': 1, 'max_all_diff_cut_size': 0, 'symmetry_level': 0, 'max_presolve_iterations': 1, 'cp_model_probing_level': 2, 'presolve_probing_deterministic_time_limit': 4, 'presolve_bve_threshold': 1, 'ignore_subsolvers:default_lp': False, 'ignore_subsolvers:fixed': True, 'ignore_subsolvers:no_lp': True, 'ignore_subsolvers:max_lp': False, 'ignore_subsolvers:pseudo_costs': False, 'ignore_subsolvers:reduced_costs': False, 'ignore_subsolvers:quick_restart': True, 'ignore_subsolvers:quick_restart_no_lp': True, 'ignore_subsolvers:lb_tree_search': False, 'ignore_subsolvers:probing': True}. Best is trial 7 with value: -3.6017126.\n",
      "[I 2024-08-14 17:23:08,539] Trial 9 finished with value: -60.0 and parameters: {'repair_hint': True, 'use_lb_relax_lns': False, 'preferred_variable_order': 1, 'use_erwa_heuristic': True, 'linearization_level': 2, 'fp_rounding': 2, 'randomize_search': False, 'diversify_lns_params': False, 'add_objective_cut': False, 'use_objective_lb_search': True, 'use_objective_shaving_search': True, 'search_branching': 7, 'cut_level': 0, 'max_all_diff_cut_size': 2, 'symmetry_level': 0, 'max_presolve_iterations': 3, 'cp_model_probing_level': 0, 'presolve_probing_deterministic_time_limit': 2, 'presolve_bve_threshold': 1, 'ignore_subsolvers:default_lp': True, 'ignore_subsolvers:fixed': False, 'ignore_subsolvers:no_lp': False, 'ignore_subsolvers:max_lp': False, 'ignore_subsolvers:pseudo_costs': False, 'ignore_subsolvers:reduced_costs': False, 'ignore_subsolvers:quick_restart': True, 'ignore_subsolvers:quick_restart_no_lp': False, 'ignore_subsolvers:lb_tree_search': True, 'ignore_subsolvers:probing': True}. Best is trial 7 with value: -3.6017126.\n",
      "[I 2024-08-14 17:23:14,974] Trial 10 finished with value: -6.416129 and parameters: {'repair_hint': True, 'use_lb_relax_lns': False, 'preferred_variable_order': 2, 'use_erwa_heuristic': True, 'linearization_level': 0, 'fp_rounding': 0, 'randomize_search': True, 'diversify_lns_params': True, 'add_objective_cut': True, 'use_objective_lb_search': True, 'use_objective_shaving_search': True, 'search_branching': 4, 'cut_level': 0, 'max_all_diff_cut_size': 1, 'symmetry_level': 1, 'max_presolve_iterations': 0, 'cp_model_probing_level': 1, 'presolve_probing_deterministic_time_limit': 3, 'presolve_bve_threshold': 0, 'ignore_subsolvers:default_lp': True, 'ignore_subsolvers:fixed': False, 'ignore_subsolvers:no_lp': True, 'ignore_subsolvers:max_lp': False, 'ignore_subsolvers:pseudo_costs': True, 'ignore_subsolvers:reduced_costs': True, 'ignore_subsolvers:quick_restart': False, 'ignore_subsolvers:quick_restart_no_lp': False, 'ignore_subsolvers:lb_tree_search': False, 'ignore_subsolvers:probing': True}. Best is trial 7 with value: -3.6017126.\n",
      "[I 2024-08-14 17:23:26,388] Trial 11 finished with value: -2.2786438 and parameters: {'repair_hint': True, 'use_lb_relax_lns': True, 'preferred_variable_order': 1, 'use_erwa_heuristic': True, 'linearization_level': 2, 'fp_rounding': 3, 'randomize_search': True, 'diversify_lns_params': True, 'add_objective_cut': True, 'use_objective_lb_search': False, 'use_objective_shaving_search': False, 'search_branching': 1, 'cut_level': 1, 'max_all_diff_cut_size': 0, 'symmetry_level': 0, 'max_presolve_iterations': 0, 'cp_model_probing_level': 1, 'presolve_probing_deterministic_time_limit': 4, 'presolve_bve_threshold': 1, 'ignore_subsolvers:default_lp': False, 'ignore_subsolvers:fixed': True, 'ignore_subsolvers:no_lp': True, 'ignore_subsolvers:max_lp': False, 'ignore_subsolvers:pseudo_costs': False, 'ignore_subsolvers:reduced_costs': False, 'ignore_subsolvers:quick_restart': False, 'ignore_subsolvers:quick_restart_no_lp': True, 'ignore_subsolvers:lb_tree_search': False, 'ignore_subsolvers:probing': True}. Best is trial 11 with value: -2.2786438.\n",
      "[I 2024-08-14 17:23:38,193] Trial 12 finished with value: -2.3571214 and parameters: {'repair_hint': True, 'use_lb_relax_lns': True, 'preferred_variable_order': 2, 'use_erwa_heuristic': True, 'linearization_level': 2, 'fp_rounding': 0, 'randomize_search': True, 'diversify_lns_params': True, 'add_objective_cut': True, 'use_objective_lb_search': False, 'use_objective_shaving_search': False, 'search_branching': 1, 'cut_level': 1, 'max_all_diff_cut_size': 0, 'symmetry_level': 1, 'max_presolve_iterations': 0, 'cp_model_probing_level': 1, 'presolve_probing_deterministic_time_limit': 3, 'presolve_bve_threshold': 2, 'ignore_subsolvers:default_lp': False, 'ignore_subsolvers:fixed': True, 'ignore_subsolvers:no_lp': True, 'ignore_subsolvers:max_lp': False, 'ignore_subsolvers:pseudo_costs': False, 'ignore_subsolvers:reduced_costs': False, 'ignore_subsolvers:quick_restart': False, 'ignore_subsolvers:quick_restart_no_lp': True, 'ignore_subsolvers:lb_tree_search': False, 'ignore_subsolvers:probing': True}. Best is trial 11 with value: -2.2786438.\n",
      "[I 2024-08-14 17:23:50,842] Trial 13 finished with value: -2.5259286 and parameters: {'repair_hint': True, 'use_lb_relax_lns': True, 'preferred_variable_order': 1, 'use_erwa_heuristic': True, 'linearization_level': 2, 'fp_rounding': 0, 'randomize_search': True, 'diversify_lns_params': True, 'add_objective_cut': True, 'use_objective_lb_search': False, 'use_objective_shaving_search': False, 'search_branching': 1, 'cut_level': 1, 'max_all_diff_cut_size': 0, 'symmetry_level': 1, 'max_presolve_iterations': 0, 'cp_model_probing_level': 1, 'presolve_probing_deterministic_time_limit': 4, 'presolve_bve_threshold': 2, 'ignore_subsolvers:default_lp': False, 'ignore_subsolvers:fixed': True, 'ignore_subsolvers:no_lp': True, 'ignore_subsolvers:max_lp': False, 'ignore_subsolvers:pseudo_costs': False, 'ignore_subsolvers:reduced_costs': False, 'ignore_subsolvers:quick_restart': False, 'ignore_subsolvers:quick_restart_no_lp': True, 'ignore_subsolvers:lb_tree_search': False, 'ignore_subsolvers:probing': True}. Best is trial 11 with value: -2.2786438.\n",
      "[I 2024-08-14 17:24:04,359] Trial 14 finished with value: -2.6994936 and parameters: {'repair_hint': True, 'use_lb_relax_lns': True, 'preferred_variable_order': 1, 'use_erwa_heuristic': True, 'linearization_level': 2, 'fp_rounding': 0, 'randomize_search': True, 'diversify_lns_params': True, 'add_objective_cut': True, 'use_objective_lb_search': False, 'use_objective_shaving_search': False, 'search_branching': 3, 'cut_level': 1, 'max_all_diff_cut_size': 0, 'symmetry_level': 1, 'max_presolve_iterations': 0, 'cp_model_probing_level': 1, 'presolve_probing_deterministic_time_limit': 3, 'presolve_bve_threshold': 2, 'ignore_subsolvers:default_lp': False, 'ignore_subsolvers:fixed': True, 'ignore_subsolvers:no_lp': True, 'ignore_subsolvers:max_lp': False, 'ignore_subsolvers:pseudo_costs': True, 'ignore_subsolvers:reduced_costs': False, 'ignore_subsolvers:quick_restart': False, 'ignore_subsolvers:quick_restart_no_lp': True, 'ignore_subsolvers:lb_tree_search': False, 'ignore_subsolvers:probing': True}. Best is trial 11 with value: -2.2786438.\n"
     ]
    }
   ],
   "source": [
    "# tune_for_quality_within_timelimit(models[0], 3, 10, \"minimize\", n_samples_per_param=2, max_samples_per_param=5, n_trials=100)\n",
    "tune_time_to_optimal(\n",
    "    model,\n",
    "    timelimit_in_s=6,\n",
    "    n_samples_per_param=5,\n",
    "    max_samples_per_param=10,\n",
    "    n_trials=50,\n",
    ")"
   ]
  }
 ],
 "metadata": {
  "kernelspec": {
   "display_name": "mo312",
   "language": "python",
   "name": "python3"
  },
  "language_info": {
   "codemirror_mode": {
    "name": "ipython",
    "version": 3
   },
   "file_extension": ".py",
   "mimetype": "text/x-python",
   "name": "python",
   "nbconvert_exporter": "python",
   "pygments_lexer": "ipython3",
   "version": "3.12.2"
  }
 },
 "nbformat": 4,
 "nbformat_minor": 2
}
