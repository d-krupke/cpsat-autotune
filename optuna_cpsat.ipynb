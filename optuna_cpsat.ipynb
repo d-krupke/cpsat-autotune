{
 "cells": [
  {
   "cell_type": "code",
   "execution_count": 2,
   "metadata": {},
   "outputs": [
    {
     "name": "stderr",
     "output_type": "stream",
     "text": [
      "/Users/krupke/anaconda3/envs/mo312/lib/python3.12/site-packages/tqdm/auto.py:21: TqdmWarning: IProgress not found. Please update jupyter and ipywidgets. See https://ipywidgets.readthedocs.io/en/stable/user_install.html\n",
      "  from .autonotebook import tqdm as notebook_tqdm\n"
     ]
    }
   ],
   "source": [
    "from pathlib import Path\n",
    "from cpsat_autotune import tune_for_quality_within_timelimit, import_model, tune_time_to_optimal"
   ]
  },
  {
   "cell_type": "code",
   "execution_count": 3,
   "metadata": {},
   "outputs": [],
   "source": [
    "\n",
    "# Automatically load all models from the 'models' directory\n",
    "def load_models(directory: str) -> list:\n",
    "    # model_paths = Path(directory).rglob(\"*.pb\")\n",
    "    model_paths = [Path(\"models/medium_hg.pb\")]\n",
    "    return [import_model(path) for path in model_paths]\n",
    "\n"
   ]
  },
  {
   "cell_type": "code",
   "execution_count": 4,
   "metadata": {},
   "outputs": [],
   "source": [
    "\n",
    "models = load_models(\"models\")"
   ]
  },
  {
   "cell_type": "code",
   "execution_count": 5,
   "metadata": {},
   "outputs": [
    {
     "name": "stderr",
     "output_type": "stream",
     "text": [
      "[I 2024-08-14 16:30:38,709] A new study created in memory with name: no-name-b1133616-b312-4844-b360-a500076ff6d9\n"
     ]
    },
    {
     "name": "stdout",
     "output_type": "stream",
     "text": [
      "Computing baseline\n"
     ]
    }
   ],
   "source": [
    "#tune_for_quality_within_timelimit(models[0], 3, 10, \"minimize\", n_samples_per_param=2, max_samples_per_param=5, n_trials=100)\n",
    "tune_time_to_optimal(models[0], timelimit_in_s=10, n_samples_per_param=5, max_samples_per_param=10, n_trials=100)"
   ]
  }
 ],
 "metadata": {
  "kernelspec": {
   "display_name": "mo312",
   "language": "python",
   "name": "python3"
  },
  "language_info": {
   "codemirror_mode": {
    "name": "ipython",
    "version": 3
   },
   "file_extension": ".py",
   "mimetype": "text/x-python",
   "name": "python",
   "nbconvert_exporter": "python",
   "pygments_lexer": "ipython3",
   "version": "3.12.2"
  }
 },
 "nbformat": 4,
 "nbformat_minor": 2
}
