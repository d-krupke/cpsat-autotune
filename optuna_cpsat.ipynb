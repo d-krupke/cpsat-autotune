{
 "cells": [
  {
   "cell_type": "code",
   "execution_count": 1,
   "metadata": {},
   "outputs": [
    {
     "name": "stderr",
     "output_type": "stream",
     "text": [
      "/Users/krupke/anaconda3/envs/mo312/lib/python3.12/site-packages/tqdm/auto.py:21: TqdmWarning: IProgress not found. Please update jupyter and ipywidgets. See https://ipywidgets.readthedocs.io/en/stable/user_install.html\n",
      "  from .autonotebook import tqdm as notebook_tqdm\n"
     ]
    }
   ],
   "source": [
    "from cpsat_autotune import (\n",
    "    tune_for_quality_within_timelimit,\n",
    "    import_model,\n",
    "    tune_time_to_optimal,\n",
    ")"
   ]
  },
  {
   "cell_type": "code",
   "execution_count": 2,
   "metadata": {},
   "outputs": [],
   "source": [
    "model = import_model(\"models/medium_hg.pb\")"
   ]
  },
  {
   "cell_type": "code",
   "execution_count": 3,
   "metadata": {},
   "outputs": [
    {
     "name": "stderr",
     "output_type": "stream",
     "text": [
      "[I 2024-08-15 16:04:57,766] A new study created in memory with name: no-name-26177f49-de79-4cf1-b015-88c82cf8a02d\n"
     ]
    },
    {
     "name": "stdout",
     "output_type": "stream",
     "text": [
      "Computing baseline\n"
     ]
    }
   ],
   "source": [
    "# tune_for_quality_within_timelimit(models[0], 3, 10, \"minimize\", n_samples_per_param=2, max_samples_per_param=5, n_trials=100)\n",
    "tune_time_to_optimal(\n",
    "    model,\n",
    "    timelimit_in_s=6,\n",
    "    n_samples_per_param=5,\n",
    "    max_samples_per_param=10,\n",
    "    n_trials=50,\n",
    ")"
   ]
  },
  {
   "cell_type": "code",
   "execution_count": 3,
   "metadata": {},
   "outputs": [
    {
     "name": "stdout",
     "output_type": "stream",
     "text": [
      "Baseline: -2.5106821\n",
      "Keep binary_minimization_algorithm : -3.04865\n",
      "Drop linearization_level : -2.49745\n",
      "Keep repair_hint : -2.932851\n",
      "Keep cut_level : -2.820115\n",
      "Drop presolve_bve_threshold : -2.379661\n",
      "Drop search_branching : -2.426134\n",
      "Drop ignore_subsolvers : -2.552076\n",
      "Drop clause_cleanup_protection : -2.502683\n",
      "Drop also_bump_variables_in_conflict_reasons : -2.446848\n",
      "Drop max_all_diff_cut_size : -2.419318\n",
      "Drop diversify_lns_params : -2.609471\n",
      "Drop cp_model_probing_level : -2.738969\n",
      "Drop preferred_variable_order : -2.533664\n",
      "Keep max_presolve_iterations : -5.357056\n",
      "Drop symmetry_level : -2.553848\n",
      "Drop fp_rounding : -2.17436\n",
      "Drop use_erwa_heuristic : -2.185435\n",
      "Optimized: -2.691832\n",
      "Optimal parameters: {'binary_minimization_algorithm': 4, 'repair_hint': True, 'cut_level': 2, 'max_presolve_iterations': 1}\n"
     ]
    }
   ],
   "source": [
    "from cpsat_autotune.parameter_validation import ParameterValidation\n",
    "from cpsat_autotune.metrics import MinTimeToOptimal\n",
    "\n",
    "pv = ParameterValidation(model, params={\n",
    "    \"binary_minimization_algorithm\": 4,\n",
    "    \"linearization_level\": 0,\n",
    "    \"repair_hint\": True,\n",
    "    \"cut_level\": 2,\n",
    "    \"presolve_bve_threshold\": 1000,\n",
    "    \"search_branching\": 6,\n",
    "    \"ignore_subsolvers\": (\"fixed\", \"pseudo_costs\", \"quick_restart\", \"reduced_costs\"),\n",
    "    \"clause_cleanup_protection\": 2,\n",
    "    \"also_bump_variables_in_conflict_reasons\": True,\n",
    "    \"max_all_diff_cut_size\": 32,\n",
    "    \"diversify_lns_params\": True,\n",
    "    \"cp_model_probing_level\": 1,\n",
    "    \"preferred_variable_order\": 2,\n",
    "    \"max_presolve_iterations\": 1,\n",
    "    \"symmetry_level\": 1,\n",
    "    \"fp_rounding\": 0,\n",
    "    \"use_erwa_heuristic\": True\n",
    "}, fixed_params={\n",
    "    \"max_time_in_seconds\": 5\n",
    "}, metric=MinTimeToOptimal(6))\n",
    "pv.evaluate()"
   ]
  }
 ],
 "metadata": {
  "kernelspec": {
   "display_name": "mo312",
   "language": "python",
   "name": "python3"
  },
  "language_info": {
   "codemirror_mode": {
    "name": "ipython",
    "version": 3
   },
   "file_extension": ".py",
   "mimetype": "text/x-python",
   "name": "python",
   "nbconvert_exporter": "python",
   "pygments_lexer": "ipython3",
   "version": "3.12.2"
  }
 },
 "nbformat": 4,
 "nbformat_minor": 2
}
